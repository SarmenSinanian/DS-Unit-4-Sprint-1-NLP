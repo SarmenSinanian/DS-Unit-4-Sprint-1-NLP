{
 "cells": [
  {
   "cell_type": "markdown",
   "metadata": {},
   "source": [
    "<img align=\"left\" src=\"https://lever-client-logos.s3.amazonaws.com/864372b1-534c-480e-acd5-9711f850815c-1524247202159.png\" width=200>\n",
    "<br></br>\n",
    "\n",
    "# Vector Representations\n",
    "## *Data Science Unit 4 Sprint 2 Assignment 2*"
   ]
  },
  {
   "cell_type": "code",
   "execution_count": 1,
   "metadata": {
    "colab": {
     "base_uri": "https://localhost:8080/",
     "height": 159
    },
    "colab_type": "code",
    "id": "hyj-f9FDcVFp",
    "outputId": "5dd045fe-6e4c-458c-e2fc-253c3da9c805"
   },
   "outputs": [],
   "source": [
    "import re\n",
    "import string\n",
    "\n",
    "from sklearn.feature_extraction.text import CountVectorizer, TfidfVectorizer\n",
    "import matplotlib.pyplot as plt\n",
    "import pandas as pd\n",
    "import numpy as np\n",
    "import spacy"
   ]
  },
  {
   "cell_type": "markdown",
   "metadata": {
    "colab_type": "text",
    "id": "M7bcmqfGXrFG"
   },
   "source": [
    "## 1) *Optional:* Scrape 100 Job Listings that contain the title \"Data Scientist\" from indeed.com\n",
    "\n",
    "At a minimum your final dataframe of job listings should contain\n",
    "- Job Title\n",
    "- Job Description\n",
    "\n",
    "If you choose to not to scrape the data, there is a CSV with outdated data in the directory. Remeber, if you scrape Indeed, you're helping yourself find a job. ;)"
   ]
  },
  {
   "cell_type": "code",
   "execution_count": 2,
   "metadata": {
    "colab": {},
    "colab_type": "code",
    "id": "KcYlc1URXhlC"
   },
   "outputs": [],
   "source": [
    "# # LIBRARY FOR WEB SCRAPING\n",
    "\n",
    "# from bs4 import BeautifulSoup\n",
    "# import requests"
   ]
  },
  {
   "cell_type": "markdown",
   "metadata": {
    "colab_type": "text",
    "id": "5C4xFZNtX1m2"
   },
   "source": [
    "## 2) Use Spacy to tokenize / clean the listings "
   ]
  },
  {
   "cell_type": "code",
   "execution_count": 3,
   "metadata": {
    "colab": {},
    "colab_type": "code",
    "id": "dhUHuMr-X-II"
   },
   "outputs": [],
   "source": [
    "# Base\n",
    "from collections import Counter\n",
    "import re\n",
    " \n",
    "import pandas as pd\n",
    "\n",
    "# Plotting\n",
    "import squarify\n",
    "import matplotlib.pyplot as plt\n",
    "import seaborn as sns\n",
    "\n",
    "# NLP Libraries\n",
    "import spacy\n",
    "from spacy.tokenizer import Tokenizer\n",
    "from nltk.stem import PorterStemmer"
   ]
  },
  {
   "cell_type": "code",
   "execution_count": 4,
   "metadata": {},
   "outputs": [],
   "source": [
    "nlp = spacy.load('en_core_web_lg')"
   ]
  },
  {
   "cell_type": "code",
   "execution_count": 5,
   "metadata": {},
   "outputs": [],
   "source": [
    "df = pd.read_csv('E:/Desktop/Lambda_School/Github Repos/DS-Unit-4-Sprint-1-NLP/module2-vector-representations/data/job_listings.csv')"
   ]
  },
  {
   "cell_type": "code",
   "execution_count": 6,
   "metadata": {},
   "outputs": [
    {
     "data": {
      "text/html": [
       "<div>\n",
       "<style scoped>\n",
       "    .dataframe tbody tr th:only-of-type {\n",
       "        vertical-align: middle;\n",
       "    }\n",
       "\n",
       "    .dataframe tbody tr th {\n",
       "        vertical-align: top;\n",
       "    }\n",
       "\n",
       "    .dataframe thead th {\n",
       "        text-align: right;\n",
       "    }\n",
       "</style>\n",
       "<table border=\"1\" class=\"dataframe\">\n",
       "  <thead>\n",
       "    <tr style=\"text-align: right;\">\n",
       "      <th></th>\n",
       "      <th>Unnamed: 0</th>\n",
       "      <th>description</th>\n",
       "      <th>title</th>\n",
       "    </tr>\n",
       "  </thead>\n",
       "  <tbody>\n",
       "    <tr>\n",
       "      <th>0</th>\n",
       "      <td>0</td>\n",
       "      <td>b\"&lt;div&gt;&lt;div&gt;Job Requirements:&lt;/div&gt;&lt;ul&gt;&lt;li&gt;&lt;p&gt;...</td>\n",
       "      <td>Data scientist</td>\n",
       "    </tr>\n",
       "    <tr>\n",
       "      <th>1</th>\n",
       "      <td>1</td>\n",
       "      <td>b'&lt;div&gt;Job Description&lt;br/&gt;\\n&lt;br/&gt;\\n&lt;p&gt;As a Da...</td>\n",
       "      <td>Data Scientist I</td>\n",
       "    </tr>\n",
       "    <tr>\n",
       "      <th>2</th>\n",
       "      <td>2</td>\n",
       "      <td>b'&lt;div&gt;&lt;p&gt;As a Data Scientist you will be work...</td>\n",
       "      <td>Data Scientist - Entry Level</td>\n",
       "    </tr>\n",
       "    <tr>\n",
       "      <th>3</th>\n",
       "      <td>3</td>\n",
       "      <td>b'&lt;div class=\"jobsearch-JobMetadataHeader icl-...</td>\n",
       "      <td>Data Scientist</td>\n",
       "    </tr>\n",
       "    <tr>\n",
       "      <th>4</th>\n",
       "      <td>4</td>\n",
       "      <td>b'&lt;ul&gt;&lt;li&gt;Location: USA \\xe2\\x80\\x93 multiple ...</td>\n",
       "      <td>Data Scientist</td>\n",
       "    </tr>\n",
       "  </tbody>\n",
       "</table>\n",
       "</div>"
      ],
      "text/plain": [
       "   Unnamed: 0                                        description  \\\n",
       "0           0  b\"<div><div>Job Requirements:</div><ul><li><p>...   \n",
       "1           1  b'<div>Job Description<br/>\\n<br/>\\n<p>As a Da...   \n",
       "2           2  b'<div><p>As a Data Scientist you will be work...   \n",
       "3           3  b'<div class=\"jobsearch-JobMetadataHeader icl-...   \n",
       "4           4  b'<ul><li>Location: USA \\xe2\\x80\\x93 multiple ...   \n",
       "\n",
       "                          title  \n",
       "0               Data scientist   \n",
       "1              Data Scientist I  \n",
       "2  Data Scientist - Entry Level  \n",
       "3                Data Scientist  \n",
       "4                Data Scientist  "
      ]
     },
     "execution_count": 6,
     "metadata": {},
     "output_type": "execute_result"
    }
   ],
   "source": [
    "df.head()"
   ]
  },
  {
   "cell_type": "code",
   "execution_count": 7,
   "metadata": {},
   "outputs": [],
   "source": [
    "df = df.drop(columns=\"Unnamed: 0\")"
   ]
  },
  {
   "cell_type": "code",
   "execution_count": 8,
   "metadata": {},
   "outputs": [
    {
     "data": {
      "text/html": [
       "<div>\n",
       "<style scoped>\n",
       "    .dataframe tbody tr th:only-of-type {\n",
       "        vertical-align: middle;\n",
       "    }\n",
       "\n",
       "    .dataframe tbody tr th {\n",
       "        vertical-align: top;\n",
       "    }\n",
       "\n",
       "    .dataframe thead th {\n",
       "        text-align: right;\n",
       "    }\n",
       "</style>\n",
       "<table border=\"1\" class=\"dataframe\">\n",
       "  <thead>\n",
       "    <tr style=\"text-align: right;\">\n",
       "      <th></th>\n",
       "      <th>description</th>\n",
       "      <th>title</th>\n",
       "    </tr>\n",
       "  </thead>\n",
       "  <tbody>\n",
       "    <tr>\n",
       "      <th>0</th>\n",
       "      <td>Job Requirements  Conceptual understanding in ...</td>\n",
       "      <td>Data scientist</td>\n",
       "    </tr>\n",
       "    <tr>\n",
       "      <th>1</th>\n",
       "      <td>Job Description  As a Data Scientist 1  you wi...</td>\n",
       "      <td>Data Scientist I</td>\n",
       "    </tr>\n",
       "    <tr>\n",
       "      <th>2</th>\n",
       "      <td>As a Data Scientist you will be working on con...</td>\n",
       "      <td>Data Scientist - Entry Level</td>\n",
       "    </tr>\n",
       "    <tr>\n",
       "      <th>3</th>\n",
       "      <td>4 969    6 756 a monthContractUnder the gener...</td>\n",
       "      <td>Data Scientist</td>\n",
       "    </tr>\n",
       "    <tr>\n",
       "      <th>4</th>\n",
       "      <td>Location  USA        multiple locations 2  yea...</td>\n",
       "      <td>Data Scientist</td>\n",
       "    </tr>\n",
       "    <tr>\n",
       "      <th>5</th>\n",
       "      <td>Create various Business Intelligence Analytica...</td>\n",
       "      <td>Data Scientist</td>\n",
       "    </tr>\n",
       "    <tr>\n",
       "      <th>6</th>\n",
       "      <td>As Spotify Premium swells to over 96M subscrib...</td>\n",
       "      <td>Associate Data Scientist – Premium Analytics</td>\n",
       "    </tr>\n",
       "    <tr>\n",
       "      <th>7</th>\n",
       "      <td>Everytown for Gun Safety  the ation s largest ...</td>\n",
       "      <td>Data Scientist</td>\n",
       "    </tr>\n",
       "    <tr>\n",
       "      <th>8</th>\n",
       "      <td>MS in a quantitative discipline such as Statis...</td>\n",
       "      <td>Sr. Data Scientist</td>\n",
       "    </tr>\n",
       "    <tr>\n",
       "      <th>9</th>\n",
       "      <td>Slack is hiring experienced data scientists to...</td>\n",
       "      <td>Data Scientist, Lifecyle</td>\n",
       "    </tr>\n",
       "    <tr>\n",
       "      <th>10</th>\n",
       "      <td>Who We Are BlackThorn Therapeutics is a comput...</td>\n",
       "      <td>Data Scientist, Neuroimaging</td>\n",
       "    </tr>\n",
       "    <tr>\n",
       "      <th>11</th>\n",
       "      <td>Part timeAbout The Opportunity Here at Grubhub...</td>\n",
       "      <td>Data Scientist II</td>\n",
       "    </tr>\n",
       "    <tr>\n",
       "      <th>12</th>\n",
       "      <td>nfosys       Data   Analytics        Sr  Data ...</td>\n",
       "      <td>Data Scientist</td>\n",
       "    </tr>\n",
       "    <tr>\n",
       "      <th>13</th>\n",
       "      <td>As Spotify Premium swells to over 96M subscrib...</td>\n",
       "      <td>Associate Data Scientist – Premium Analytics</td>\n",
       "    </tr>\n",
       "    <tr>\n",
       "      <th>14</th>\n",
       "      <td>Experience with guiding R D strategy for your ...</td>\n",
       "      <td>Data Scientist</td>\n",
       "    </tr>\n",
       "    <tr>\n",
       "      <th>15</th>\n",
       "      <td>The Atlantic is seeking a Data Scientist to he...</td>\n",
       "      <td>Data Scientist</td>\n",
       "    </tr>\n",
       "    <tr>\n",
       "      <th>16</th>\n",
       "      <td>THE CHALLENGE Eventbrite is big  bustling mark...</td>\n",
       "      <td>Data Scientist - Risk</td>\n",
       "    </tr>\n",
       "    <tr>\n",
       "      <th>17</th>\n",
       "      <td>ContractWe are looking to hire for a Data Scie...</td>\n",
       "      <td>Data Scientist</td>\n",
       "    </tr>\n",
       "    <tr>\n",
       "      <th>18</th>\n",
       "      <td>Everytown for Gun Safety  the ation s largest ...</td>\n",
       "      <td>Data Scientist</td>\n",
       "    </tr>\n",
       "    <tr>\n",
       "      <th>19</th>\n",
       "      <td>70 000    100 000 a yearTitle  Data Analyst J...</td>\n",
       "      <td>Data Analyst/Jr. Data Scientist</td>\n",
       "    </tr>\n",
       "    <tr>\n",
       "      <th>20</th>\n",
       "      <td>45 000 a yearWorking under direction of the A...</td>\n",
       "      <td>Assistant Data Scientist</td>\n",
       "    </tr>\n",
       "    <tr>\n",
       "      <th>21</th>\n",
       "      <td>The Challenge  Are you excited at the prospect...</td>\n",
       "      <td>Data Scientist, Junior</td>\n",
       "    </tr>\n",
       "    <tr>\n",
       "      <th>22</th>\n",
       "      <td>We are seeking a Data Scientist to join our Pr...</td>\n",
       "      <td>Data Scientist – Personalization</td>\n",
       "    </tr>\n",
       "    <tr>\n",
       "      <th>23</th>\n",
       "      <td>Motiion is a technology and data company for t...</td>\n",
       "      <td>Data Scientist - [Remote]</td>\n",
       "    </tr>\n",
       "    <tr>\n",
       "      <th>24</th>\n",
       "      <td>The Scientist is responsible for the scientifi...</td>\n",
       "      <td>Data Scientist</td>\n",
       "    </tr>\n",
       "    <tr>\n",
       "      <th>25</th>\n",
       "      <td>As a Data Scientist for Ads Measurement in the...</td>\n",
       "      <td>Measurement Data Scientist</td>\n",
       "    </tr>\n",
       "    <tr>\n",
       "      <th>26</th>\n",
       "      <td>Summary Posted  Mar 6  2019 Weekly Hours  40 R...</td>\n",
       "      <td>WTE Data Science Engineer</td>\n",
       "    </tr>\n",
       "    <tr>\n",
       "      <th>27</th>\n",
       "      <td>Slack is looking for experienced data scientis...</td>\n",
       "      <td>Data Scientist, Sales</td>\n",
       "    </tr>\n",
       "    <tr>\n",
       "      <th>28</th>\n",
       "      <td>nfosys       Data   Analytics        Sr  Data ...</td>\n",
       "      <td>Data Scientist</td>\n",
       "    </tr>\n",
       "    <tr>\n",
       "      <th>29</th>\n",
       "      <td>Part time  InternshipSUMMARY    Sierra Nevada ...</td>\n",
       "      <td>Data Scientist Intern</td>\n",
       "    </tr>\n",
       "    <tr>\n",
       "      <th>...</th>\n",
       "      <td>...</td>\n",
       "      <td>...</td>\n",
       "    </tr>\n",
       "    <tr>\n",
       "      <th>396</th>\n",
       "      <td>ABOUT US Lark is the world s largest A I  heal...</td>\n",
       "      <td>Data Scientist</td>\n",
       "    </tr>\n",
       "    <tr>\n",
       "      <th>397</th>\n",
       "      <td>Zenreach solves a major problem for brick and ...</td>\n",
       "      <td>Data Scientist</td>\n",
       "    </tr>\n",
       "    <tr>\n",
       "      <th>398</th>\n",
       "      <td>Position Description As the Walmart Voice Comm...</td>\n",
       "      <td>Staff Data Scientist - NLP</td>\n",
       "    </tr>\n",
       "    <tr>\n",
       "      <th>399</th>\n",
       "      <td>By trade we are a technology company  but if y...</td>\n",
       "      <td>Data Scientist</td>\n",
       "    </tr>\n",
       "    <tr>\n",
       "      <th>400</th>\n",
       "      <td>Purpose   Overall Relevance for the Organizati...</td>\n",
       "      <td>Principal Data Scientist</td>\n",
       "    </tr>\n",
       "    <tr>\n",
       "      <th>401</th>\n",
       "      <td>about dscout We are dscout  At our core  we ar...</td>\n",
       "      <td>Lead Data Scientist</td>\n",
       "    </tr>\n",
       "    <tr>\n",
       "      <th>402</th>\n",
       "      <td>Junior Data Scientist   Big Data  Entry Level ...</td>\n",
       "      <td>Junior Data Scientist - Big Data (Entry-Level)</td>\n",
       "    </tr>\n",
       "    <tr>\n",
       "      <th>403</th>\n",
       "      <td>About Us Interested in working for a human cen...</td>\n",
       "      <td>Data Scientist</td>\n",
       "    </tr>\n",
       "    <tr>\n",
       "      <th>404</th>\n",
       "      <td>Air Products  Inc   a Fortune 500 manufacturer...</td>\n",
       "      <td>DATA SCIENTIST</td>\n",
       "    </tr>\n",
       "    <tr>\n",
       "      <th>405</th>\n",
       "      <td>Data Scientist   Do you want the opportunity t...</td>\n",
       "      <td>Data Scientist</td>\n",
       "    </tr>\n",
       "    <tr>\n",
       "      <th>406</th>\n",
       "      <td>Job Description  Data Scientist Interactive He...</td>\n",
       "      <td>Data Scientist</td>\n",
       "    </tr>\n",
       "    <tr>\n",
       "      <th>407</th>\n",
       "      <td>The Data Scientist I mines and analyzes comple...</td>\n",
       "      <td>Data Scientist</td>\n",
       "    </tr>\n",
       "    <tr>\n",
       "      <th>408</th>\n",
       "      <td>FinLocker is a leading financial data and anal...</td>\n",
       "      <td>Data Scientist</td>\n",
       "    </tr>\n",
       "    <tr>\n",
       "      <th>409</th>\n",
       "      <td>With annual sales of  15 billion  Ecolab  ECL ...</td>\n",
       "      <td>Data Scientist</td>\n",
       "    </tr>\n",
       "    <tr>\n",
       "      <th>410</th>\n",
       "      <td>Job Description   The Enterprise Data Solution...</td>\n",
       "      <td>Data Scientist</td>\n",
       "    </tr>\n",
       "    <tr>\n",
       "      <th>411</th>\n",
       "      <td>Description  Chicago   IL  IL150SW  150 S Wack...</td>\n",
       "      <td>Data Scientist</td>\n",
       "    </tr>\n",
       "    <tr>\n",
       "      <th>412</th>\n",
       "      <td>Nike Supply Chain experts ensure that every ye...</td>\n",
       "      <td>Data Scientist, Supply Chain Innovation</td>\n",
       "    </tr>\n",
       "    <tr>\n",
       "      <th>413</th>\n",
       "      <td>The Principal Data Scientist is responsible fo...</td>\n",
       "      <td>Principal Data Scientist</td>\n",
       "    </tr>\n",
       "    <tr>\n",
       "      <th>414</th>\n",
       "      <td>We are looking for a Senior Data Scientist wit...</td>\n",
       "      <td>Data Scientist – Content Marketing Acquisition</td>\n",
       "    </tr>\n",
       "    <tr>\n",
       "      <th>415</th>\n",
       "      <td>Temporary  Internship The Marketing Data Scien...</td>\n",
       "      <td>Marketing Data Science Intern - Summer 2019</td>\n",
       "    </tr>\n",
       "    <tr>\n",
       "      <th>416</th>\n",
       "      <td>Los Gatos  California Science and Analytics Th...</td>\n",
       "      <td>Senior Data Scientist</td>\n",
       "    </tr>\n",
       "    <tr>\n",
       "      <th>417</th>\n",
       "      <td>About the Role     Logic2020 is looking to sec...</td>\n",
       "      <td>Data Analyst / Jr. Data Scientist</td>\n",
       "    </tr>\n",
       "    <tr>\n",
       "      <th>418</th>\n",
       "      <td>ContractThe role is largely operational and su...</td>\n",
       "      <td>Data Scientist- Enterprise Product Analytics</td>\n",
       "    </tr>\n",
       "    <tr>\n",
       "      <th>419</th>\n",
       "      <td>Bachelor      9s or Master      9s degree in a...</td>\n",
       "      <td>Data Scientist - Delphi</td>\n",
       "    </tr>\n",
       "    <tr>\n",
       "      <th>420</th>\n",
       "      <td>At Uber  we ignite opportunity by setting the ...</td>\n",
       "      <td>Sr Data Scientist, NLP - Customer Obsession</td>\n",
       "    </tr>\n",
       "    <tr>\n",
       "      <th>421</th>\n",
       "      <td>About Us  Want to be part of a fantastic and f...</td>\n",
       "      <td>Senior Data Science Engineer</td>\n",
       "    </tr>\n",
       "    <tr>\n",
       "      <th>422</th>\n",
       "      <td>InternshipAt Uber  we ignite opportunity by se...</td>\n",
       "      <td>2019 PhD Data Scientist Internship - Forecasti...</td>\n",
       "    </tr>\n",
       "    <tr>\n",
       "      <th>423</th>\n",
       "      <td>200 000    350 000 a yearA million people a y...</td>\n",
       "      <td>Data Scientist - Insurance</td>\n",
       "    </tr>\n",
       "    <tr>\n",
       "      <th>424</th>\n",
       "      <td>SENIOR DATA SCIENTIST JOB DESCRIPTION  ABOUT U...</td>\n",
       "      <td>Senior Data Scientist</td>\n",
       "    </tr>\n",
       "    <tr>\n",
       "      <th>425</th>\n",
       "      <td>Cerner Intelligence is a ew  innovative organi...</td>\n",
       "      <td>Data Scientist</td>\n",
       "    </tr>\n",
       "  </tbody>\n",
       "</table>\n",
       "<p>426 rows × 2 columns</p>\n",
       "</div>"
      ],
      "text/plain": [
       "                                           description  \\\n",
       "0    Job Requirements  Conceptual understanding in ...   \n",
       "1    Job Description  As a Data Scientist 1  you wi...   \n",
       "2    As a Data Scientist you will be working on con...   \n",
       "3     4 969    6 756 a monthContractUnder the gener...   \n",
       "4    Location  USA        multiple locations 2  yea...   \n",
       "5    Create various Business Intelligence Analytica...   \n",
       "6    As Spotify Premium swells to over 96M subscrib...   \n",
       "7    Everytown for Gun Safety  the ation s largest ...   \n",
       "8    MS in a quantitative discipline such as Statis...   \n",
       "9    Slack is hiring experienced data scientists to...   \n",
       "10   Who We Are BlackThorn Therapeutics is a comput...   \n",
       "11   Part timeAbout The Opportunity Here at Grubhub...   \n",
       "12   nfosys       Data   Analytics        Sr  Data ...   \n",
       "13   As Spotify Premium swells to over 96M subscrib...   \n",
       "14   Experience with guiding R D strategy for your ...   \n",
       "15   The Atlantic is seeking a Data Scientist to he...   \n",
       "16   THE CHALLENGE Eventbrite is big  bustling mark...   \n",
       "17   ContractWe are looking to hire for a Data Scie...   \n",
       "18   Everytown for Gun Safety  the ation s largest ...   \n",
       "19    70 000    100 000 a yearTitle  Data Analyst J...   \n",
       "20    45 000 a yearWorking under direction of the A...   \n",
       "21   The Challenge  Are you excited at the prospect...   \n",
       "22   We are seeking a Data Scientist to join our Pr...   \n",
       "23   Motiion is a technology and data company for t...   \n",
       "24   The Scientist is responsible for the scientifi...   \n",
       "25   As a Data Scientist for Ads Measurement in the...   \n",
       "26   Summary Posted  Mar 6  2019 Weekly Hours  40 R...   \n",
       "27   Slack is looking for experienced data scientis...   \n",
       "28   nfosys       Data   Analytics        Sr  Data ...   \n",
       "29   Part time  InternshipSUMMARY    Sierra Nevada ...   \n",
       "..                                                 ...   \n",
       "396  ABOUT US Lark is the world s largest A I  heal...   \n",
       "397  Zenreach solves a major problem for brick and ...   \n",
       "398  Position Description As the Walmart Voice Comm...   \n",
       "399  By trade we are a technology company  but if y...   \n",
       "400  Purpose   Overall Relevance for the Organizati...   \n",
       "401  about dscout We are dscout  At our core  we ar...   \n",
       "402  Junior Data Scientist   Big Data  Entry Level ...   \n",
       "403  About Us Interested in working for a human cen...   \n",
       "404  Air Products  Inc   a Fortune 500 manufacturer...   \n",
       "405  Data Scientist   Do you want the opportunity t...   \n",
       "406  Job Description  Data Scientist Interactive He...   \n",
       "407  The Data Scientist I mines and analyzes comple...   \n",
       "408  FinLocker is a leading financial data and anal...   \n",
       "409  With annual sales of  15 billion  Ecolab  ECL ...   \n",
       "410  Job Description   The Enterprise Data Solution...   \n",
       "411  Description  Chicago   IL  IL150SW  150 S Wack...   \n",
       "412  Nike Supply Chain experts ensure that every ye...   \n",
       "413  The Principal Data Scientist is responsible fo...   \n",
       "414  We are looking for a Senior Data Scientist wit...   \n",
       "415  Temporary  Internship The Marketing Data Scien...   \n",
       "416  Los Gatos  California Science and Analytics Th...   \n",
       "417  About the Role     Logic2020 is looking to sec...   \n",
       "418  ContractThe role is largely operational and su...   \n",
       "419  Bachelor      9s or Master      9s degree in a...   \n",
       "420  At Uber  we ignite opportunity by setting the ...   \n",
       "421  About Us  Want to be part of a fantastic and f...   \n",
       "422  InternshipAt Uber  we ignite opportunity by se...   \n",
       "423   200 000    350 000 a yearA million people a y...   \n",
       "424  SENIOR DATA SCIENTIST JOB DESCRIPTION  ABOUT U...   \n",
       "425  Cerner Intelligence is a ew  innovative organi...   \n",
       "\n",
       "                                                 title  \n",
       "0                                      Data scientist   \n",
       "1                                     Data Scientist I  \n",
       "2                         Data Scientist - Entry Level  \n",
       "3                                       Data Scientist  \n",
       "4                                       Data Scientist  \n",
       "5                                       Data Scientist  \n",
       "6         Associate Data Scientist – Premium Analytics  \n",
       "7                                       Data Scientist  \n",
       "8                                   Sr. Data Scientist  \n",
       "9                             Data Scientist, Lifecyle  \n",
       "10                        Data Scientist, Neuroimaging  \n",
       "11                                   Data Scientist II  \n",
       "12                                      Data Scientist  \n",
       "13        Associate Data Scientist – Premium Analytics  \n",
       "14                                      Data Scientist  \n",
       "15                                      Data Scientist  \n",
       "16                               Data Scientist - Risk  \n",
       "17                                      Data Scientist  \n",
       "18                                      Data Scientist  \n",
       "19                     Data Analyst/Jr. Data Scientist  \n",
       "20                            Assistant Data Scientist  \n",
       "21                              Data Scientist, Junior  \n",
       "22                    Data Scientist – Personalization  \n",
       "23                           Data Scientist - [Remote]  \n",
       "24                                      Data Scientist  \n",
       "25                          Measurement Data Scientist  \n",
       "26                           WTE Data Science Engineer  \n",
       "27                               Data Scientist, Sales  \n",
       "28                                      Data Scientist  \n",
       "29                               Data Scientist Intern  \n",
       "..                                                 ...  \n",
       "396                                     Data Scientist  \n",
       "397                                     Data Scientist  \n",
       "398                         Staff Data Scientist - NLP  \n",
       "399                                     Data Scientist  \n",
       "400                           Principal Data Scientist  \n",
       "401                                Lead Data Scientist  \n",
       "402     Junior Data Scientist - Big Data (Entry-Level)  \n",
       "403                                     Data Scientist  \n",
       "404                                     DATA SCIENTIST  \n",
       "405                                     Data Scientist  \n",
       "406                                     Data Scientist  \n",
       "407                                     Data Scientist  \n",
       "408                                     Data Scientist  \n",
       "409                                     Data Scientist  \n",
       "410                                     Data Scientist  \n",
       "411                                     Data Scientist  \n",
       "412            Data Scientist, Supply Chain Innovation  \n",
       "413                           Principal Data Scientist  \n",
       "414     Data Scientist – Content Marketing Acquisition  \n",
       "415        Marketing Data Science Intern - Summer 2019  \n",
       "416                              Senior Data Scientist  \n",
       "417                  Data Analyst / Jr. Data Scientist  \n",
       "418       Data Scientist- Enterprise Product Analytics  \n",
       "419                            Data Scientist - Delphi  \n",
       "420        Sr Data Scientist, NLP - Customer Obsession  \n",
       "421                       Senior Data Science Engineer  \n",
       "422  2019 PhD Data Scientist Internship - Forecasti...  \n",
       "423                         Data Scientist - Insurance  \n",
       "424                              Senior Data Scientist  \n",
       "425                                     Data Scientist  \n",
       "\n",
       "[426 rows x 2 columns]"
      ]
     },
     "execution_count": 8,
     "metadata": {},
     "output_type": "execute_result"
    }
   ],
   "source": [
    "# remove html code\n",
    "from bs4 import BeautifulSoup\n",
    "\n",
    "def remove_html(df):\n",
    "    df = df.copy()\n",
    "    df['description'] = df['description'].str.replace('\\\\n', '')\n",
    "    df['description'] = df['description'].str.replace('\\\\n\\\\n', '')\n",
    "    df['description'] = df['description'].str.replace('b\"', '')\n",
    "    df['description'] = df['description'].str.replace(\"b'\", '')\n",
    "    \n",
    "    # REMOVE NON-ALPHANUMERIC CHARACTERS\n",
    "    df = df.applymap(lambda text: BeautifulSoup(text, 'html.parser').get_text())\n",
    "    df['description'] = df['description'].str.replace(r'[^a-zA-Z ^0-9]', ' ')\n",
    "    df['description'] = df['description'].str.replace(' n', ' ')\n",
    "    df['description'] = df['description'].str.replace('xe2', ' ')\n",
    "    df['description'] = df['description'].str.replace('x80', ' ')\n",
    "    df['description'] = df['description'].str.replace('x93', ' ')\n",
    "    df['description'] = df['description'].str.replace('x9', ' ')\n",
    "    \n",
    "    return df\n",
    "\n",
    "remove_html(df)"
   ]
  },
  {
   "cell_type": "code",
   "execution_count": 9,
   "metadata": {},
   "outputs": [],
   "source": [
    "df = remove_html(df)"
   ]
  },
  {
   "cell_type": "code",
   "execution_count": 10,
   "metadata": {},
   "outputs": [],
   "source": [
    "# def tokenize(text):\n",
    "#     \"\"\"Parses a string into a list of semantic units (words)\n",
    "\n",
    "#     Args:\n",
    "#         text (str): The string that the function will tokenize.\n",
    "\n",
    "#     Returns:\n",
    "#         list: tokens parsed out by the mechanics of your choice\n",
    "#     \"\"\"\n",
    "    \n",
    "#     tokens = re.sub(r'[^a-zA-Z ^0-9]', '', text)\n",
    "#     tokens = tokens.lower().split()\n",
    "    \n",
    "#     return tokens"
   ]
  },
  {
   "cell_type": "code",
   "execution_count": 11,
   "metadata": {},
   "outputs": [],
   "source": [
    "# df['tokens'] = df['description'].apply(tokenize)"
   ]
  },
  {
   "cell_type": "code",
   "execution_count": 12,
   "metadata": {},
   "outputs": [],
   "source": [
    "# df['tokens']"
   ]
  },
  {
   "cell_type": "code",
   "execution_count": 13,
   "metadata": {},
   "outputs": [],
   "source": [
    "STOP_WORDS = nlp.Defaults.stop_words.union(['', ' ','  ','   ','    ','     ',\n",
    "                                            '      ','x80', 'xe2', 'x93'])"
   ]
  },
  {
   "cell_type": "code",
   "execution_count": 14,
   "metadata": {},
   "outputs": [],
   "source": [
    "tokenizer = Tokenizer(nlp.vocab)"
   ]
  },
  {
   "cell_type": "code",
   "execution_count": 15,
   "metadata": {},
   "outputs": [],
   "source": [
    "tokens = []\n",
    "\n",
    "for doc in tokenizer.pipe(df['description'], batch_size=1000):\n",
    "    \n",
    "    doc_tokens = []\n",
    "    \n",
    "    for token in doc: \n",
    "        if token.text not in STOP_WORDS:\n",
    "            doc_tokens.append(token.text.lower())\n",
    "   \n",
    "    tokens.append(doc_tokens)\n",
    "    \n",
    "df['tokens'] = tokens"
   ]
  },
  {
   "cell_type": "code",
   "execution_count": 16,
   "metadata": {},
   "outputs": [
    {
     "data": {
      "text/plain": [
       "0      [job, requirements, conceptual, understanding,...\n",
       "1      [job, description, as, data, scientist, 1, hel...\n",
       "2      [as, data, scientist, working, consulting, bus...\n",
       "3      [4, 969, 6, 756, monthcontractunder, general, ...\n",
       "4      [location, usa,        , multiple, locations, ...\n",
       "5      [create, business, intelligence, analytical, r...\n",
       "6      [as, spotify, premium, swells, 96m, subscriber...\n",
       "7      [everytown, gun, safety, ation, s, largest, gu...\n",
       "8      [ms, quantitative, discipline, statistics, mat...\n",
       "9      [slack, hiring, experienced, data, scientists,...\n",
       "10     [who, we, are, blackthorn, therapeutics, compu...\n",
       "11     [part, timeabout, the, opportunity, here, grub...\n",
       "12     [nfosys, data, analytics,        , sr, data, s...\n",
       "13     [as, spotify, premium, swells, 96m, subscriber...\n",
       "14     [experience, guiding, r, d, strategy, organiza...\n",
       "15     [the, atlantic, seeking, data, scientist, help...\n",
       "16     [the, challenge, eventbrite, big, bustling, ma...\n",
       "17     [contractwe, looking, hire, data, scientist, r...\n",
       "18     [everytown, gun, safety, ation, s, largest, gu...\n",
       "19     [70, 000, 100, 000, yeartitle, data, analyst, ...\n",
       "20     [45, 000, yearworking, direction, associate, d...\n",
       "21     [the, challenge, are, excited, prospect, unloc...\n",
       "22     [we, seeking, data, scientist, join, product, ...\n",
       "23     [motiion, technology, data, company, food, ind...\n",
       "24     [the, scientist, responsible, scientific, inte...\n",
       "25     [as, data, scientist, ads, measurement, partne...\n",
       "26     [summary, posted, mar, 6, 2019, weekly, hours,...\n",
       "27     [slack, looking, experienced, data, scientists...\n",
       "28     [nfosys, data, analytics,        , sr, data, s...\n",
       "29     [part, time, internshipsummary, sierra, nevada...\n",
       "                             ...                        \n",
       "396    [about, us, lark, world, s, largest, a, i, hea...\n",
       "397    [zenreach, solves, major, problem, brick, mort...\n",
       "398    [position, description, as, walmart, voice, co...\n",
       "399    [by, trade, technology, company, ask, works, 9...\n",
       "400    [purpose, overall, relevance, organization, th...\n",
       "401    [dscout, we, dscout, at, core, people, nerds, ...\n",
       "402    [junior, data, scientist, big, data, entry, le...\n",
       "403    [about, us, interested, working, human, center...\n",
       "404    [air, products, inc, fortune, 500, manufacture...\n",
       "405    [data, scientist, do, want, opportunity, lever...\n",
       "406    [job, description, data, scientist, interactiv...\n",
       "407    [the, data, scientist, i, mines, analyzes, com...\n",
       "408    [finlocker, leading, financial, data, analytic...\n",
       "409    [with, annual, sales, 15, billion, ecolab, ecl...\n",
       "410    [job, description, the, enterprise, data, solu...\n",
       "411    [description, chicago, il, il150sw, 150, s, wa...\n",
       "412    [nike, supply, chain, experts, ensure, year, 1...\n",
       "413    [the, principal, data, scientist, responsible,...\n",
       "414    [we, looking, senior, data, scientist, marketi...\n",
       "415    [temporary, internship, the, marketing, data, ...\n",
       "416    [los, gatos, california, science, analytics, t...\n",
       "417    [about, role, logic2020, looking, secure, data...\n",
       "418    [contractthe, role, largely, operational, supp...\n",
       "419    [bachelor, 9s, master, 9s, degree, quantitativ...\n",
       "420    [at, uber, ignite, opportunity, setting, world...\n",
       "421    [about, us, want, fantastic, fun, startup, 9s,...\n",
       "422    [internshipat, uber, ignite, opportunity, sett...\n",
       "423    [200, 000, 350, 000, yeara, million, people, y...\n",
       "424    [senior, data, scientist, job, description, ab...\n",
       "425    [cerner, intelligence, ew, innovative, organiz...\n",
       "Name: tokens, Length: 426, dtype: object"
      ]
     },
     "execution_count": 16,
     "metadata": {},
     "output_type": "execute_result"
    }
   ],
   "source": [
    "df['tokens']"
   ]
  },
  {
   "cell_type": "code",
   "execution_count": 17,
   "metadata": {},
   "outputs": [],
   "source": [
    "# def get_lemmas(text):\n",
    "\n",
    "#     lemmas = []\n",
    "    \n",
    "#     doc = nlp(text)\n",
    "    \n",
    "#     # Something goes here :P\n",
    "#     for token in doc: \n",
    "#         if ((token.is_stop == False) and (token.is_punct == False)) and ((token not in STOP_WORDS) and (token.pos_!= 'PRON')):\n",
    "#             lemmas.append(token.lemma_)\n",
    "    \n",
    "#     return lemmas"
   ]
  },
  {
   "cell_type": "code",
   "execution_count": 18,
   "metadata": {},
   "outputs": [],
   "source": [
    "# df['lemmas'] = df['description'].apply(get_lemmas)"
   ]
  },
  {
   "cell_type": "code",
   "execution_count": 19,
   "metadata": {},
   "outputs": [],
   "source": [
    "# df['lemmas'].head()"
   ]
  },
  {
   "cell_type": "code",
   "execution_count": 20,
   "metadata": {},
   "outputs": [],
   "source": [
    "def count(docs):\n",
    "\n",
    "        word_counts = Counter()\n",
    "        appears_in = Counter()\n",
    "        \n",
    "        total_docs = len(docs)\n",
    "\n",
    "        for doc in docs:\n",
    "            word_counts.update(doc)\n",
    "            appears_in.update(set(doc))\n",
    "\n",
    "        temp = zip(word_counts.keys(), word_counts.values())\n",
    "        \n",
    "        wc = pd.DataFrame(temp, columns = ['word', 'count'])\n",
    "\n",
    "        wc['rank'] = wc['count'].rank(method='first', ascending=False)\n",
    "        total = wc['count'].sum()\n",
    "\n",
    "        wc['pct_total'] = wc['count'].apply(lambda x: x / total)\n",
    "        \n",
    "        wc = wc.sort_values(by='rank')\n",
    "        wc['cul_pct_total'] = wc['pct_total'].cumsum()\n",
    "\n",
    "        t2 = zip(appears_in.keys(), appears_in.values())\n",
    "        ac = pd.DataFrame(t2, columns=['word', 'appears_in'])\n",
    "        wc = ac.merge(wc, on='word')\n",
    "\n",
    "        wc['appears_in_pct'] = wc['appears_in'].apply(lambda x: x / total_docs)\n",
    "        \n",
    "        return wc.sort_values(by='rank')"
   ]
  },
  {
   "cell_type": "code",
   "execution_count": 21,
   "metadata": {},
   "outputs": [
    {
     "data": {
      "text/html": [
       "<div>\n",
       "<style scoped>\n",
       "    .dataframe tbody tr th:only-of-type {\n",
       "        vertical-align: middle;\n",
       "    }\n",
       "\n",
       "    .dataframe tbody tr th {\n",
       "        vertical-align: top;\n",
       "    }\n",
       "\n",
       "    .dataframe thead th {\n",
       "        text-align: right;\n",
       "    }\n",
       "</style>\n",
       "<table border=\"1\" class=\"dataframe\">\n",
       "  <thead>\n",
       "    <tr style=\"text-align: right;\">\n",
       "      <th></th>\n",
       "      <th>word</th>\n",
       "      <th>appears_in</th>\n",
       "      <th>count</th>\n",
       "      <th>rank</th>\n",
       "      <th>pct_total</th>\n",
       "      <th>cul_pct_total</th>\n",
       "      <th>appears_in_pct</th>\n",
       "    </tr>\n",
       "  </thead>\n",
       "  <tbody>\n",
       "    <tr>\n",
       "      <th>28</th>\n",
       "      <td>data</td>\n",
       "      <td>424</td>\n",
       "      <td>4466</td>\n",
       "      <td>1.0</td>\n",
       "      <td>0.031220</td>\n",
       "      <td>0.031220</td>\n",
       "      <td>0.995305</td>\n",
       "    </tr>\n",
       "    <tr>\n",
       "      <th>2</th>\n",
       "      <td>experience</td>\n",
       "      <td>405</td>\n",
       "      <td>1854</td>\n",
       "      <td>2.0</td>\n",
       "      <td>0.012961</td>\n",
       "      <td>0.044181</td>\n",
       "      <td>0.950704</td>\n",
       "    </tr>\n",
       "    <tr>\n",
       "      <th>316</th>\n",
       "      <td>business</td>\n",
       "      <td>323</td>\n",
       "      <td>1212</td>\n",
       "      <td>3.0</td>\n",
       "      <td>0.008473</td>\n",
       "      <td>0.052654</td>\n",
       "      <td>0.758216</td>\n",
       "    </tr>\n",
       "    <tr>\n",
       "      <th>57</th>\n",
       "      <td>work</td>\n",
       "      <td>360</td>\n",
       "      <td>1161</td>\n",
       "      <td>4.0</td>\n",
       "      <td>0.008116</td>\n",
       "      <td>0.060770</td>\n",
       "      <td>0.845070</td>\n",
       "    </tr>\n",
       "    <tr>\n",
       "      <th>263</th>\n",
       "      <td>team</td>\n",
       "      <td>342</td>\n",
       "      <td>988</td>\n",
       "      <td>5.0</td>\n",
       "      <td>0.006907</td>\n",
       "      <td>0.067677</td>\n",
       "      <td>0.802817</td>\n",
       "    </tr>\n",
       "    <tr>\n",
       "      <th>73</th>\n",
       "      <td>science</td>\n",
       "      <td>339</td>\n",
       "      <td>958</td>\n",
       "      <td>6.0</td>\n",
       "      <td>0.006697</td>\n",
       "      <td>0.074374</td>\n",
       "      <td>0.795775</td>\n",
       "    </tr>\n",
       "    <tr>\n",
       "      <th>201</th>\n",
       "      <td>we</td>\n",
       "      <td>294</td>\n",
       "      <td>922</td>\n",
       "      <td>7.0</td>\n",
       "      <td>0.006445</td>\n",
       "      <td>0.080819</td>\n",
       "      <td>0.690141</td>\n",
       "    </tr>\n",
       "    <tr>\n",
       "      <th>35</th>\n",
       "      <td>learning</td>\n",
       "      <td>310</td>\n",
       "      <td>919</td>\n",
       "      <td>8.0</td>\n",
       "      <td>0.006424</td>\n",
       "      <td>0.087243</td>\n",
       "      <td>0.727700</td>\n",
       "    </tr>\n",
       "    <tr>\n",
       "      <th>158</th>\n",
       "      <td>you</td>\n",
       "      <td>230</td>\n",
       "      <td>807</td>\n",
       "      <td>9.0</td>\n",
       "      <td>0.005641</td>\n",
       "      <td>0.092885</td>\n",
       "      <td>0.539906</td>\n",
       "    </tr>\n",
       "    <tr>\n",
       "      <th>365</th>\n",
       "      <td>analytics</td>\n",
       "      <td>249</td>\n",
       "      <td>736</td>\n",
       "      <td>10.0</td>\n",
       "      <td>0.005145</td>\n",
       "      <td>0.098030</td>\n",
       "      <td>0.584507</td>\n",
       "    </tr>\n",
       "    <tr>\n",
       "      <th>37</th>\n",
       "      <td>machine</td>\n",
       "      <td>276</td>\n",
       "      <td>699</td>\n",
       "      <td>11.0</td>\n",
       "      <td>0.004886</td>\n",
       "      <td>0.102917</td>\n",
       "      <td>0.647887</td>\n",
       "    </tr>\n",
       "    <tr>\n",
       "      <th>39</th>\n",
       "      <td>skills</td>\n",
       "      <td>312</td>\n",
       "      <td>697</td>\n",
       "      <td>12.0</td>\n",
       "      <td>0.004872</td>\n",
       "      <td>0.107789</td>\n",
       "      <td>0.732394</td>\n",
       "    </tr>\n",
       "    <tr>\n",
       "      <th>113</th>\n",
       "      <td>analysis</td>\n",
       "      <td>296</td>\n",
       "      <td>680</td>\n",
       "      <td>13.0</td>\n",
       "      <td>0.004754</td>\n",
       "      <td>0.112543</td>\n",
       "      <td>0.694836</td>\n",
       "    </tr>\n",
       "    <tr>\n",
       "      <th>11</th>\n",
       "      <td>models</td>\n",
       "      <td>248</td>\n",
       "      <td>617</td>\n",
       "      <td>14.0</td>\n",
       "      <td>0.004313</td>\n",
       "      <td>0.116856</td>\n",
       "      <td>0.582160</td>\n",
       "    </tr>\n",
       "    <tr>\n",
       "      <th>347</th>\n",
       "      <td>product</td>\n",
       "      <td>210</td>\n",
       "      <td>583</td>\n",
       "      <td>15.0</td>\n",
       "      <td>0.004076</td>\n",
       "      <td>0.120931</td>\n",
       "      <td>0.492958</td>\n",
       "    </tr>\n",
       "    <tr>\n",
       "      <th>361</th>\n",
       "      <td>statistical</td>\n",
       "      <td>265</td>\n",
       "      <td>576</td>\n",
       "      <td>16.0</td>\n",
       "      <td>0.004027</td>\n",
       "      <td>0.124958</td>\n",
       "      <td>0.622066</td>\n",
       "    </tr>\n",
       "    <tr>\n",
       "      <th>90</th>\n",
       "      <td>the</td>\n",
       "      <td>266</td>\n",
       "      <td>572</td>\n",
       "      <td>17.0</td>\n",
       "      <td>0.003999</td>\n",
       "      <td>0.128957</td>\n",
       "      <td>0.624413</td>\n",
       "    </tr>\n",
       "    <tr>\n",
       "      <th>285</th>\n",
       "      <td>9s</td>\n",
       "      <td>248</td>\n",
       "      <td>564</td>\n",
       "      <td>18.0</td>\n",
       "      <td>0.003943</td>\n",
       "      <td>0.132899</td>\n",
       "      <td>0.582160</td>\n",
       "    </tr>\n",
       "    <tr>\n",
       "      <th>580</th>\n",
       "      <td>solutions</td>\n",
       "      <td>223</td>\n",
       "      <td>530</td>\n",
       "      <td>19.0</td>\n",
       "      <td>0.003705</td>\n",
       "      <td>0.136604</td>\n",
       "      <td>0.523474</td>\n",
       "    </tr>\n",
       "    <tr>\n",
       "      <th>65</th>\n",
       "      <td>ability</td>\n",
       "      <td>244</td>\n",
       "      <td>513</td>\n",
       "      <td>20.0</td>\n",
       "      <td>0.003586</td>\n",
       "      <td>0.140191</td>\n",
       "      <td>0.572770</td>\n",
       "    </tr>\n",
       "  </tbody>\n",
       "</table>\n",
       "</div>"
      ],
      "text/plain": [
       "            word  appears_in  count  rank  pct_total  cul_pct_total  \\\n",
       "28          data         424   4466   1.0   0.031220       0.031220   \n",
       "2     experience         405   1854   2.0   0.012961       0.044181   \n",
       "316     business         323   1212   3.0   0.008473       0.052654   \n",
       "57          work         360   1161   4.0   0.008116       0.060770   \n",
       "263         team         342    988   5.0   0.006907       0.067677   \n",
       "73       science         339    958   6.0   0.006697       0.074374   \n",
       "201           we         294    922   7.0   0.006445       0.080819   \n",
       "35      learning         310    919   8.0   0.006424       0.087243   \n",
       "158          you         230    807   9.0   0.005641       0.092885   \n",
       "365    analytics         249    736  10.0   0.005145       0.098030   \n",
       "37       machine         276    699  11.0   0.004886       0.102917   \n",
       "39        skills         312    697  12.0   0.004872       0.107789   \n",
       "113     analysis         296    680  13.0   0.004754       0.112543   \n",
       "11        models         248    617  14.0   0.004313       0.116856   \n",
       "347      product         210    583  15.0   0.004076       0.120931   \n",
       "361  statistical         265    576  16.0   0.004027       0.124958   \n",
       "90           the         266    572  17.0   0.003999       0.128957   \n",
       "285           9s         248    564  18.0   0.003943       0.132899   \n",
       "580    solutions         223    530  19.0   0.003705       0.136604   \n",
       "65       ability         244    513  20.0   0.003586       0.140191   \n",
       "\n",
       "     appears_in_pct  \n",
       "28         0.995305  \n",
       "2          0.950704  \n",
       "316        0.758216  \n",
       "57         0.845070  \n",
       "263        0.802817  \n",
       "73         0.795775  \n",
       "201        0.690141  \n",
       "35         0.727700  \n",
       "158        0.539906  \n",
       "365        0.584507  \n",
       "37         0.647887  \n",
       "39         0.732394  \n",
       "113        0.694836  \n",
       "11         0.582160  \n",
       "347        0.492958  \n",
       "361        0.622066  \n",
       "90         0.624413  \n",
       "285        0.582160  \n",
       "580        0.523474  \n",
       "65         0.572770  "
      ]
     },
     "execution_count": 21,
     "metadata": {},
     "output_type": "execute_result"
    }
   ],
   "source": [
    "wc = count(df['tokens'])\n",
    "wc_top20 = wc[wc['rank'] <= 20]\n",
    "# wc_top20.iloc[0]\n",
    "wc_top20"
   ]
  },
  {
   "cell_type": "markdown",
   "metadata": {
    "colab_type": "text",
    "id": "-lgCZNL_YycP"
   },
   "source": [
    "## 3) Use Scikit-Learn's CountVectorizer to get word counts for each listing."
   ]
  },
  {
   "cell_type": "code",
   "execution_count": 22,
   "metadata": {
    "colab": {},
    "colab_type": "code",
    "id": "X2PZ8Pj_YxcF"
   },
   "outputs": [],
   "source": [
    "from sklearn.feature_extraction.text import CountVectorizer, TfidfVectorizer"
   ]
  },
  {
   "cell_type": "code",
   "execution_count": 23,
   "metadata": {},
   "outputs": [],
   "source": [
    "vect = CountVectorizer()"
   ]
  },
  {
   "cell_type": "code",
   "execution_count": 24,
   "metadata": {},
   "outputs": [
    {
     "data": {
      "text/plain": [
       "CountVectorizer(analyzer='word', binary=False, decode_error='strict',\n",
       "        dtype=<class 'numpy.int64'>, encoding='utf-8', input='content',\n",
       "        lowercase=True, max_df=1.0, max_features=None, min_df=1,\n",
       "        ngram_range=(1, 1), preprocessor=None, stop_words=None,\n",
       "        strip_accents=None, token_pattern='(?u)\\\\b\\\\w\\\\w+\\\\b',\n",
       "        tokenizer=None, vocabulary=None)"
      ]
     },
     "execution_count": 24,
     "metadata": {},
     "output_type": "execute_result"
    }
   ],
   "source": [
    "vect.fit(df['description'])"
   ]
  },
  {
   "cell_type": "code",
   "execution_count": 25,
   "metadata": {},
   "outputs": [
    {
     "name": "stdout",
     "output_type": "stream",
     "text": [
      "['00', '000', '02115', '03', '0305', '0356', '04', '062', '06366', '08', '0if', '0paced', '10', '100', '1000', '1001', '1008', '100k', '100x', '1026036', '105', '1079302', '1082692', '10b', '10ms', '10x', '11', '110k', '112', '114157802', '12', '120', '125', '126', '130', '1315', '1324b', '138', '14', '140', '15', '150', '15000', '159m', '16', '1605', '165', '169334br', '17', '170', '17b', '18', '180', '180008jq', '18b', '19', '190', '190007ji', '19000bn4', '19000c1k', '19004162', '1901744', '1904', '1904labs', '1905', '19050', '1938', '1944', '1967', '1971', '1975', '1979', '1988', '199', '1994', '1999', '1b', '1st', '1strategy', '1tb', '20', '200', '2000', '200020183', '200041695', '2004', '2008', '2011', '2012', '2013', '2014', '2015', '2016', '2017', '2018', '2019', '2020', '2050', '21', '210', '2145', '2272', '24', '24m', '25', '250', '25256', '26', '260', '27', '28', '2nd', '2x', '30', '300', '30328', '30bn', '30k', '31', '317', '320', '3201', '33', '33051', '338', '35', '350', '3535', '35million', '36', '360', '365', '374', '37m', '380', '3d', '3rd', '3x', '40', '400', '401', '401k', '408', '4111', '414', '41476br', '42', '43', '447618', '45', '450', '45040', '457', '461', '47069', '485', '49', '4901', '4919', '4a', '4and', '4by', '4combined', '4cryptocurrencies', '4e', '4g', '4have', '4how', '4including', '4is', '4it', '4no', '4not', '4stands', '4such', '4supporting', '4th', '4the', '4to', '4typically', '4unlocking', '4we', '4you', '50', '500', '5000', '500tm', '503', '508c', '510', '52799', '540', '55', '57', '579', '58', '58490', '59', '5g', '5m', '5pm', '60', '600', '60606', '613', '62', '66', '67', '6890', '695', '70', '700', '72', '725', '734', '75', '755', '756', '771', '78', '7901', '80', '800', '80bn', '82', '83', '832', '844', '85', '85034', '866', '877', '8954', '8big', '8own', '8real', '8think', '90', '900', '907', '908', '920', '9226', '93', '941', '95', '95035', '968', '969', '96m', '98', '9966', '9am', '9d', '9ll', '9re', '9s', '9t', '9ve', 'aa', 'aap', 'ab', 'ab1', 'abernathy', 'abilities', 'ability', 'able', 'abounds', 'about', 'above', 'abroad', 'absence', 'absolutely', 'absorbing', 'abstract', 'abstracting', 'abstraction', 'abstractions', 'abstractly', 'abundant', 'abuse', 'academia', 'academic', 'academics', 'academies', 'accelerate', 'accelerates', 'accelerating', 'acceleration', 'accelerator', 'accelerometer', 'accept', 'acceptable', 'acceptance', 'accepted', 'accepting', 'access', 'accessibility', 'accessible', 'accessing', 'accidental', 'accolade', 'accolades', 'accommodate', 'accommodating', 'accommodation', 'accommodations', 'accomplish', 'accomplished', 'accomplishment', 'accomplishments', 'accordance', 'according', 'account', 'accountabilities', 'accountability', 'accountable', 'accountants', 'accounting', 'accounts', 'accredited', 'accruals', 'accuracy', 'accurate', 'accurately', 'achieve', 'achieved', 'achievement', 'achievements', 'achievers', 'achieves', 'achieving', 'acknowledge', 'acl', 'acquire', 'acquired', 'acquires', 'acquiring', 'acquisition', 'acquisitions', 'acres', 'across', 'act', 'acted', 'acting', 'action', 'actionable', 'actions', 'activate', 'activation', 'active', 'actively', 'activities', 'activity', 'actors', 'acts', 'actual', 'actually', 'actuarial', 'actuary', 'acuity', 'acumen', 'acute', 'ad', 'adaction', 'adam', 'adapt', 'adaptability', 'adaptable', 'adaptations', 'adapting', 'adaption', 'adaptive', 'adapts', 'add', 'added', 'adding', 'addition', 'additional', 'additionally', 'additive', 'additives', 'address', 'addressed', 'addresses', 'addressing', 'adds', 'addt', 'addthis', 'adept', 'adhere', 'adherence', 'adhering', 'adhoc', 'adjacent', 'adjudicates', 'adjust', 'adjusted', 'adjustments', 'admin', 'administration', 'administrative', 'administrators', 'admired', 'admission', 'admitting', 'adobe', 'adopt', 'adopting', 'adoption', 'ads', 'adtech', 'advance', 'advanced', 'advancement', 'advancements', 'advancementwe', 'advances', 'advancing', 'advantage', 'advantages', 'adventures', 'adversarial', 'advertisement', 'advertiser', 'advertisers', 'advertising', 'advice', 'advise', 'advisement', 'advisor', 'advisors', 'advisory', 'advocacy', 'advocate', 'advocates', 'advocating', 'adwords', 'aerial', 'aerospace', 'aetna', 'aetnas', 'afb', 'affairs', 'affect', 'affected', 'affecting', 'affectional', 'affects', 'affiliate', 'affiliates', 'affiliation', 'affinity', 'affirm', 'affirmative', 'afford', 'affordability', 'affordable', 'afni', 'afraid', 'after', 'again', 'against', 'age', 'agencies', 'agency', 'agenda', 'agent', 'agents', 'aggregate', 'aggregated', 'aggregating', 'aggregation', 'aggressive', 'aggressively', 'agile', 'agility', 'ago', 'agree', 'agreed', 'agreement', 'agricultural', 'agronomic', 'agronomy', 'ah1', 'ahead', 'ai', 'aid', 'aide', 'aiding', 'aids', 'aim', 'aimbridge', 'aimed', 'aiming', 'aims', 'air', 'airbnb', 'aircraft', 'airflow', 'airline', 'aive', 'akraya', 'al', 'album', 'albuquerque', 'alcohol', 'alelo', 'alerting', 'alerts', 'alertsunderstanding', 'alex', 'alexa', 'algebra', 'algorithm', 'algorithmic', 'algorithms', 'alice', 'alienage', 'align', 'aligned', 'aligning', 'alignment', 'alignmentexperience', 'alike', 'alive', 'all', 'allazo', 'allazoengine', 'allazohealth', 'allegiance', 'allen', 'allennlp', 'allentown', 'alliance', 'allianz', 'allocates', 'allocation', 'allow', 'allowance', 'allowed', 'allowing', 'allows', 'almost', 'alone', 'along', 'alongside', 'alpha', 'alpharetta', 'already', 'also', 'altair', 'altering', 'alternate', 'alternately', 'alternating', 'alternative', 'alternatives', 'alteryx', 'alteryxexperience', 'although', 'alto', 'always', 'am', 'amazing', 'amazon', 'ambassador', 'ambiguity', 'ambiguous', 'ambiguously', 'ambition', 'ambitions', 'ambitious', 'ame', 'amed', 'amenities', 'ameplates', 'america', 'american', 'americans', 'americas', 'ames', 'amex', 'aml', 'amnesty', 'among', 'amongst', 'amount', 'amounts', 'amp', 'ampl', 'ample', 'amplion', 'amusement', 'an', 'anaheim', 'analyse', 'analyses', 'analysing', 'analysis', 'analysisat', 'analysisexperience', 'analysisrunning', 'analysisuses', 'analyst', 'analysts', 'analytic', 'analytical', 'analytically', 'analytics', 'analyticsidentifying', 'analyticso', 'analytos', 'analyze', 'analyzed', 'analyzes', 'analyzing', 'ancestry', 'anchor', 'ancillary', 'and', 'andover', 'andpython', 'andrew', 'android', 'angeles', 'angles', 'angrist', 'angular', 'ann', 'anna', 'annapolis', 'annotate', 'annotates', 'annotating', 'annotation', 'announced', 'announcements', 'annual', 'annually', 'anomalies', 'anomaly', 'anonymization', 'anonymous', 'anonymously', 'another', 'anova', 'answer', 'answered', 'answering', 'answers', 'anti', 'anticipate', 'anticipated', 'anticipates', 'anticipating', 'antimalware', 'antonio', 'anum', 'anxious', 'any', 'anylogic', 'anyone', 'anything', 'anywhere', 'ap', 'apac', 'apache', 'apart', 'apex', 'api', 'apis', 'app', 'apparel', 'appealing', 'appear', 'appended', 'apple', 'applicability', 'applicable', 'applicant', 'applicants', 'application', 'applications', 'applicationsdrive', 'applicationsstrong', 'applied', 'applies', 'apply', 'applying', 'appointed', 'appointment', 'appreciate', 'appreciates', 'appreciation', 'apprise', 'apprised', 'approach', 'approachability', 'approachable', 'approaches', 'approacheswork', 'approaching', 'appropriate', 'appropriately', 'approval', 'approve', 'approved', 'approximately', 'approximating', 'approximation', 'apps', 'appzen', 'april', 'apriori', 'aptible', 'aptitude', 'ar', 'arbor', 'arcade', 'arcgis', 'architect', 'architecting', 'architects', 'architectural', 'architecture', 'architectures', 'architecturesnatural', 'are', 'area', 'areas', 'aren', 'arise', 'arises', 'arizona', 'arl', 'arlington', 'arm', 'armour', 'arms', 'army', 'around', 'arrange', 'arrangements', 'arratives', 'array', 'arrest', 'arrive', 'art', 'arthur', 'arthurlawrence', 'article', 'articles', 'articulate', 'articulating', 'artifacts', 'artificial', 'artist', 'artists', 'as', 'asap', 'ascensus', 'ascent', 'ascertain', 'asia', 'ask', 'asked', 'asking', 'aspect', 'aspects', 'aspirational', 'aspirations', 'aspire', 'aspires', 'aspiring', 'assault', 'assemble', 'assembled', 'assembly', 'assess', 'assesses', 'assessing', 'assessment', 'assessments', 'asset', 'assets', 'assigned', 'assigning', 'assignment', 'assignments', 'assimilation', 'assist', 'assistance', 'assistancewe', 'assistants', 'assisted', 'assisting', 'assists', 'associate', 'associated', 'associates', 'association', 'assortment', 'assume', 'assuming', 'assumption', 'assumptions', 'assurance', 'assure', 'assured', 'asynchronous', 'at', 'athena', 'athenex', 'athlete', 'athletes', 'athletics', 'ation', 'ational', 'ationality', 'ationally', 'ationwide', 'ative', 'atlanta', 'atlantic', 'atlassian', 'atmosphere', 'atomic', 'atos', 'atrium', 'attach', 'attached', 'attack', 'attacking', 'attacks', 'attained', 'attempt', 'attend', 'attendance', 'attendees', 'attending', 'attention', 'attentive', 'attitude', 'attitudeproven', 'attitudinal', 'attn', 'attorneys', 'attract', 'attracting', 'attractions', 'attracts', 'attributes', 'attribution', 'attrition', 'atural', 'aturally', 'ature', 'atwww', 'au', 'auburn', 'auctions', 'audience', 'audiences', 'audio', 'audit', 'auditing', 'augment', 'augmentation', 'augmented', 'augmenting', 'august', 'aurora', 'austin', 'australia', 'authentic', 'author', 'authoring', 'authoritative', 'authorities', 'authority', 'authorization', 'authorizations', 'authorized', 'autism', 'auto', 'autodesk', 'autodeskinterns', 'automate', 'automated', 'automates', 'automatic', 'automatically', 'automating', 'automation', 'automobiles', 'automotive', 'autonomous', 'autonomously', 'autonomy', 'auvera', 'availability', 'available', 'aval', 'avanade', 'avenues', 'average', 'avidly', 'avidxchange', 'avigate', 'avigation', 'avigators', 'avoid', 'avp', 'avro', 'award', 'awarded', 'awards', 'aware', 'awareness', 'away', 'aways', 'awe', 'awesome', 'aws', 'axians', 'axiologic', 'axle', 'az', 'azkaban', 'azure', 'azureml', 'b2b', 'b2c', 'ba', 'baby', 'babylist', 'bachelor', 'bachelors', 'back', 'backbone', 'backed', 'backend', 'background', 'backgrounds', 'backing', 'backup', 'backwards', 'bacteria', 'bacterial', 'bad', 'bagged', 'bagging', 'bain', 'bake', 'bakery', 'balance', 'balances', 'balancing', 'band', 'bandits', 'bangalore', 'bank', 'banking', 'banks', 'banners', 'bar', 'barriers', 'bart', 'base', 'baseball', 'based', 'baseline', 'baselines', 'bases', 'bash', 'basic', 'basically', 'basics', 'basis', 'basketball', 'baskets', 'bat', 'batch', 'batches', 'battery', 'battle', 'bay', 'bayes', 'bayesian', 'baytown', 'bcbs', 'bcbsaz', 'bda', 'be', 'beach', 'bear', 'beats', 'beautiful', 'beauty', 'beaverton', 'because', 'become', 'becomes', 'becoming', 'bed', 'bedrock', 'been', 'before', 'began', 'begets', 'begin', 'beginning', 'beginnings', 'behalf', 'behave', 'behavior', 'behavioral', 'behaviors', 'behaviour', 'behaviours', 'behind', 'beijing', 'being', 'beings', 'belief', 'beliefs', 'believe', 'believes', 'bell', 'bellevue', 'belonging', 'below', 'benchmark', 'benchmarking', 'benchmarks', 'beneficial', 'benefit', 'benefits', 'berkley', 'berlin', 'berman', 'besides', 'best', 'bet', 'bethlehem', 'bets', 'better', 'between', 'beverage', 'beyond', 'bf1', 'bi', 'bias', 'biases', 'bicycles', 'bidding', 'bids', 'big', 'bigdata', 'biggest', 'bigquery', 'bike', 'bill', 'billing', 'billion', 'billions', 'bing', 'bioequivalence', 'bioinformatic', 'bioinformaticians', 'bioinformatics', 'biological', 'biologists', 'biology', 'biomedical', 'biophysical', 'biorxiv', 'bios', 'bioscience', 'biostatistical', 'biostatisticians', 'biostatistics', 'birthday', 'bis', 'bisexual', 'bit', 'bits', 'bitter', 'biz', 'biztalk', 'black', 'blacklists', 'blacksky', 'blackthorn', 'blast', 'bleeding', 'blend', 'blended', 'blending', 'blends', 'blistering', 'block', 'blockchain', 'blockchains', 'blockers', 'blog', 'blogs', 'bloomington', 'bloomnet', 'blow', 'blowouts', 'blue', 'bluekai', 'bluemix', 'blues', 'blueshift', 'bluevine', 'bluntly', 'blurt', 'bmw', 'board', 'boarding', 'boca', 'body', 'bold', 'boldly', 'bolster', 'bonding', 'bonus', 'bonuses', 'book', 'booking', 'bookings', 'books', 'booming', 'boost', 'boosted', 'boosting', 'boot', 'bootcamps', 'bootstrapping', 'booz', 'borders', 'boston', 'bot', 'both', 'botnets', 'bottle', 'bottom', 'bottomline', 'bound', 'boundaries', 'bounded', 'bounds', 'bowery', 'bowl', 'bowling', 'box', 'boxes', 'bpo', 'brains', 'brainstorm', 'brainstorming', 'branch', 'branches', 'branching', 'brand', 'branded', 'brands', 'brass', 'breadth', 'break', 'breakdown', 'breakfast', 'breaking', 'breakroom', 'breakthrough', 'breakthroughs', 'breastfeeding', 'breath', 'breeze', 'brentwood', 'brick', 'bridge', 'bridges', 'bridging', 'briefings', 'brigham', 'bright', 'brighter', 'brightest', 'brilliant', 'bring', 'bringing', 'brings', 'broad', 'broadband', 'broader', 'broadly', 'broadway', 'broken', 'brokerage', 'brokers', 'broomfield', 'brothers', 'brought', 'browse', 'browser', 'browses', 'bruno', 'bs', 'bu', 'buck', 'budd', 'buddy', 'budget', 'budgeting', 'budgets', 'buffalo', 'bug', 'bugs', 'build', 'builder', 'builders', 'building', 'buildings', 'builds', 'built', 'bulgaria', 'bulk', 'bull', 'burden', 'bureau', 'burns', 'burr', 'bus', 'business', 'businesscoordinate', 'businesses', 'businessexperience', 'businesswe', 'bustling', 'but', 'butterflies', 'button', 'buy', 'buyers', 'buying', 'buys', 'buzzwords', 'bwh', 'by', 'byers', 'c3', 'ca', 'caas', 'cable', 'cac', 'caci', 'cadence', 'cafe', 'cafeteria', 'cafeterias', 'caffe', 'caffe2', 'caffeine', 'caj', 'calabasas', 'calculated', 'calculates', 'calculations', 'calculus', 'calendar', 'calendars', 'caliber', 'calibrating', 'calibration', 'california', 'californian', 'call', 'called', 'calls', 'calmhsa', 'caltech', 'caltrain', 'cambia', 'cambridge', 'came', 'camp', 'campaign', 'campaigns', 'camps', 'campus', 'campuses', 'can', 'canada', 'canal', 'cancelling', 'cancer', 'candidacy', 'candidate', 'candidates', 'candy', 'cannot', 'canon', 'canonusa', 'canopy', 'capabilities', 'capability', 'capable', 'capacity', 'capgemini', 'capital', 'capitalist', 'capitalizing', 'capture', 'captured', 'captures', 'car', 'carbon', 'card', 'care', 'career', 'careers', 'careful', 'carefully', 'caregiver', 'caregivers', 'cares', 'caribbean', 'caring', 'carlo', 'carolina', 'carolinas', 'carpool', 'carpooling', 'carrentals', 'carried', 'carrier', 'carries', 'carry', 'carrying', 'cars', 'cart', 'carve', 'casandra', 'case', 'cases', 'casesexperience', 'cash', 'casino', 'cassandra', 'cassandraknowledge', 'castillo', 'casual', 'casualty', 'catalog', 'catalyst', 'catalyze', 'catastrophe', 'catastrophic', 'catch', 'categories', 'categorize', 'category', 'catered', 'caufield', 'causal', 'causality', 'cause', 'caused', 'causes', 'caveats', 'cbang', 'cbest', 'cbig', 'cbs', 'cchristmas', 'cco', 'ccoteam', 'ccs', 'ccustomer', 'cd', 'cdas', 'cdc', 'cdisc', 'cdl', 'cela', 'celebrate', 'celebrated', 'celebrates', 'celebrating', 'celebrations', 'celebratory', 'cell', 'cellphone', 'censored', 'census', 'center', 'centered', 'centering', 'centerpiece', 'centers', 'central', 'centralized', 'centrally', 'centric', 'centuries', 'century', 'ceo', 'cerner', 'certain', 'certainly', 'certainty', 'certificate', 'certificates', 'certification', 'certifications', 'certified', 'certifying', 'cfa', 'cfds', 'cfdss', 'cfo', 'cfos', 'cget', 'cgi', 'chaid', 'chain', 'chains', 'chairman', 'challenge', 'challenged', 'challenger', 'challenges', 'challenging', 'chalupa', 'champion', 'championing', 'champions', 'chan', 'chance', 'change', 'changed', 'changes', 'changing', 'channel', 'channels', 'chantilly', 'chapel', 'character', 'characteristic', 'characteristics', 'characterization', 'characterize', 'charge', 'chargeback', 'charity', 'charles', 'charleston', 'charlotte', 'chart', 'charter', 'chartered', 'charts', 'chase', 'chat', 'chatbot', 'chatbots', 'chatting', 'chave', 'cheap', 'cheapflights', 'cheaptickets', 'check', 'checkfelix', 'checking', 'checklist', 'checks', 'chemical', 'chemicals', 'chemistry', 'chemometric', 'chen', 'cheryl', 'chesapeake', 'chewse', 'chicago', 'chief', 'chiefs', 'child', 'childbirth', 'children', 'china', 'chinese', 'chip', 'chipotle', 'chipp', 'chocolatesm', 'choice', 'choices', 'choose', 'choosing', 'chops', 'chosen', 'chr', 'christofaris', 'chrome', 'chronic', 'chrysler', 'chs', 'chuck', 'churn', 'ci', 'cia', 'cic', 'cinnovate', 'cino', 'cio', 'circa', 'circadian', 'circle', 'circleci', 'circleup', 'circumstances', 'cisco', 'citi', 'cities', 'citizen', 'citizens', 'citizenship', 'city', 'civil', 'civilian', 'civis', 'civisanalytics', 'cjpost', 'claims', 'clara', 'clarification', 'clarify', 'clarity', 'clarivate', 'clarkston', 'class', 'classdojo', 'classes', 'classic', 'classical', 'classically', 'classics', 'classification', 'classifications', 'classified', 'classifier', 'classifiers', 'clayton', 'clean', 'cleanchoice', 'cleanchoiceenergy', 'cleaner', 'cleaning', 'cleanse', 'cleansing', 'clear', 'clearance', 'clearances', 'cleared', 'clearer', 'clearly', 'clearnlp', 'cleartk', 'clearwater', 'cleveland', 'click', 'clicking', 'clickstream', 'client', 'clients', 'clientsshare', 'climate', 'climb', 'clinic', 'clinical', 'clinically', 'clinicaltrials', 'clinicians', 'clinton', 'clive', 'close', 'closed', 'closely', 'closer', 'closing', 'closure', 'cloth', 'cloud', 'cloudera', 'club', 'cluster', 'clustering', 'clusteroptimizing', 'clusters', 'cmachine', 'cmake', 'cmg', 'cnn', 'cnns', 'cntk', 'co', 'coach', 'coaches', 'coaching', 'code', 'codebase', 'coder', 'coders0057', 'codes', 'coding', 'coe', 'coffee', 'cognitive', 'cognos', 'coherent', 'cohesive', 'cohort', 'cohorts', 'cold', 'collaborate', 'collaborates', 'collaborating', 'collaboration', 'collaborations', 'collaborative', 'collaboratively', 'collaborator', 'collaborators', 'colleague', 'colleagues', 'collect', 'collected', 'collecting', 'collection', 'collections', 'collective', 'collectively', 'collects', 'college', 'collegial', 'collisions', 'color', 'colorado', 'colors', 'colour', 'columbia', 'columns', 'com', 'combating', 'combination', 'combinations', 'combinator', 'combinatorics', 'combine', 'combined', 'combines', 'combining', 'come', 'comedy', 'comes', 'comet', 'comfort', 'comfortable', 'comfortably', 'comfy', 'coming', 'comma', 'command', 'commander', 'commands', 'commence', 'commensurate', 'comments', 'commerce', 'commercial', 'commercializable', 'commercialization', 'commercially', 'commissionat', 'commissions', 'commit', 'commitment', 'commitments', 'commits', 'committed', 'committee', 'committing', 'commodities', 'commodity', 'common', 'commonly', 'commonplace', 'communal', 'communicate', 'communicated', 'communicates', 'communicating', 'communication', 'communications', 'communicative', 'communicator', 'communities', 'communitiesdeploy', 'communitiesdevelop', 'community', 'communitybe', 'commute', 'commuter', 'commuters', 'commvault', 'comp', 'compact', 'companies', 'company', 'companywide', 'comparable', 'compare', 'comparison', 'compassion', 'compelling', 'compensation', 'compete', 'competence', 'competences', 'competencies', 'competency', 'competent', 'competing', 'competition', 'competitions', 'competitive', 'competitiveness', 'competitor', 'compilation', 'compile', 'compiled', 'compiling', 'complaint', 'complete', 'completed', 'completely', 'completeness', 'completes', 'completing', 'completion', 'complex', 'complexities', 'complexity', 'compliance', 'complicated', 'complied', 'complies', 'complimentary', 'complimented', 'comply', 'complying', 'component', 'components', 'composed', 'composite', 'composition', 'comprehensive', 'comprise', 'comprised', 'comprises', 'comprising', 'compromise', 'compromises', 'computation', 'computational', 'compute', 'computer', 'computers', 'computing', 'computingfoundation', 'conceive', 'conceiving', 'concentration', 'concept', 'conception', 'concepts', 'conceptshave', 'conceptual', 'conceptualization', 'conceptualize', 'conceptualizing', 'conceptually', 'concern', 'concerned', 'concerning', 'concerns', 'concerts', 'concierge', 'concise', 'concisely', 'conclusions', 'concrete', 'concurrent', 'concurrently', 'condition', 'conditions', 'condo', 'conduct', 'conducted', 'conducting', 'conducts', 'conference', 'conferences', 'confidence', 'confident', 'confidential', 'confidentiality', 'confidentially', 'confidently', 'configuration', 'configure', 'configuring', 'confirm', 'conflict', 'conflicting', 'conflicts', 'confluence', 'conform', 'confront', 'conjunction', 'connect', 'connected', 'connecting', 'connection', 'connections', 'connectivity', 'connects', 'conscientious', 'consensus', 'consent', 'consequence', 'consequences', 'consequently', 'conservancy', 'conservation', 'conserve', 'conshohocken', 'consider', 'considerable', 'consideration', 'considerations', 'considered', 'considering', 'considers', 'consist', 'consistency', 'consistent', 'consistently', 'consisting', 'consists', 'consolidate', 'constant', 'constantly', 'constituents', 'constrained', 'constraint', 'constraints', 'construct', 'construction', 'constructive', 'constructs', 'construed', 'consult', 'consultancy', 'consultant', 'consultants', 'consultation', 'consultations', 'consultative', 'consulting', 'consults', 'consumable', 'consumed', 'consumer', 'consumers', 'consuming', 'consumption', 'contact', 'contacted', 'contacting', 'contacts', 'contain', 'contained', 'container', 'containerization', 'containers', 'contains', 'contamination', 'content', 'contents', 'context', 'contexts', 'contextual', 'contextualize', 'contingencies', 'contingent', 'continual', 'continually', 'continue', 'continued', 'continues', 'continuing', 'continuous', 'continuously', 'contract', 'contract1', 'contract6', 'contractakraya', 'contractdata', 'contractjob', 'contractor', 'contracts', 'contractthe', 'contractwe', 'contribute', 'contributed', 'contributes', 'contributing', 'contribution', 'contributions', 'contributor', 'contributors', 'control', 'controlled', 'controls', 'convenience', 'conveniences', 'convenient', 'convention', 'conventional', 'conventions', 'conversant', 'conversation', 'conversational', 'conversations', 'converse', 'conversely', 'conversion', 'conversions', 'convert', 'converting', 'convex', 'convey', 'convicted', 'conviction', 'convince', 'convnet', 'convolutional', 'coo', 'cooked', 'cookies', 'cool', 'cooperation', 'cooperatively', 'coordinate', 'coordinates', 'coordinating', 'coordination', 'coordinators', 'copiers', 'copious', 'copy', 'cor', 'coral', 'cordell', 'core', 'coreference', 'coremetrics', 'corenlp', 'corner', 'corners', 'corp', 'corporate', 'corporation', 'corporations', 'corpus', 'correct', 'correction', 'corrective', 'correctly', 'correlate', 'correlation', 'correlations', 'corresponding', 'cosine', 'cosmos', 'cost', 'costa', 'costing', 'costs', 'couch', 'couchbase', 'could', 'couldn', 'council', 'counselors', 'count', 'counterintelligence', 'counterpart', 'counterparts', 'counting', 'countries', 'country', 'counts', 'courage', 'course', 'coursera', 'courses', 'coursework', 'court', 'courteous', 'cover', 'coverage', 'covered', 'covering', 'covers', 'coworkers', 'cpa', 'cpassion', 'cpeople', 'cpg', 'cplant', 'cplex', 'cpragmatism', 'cprovide', 'cquality', 'cr', 'crack', 'craft', 'crafted', 'crafting', 'craftsmanship', 'cranford', 'craves', 'crazy', 'cre', 'creasonable', 'create', 'created', 'creates', 'creating', 'creation', 'creative', 'creatively', 'creativity', 'creators', 'credential', 'credentials', 'credibility', 'credible', 'credibly', 'credit', 'credits', 'creed', 'crf', 'crime', 'crimes', 'criminal', 'crimson', 'crisp', 'crisply', 'criteo', 'criteos', 'criteria', 'critical', 'critically', 'criticism', 'critics', 'crivr', 'crm', 'cro', 'cross', 'crosscut', 'crosshairs', 'crosswise', 'crouch', 'crucial', 'cruise', 'cruiseshipcenters', 'crunch', 'crunching', 'crux', 'crypto', 'cryptoanalysis', 'cryptoasset', 'cryptoassets', 'cryptocurrency', 'crystallizing', 'cs', 'csc', 'cscientific', 'cscorecards', 'cseo', 'csim', 'css', 'cst', 'cstem', 'cstorytelling', 'csubject', 'csurge', 'csv', 'ct', 'ctakes', 'cteam', 'cthe', 'cto', 'ctop', 'ctr', 'ctraditional', 'cubes', 'cuda', 'culling', 'cultivate', 'cultivating', 'cultivation', 'cultural', 'culturally', 'culture', 'cultures', 'cumbersome', 'cumulative', 'curate', 'curated', 'curating', 'curation', 'curators', 'cure', 'cures', 'curiosity', 'curious', 'currencies', 'current', 'currently', 'curriculum', 'curve', 'cusa', 'cushman', 'custodian', 'custom', 'customary', 'customer', 'customers', 'customersdesign', 'customize', 'customized', 'cut', 'cuts', 'cutting', 'cv', 'cvirtual', 'cvs', 'cwe', 'cwhole', 'cwhy', 'cwin', 'cwork', 'cwow', 'cwowing', 'cyber', 'cyberattacks', 'cybersecurity', 'cyberthreat', 'cyberthreats', 'cycle', 'cycles', 'cyclical', 'czi', 'd3', 'dacohp', 'daf', 'daily', 'dallas', 'dan', 'dana', 'dare', 'daring', 'dash', 'dashboard', 'dashboarding', 'dashboards', 'data', 'dataa', 'dataassemble', 'dataat', 'database', 'databases', 'databasesability', 'databricks', 'datacenter', 'datacollaborate', 'datadesigning', 'datadevelop', 'dataframes', 'dataiku', 'datalab', 'datalogix', 'datameer', 'dataminer', 'dataops', 'dataoutstanding', 'datapossessing', 'dataproc', 'datarobot', 'dataset', 'datasets', 'datastrong', 'dataviz', 'dataxpander', 'date', 'dates', 'david', 'davis', 'day', 'daycare', 'days', 'db', 'db2', 'dba', 'dbscan', 'dc', 'ddi', 'de', 'deadline', 'deadlines', 'deal', 'dealer', 'dealing', 'deals', 'dearborn', 'death', 'debate', 'debug', 'debugging', 'dec', 'decade', 'decades', 'december', 'decentralized', 'decide', 'decided', 'deciding', 'decision', 'decisioning', 'decisions', 'decisive', 'decks', 'decompose', 'decomposition', 'decreasing', 'dedicated', 'dedication', 'deductive', 'deemed', 'deep', 'deepen', 'deepening', 'deeper', 'deeply', 'default', 'defaulted', 'defaults', 'defender', 'defending', 'defense', 'defensible', 'defensive', 'defensiveness', 'deferred', 'deficiencies', 'define', 'defined', 'defines', 'defining', 'definition', 'definitions', 'definitive', 'degree', 'degreeability', 'degreedemonstrated', 'degrees', 'delegating', 'delight', 'delightful', 'delimited', 'deliver', 'deliverable', 'deliverables', 'delivered', 'delivering', 'delivers', 'delivery', 'deliveryability', 'dell', 'deloitte', 'delve', 'demand', 'demanding', 'demands', 'demeanor', 'democratize', 'democratizing', 'demographic', 'demonstrable', 'demonstrate', 'demonstrated', 'demonstrates', 'demonstrating', 'demonstrations', 'demos', 'demystify', 'dental', 'dental401', 'denver', 'department', 'departmental', 'departments', 'depend', 'dependable', 'dependencies', 'dependenciesbuilding', 'dependency', 'dependent', 'dependents', 'depending', 'depends', 'deploy', 'deployable', 'deployed', 'deploying', 'deployment', 'deployments', 'deploys', 'deposit', 'depression', 'depth', 'derivation', 'derive', 'derived', 'deriving', 'descent', 'describe', 'described', 'describes', 'describing', 'description', 'descriptions', 'descriptive', 'deserve', 'design', 'designated', 'designed', 'designer', 'designers', 'designing', 'designpac', 'designs', 'desirable', 'desire', 'desired', 'desk', 'desktop', 'desktops', 'destination', 'destinations', 'destiny', 'detail', 'detaila', 'detailed', 'detailing', 'detailpassionate', 'details', 'detect', 'detecting', 'detection', 'detectionexperience', 'detector', 'determination', 'determine', 'determines', 'determining', 'deterministic', 'detroit', 'develop', 'developed', 'developer', 'developers', 'developing', 'development', 'developmentanalyze', 'developmentexperience', 'developments', 'develops', 'device', 'devices', 'devise', 'devises', 'devolve', 'devops', 'devoted', 'dexcom', 'dexterity', 'dhs', 'diabetes', 'diagnose', 'diagnosis', 'diagnostic', 'diagnostics', 'diagnosticsperforming', 'diagrams', 'dialog', 'dialogue', 'dictate', 'did', 'didn', 'die', 'diego', 'dies', 'diesel', 'diets', 'difference', 'differences', 'different', 'differentiate', 'differentiated', 'differentiation', 'differentiators', 'differently', 'differing', 'difficult', 'difficulties', 'dig', 'digest', 'digestible', 'digging', 'digital', 'digitalization', 'digitalocean', 'digitizing', 'dignity', 'dimension', 'dimensional', 'dimensionality', 'dimensions', 'dimly', 'diner', 'diners', 'dining', 'dinners', 'direct', 'directed', 'direction', 'directions', 'directly', 'director', 'directorate', 'directors', 'directs', 'dirichlet', 'dirt', 'dirty', 'disabilities', 'disability', 'disabled', 'disadvantages', 'disambiguation', 'discharge', 'discharging', 'disciplinary', 'discipline', 'disciplined', 'disciplines', 'disciplining', 'disclaimer', 'disclose', 'disclosed', 'disclosure', 'disclosures', 'disco', 'disconnected', 'discount', 'discounting', 'discounts', 'discover', 'discovered', 'discoveries', 'discovering', 'discovery', 'discrete', 'discretion', 'discretionary', 'discriminant', 'discriminate', 'discriminated', 'discriminating', 'discrimination', 'discriminative', 'discriminatory', 'discuss', 'discussed', 'discussing', 'discussion', 'discussions', 'disease', 'diseases', 'dislike', 'disney', 'disorders', 'disparate', 'dispatch', 'dispatches', 'dispatching', 'display', 'displaying', 'displays', 'disposal', 'disposition', 'disprove', 'disqualified', 'disqualifying', 'disrupt', 'disrupted', 'disrupting', 'disruption', 'disruptive', 'disseminates', 'dissemination', 'distance', 'distances', 'distill', 'distilled', 'distilling', 'distinction', 'distinctive', 'distracted', 'distractions', 'distribute', 'distributed', 'distributes', 'distribution', 'distributional', 'distributions', 'distributor', 'dive', 'diverse', 'diversified', 'diversifying', 'diversity', 'dives', 'diving', 'division', 'divisional', 'divisions', 'django', 'dl', 'dli', 'dm', 'dmp', 'dms', 'do', 'doc2vec', 'docker', 'docomo', 'docs', 'doctoral', 'document', 'documentation', 'documented', 'documenting', 'documents', 'dod', 'dodd', 'doers', 'does', 'doesn', 'dog', 'doing', 'dol', 'dollar', 'dollars', 'domain', 'domains', 'domestic', 'domo', 'don', 'done', 'donewe', 'door', 'doors', 'dose', 'dot', 'dots', 'double', 'doubleclick', 'dow', 'down', 'download', 'downstream', 'downtime', 'downtown', 'dozens', 'dplyr', 'dr', 'draft', 'drafting', 'dramatic', 'dramatically', 'draper', 'draw', 'drawbacks', 'drawing', 'draws', 'dream', 'dreams', 'dress', 'drift', 'drink', 'drinks', 'drive', 'driven', 'driver', 'drivers', 'drives', 'drivetime', 'driving', 'drop', 'dropbox', 'dropoff', 'dropped', 'drug', 'drugs', 'dry', 'drybar', 'ds', 'dsa', 'dscout', 'dsit', 'dsr', 'dss', 'dtabase', 'dual', 'dubai', 'dublin', 'due', 'duplication', 'duration', 'durham', 'during', 'duties', 'duty', 'dw', 'dwi', 'dyadic', 'dylan', 'dynamic', 'dynamically', 'dynamics', 'dynamo', 'dynet', 'dyplr', 'e2e', 'each', 'eager', 'ear', 'earby', 'earest', 'earliest', 'early', 'earmarked', 'earn', 'earned', 'earners', 'earning', 'earnings', 'ears', 'earth', 'ease', 'easier', 'easily', 'easy', 'eat', 'eat24', 'eaters', 'eating', 'ebookers', 'ec', 'ec2', 'ecd', 'ecdi', 'ecessarily', 'ecessary', 'ecessaryconsults', 'echo', 'ecl', 'ecolab', 'ecological', 'ecommerce', 'econometric', 'econometrics', 'economic', 'economically', 'economics', 'economics5', 'economies', 'economists', 'economy', 'ecosystem', 'ecosystems', 'ecs', 'ect', 'ed1', 'eda', 'edge', 'edit', 'editions', 'editor', 'editorial', 'eds', 'edu', 'educate', 'educated', 'educating', 'education', 'educational', 'educators', 'edw', 'edward', 'ee', 'eed', 'eeded', 'eedle', 'eeds', 'eeg', 'eeo', 'eeoc', 'eeopost', 'ef', 'ef1', 'effect', 'effective', 'effectively', 'effectivelyexploring', 'effectiveness', 'effects', 'efficacy', 'efficiencies', 'efficiency', 'efficient', 'efficiently', 'effort', 'efforts', 'eg', 'egative', 'egatively', 'egencia', 'ego', 'egos', 'egotiable', 'egotiate', 'egotiation', 'ehr', 'eighbor', 'eighborhoods', 'eighbors', 'eight', 'eighteen', 'either', 'el', 'elastic', 'elasticities', 'elasticity', 'elasticsearch', 'elbow', 'elected', 'election', 'electric', 'electrical', 'electricity', 'electronic', 'elegant', 'elegantly', 'element', 'elemental', 'elements', 'elevate', 'elevating', 'eligibility', 'eligible', 'elite', 'elixir', 'elk', 'elliott', 'elliottdavis', 'else', 'em', 'email', 'emails', 'embed', 'embedded', 'embedding', 'embeddings', 'embeds', 'ember', 'embodied', 'embody', 'embrace', 'embraces', 'embracing', 'emea', 'emergencies', 'emergent', 'emerging', 'emnlp', 'emotion', 'emotional', 'empathetic', 'empathizing', 'empathy', 'emphasis', 'emphasizes', 'emphasizing', 'empire', 'empirical', 'employ', 'employed', 'employee', 'employees', 'employer', 'employers', 'employing', 'employment', 'employs', 'empower', 'empowered', 'empowering', 'empowerment', 'empowers', 'emr', 'en', 'enable', 'enabled', 'enablers', 'enables', 'enabling', 'encode', 'encoded', 'encoders', 'encoding', 'encompass', 'encompasses', 'encounter', 'encountered', 'encourage', 'encouraged', 'encourages', 'encouraging', 'end', 'ended', 'ending', 'endless', 'endogeneity', 'endomondo', 'endpoints', 'ends', 'enduring', 'energetic', 'energized', 'energy', 'enforce', 'eng', 'engage', 'engaged', 'engagement', 'engagements', 'engages', 'engaging', 'engine', 'engineer', 'engineered', 'engineering', 'engineers', 'engines', 'englewood', 'english', 'enhance', 'enhanced', 'enhancement', 'enhancements', 'enhances', 'enhancing', 'enjoy', 'enjoyable', 'enjoyed', 'enjoying', 'enjoyment', 'enjoys', 'enormous', 'enough', 'enquiry', 'enrolled', 'enrollment', 'ensemble', 'ensembling', 'enskill', 'ensure', 'ensures', 'ensuring', 'entails', 'enter', 'enterprise', 'enterprises', 'entertaining', 'entertainment', 'enthusiasm', 'enthusiast', 'enthusiastic', 'entire', 'entirely', 'entities', 'entity', 'entomology', 'entrepreneur', 'entrepreneurial', 'entrepreneurs', 'entries', 'entrust', 'entry', 'envelope', 'environment', 'environmentadvanced', 'environmental', 'environmentproficiency', 'environments', 'environmentsexperience', 'envision', 'envisioned', 'envisioning', 'envisions', 'eo', 'eoe', 'epic', 'epidemiological', 'epidemiologists', 'epidemiology', 'eppac', 'eq', 'equal', 'equally', 'equate', 'equation', 'equations', 'equip', 'equipment', 'equipped', 'equips', 'equitable', 'equities', 'equity', 'equivalent', 'equivalents', 'er', 'era', 'eradicating', 'erdy', 'ericsson', 'erp', 'errant', 'erroneous', 'error', 'errors', 'escalates', 'escalations', 'especially', 'esports', 'espresso', 'esri', 'essbase', 'essential', 'essentials', 'establish', 'established', 'establishes', 'establishing', 'establishment', 'estate', 'estimate', 'estimates', 'estimation', 'estimations', 'et', 'etc', 'etfs', 'ethic', 'ethical', 'ethicon', 'ethics', 'ethnic', 'ethnicity', 'etl', 'etwork', 'etworking', 'etworks', 'eur', 'eural', 'eurobehavioral', 'euroimaging', 'euronext', 'europaea', 'europe', 'european', 'euroscience', 'eutral', 'evaluate', 'evaluated', 'evaluates', 'evaluating', 'evaluation', 'evaluations', 'evangelist', 'evangelists', 'evangelize', 'evangelizing', 'even', 'evening', 'event', 'eventbrite', 'events', 'eventual', 'ever', 'everett', 'every', 'everybody', 'everyday', 'everyone', 'everything', 'everytown', 'everywhere', 'evidence', 'evidenced', 'evms', 'evolution', 'evolve', 'evolving', 'evp', 'ew', 'ewest', 'ewly', 'ews', 'ewsfeed', 'ex', 'exact', 'exactly', 'exactness', 'exam', 'examine', 'examines', 'examining', 'example', 'examples', 'examplessharing', 'exams', 'exceed', 'exceeds', 'excel', 'excellence', 'excellent', 'excels', 'except', 'exceptional', 'exceptions', 'excess', 'exchange', 'exchanges', 'excite', 'excited', 'excitement', 'excites', 'exciting', 'exclusive', 'exclusively', 'excursions', 'execute', 'executecrecruiters', 'executed', 'executes', 'executing', 'execution', 'executive', 'executives', 'executors', 'exemplary', 'exemplify', 'exemplifying', 'exempt', 'exercise', 'exercises', 'exercising', 'exert', 'exhaustive', 'exhibit', 'exist', 'existing', 'exits', 'exogenous', 'expand', 'expanded', 'expanding', 'expansion', 'expect', 'expectations', 'expected', 'expecting', 'expedia', 'expedite', 'expense', 'expenses', 'expensive', 'experience', 'experiencea', 'experienced', 'experienceexperience', 'experiencehighly', 'experienceproficiency', 'experiences', 'experiencesbuilding', 'experiencetypically', 'experiment', 'experimental', 'experimentally', 'experimentation', 'experimentations', 'experimenter', 'experimenting', 'experiments', 'expert', 'expertise', 'expertize', 'expertly', 'experts', 'expiration', 'expires', 'explain', 'explainability', 'explained', 'explaining', 'explains', 'explanations', 'explanatory', 'explicit', 'explicitly', 'exploit', 'exploiting', 'exploits', 'exploration', 'explorations', 'exploratory', 'explore', 'explorers', 'explores', 'explorewrangler', 'exploring', 'exponential', 'export', 'expose', 'exposed', 'exposure', 'exposures', 'express', 'expression', 'expressions', 'expressly', 'ext', 'extant', 'extend', 'extended', 'extending', 'extends', 'extensible', 'extension', 'extensive', 'external', 'externally', 'extra', 'extract', 'extracting', 'extraction', 'extracts', 'extraordinarily', 'extraordinary', 'extreme', 'extremely', 'extremes', 'extrinsic', 'exudes', 'exxonmobil', 'eye', 'eyes', 'eyeview', 'f1', 'fabric', 'face', 'facebook', 'faces', 'faceted', 'facets', 'facilitate', 'facilitation', 'facilities', 'facility', 'facing', 'fact', 'facto', 'factor', 'factorial', 'factoring', 'factorization', 'factors', 'factory', 'facts', 'faculty', 'fail', 'failur', 'failure', 'failures', 'fair', 'fairbank', 'fairness', 'fall', 'falls', 'false', 'familial', 'familiar', 'familiarity', 'families', 'family', 'fanatical', 'fans', 'fantastic', 'fantastically', 'far', 'fares', 'farm', 'farmer', 'farmers', 'farming', 'farmland', 'farms', 'fascinated', 'fascinating', 'fashion', 'fast', 'faster', 'fastest', 'fatal', 'favorite', 'faxes', 'fb', 'fbi', 'fbn', 'fca', 'fearless', 'fearlessly', 'feasibility', 'feasible', 'feature', 'featured', 'features', 'federal', 'federation', 'fedramp', 'fee', 'feed', 'feedback', 'feedbacks', 'feedforward', 'feeding', 'feeds', 'feel', 'feelings', 'feels', 'fees', 'feet', 'fellow', 'felony', 'felt', 'female', 'females', 'ferry', 'fervor', 'festivals', 'few', 'fewer', 'fiat', 'field', 'fieldat', 'fieldexperience', 'fielding', 'fieldprojects', 'fields', 'fifth', 'figaro', 'figure', 'figures', 'file', 'files', 'fill', 'filled', 'filter', 'filtering', 'final', 'finalize', 'finally', 'finance', 'financial', 'financially', 'financials', 'financing', 'find', 'finder', 'finding', 'findings', 'finds', 'fine', 'finely', 'finger', 'fingerprinting', 'fingerprints', 'fingers', 'fingertips', 'finish', 'finisher', 'finishline', 'finite', 'finlocker', 'fintech', 'fips', 'fire', 'firewall', 'firm', 'firmhave', 'firms', 'first', 'fiscal', 'fischbach', 'fish', 'fisma', 'fit', 'fitness', 'fitting', 'five', 'fix', 'fixed', 'fixer', 'fixes', 'fixing', 'flagship', 'flask', 'flat', 'flavor', 'flavors', 'flawless', 'flawlessly', 'flaws', 'fleet', 'fleets', 'flex', 'flexibility', 'flexible', 'flight', 'flights', 'flip', 'floating', 'floodgate', 'floor', 'flopped', 'flops', 'floral', 'florida', 'florists', 'flourishes', 'flow', 'flowers', 'flows', 'flsa', 'flu', 'fluency', 'fluent', 'fluently', 'fluffy', 'fluid', 'fluidity', 'flume', 'flws', 'fly', 'fmri', 'focus', 'focused', 'focusedstrong', 'focuses', 'focusing', 'focussed', 'focusses', 'fold', 'folder', 'follow', 'following', 'follows', 'food', 'football', 'footprint', 'footwear', 'for', 'forbearance', 'forbes', 'forbidden', 'force', 'forced', 'forces', 'ford', 'forecast', 'forecasting', 'forecasts', 'forefront', 'foreign', 'foremost', 'forescout', 'forest', 'foresting', 'forests', 'forge', 'forget', 'form', 'forma', 'formal', 'formalize', 'formalizing', 'formally', 'format', 'formatexperience', 'formation', 'formats', 'formatting', 'formed', 'former', 'formerly', 'forms', 'formsbuilding', 'formulas', 'formulate', 'formulates', 'formulation', 'fortune', 'forums', 'forward', 'forwarded', 'forwarders', 'foster', 'fostering', 'fosters', 'found', 'foundation', 'foundational', 'foundationproven', 'foundations', 'founded', 'founder', 'founders', 'founding', 'foundry', 'four', 'fourier', 'fourth', 'fraank', 'fraction', 'fractional', 'fragmented', 'frame', 'frames', 'framework', 'frameworks', 'frameworksability', 'framing', 'franca', 'france', 'francis', 'francisco', 'frank', 'fraud', 'freakishly', 'free', 'freedom', 'freely', 'freesurfer', 'freight', 'french', 'frequent', 'frequentist', 'frequently', 'fresh', 'freshness', 'friction', 'frictionless', 'friday', 'friendly', 'friends', 'friendships', 'frighten', 'from', 'front', 'frontend', 'frontier', 'frontiers', 'fruitbouquets', 'fsa', 'fsl', 'ftp', 'fuel', 'fueled', 'fuels', 'fulfill', 'fulfilling', 'fulfillment', 'full', 'fullest', 'fullpower', 'fulltime', 'fully', 'fun', 'function', 'functional', 'functionalities', 'functionality', 'functionally', 'functioninformation', 'functions', 'functionsexperience', 'fund', 'fundamental', 'fundamentally', 'fundamentals', 'funded', 'funders', 'funding', 'fundraisers', 'funds', 'funnel', 'funnels', 'furnish', 'furniture', 'furry', 'further', 'furtherance', 'furthermore', 'furthers', 'furthest', 'fused', 'fusion', 'future', 'futures', 'futuristic', 'fuzzy', 'ga', 'gaap', 'gables', 'gadget', 'gain', 'gained', 'gaining', 'gains', 'galvanize', 'galvanizing', 'gambling', 'game', 'gamers', 'games', 'gaming', 'gans', 'gap', 'gaps', 'garage', 'garden', 'garner', 'gartner', 'gas', 'gases', 'gates', 'gather', 'gathered', 'gathering', 'gatherings', 'gatos', 'gauge', 'gaussian', 'gay', 'gbas', 'gbm', 'gcdo', 'gcp', 'gdit', 'ge', 'gear', 'geared', 'geek', 'gelman', 'gen', 'gender', 'general', 'generalist', 'generality', 'generalizable', 'generalize', 'generalized', 'generally', 'generate', 'generated', 'generates', 'generating', 'generation', 'generations', 'generative', 'generosity', 'generous', 'genes', 'genetic', 'geneticists', 'genetics', 'genism', 'genome', 'genomes', 'genomic', 'genomics', 'genre', 'gensim', 'genuine', 'genuinely', 'geo', 'geographic', 'geographical', 'geographically', 'geographies', 'geography', 'geoint', 'georgetown', 'georgia', 'georgian', 'geospatial', 'german', 'germany', 'get', 'gets', 'getting', 'ggplot', 'ggplot2', 'giants', 'gift', 'gifting', 'gifts', 'gillette', 'gis', 'git', 'gitflow', 'github', 'give', 'given', 'givers', 'gives', 'giving', 'glad', 'glance', 'glidepath', 'glm', 'glms', 'glob', 'global', 'globalization', 'globally', 'globe', 'glove', 'gloves', 'glucose', 'gm', 'gmmcb', 'gny', 'go', 'goal', 'goals', 'goes', 'going', 'gold', 'golden', 'good', 'gooders', 'goods', 'google', 'goose', 'got', 'gov', 'govern', 'governance', 'governing', 'government', 'governmental', 'governments', 'governors', 'gpa', 'gpl', 'gpu', 'grad', 'grade', 'grade057', 'gradient', 'grading', 'gradinternships', 'graduate', 'graduated', 'graduates', 'graduating', 'graduation', 'grainger', 'grandkids', 'grant', 'granted', 'grantmaking', 'grants', 'granular', 'granularity', 'grapeshot', 'graph', 'graphical', 'graphics', 'graphlab', 'graphql', 'graphs', 'grasp', 'grasps', 'grasshopper', 'gratitude', 'grease', 'great', 'greater', 'greatest', 'greatness', 'green', 'greenplum', 'greenville', 'grep', 'greylock', 'grid', 'grill', 'gritty', 'groceries', 'grocers', 'grocery', 'ground', 'groundbreaking', 'grounding', 'group', 'groupon', 'groups', 'grow', 'growing', 'grown', 'grows', 'growth', 'grubhub', 'gsd', 'gsv', 'guarantee', 'guaranteed', 'guessing', 'guest', 'guests', 'gui', 'guidance', 'guide', 'guided', 'guidelines', 'guides', 'guiding', 'gun', 'gurobi', 'guru', 'gut', 'gym', 'h1', 'h1b', 'h2o', 'habitat', 'hack', 'hackathons', 'hackday', 'hackers', 'had', 'hadoop', 'hairy', 'half', 'hall', 'hampshire', 'hana', 'hand', 'handicap', 'handle', 'handles', 'handling', 'hands', 'hanover', 'happen', 'happening', 'happens', 'happiness', 'happy', 'haptics', 'harassment', 'harbor', 'hard', 'harder', 'hardest', 'hardship', 'hardware', 'hardworking', 'harm', 'harmonization', 'harmonize', 'harmonizing', 'harness', 'harnessed', 'harnesses', 'harnessing', 'harry', 'harvard', 'harvest', 'has', 'hasn', 'hat', 'hats', 'haul', 'have', 'haven', 'haves', 'having', 'haystack', 'hbase', 'hcdagile', 'hcsc', 'hcss', 'hcv', 'hd', 'hdfs', 'he', 'head', 'header', 'headhunter', 'headphone', 'headquartered', 'headquarters', 'health', 'healthcare', 'healthier', 'healthtech', 'healthy', 'hear', 'heard', 'hearing', 'heart', 'heartfelt', 'heat', 'heavily', 'heavy', 'hedge', 'hedging', 'heights', 'held', 'helio', 'hello', 'help', 'helped', 'helpful', 'helping', 'helps', 'her', 'here', 'heritage', 'herndon', 'heroku', 'hesitate', 'heterogeneous', 'heuristic', 'heuristics', 'hewlett', 'hexagon', 'hi', 'hidden', 'hierarchical', 'high', 'higher', 'highest', 'highlight', 'highlighting', 'highlights', 'highly', 'hilarious', 'hill', 'hills', 'hindering', 'hinge', 'hire', 'hired', 'hires', 'hiring', 'hiroad', 'his', 'histograms', 'historians', 'historical', 'historically', 'histories', 'history', 'hit', 'hitachi', 'hiv', 'hive', 'hm', 'hmh', 'hmm', 'hobbies', 'hobbyists', 'hoc', 'hold', 'holder', 'holders', 'holding', 'holdings', 'holiday', 'holidays', 'holistic', 'hollywood', 'home', 'homeaway', 'homeland', 'homeowners', 'homes', 'homicide', 'honed', 'honest', 'honesty', 'honeywell', 'hong', 'honor', 'hood', 'hope', 'hopefully', 'horizons', 'horizontal', 'horizontally', 'horn', 'horsepower', 'hortonworks', 'hospital', 'hospitality', 'hospitals', 'host', 'hosted', 'hot', 'hotel', 'hotels', 'hotelscombined', 'hottest', 'hotwire', 'hour', 'houras', 'hourinternshipas', 'hourly', 'hourpart', 'hours', 'house', 'housed', 'household', 'housing', 'houston', 'how', 'however', 'hp', 'hpe', 'hq', 'hql', 'hr', 'hra', 'hrd53130', 'hris', 'hrs', 'hsa', 'html', 'http', 'https', 'hubs', 'huge', 'hugoton', 'human', 'humanities', 'humanity', 'humans', 'humble', 'humility', 'humint', 'humor', 'hundreds', 'hunger', 'hungriest', 'hunters', 'huobigroup', 'hurdles', 'hustle', 'hybrid', 'hygiene', 'hype', 'hyper', 'hyperparameter', 'hypotheses', 'hypothesis', 'i4', 'iac', 'iba', 'ibm', 'ic', 'icare', 'ice', 'iche', 'icml', 'iconic', 'ict', 'id', 'idea', 'ideal', 'ideally', 'ideals', 'ideas', 'ideate', 'ideating', 'ideation', 'identification', 'identified', 'identifies', 'identify', 'identifying', 'identities', 'identity', 'ideo', 'idf', 'ie', 'if', 'ig', 'ight', 'ights', 'ignite', 'ii', 'iii', 'iiot', 'il', 'il150sw', 'illegal', 'illicit', 'illinois', 'illness', 'illustrate', 'illustrated', 'ilog', 'image', 'imageright', 'imagery', 'images', 'imaginable', 'imagine', 'imaging', 'imbedded', 'imble', 'imit', 'immediate', 'immediately', 'immense', 'immersed', 'immerses', 'immigrants', 'immigration', 'immunization', 'impact', 'impactful', 'impacting', 'impacts', 'impala', 'impeccable', 'imperfect', 'implement', 'implementable', 'implementation', 'implementations', 'implemented', 'implementing', 'implements', 'implications', 'implicitly', 'import', 'importance', 'important', 'importantly', 'imported', 'impossible', 'impressions', 'impressive', 'improper', 'improve', 'improved', 'improvement', 'improvements', 'improves', 'improving', 'imputations', 'in', 'inaccuracies', 'inaccuracy', 'inbox', 'inc', 'inca', 'incarcerated', 'incentive', 'incentives', 'inception', 'incident', 'incidents', 'inclination', 'include', 'included', 'includes', 'including', 'inclusion', 'inclusive', 'income', 'incoming', 'incomplete', 'inconsistencies', 'inconsistent', 'inconsistently', 'incorporate', 'incorporating', 'increase', 'increased', 'increases', 'increasing', 'increasingly', 'incredible', 'incredibly', 'incremental', 'incrementality', 'incrementally', 'incubate', 'incumbent', 'incumbents', 'indemnification', 'independence', 'independent', 'independently', 'index', 'indexed', 'india', 'indicates', 'indications', 'indicators', 'indices', 'indicia', 'individual', 'individuality', 'individualized', 'individually', 'individuals', 'inductive', 'industrial', 'industrialization', 'industrialize', 'industries', 'industry', 'ine', 'inefficient', 'inextricably', 'infancy', 'infectious', 'infer', 'inference', 'inferences', 'inferential', 'inferred', 'infinitely', 'influence', 'influenced', 'influencer', 'influences', 'influencing', 'influential', 'influx', 'infoemd', 'inform', 'informally', 'informaticians', 'informatics', 'information', 'informative', 'informed', 'informing', 'informs', 'infosys', 'infra', 'infrastructure', 'infrastructures', 'infuse', 'infusing', 'ingenuity', 'ingest', 'ingested', 'ingesting', 'ingestion', 'ingredients', 'inherent', 'inhibit', 'initial', 'initialized', 'initiate', 'initiated', 'initiates', 'initiation', 'initiative', 'initiatives', 'initiativesappropriately', 'initiativesassess', 'initiativesassist', 'initiativesguide', 'initiativewe', 'inja', 'injury', 'inn', 'innate', 'inner', 'innovate', 'innovating', 'innovation', 'innovations', 'innovative', 'innovatively', 'innovator', 'innovators', 'input', 'inputs', 'inquired', 'inquiries', 'inquiry', 'inquisitive', 'ins', 'insatiable', 'insatiably', 'inscape', 'inside', 'insider', 'insight', 'insightful', 'insights', 'inspect', 'inspection', 'inspiration', 'inspirational', 'inspire', 'inspired', 'inspires', 'inspiring', 'instabilities', 'instagram', 'instance', 'instances', 'instantly', 'instead', 'instinct', 'instincts', 'institute', 'institutes', 'institution', 'institutional', 'institutions', 'instructions', 'instructor', 'instructors', 'instrument', 'instrumental', 'instrumentation', 'insurance', 'insuranceflexible', 'insurer', 'insures', 'insurtech', 'intacct', 'integer', 'integral', 'integrate', 'integrated', 'integrates', 'integrating', 'integration', 'integrations', 'integrator', 'integrators', 'integrity', 'intel', 'intellect', 'intellectual', 'intellectually', 'intelligence', 'intelligent', 'intelligently', 'intelligrated', 'intended', 'intensely', 'intensive', 'intent', 'intention', 'intentionally', 'intentions', 'intently', 'inter', 'interact', 'interacting', 'interaction', 'interactions', 'interactive', 'interacts', 'interdisciplinary', 'interest', 'interested', 'interesting', 'interests', 'interface', 'interfaces', 'interfacing', 'interference', 'interim', 'interleaving', 'interlinked', 'intermedia', 'intermediate', 'intern', 'internal', 'internally', 'international', 'internationally', 'internet', 'interns', 'internship', 'internshipabout', 'internshipat', 'internshipbmw', 'internshipc3', 'internshipdata', 'internshipdescription', 'internshipgreater', 'internshipit', 'internshipjob', 'internshipmongodb', 'internshipour', 'internshipoverview', 'internshipposition', 'internshipresponsibilities', 'internshiprifiniti', 'internships', 'internshipsummary', 'internshipthe', 'internshipwe', 'internshipwhat', 'internshipwho', 'internshipwith', 'interoperably', 'interpersonal', 'interpret', 'interpretable', 'interpretation', 'interpreted', 'interpreting', 'interpretive', 'interprets', 'interrogate', 'interruptions', 'intersecting', 'intersection', 'intervals', 'intervention', 'interventions', 'interview', 'interviewing', 'interviews', 'intimate', 'into', 'intramural', 'intricacies', 'intricate', 'intricately', 'intrinsic', 'introduce', 'introduction', 'introductions', 'introspection', 'intuition', 'intuitive', 'intuitively', 'invaluable', 'invent', 'invention', 'inventions', 'inventive', 'inventors', 'inventory', 'invents', 'invest', 'invested', 'investigate', 'investigated', 'investigates', 'investigating', 'investigation', 'investigations', 'investigative', 'investigator', 'investigators', 'investing', 'investment', 'investments', 'investors', 'invests', 'invitae', 'invite', 'invited', 'involve', 'involved', 'involvement', 'involves', 'involving', 'io', 'ios', 'iot', 'iowa', 'ip', 'ipad', 'ipdp', 'ipo', 'ipython', 'ironpython', 'irregular', 'irs', 'irvine', 'is', 'ish', 'isn', 'isolate', 'issue', 'issued', 'issues', 'issuesgather', 'iswc', 'it', 'itd', 'items', 'iterate', 'iteratenoting', 'iterates', 'iterating', 'iteration', 'iterative', 'iteratively', 'its', 'itself', 'itty', 'itunes', 'iv', 'j0319', 'janitorial', 'january', 'japan', 'java', 'javaextremely', 'javascript', 'jcp', 'jcpenney', 'jdpac', 'jenkins', 'jersey', 'jessica', 'jet', 'jhujobs', 'jira', 'jl3', 'jmp', 'job', 'jobs', 'johnson', 'join', 'joined', 'joining', 'joins', 'joint', 'jones', 'jornaya', 'jose', 'journal', 'journalism', 'journals', 'journey', 'journeys', 'joy', 'jr', 'jreview', 'jrf', 'js', 'json', 'jsp', 'juan', 'judgement', 'judgment', 'juggle', 'juggling', 'julia', 'jump', 'jumping', 'junction', 'june', 'junior', 'junk', 'jupiter', 'jupyter', 'just', 'justice', 'justify', 'juxtaposition', 'jvm', 'jyve', 'jyver', 'jyvers', 'kaban', 'kafka', 'kaggle', 'kagr', 'kai', 'kanban', 'kansas', 'kayak', 'kbr', 'kbrwyle', 'kdd', 'keen', 'keep', 'keeping', 'keeps', 'kegerator', 'kennedy', 'kentucky', 'kenworth', 'kept', 'keras', 'kernel', 'kernels', 'key', 'keyboard', 'keyboarding', 'keynote', 'keysight', 'keyword', 'kibana', 'kid', 'kids', 'kind', 'kindly', 'kinds', 'kinesis', 'king', 'kingdom', 'kitchen', 'kitchens', 'kits', 'kleiner', 'kmeans', 'knack', 'kneel', 'knight', 'knime', 'knit', 'knn', 'knock', 'know', 'knowing', 'knowledge', 'knowledgeable', 'known', 'knows', 'kong', 'kosmix', 'kpi', 'kpis', 'kpisexperience', 'kpit', 'kraft', 'kraken', 'krakenites', 'ksa', 'kubernetes', 'kxen', 'kyosei', 'la', 'lab', 'labor', 'laboratory', 'labs', 'lack', 'lactation', 'ladders', 'lake', 'lakes', 'land', 'landfills', 'landing', 'landscape', 'landscapes', 'language', 'languages', 'languagesexperience', 'languagesknowledge', 'lapack', 'laptop', 'laptops', 'large', 'largely', 'larger', 'largest', 'lark', 'laser', 'last', 'lasting', 'lastminute', 'late', 'latent', 'later', 'lateral', 'latest', 'latex', 'latin', 'latitude', 'latter', 'launch', 'launched', 'launches', 'launching', 'laundering', 'lavender', 'lavish', 'law', 'lawful', 'lawrence', 'laws', 'lawyers', 'lay', 'layer', 'layers', 'layman', 'laymen', 'layoff', 'layout', 'layperson', 'lda', 'le', 'lead', 'leadblog', 'leader', 'leaders', 'leadership', 'leadersinvestigating', 'leadersown', 'leading', 'leads', 'leagues', 'leakage', 'lean', 'leap', 'leapros', 'learn', 'learned', 'learner', 'learners', 'learning', 'learninganalysis', 'learningat', 'learningcontributions', 'learnings', 'learns', 'leased', 'leasing', 'least', 'leave', 'leaves', 'led', 'ledger', 'leed', 'left', 'legacy', 'legal', 'legally', 'legislative', 'lend', 'lending', 'lendingtree', 'lends', 'length', 'lens', 'lerning', 'lesbian', 'less', 'lesser', 'let', 'letter', 'letters', 'lev', 'level', 'level1', 'levels', 'levelup', 'lever', 'leverage', 'leveraged', 'leverages', 'leveraging', 'levers', 'lexington', 'lexisnexis', 'lexisnexisrisk', 'lgbtq', 'li', 'liabilities', 'liaise', 'liaison', 'liberates', 'libraries', 'librariesat', 'library', 'libsvm', 'license', 'licensed', 'licenses', 'lidar', 'lie', 'lies', 'lieu', 'life', 'lifecycle', 'lifelong', 'lifestyle', 'lifestyles', 'lifetime', 'lift', 'light', 'lightgbm', 'lighthouse', 'like', 'likelihood', 'likely', 'likes', 'limit', 'limitations', 'limited', 'limiting', 'limits', 'lincoln', 'line', 'linear', 'lineexperience', 'lines', 'linesquantitative', 'lingpipe', 'lingua', 'linguistic', 'linguistics', 'lining', 'link', 'linkage', 'linked', 'linkedin', 'linking', 'links', 'linting', 'linux', 'list', 'listed', 'listen', 'listeners', 'listening', 'listing', 'listings', 'lists', 'lit', 'literature', 'little', 'littleton', 'live', 'lived', 'livereach', 'livereachmedia', 'lives', 'liveswe', 'living', 'll', 'llc', 'lmi', 'load', 'loading', 'loan', 'loans', 'local', 'locally', 'locals', 'locate', 'located', 'locates', 'location', 'locations', 'locationus', 'locationusa', 'lodging', 'log', 'logging', 'logic', 'logic20', 'logic2020', 'logical', 'logistic', 'logistical', 'logistics', 'logit', 'logs', 'logstash', 'london', 'lone', 'long', 'longer', 'longitudinal', 'longtime', 'longwood', 'look', 'looker', 'looking', 'lookout', 'looks', 'loop', 'loosely', 'los', 'loss', 'lot', 'lots', 'lottery', 'lotterycareers', 'louder', 'louis', 'love', 'loved', 'loveland', 'loves', 'low', 'lower', 'lowering', 'lowest', 'loyal', 'loyalty', 'lrm', 'lrs', 'ls1', 'lsa', 'lsh', 'lsi', 'lstm', 'lte', 'ltk', 'ltv', 'lucene', 'luigi', 'lunch', 'lunches', 'luxury', 'lyft', 'm12', 'm4', 'ma', 'mac', 'macbook', 'machine', 'machines', 'macro', 'macroeconomic', 'macroeconomics', 'made', 'magazine', 'magic', 'magical', 'mahalanobis', 'mail', 'mailbox', 'main', 'mainstream', 'maintain', 'maintainability', 'maintainable', 'maintained', 'maintaining', 'maintains', 'maintenance', 'major', 'majoring', 'majority', 'make', 'makers', 'makes', 'making', 'malicious', 'mallet', 'malvern', 'malware', 'manage', 'manageable', 'managed', 'management', 'managemento', 'manager', 'managers', 'manages', 'managing', 'manahj', 'mandate', 'mandatory', 'manger', 'manhattan', 'manipulate', 'manipulates', 'manipulating', 'manipulation', 'manner', 'manual', 'manually', 'manuals', 'manufacture', 'manufacturer', 'manufacturers', 'manufactures', 'manufacturing', 'many', 'map', 'mapmyfitness', 'mapping', 'mapr', 'mapreduce', 'maps', 'mar', 'marathon', 'marathons', 'march', 'marcoline', 'marginalized', 'marian', 'marital', 'maritime', 'mark', 'market', 'marketable', 'marketers', 'marketing', 'marketo', 'marketplace', 'marketplaces', 'markets', 'markov', 'marks', 'marry', 'maryland', 'marzocco', 'mason', 'mass', 'massachusetts', 'massage', 'massages', 'massaging', 'massive', 'massively', 'massmutual', 'master', 'mastered', 'masters', 'mastery', 'match', 'matched', 'matches', 'matching', 'mateo', 'material', 'materials', 'maternity', 'math', 'mathematica', 'mathematical', 'mathematician', 'mathematicians', 'mathematics', 'matlab', 'matlabexpertise', 'matplotlib', 'matrix', 'matrixed', 'matter', 'matters', 'mature', 'maturity', 'maxar', 'maxent', 'maximization', 'maximize', 'maximizing', 'maximum', 'may', 'maybe', 'mayors', 'mba', 'mckesson', 'mclean', 'mcmc', 'md', 'me', 'meal', 'meals', 'mean', 'meaning', 'meaningful', 'meaningfully', 'means', 'meant', 'measurable', 'measure', 'measured', 'measurement', 'measurements', 'measures', 'measuring', 'mechanical', 'mechanics', 'mechanism', 'mechanisms', 'media', 'mediation', 'medical', 'medically', 'medication', 'medicine', 'medidata', 'medium', 'meet', 'meeting', 'meetings', 'meets', 'member', 'members', 'membership', 'membersmodeling', 'memorable', 'memos', 'men', 'menlo', 'mental', 'mentality', 'mention', 'mentioned', 'mentions', 'mentor', 'mentoring', 'mentors', 'mentorship', 'mentorships', 'menus', 'merch', 'merchandise', 'merchandisers', 'merchandising', 'merchants', 'merge', 'merit', 'meritocracy', 'merits', 'mertado', 'mesa', 'mesos', 'message', 'messages', 'messaging', 'messenger', 'messy', 'met', 'meta', 'metabiota', 'metadata', 'metagenome', 'metagenomic', 'metagenomics', 'metasearch', 'metered', 'method', 'methodical', 'methodically', 'methodist', 'methodolgies', 'methodological', 'methodologically', 'methodologies', 'methodology', 'methods', 'methodsexpertise', 'meticulous', 'metis', 'metric', 'metrics', 'metricsinnovate', 'metro', 'metropolitan', 'mexican', 'mexico', 'mfc', 'mgnt', 'mi', 'miachine', 'michael', 'michigan', 'micro', 'microbial', 'microbiology', 'microbiologyexperience', 'microbiome', 'microservices', 'microsoft', 'microstrategy', 'mid', 'middleware', 'midsize', 'might', 'migrate', 'migrating', 'migration', 'miguelhelft', 'mile', 'military', 'militaryfriendly', 'million', 'millions', 'milpitas', 'mimics', 'min', 'mind', 'minded', 'mindful', 'minds', 'mindset', 'mindsetcustomer', 'mindsets', 'mine', 'miner', 'mines', 'mini', 'minimal', 'minimize', 'minimizes', 'minimum', 'mining', 'miningprogramming', 'minitab', 'minorities', 'minority', 'mintel', 'minute', 'minutes', 'mis', 'misinterpretation', 'miss', 'missed', 'missing', 'mission', 'missions', 'mistake', 'mistakes', 'mitigate', 'mitigating', 'mitigation', 'mix', 'mixed', 'mixes', 'mixture', 'ml', 'mllib', 'mlops', 'mo', 'moat', 'mobile', 'mobility', 'mockups', 'modalities', 'modality', 'mode', 'modeanalytics', 'model', 'modeler', 'modelers', 'modeling', 'modelingmachine', 'modelled', 'modelling', 'models', 'modelscreating', 'modelsexcellent', 'modelsknowledge', 'modelswindows', 'moderate', 'moderately', 'moderation', 'modern', 'modernize', 'modernized', 'modernizing', 'modifications', 'modified', 'modifies', 'modify', 'modifying', 'module', 'modules', 'modus', 'moment', 'moments', 'momentum', 'momondo', 'mon18', 'monday', 'monetization', 'money', 'mongodb', 'monitor', 'monitoring', 'monitors', 'monpost', 'montana', 'monte', 'montgomery', 'month', 'monthcontractunder', 'monthly', 'months', 'moocs', 'moose', 'more', 'morgan', 'morrisville', 'mortar', 'mortgage', 'moses', 'most', 'mostly', 'mothers', 'motiion', 'motion', 'motionx', 'motivate', 'motivated', 'motivates', 'motivation', 'motivator', 'motive', 'motor', 'motors', 'mountain', 'mouse', 'movado', 'move', 'moved', 'movement', 'moves', 'movie', 'movies', 'moving', 'mpc', 'mpp', 'mri', 'mro', 'ms', 'ms1', 'msc', 'msim', 'msja', 'msn', 'mssql', 'mt', 'mtv', 'much', 'mukamel', 'multi', 'multicultural', 'multidisciplinary', 'multimodal', 'multinomial', 'multiple', 'multiplier', 'multisite', 'multitask', 'multivariable', 'multivariate', 'munch', 'mundi', 'munging', 'muni', 'municipal', 'musculoskeletal', 'music', 'must', 'mutual', 'mutually', 'mv1', 'mxnet', 'my', 'myfitnesspal', 'mysql', 'mysqlexperience', 'na', 'naacl', 'nai', 'naive', 'nalco', 'name', 'napco', 'nasa', 'nasdaq', 'nashua', 'nation', 'national', 'nations', 'nationwide', 'native', 'natural', 'nature', 'nauto', 'nauvera', 'navair', 'navigation', 'nba', 'nbc', 'nc', 'nc3', 'ncaa', 'ncr', 'ne', 'nea', 'near', 'nearest', 'nebraska', 'necessary', 'need', 'neighbor', 'neo4j', 'nerds', 'net', 'netapp', 'netflix', 'network', 'networked', 'networking', 'networks', 'networksimplementing', 'neuberger', 'neural', 'nevada', 'new', 'newmark', 'newport', 'newshour', 'newwave', 'next', 'nextdoor', 'nexus', 'nfl', 'nfosys', 'nfs', 'nga', 'ngos', 'ngs', 'nhl', 'nice', 'nike', 'nine', 'nips', 'nist', 'nittany', 'nj', 'nlp', 'nltk', 'nlu', 'nmf', 'nn', 'no', 'node', 'nodejs', 'noise', 'nomis', 'non', 'none', 'normal', 'north', 'northeast', 'northern', 'northwest', 'nosql', 'not', 'notable', 'note', 'notebook', 'notebooks', 'notes', 'notice', 'notices', 'notification', 'notifications', 'november', 'novi', 'now', 'nps', 'nuclear', 'null', 'number', 'numpy', 'nurses', 'nurture', 'nutanix', 'nvidia', 'ny', 'nyc', 'nyse', 'obama', 'object', 'objective', 'objectively', 'objectives', 'objects', 'obligated', 'obscured', 'observation', 'observational', 'observer', 'observes', 'obsess', 'obsessed', 'obsession', 'obstacle', 'obstacles', 'obtain', 'obtained', 'obtaining', 'occasion', 'occasionally', 'occasions', 'occupation', 'occupational', 'occur', 'occurred', 'occurs', 'ocean', 'ocr', 'odc', 'odds', 'odors', 'oem', 'of', 'ofccp', 'off', 'offense', 'offer', 'offered', 'offering', 'offerings', 'offers', 'office', 'officer', 'officers', 'offices', 'officials', 'offline', 'offs', 'offshore', 'often', 'oh', 'ohio', 'oil', 'oise', 'oisy', 'oklahoma', 'old', 'oldest', 'olympic', 'olympics', 'omaha', 'omd', 'omg', 'omphalos', 'on', 'onboard', 'onboarding', 'once', 'onconforming', 'ondiscrimination', 'one', 'ones', 'onfatal', 'ongoing', 'online', 'onlineaccommodations', 'onlineapply', 'onlinear', 'onlookers', 'only', 'onprofit', 'onprofits', 'onshore', 'onsite', 'ontechnical', 'onto', 'ontologies', 'ontology', 'onwatch', 'oop', 'oozie', 'op', 'open', 'opening', 'openings', 'openly', 'openlyfearless', 'openness', 'opennlp', 'openshift', 'opentable', 'openx', 'operandi', 'operate', 'operates', 'operating', 'operation', 'operational', 'operationalization', 'operationalize', 'operationalized', 'operationalizing', 'operations', 'operators', 'opinion', 'opinions', 'opl', 'opportunities', 'opportunity', 'opposing', 'ops', 'optimal', 'optimise', 'optimised', 'optimism', 'optimistic', 'optimization', 'optimizations', 'optimize', 'optimized', 'optimizers', 'optimizes', 'optimizing', 'option', 'optional', 'options', 'or', 'oracle', 'oral', 'orally', 'orbitz', 'orchestra', 'orchestrate', 'orchestrated', 'orcle', 'order', 'ordering', 'orders', 'ordinance', 'ordinances', 'oregon', 'oregonlottery', 'org', 'organisation', 'organising', 'organization', 'organizational', 'organizationally', 'organizationoutstanding', 'organizations', 'organize', 'organized', 'organizers', 'organizes', 'organizing', 'orientation', 'orientationability', 'oriented', 'origin', 'original', 'originate', 'originating', 'orlando', 'orm', 'ormal', 'ormalising', 'ormalization', 'ormally', 'orms', 'ors', 'os', 'osmo', 'osql', 'oswego', 'osx', 'ot', 'otch', 'ote', 'otebooks', 'otes', 'other', 'otherabout', 'otherdue', 'others', 'otherwise', 'othing', 'otice', 'otification', 'otifications', 'otify', 'our', 'ours', 'ourselves', 'out', 'outcome', 'outcomes', 'outdoors', 'outings', 'outlast', 'outlets', 'outlier', 'outliers', 'outline', 'outlined', 'outlining', 'outlook', 'outnumber', 'outof', 'outperform', 'output', 'outputs', 'outreach', 'outside', 'outsized', 'outsourcing', 'outstanding', 'outward', 'outwardinc', 'ovel', 'over', 'overall', 'overcome', 'overhead', 'overlooking', 'overlooks', 'oversee', 'overseeing', 'oversight', 'overview', 'overwhelmed', 'ow', 'owl', 'own', 'owned', 'owner', 'owners', 'ownership', 'owning', 'owns', 'pa', 'paccar', 'pace', 'paced', 'pacific', 'pack', 'package', 'packages', 'packaging', 'packard', 'packs', 'page', 'pages', 'pageviews', 'paid', 'pain', 'painful', 'pains', 'paint', 'pair', 'paired', 'pairing', 'pal', 'palantir', 'palo', 'paloaltonetworks', 'pandas', 'panel', 'panoramic', 'paper', 'papers', 'paradigm', 'parallel', 'parallels', 'paralympic', 'parameter', 'parameters', 'parametersdirectly', 'parametric', 'paramount', 'parent', 'parental', 'parents', 'pareto', 'paris', 'park', 'parking', 'parks', 'parse', 'parsing', 'part', 'participant', 'participants', 'participate', 'participates', 'participating', 'participation', 'particular', 'particularly', 'parties', 'partitioning', 'partly', 'partner', 'partnered', 'partnering', 'partners', 'partnership', 'partnershipphd', 'partnerships', 'parts', 'party', 'pass', 'passed', 'passes', 'passing', 'passion', 'passionate', 'passions', 'passport', 'past', 'patent', 'patented', 'patents', 'paternity', 'path', 'paths', 'patience', 'patient', 'patients', 'pattern', 'patterns', 'paving', 'pay', 'payable', 'payback', 'paycompetitive', 'paying', 'payment', 'payments', 'payors', 'paypal', 'pays', 'pbms', 'pbs', 'pc', 'pca', 'pdf', 'pdfdescribes', 'pearl', 'peel', 'peer', 'peers', 'peership', 'penn', 'penney', 'pennsylvania', 'pension', 'people', 'pepsi', 'pepsico', 'per', 'perceived', 'percent', 'perception', 'perceptually', 'perfect', 'perfection', 'perfectly', 'perform', 'performance', 'performances', 'performant', 'performed', 'performing', 'performs', 'perhaps', 'period', 'periodcross', 'periodic', 'periodically', 'periods', 'peripheral', 'periscope', 'perk', 'perkins', 'perks', 'perl', 'permanent', 'permeates', 'permitted', 'perpetration', 'perpetrator', 'perpetrators', 'pers', 'persistence', 'person', 'personable', 'personal', 'personality', 'personalization', 'personalize', 'personalized', 'personalizing', 'personally', 'personas', 'personify', 'personnel', 'persons', 'perspecta', 'perspective', 'perspectives', 'persuasion', 'persuasive', 'persuasively', 'pertaining', 'pertains', 'pertinent', 'pet', 'petabyte', 'petabytes', 'peterbilt', 'petroleum', 'petrophysicist', 'ph', 'pharma', 'pharmaceutical', 'pharmaceuticals', 'pharmacology', 'pharmacy', 'phase', 'phases', 'phd', 'phdat', 'phds', 'phenomena', 'phenomenal', 'philadelphia', 'philanthropy', 'philosophy', 'phishing', 'phoenix', 'phone', 'phones', 'photo', 'photos', 'php', 'phylogenetics', 'physical', 'physician', 'physicians', 'physics', 'physiological', 'physiology', 'pick', 'pickup', 'picture', 'pictures', 'piece', 'pieces', 'pig', 'pillar', 'pilot', 'piloting', 'pilots', 'pimco', 'ping', 'pinpoint', 'pinterest', 'pioneer', 'pioneered', 'pioneering', 'pipe', 'pipeline', 'pipelines', 'piracy', 'pitfalls', 'pittsford', 'pivot', 'pivotal', 'pivoted', 'pixel', 'pixels', 'pl', 'place', 'placed', 'placement', 'placements', 'places', 'placing', 'plan', 'planet', 'planners', 'planning', 'plano', 'plans', 'plant', 'plants', 'platform', 'platforms', 'platts', 'play', 'playbooks', 'player', 'playful', 'playground', 'playing', 'plays', 'playstation', 'plc', 'pleasant', 'pleasanton', 'please', 'pleased', 'pledge', 'plenty', 'plot', 'plotly', 'plots', 'ploty', 'plug', 'plumber', 'plus', 'plusexperience', 'plusses', 'pm', 'pm18', 'poc', 'pockets', 'pocs', 'point', 'points', 'poised', 'police', 'policies', 'policy', 'policyeasy', 'policymakers', 'polished', 'political', 'politics', 'pollution', 'poly', 'polygraph', 'pong', 'pool', 'pools', 'poor', 'pop', 'popcorn', 'popular', 'population', 'populations', 'pores', 'port', 'portal', 'portfolio', 'portfolios', 'portions', 'portland', 'pos', 'pose', 'posing', 'position', 'positional', 'positioned', 'positioning', 'positions', 'positive', 'positively', 'positives', 'possess', 'possesses', 'possession', 'possibilities', 'possibility', 'possible', 'possibly', 'post', 'posted', 'poster', 'posters', 'postgraduate', 'postgres', 'postgresql', 'postgress', 'postgressql', 'posting', 'postings', 'posts', 'posture', 'potential', 'potentially', 'pounds', 'power', 'powerbi', 'powered', 'powerful', 'powering', 'powerpivot', 'powerpoint', 'powers', 'ppc', 'ppt', 'pr', 'pra', 'practical', 'practicality', 'practically', 'practice', 'practices', 'practicing', 'practitioner', 'practitioners', 'pragmatic', 'pragmatically', 'pre', 'prebuilt', 'precise', 'precisely', 'precision', 'predict', 'predictability', 'predicted', 'predicting', 'prediction', 'predictions', 'predictive', 'prefer', 'preferable', 'preferably', 'prefered', 'preference', 'preferences', 'preferred', 'pregnancy', 'preliminary', 'prem', 'premier', 'premises', 'premium', 'premiums', 'prep', 'preparation', 'preparations', 'prepare', 'prepared', 'prepares', 'preparing', 'preprints', 'preprocess', 'preprocessing', 'presales', 'preschool', 'prescient', 'prescientedge', 'prescreens', 'prescribe', 'prescribed', 'prescription', 'prescriptive', 'presence', 'present', 'presentation', 'presentational', 'presentations', 'presented', 'presenting', 'presents', 'press', 'pressing', 'pressure', 'prestige', 'presto', 'pretty', 'prevent', 'preventing', 'prevention', 'previous', 'previously', 'price', 'prices', 'pricing', 'pride', 'prides', 'primarily', 'primary', 'prime', 'primed', 'principal', 'principals', 'principle', 'principles', 'print', 'printers', 'prior', 'priori', 'priorities', 'prioritise', 'prioritization', 'prioritize', 'prioritizing', 'priority', 'priscilla', 'privacy', 'private', 'privately', 'pro', 'proactive', 'proactively', 'probabilistic', 'probabilities', 'probability', 'probable', 'probably', 'probationary', 'probes', 'problem', 'problems', 'problemsimprove', 'problemsms', 'problemsunderstand', 'procedure', 'procedures', 'proceed', 'proceeding', 'process', 'processed', 'processes', 'processing', 'processingpattern', 'procurement', 'produce', 'produced', 'producers', 'produces', 'producing', 'product', 'production', 'productionize', 'productionized', 'productionizing', 'productive', 'productively', 'productivity', 'productize', 'products', 'productsexperience', 'prof', 'profession', 'professional', 'professionalism', 'professionally', 'professionals', 'professors', 'proficiency', 'proficient', 'proficiently', 'profile', 'profiles', 'profiling', 'profit', 'profitability', 'profitable', 'profitably', 'profits', 'program', 'programing', 'programmatic', 'programmer', 'programmers', 'programming', 'programs', 'programspecific', 'progress', 'progresses', 'progressing', 'progression', 'progressive', 'progressively', 'prohibited', 'prohibits', 'project', 'projected', 'projection', 'projections', 'projectmanager', 'projectors', 'projects', 'prolonged', 'promise', 'promises', 'promising', 'promote', 'promotes', 'promoting', 'promotion', 'promotional', 'promotions', 'prompt', 'prone', 'proof', 'proofpoint', 'proofs', 'propelled', 'propensity', 'proper', 'properly', 'properties', 'property', 'proposal', 'proposals', 'propose', 'proposed', 'proposes', 'proposing', 'proposition', 'propositions', 'proprietary', 'propriety', 'propulsion', 'prospect', 'prospecting', 'prospective', 'prospects', 'prosper', 'protect', 'protected', 'protecting', 'protection', 'protections', 'proteins', 'protocol', 'protocols', 'prototype', 'prototypes', 'prototyping', 'proud', 'proudly', 'prove', 'proven', 'provide', 'provided', 'provider', 'providers', 'provides', 'providing', 'proving', 'prowess', 'proximity', 'psu', 'psychiatry', 'psychological', 'psychology', 'pto', 'public', 'publication', 'publications', 'publicly', 'publish', 'published', 'publishers', 'publishing', 'pubmed', 'puerto', 'pull', 'pulled', 'pulling', 'pulls', 'pulse', 'punctuality', 'purchase', 'purchased', 'purchases', 'purchasing', 'pure', 'purely', 'purpose', 'purposes', 'pursing', 'pursuant', 'pursue', 'pursues', 'pursuing', 'pursuit', 'pursuits', 'push', 'pushed', 'pushes', 'pushing', 'put', 'puts', 'putting', 'puzzle', 'pwerpoint', 'pymc3', 'pyplot', 'pyspark', 'python', 'pythoninfosys', 'pythonmaster', 'pythonsignificant', 'pythonstronger', 'pytorch', 'qa', 'qc', 'qlik', 'qliksense', 'qlikview', 'qm', 'quadrant', 'quadruple', 'quaificaition', 'qualification', 'qualifications', 'qualificationsbasic', 'qualified', 'qualify', 'qualifying', 'qualitative', 'qualities', 'quality', 'qualityconducting', 'qualityefficiently', 'quant', 'quantatative', 'quantifiable', 'quantifind', 'quantify', 'quantifying', 'quantitate', 'quantitative', 'quantitatively', 'quantities', 'quantity', 'quarter', 'quarterly', 'quasi', 'qubole', 'queries', 'query', 'querying', 'quest', 'question', 'questions', 'queues', 'queuing', 'quick', 'quickly', 'quintuple', 'quite', 'quo', 'qxbranch', 'race', 'radiant', 'radical', 'radically', 'rails', 'raise', 'raised', 'raises', 'raleigh', 'rallies', 'ram', 'ramp', 'ramping', 'random', 'range', 'ranges', 'ranging', 'rank', 'ranked', 'ranking', 'ranks', 'ransomware', 'rapid', 'rapidly', 'rapidminer', 'rapport', 'rare', 'rarely', 'rate', 'rated', 'raters', 'rates', 'rather', 'ratings', 'rationalize', 'ratios', 'raton', 'rave', 'raw', 'rays', 'rd', 'rdbms', 'rdbs', 'rdf', 'rds', 're', 'reach', 'react', 'reactively', 'read', 'readability', 'readable', 'readily', 'readiness', 'reading', 'reads', 'ready', 'real', 'realistic', 'reality', 'realization', 'realize', 'realized', 'realizing', 'really', 'realm', 'reason', 'reasonable', 'reasonably', 'reasoned', 'reasoning', 'reasons', 'rebuild', 'recalibrate', 'recalibrating', 'recall', 'receive', 'received', 'recent', 'recently', 'recharge', 'recognition', 'recognizable', 'recognize', 'recognized', 'recognizes', 'recognizing', 'recommend', 'recommendation', 'recommendations', 'recommendationstake', 'recommended', 'recommender', 'recommending', 'recommends', 'reconnaissance', 'record', 'records', 'recoveries', 'recovery', 'recruit', 'recruiter', 'recruiters', 'recruiting', 'recruitment', 'recurrent', 'recycling', 'red', 'redefine', 'redefining', 'redis', 'redjack', 'redmond', 'redshift', 'redtoo', 'reduce', 'reducing', 'reduction', 'reductions', 'redux', 'redwood', 'ref', 'refactoring', 'refereed', 'reference', 'referenced', 'references', 'referral', 'referrals', 'referred', 'refine', 'refinement', 'refiner', 'refineries', 'refining', 'reflect', 'reflected', 'reflection', 'reflects', 'reforming', 'reframe', 'refresh', 'refusing', 'regard', 'regarding', 'regardless', 'regards', 'regence', 'region', 'regional', 'regions', 'registered', 'registrations', 'registries', 'registry', 'regression', 'regressions', 'regs', 'regular', 'regularization', 'regularly', 'regulation', 'regulations', 'regulatory', 'rei', 'reign', 'reimagine', 'reimagining', 'reimbursed', 'reimbursement', 'reimbursements', 'reinforcement', 'reinforces', 'reinforcing', 'reinsurance', 'reinvent', 'reinvented', 'reinventing', 'relate', 'related', 'relates', 'relating', 'relation', 'relational', 'relations', 'relationship', 'relationships', 'relative', 'relatively', 'relax', 'relaxed', 'release', 'released', 'releases', 'relentless', 'relentlessly', 'relevance', 'relevant', 'reliability', 'reliable', 'reliably', 'reliance', 'reliant', 'reliantly', 'religion', 'religious', 'relish', 'relishes', 'relocate', 'relocated', 'relocating', 'relocation', 'relx', 'rely', 'remain', 'remaining', 'remains', 'remarkable', 'remediate', 'remediation', 'remember', 'remind', 'reminder', 'reminders', 'remodeling', 'remote', 'remotely', 'remove', 'removed', 'render', 'rendering', 'renewable', 'renewal', 'rental', 'rentals', 'renton', 'reolve', 'reonomy', 'repair', 'repeat', 'repeatability', 'repeatable', 'repeating', 'replace', 'repo', 'report', 'reported', 'reporter', 'reporting', 'reportingearn', 'reports', 'repositories', 'repository', 'represent', 'representation', 'representations', 'representative', 'representativeness', 'representatives', 'representing', 'represents', 'reproducibility', 'reproducible', 'reproducibly', 'repurchase', 'reputation', 'reputations', 'req', 'req181151', 'req6316', 'reqid', 'request', 'requested', 'requesting', 'requests', 'require', 'required', 'requireddevelop', 'requirement', 'requirements', 'requirementssql', 'requires', 'requiring', 'requisite', 'requisition', 'requisitions', 'research', 'researchbuilding', 'researcher', 'researchers', 'researches', 'researching', 'resembles', 'reserve', 'reserved', 'reserves', 'reserving', 'reservoir', 'reservoirs', 'reset', 'residency', 'resident', 'residential', 'residents', 'resides', 'residing', 'resilience', 'resilient', 'resnets', 'resolution', 'resolutions', 'resolve', 'resolving', 'resonates', 'resort', 'resorts', 'resource', 'resourceful', 'resources', 'resourcing', 'respect', 'respected', 'respectful', 'respecting', 'respective', 'respectively', 'respond', 'responded', 'responders', 'response', 'responses', 'responsib', 'responsibilities', 'responsibilitiesdevelop', 'responsibility', 'responsible', 'responsibly', 'responsive', 'resposibilities', 'rest', 'restaurant', 'restaurants', 'restful', 'resting', 'reston', 'restoration', 'restore', 'restricted', 'result', 'resulting', 'results', 'resultscommunicate', 'resultsfunctionally', 'resume', 'resumes', 'retail', 'retailer', 'retailers', 'retain', 'retaining', 'retargeting', 'retention', 'retirement', 'retrain', 'retraining', 'retrieval', 'retrievalbecome', 'retrieve', 'retrieves', 'retros', 'retrospective', 'return', 'returned', 'returning', 'reusability', 'reusable', 'reveal', 'revenue', 'revenues', 'review', 'reviewed', 'reviewing', 'reviews', 'revise', 'revitalization', 'revolution', 'revolutionary', 'revolutionize', 'revolutionizing', 'reward', 'rewarded', 'rewarding', 'rewards', 'rewrite', 'rf', 'rfp', 'riak', 'rich', 'richard', 'richardson', 'richer', 'richly', 'richness', 'rico', 'riddles', 'ride', 'rider', 'riders', 'rides', 'ridge', 'right', 'rights', 'rigor', 'rigorious', 'rigorous', 'rigorously', 'rise', 'rising', 'risk', 'riskiq', 'risks', 'river', 'rivers', 'rivr', 'rl', 'rmarkdown', 'rnn', 'rnns', 'road', 'roadblocks', 'roadmap', 'roadmaps', 'robot', 'robotic', 'robotics', 'robust', 'roc', 'rochester', 'rock', 'rocky', 'roi', 'role', 'roles', 'roll', 'rolled', 'rolling', 'rollout', 'rollups', 'roof', 'rooftop', 'room', 'rooms', 'root', 'rooted', 'rosa', 'roseville', 'rotate', 'rotation', 'round', 'routed', 'routes', 'routine', 'routinely', 'routines', 'routing', 'rows', 'rpa', 'rpc', 'rsg', 'rsginc', 'rshiny', 'rss', 'rstudio', 'rtb', 'rtf', 'ruby', 'rule', 'rules', 'run', 'running', 'runs', 'rural', 'russian', 'rust', 's3', 'saas', 'sacramento', 'safe', 'safeguard', 'safeguarding', 'safely', 'safer', 'safety', 'sagemaker', 'said', 'salad', 'salaried', 'salaries', 'salary', 'sales', 'salesforce', 'salesperson', 'salon', 'salt', 'same', 'sample', 'sampled', 'samples', 'sampling', 'samsung', 'san', 'sandwich', 'sanity', 'santa', 'sap', 'sapphire', 'sas', 'sat', 'satellite', 'satisfaction', 'satisfactorily', 'satisfactory', 'satisfied', 'save', 'saved', 'savings', 'savviness', 'savvy', 'say', 'saying', 'says', 'sba', 'sc', 'scala', 'scalability', 'scalable', 'scalanlp', 'scale', 'scaled', 'scaling', 'scarce', 'scatter', 'scattered', 'scenario', 'scenarios', 'scenariosexperience', 'scenes', 'schaumburg', 'schedule', 'scheduled', 'schedules', 'scheduling', 'schema', 'schemas', 'schemes', 'schizophrenia', 'scholars', 'school', 'schools', 'schuylkill', 'schwab', 'schwas', 'sci', 'science', 'scienceexpertise', 'sciences', 'scientific', 'scientifically', 'scientist', 'scientistleverage', 'scientists', 'scientistwill', 'scikit', 'scikitlearn', 'scipy', 'scm', 'scoop', 'scooter', 'scooters', 'scope', 'scopes', 'scoping', 'score', 'scorecards', 'scores', 'scoring', 'scot', 'scott', 'scouts', 'scrape', 'scraped', 'scraping', 'scrapping', 'scrappy', 'scratch', 'scratched', 'scratching', 'screen', 'screening', 'screens', 'script', 'scripting', 'scripts', 'scrub', 'scrum', 'sdk', 'sdks', 'sdlc', 'sdtm', 'sdvosb', 'se', 'seaborn', 'seamless', 'seamlessly', 'search', 'searches', 'searching', 'season', 'seasonal', 'seasonality', 'seasoned', 'seattle', 'second', 'secondary', 'seconds', 'secret', 'secrets', 'secrurity', 'section', 'sectional', 'sections', 'sector', 'sectors', 'secure', 'secured', 'securely', 'securing', 'securities', 'security', 'see', 'seed', 'seeing', 'seek', 'seekers', 'seeking', 'seeks', 'seemingly', 'seems', 'seen', 'segment', 'segmentation', 'segmentationdevelop', 'segmentationo', 'segmented', 'segments', 'segundo', 'seize', 'select', 'selected', 'selecting', 'selection', 'self', 'selfless', 'sell', 'seller', 'sellers', 'selling', 'sem', 'semantic', 'semantics', 'semester', 'semi', 'seminar', 'seminars', 'send', 'sending', 'senior', 'seniority', 'sense', 'sensing', 'sensitive', 'sensitivity', 'sensor', 'sensors', 'sensory', 'sentiment', 'seo', 'separated', 'separating', 'sequence', 'sequencing', 'sequential', 'serializing', 'series', 'serious', 'seriously', 'serta', 'serve', 'served', 'serveng', 'server', 'servers', 'serves', 'service', 'servicenow', 'services', 'servicing', 'serving', 'sessions', 'set', 'sets', 'setsprovide', 'setting', 'settings', 'settle', 'setup', 'seven', 'seventh', 'several', 'sex', 'sexual', 'sf', 'sf1', 'sfarm', 'sfdc', 'shake', 'shaking', 'shape', 'shapes', 'shaping', 'share', 'shared', 'shareholders', 'sharepoint', 'shares', 'sharing', 'sharp', 'sharpen', 'sharpening', 'shaw', 'she', 'sheets', 'shell', 'shepherding', 'shield', 'shift', 'shining', 'shiny', 'ship', 'shipped', 'shipping', 'ships', 'shirt', 'shirts', 'shocks', 'shogun', 'shooting', 'shop', 'shopper', 'shoppers', 'shopping', 'shops', 'shorelines', 'shorenstein', 'short', 'shortlist', 'shorts', 'shot', 'should', 'shoulders', 'shouldn', 'show', 'showcase', 'shower', 'showing', 'shown', 'shows', 'shy', 'siamese', 'sick', 'side', 'sided', 'sierra', 'sifts', 'sightseeing', 'sigir', 'sign', 'signal', 'signalfire', 'signals', 'signed', 'significance', 'significanceexperience', 'significanceprovide', 'significant', 'significantly', 'signs', 'silicon', 'silos', 'silverrail', 'similar', 'similarities', 'similarity', 'similarly', 'similiar', 'simmons', 'simple', 'simplerleading', 'simplest', 'simplicity', 'simplified', 'simplify', 'simplifying', 'simply', 'simulate', 'simulation', 'simulations', 'simultaneous', 'simultaneousl', 'simultaneously', 'since', 'sincere', 'sincerely', 'singapore', 'single', 'singular', 'singularly', 'sisense', 'sister', 'sit', 'site', 'sites', 'sits', 'sitting', 'situation', 'situations', 'six', 'sixleaf', 'sizable', 'size', 'sizeable', 'sized', 'sizes', 'sizing', 'skepticism', 'skill', 'skilled', 'skillful', 'skills', 'skillset', 'skillsexcellent', 'skillsproficiency', 'skillsstrong', 'skillssuperior', 'sklearn', 'sky', 'skype', 'skyrocketed', 'sl', 'slack', 'sleep', 'sleeptracker', 'sleeves', 'sleuth', 'slide', 'slides', 'slowing', 'slq', 'slync', 'sm', 'small', 'smaller', 'smart', 'smartbed', 'smarter', 'smartest', 'smartview', 'sme', 'smes', 'smile', 'smiles', 'smoke', 'smooth', 'smoothly', 'sms', 'sn1', 'snacks', 'snag', 'snapchat', 'snc', 'sne', 'snowflake', 'so', 'soak', 'soap', 'social', 'socialize', 'socializing', 'socials', 'societal', 'societas', 'societies', 'society', 'socioeconomic', 'sociology', 'sociotechnical', 'sockeye', 'socure', 'sofia', 'soft', 'softbank', 'softly', 'softvision', 'software', 'soho', 'soil', 'sojern', 'sold', 'sole', 'solely', 'solicit', 'solid', 'solidifying', 'solo', 'solopreneurs', 'solr', 'solution', 'solutioning', 'solutions', 'solutionsdemonstrated', 'solvable', 'solve', 'solved', 'solver', 'solvers', 'solves', 'solving', 'som', 'some', 'somebody', 'someone', 'something', 'sometimes', 'sonoma', 'sony', 'soon', 'sophisticated', 'sophistication', 'sops', 'sorry', 'sought', 'sound', 'soundcloud', 'sounds', 'source', 'sourced', 'sources', 'sourcescleanses', 'sourcessupport', 'sourcing', 'south', 'southeast', 'space', 'spaceflight', 'spaces', 'spacy', 'spam', 'span', 'spanish', 'spanning', 'spans', 'sparing', 'spark', 'sparkexperience', 'sparkfund', 'sparkml', 'sparkr', 'sparql', 'sparse', 'spatial', 'speak', 'speaker', 'speaking', 'speaks', 'spearhead', 'special', 'specialist', 'specialists', 'specialities', 'specialization', 'specializations', 'specialize', 'specialized', 'specializes', 'specializing', 'specially', 'specialty', 'specific', 'specifically', 'specification', 'specifications', 'specified', 'specify', 'specifying', 'specs', 'spectral', 'spectrum', 'speech', 'speed', 'spend', 'spending', 'spends', 'spent', 'speyer', 'spglobal', 'spicy', 'spin', 'spinoff', 'spirit', 'spirt', 'split', 'splunk', 'spoc', 'spoken', 'spokesperson', 'sponsor', 'sponsored', 'sponsoring', 'sponsors', 'sponsorship', 'sport', 'sporting', 'sports', 'spot', 'spotfire', 'spotify', 'spreading', 'spreadsheet', 'spring', 'springfield', 'springs', 'sprint', 'sps', 'spss', 'sql', 'sqlproficient', 'sqoop', 'square', 'squarely', 'squares', 'squarespace', 'squareup', 'sr', 'srilm', 'ssa', 'ssas', 'ssh', 'ssis', 'ssu', 'st', 'stability', 'stable', 'stack', 'stacked', 'stackoverflow', 'stacks', 'stadium', 'staff', 'staffed', 'staffing', 'stage', 'stages', 'stake', 'stakeholder', 'stakeholders', 'stalking', 'stan', 'stand', 'standalone', 'standard', 'standardize', 'standardized', 'standards', 'standing', 'standpoint', 'stanford', 'stanley', 'stanza', 'staples', 'star', 'stardog', 'start', 'started', 'starter', 'starters', 'starting', 'starts', 'startup', 'startups', 'stat', 'stata', 'state', 'stated', 'statement', 'statements', 'states', 'statewide', 'static', 'station', 'stationless', 'stations', 'statistic', 'statistica', 'statistical', 'statistically', 'statisticians', 'statistics', 'stats', 'statsmodels', 'status', 'statusfull', 'stay', 'staying', 'stays', 'steaks', 'stellar', 'stem', 'step', 'stephanie', 'steps', 'stereotypes', 'steward', 'stewarding', 'stewardship', 'sticks', 'still', 'stimulating', 'stipend', 'stitch', 'stitching', 'stochastic', 'stock', 'stocked', 'stone', 'stoop', 'stop', 'storage', 'storages', 'store', 'stored', 'stores', 'stories', 'storing', 'storm', 'story', 'storycapacity', 'storyteller', 'storytelling', 'straight', 'strain', 'strategic', 'strategically', 'strategics', 'strategies', 'strategiesdevelop', 'strategiesdocumenting', 'strategists', 'strategize', 'strategizes', 'strategy', 'stream', 'streaming', 'streamline', 'streamlined', 'streamlines', 'streams', 'streeam', 'street', 'streets', 'strength', 'strengthen', 'strengthening', 'strengths', 'stress', 'stretch', 'strict', 'strides', 'strings', 'strive', 'strives', 'striving', 'strong', 'stronger', 'strongest', 'strongly', 'structural', 'structure', 'structured', 'structures', 'structuring', 'struggle', 'student', 'students', 'studies', 'studio', 'studios', 'study', 'studying', 'stuff', 'stunning', 'stupid', 'style', 'styles', 'styling', 'stylish', 'stylist', 'stylists', 'sub', 'subcontractor', 'subcontracts', 'subcultures', 'subgroups', 'subject', 'subjective', 'submission', 'submissions', 'submit', 'submitted', 'subordinate', 'subordinates', 'subscriber', 'subscribers', 'subscription', 'subscriptions', 'subsequent', 'subsequently', 'subsidiaries', 'subsidiary', 'substance', 'substances', 'substantial', 'substantive', 'substitute', 'substituted', 'subsurface', 'subtle', 'suburban', 'succeed', 'succeeding', 'success', 'successes', 'successful', 'successfully', 'succinctly', 'such', 'sudden', 'suffering', 'sufficient', 'sugar', 'suggest', 'suggestion', 'suggestions', 'suitability', 'suitable', 'suite', 'suited', 'suites', 'sum', 'summaries', 'summarization', 'summarizations', 'summarize', 'summarizes', 'summarizing', 'summary', 'summer', 'summit', 'sunny', 'sunnyvale', 'superb', 'superficially', 'superior', 'supervise', 'supervised', 'supervision', 'supervisor', 'supervisors', 'supervisory', 'supplement', 'supplementary', 'suppliers', 'supplies', 'supply', 'support', 'supported', 'supporting', 'supportive', 'supports', 'sure', 'surface', 'surfaces', 'surfacing', 'surgeons', 'surgeries', 'surgery', 'surgical', 'surprised', 'surprising', 'surrounded', 'surrounding', 'surroundings', 'survey', 'surveys', 'survival', 'sustain', 'sustainability', 'sustainable', 'sustainably', 'sustained', 'svb', 'svm', 'svms', 'svn', 'svp', 'sw', 'swagger', 'swapnil', 'sweat', 'sweden', 'swells', 'swift', 'switch', 'switching', 'swoodoo', 'sycamore', 'sydney', 'symbol', 'sync', 'syndicated', 'synergies', 'synergy', 'syntactic', 'synthesis', 'synthesize', 'synthesized', 'synthesizes', 'synthesizing', 'synthetic', 'system', 'systematic', 'systematically', 'systemic', 'systems', 'systemsbuild', 'systemsproficiency', 't2t', 'table', 'tableau', 'tables', 'tabulate', 'tackle', 'tackles', 'tackling', 'taco', 'tactic', 'tactical', 'tactically', 'tactics', 'tag', 'tagging', 'tagline', 'tail', 'tailor', 'tailored', 'take', 'takecareof', 'taken', 'takes', 'taking', 'talent', 'talentacquisition', 'talented', 'talents', 'talk', 'talking', 'talks', 'talksa', 'tangible', 'tank', 'tap', 'tapingo', 'tapping', 'target', 'targeted', 'targeting', 'task', 'tasked', 'tasking', 'tasks', 'taught', 'tax', 'taxa', 'taxes', 'taxonomy', 'tb', 'tcs', 'teach', 'teacher', 'teachers', 'teaching', 'team', 'teamed', 'teamextremely', 'teammate', 'teammates', 'teams', 'teamsexperience', 'teamsto', 'teamstrong', 'teamwork', 'tech', 'techcrunch', 'technical', 'technically', 'technics', 'technique', 'techniques', 'techniquesrecommend', 'technological', 'technologically', 'technologies', 'technologiesstay', 'technologist', 'technologists', 'technology', 'technologymanage', 'telco', 'telecom', 'telecommunication', 'telecommunications', 'telecommute', 'telecommuter', 'telecommuters', 'telecommuting', 'telemetry', 'telephone', 'television', 'telework', 'tell', 'telling', 'tells', 'temp', 'tempe', 'templates', 'temporal', 'temporary', 'ten', 'tennis', 'tens', 'tensor', 'tensorflow', 'tenure', 'terabyte', 'terabytes', 'teradata', 'teradataexcellent', 'term', 'termimpact', 'terminal', 'termination', 'terminology', 'terminologyability', 'terminologyworks', 'terms', 'territories', 'territory', 'test', 'testable', 'tested', 'testing', 'tests', 'texas', 'text', 'textbooks', 'textio', 'texts', 'textual', 'tf', 'th', 'than', 'thank', 'thanks', 'that', 'the', 'theano', 'theft', 'their', 'them', 'theme', 'themselves', 'themwe', 'then', 'theorem', 'theoretical', 'theories', 'theorist', 'theory', 'therapeutic', 'therapeutics', 'therapies', 'therapist', 'there', 'thereafter', 'thereby', 'therefore', 'these', 'thesis', 'they', 'thing', 'things', 'think', 'thinker', 'thinkers', 'thinkerswe', 'thinking', 'thinks', 'third', 'this', 'thorough', 'thoroughly', 'those', 'though', 'thought', 'thoughtful', 'thousand', 'thousands', 'threat', 'threats', 'three', 'thresholds', 'thrill', 'thrilled', 'thrilling', 'thrive', 'thrives', 'thriving', 'through', 'throughout', 'throughput', 'thru', 'thursday', 'thus', 'tibco', 'tick', 'ticker', 'ticket', 'tickets', 'tide', 'tidy', 'tidyr', 'tidyverse', 'tie', 'tied', 'tier', 'ties', 'tight', 'tightly', 'time', 'timeabout', 'timecontractor', 'timeframe', 'timeline', 'timelines', 'timeliness', 'timely', 'timeqxbranch', 'times', 'timethe', 'tinker', 'tinton', 'tiny', 'tips', 'tirelessly', 'tishman', 'titan', 'title', 'tl1', 'tm', 'tmus', 'tn', 'to', 'tobacco', 'today', 'together', 'tokenization', 'tokyo', 'tolerance', 'tolerate', 'tolerated', 'tomorrow', 'tonnes', 'tons', 'too', 'took', 'tool', 'toolbox', 'toolboxes', 'tooling', 'toolkit', 'toolkits', 'tools', 'toolset', 'toolssolid', 'toomey', 'top', 'topic', 'topics', 'topline', 'torch', 'total', 'totaling', 'touch', 'touches', 'touching', 'touchpoint', 'touchpoints', 'tough', 'toughest', 'tour', 'tournaments', 'tours', 'toward', 'towards', 'towers', 'town', 'toxic', 'toyota', 'track', 'tracked', 'tracking', 'traction', 'trade', 'traded', 'trademark', 'trademarks', 'tradeoffs', 'trading', 'traditional', 'traditionally', 'traffic', 'trail', 'trailblazers', 'train', 'trained', 'training', 'trainingexecuting', 'trainings', 'traits', 'transacting', 'transaction', 'transactional', 'transactions', 'transfer', 'transferable', 'transferring', 'transfers', 'transform', 'transformation', 'transformational', 'transformations', 'transformationsas', 'transformative', 'transforming', 'transforms', 'transgender', 'transit', 'transition', 'transitioning', 'translate', 'translates', 'translating', 'translation', 'transliteration', 'transmission', 'transparency', 'transparent', 'transparently', 'transportation', 'travel', 'traveldoo', 'traveler', 'travelers', 'traveling', 'travelocity', 'travelu', 'traversing', 'treading', 'treat', 'treated', 'treating', 'treatment', 'treatments', 'tree', 'trees', 'tremendous', 'tremendously', 'trend', 'trending', 'trends', 'trendsanalyzing', 'tri', 'triage', 'trial', 'trials', 'tribe', 'tries', 'triggers', 'trillion', 'trilogy', 'trip', 'triple', 'trips', 'trivago', 'trivally', 'trivial', 'trouble', 'troubleshoot', 'troubleshooting', 'troves', 'truck', 'trucking', 'trucks', 'true', 'truly', 'trust', 'trusted', 'trusting', 'truth', 'try', 'trying', 'ts', 'tsql', 'tuesday', 'tuition', 'tune', 'tuning', 'turn', 'turnaround', 'turned', 'turning', 'turns', 'tv', 'tvs', 'tweak', 'twelve', 'twenty', 'twice', 'twilio', 'twitter', 'two', 'tx', 'type', 'types', 'typescript', 'typical', 'typically', 'uances', 'uber', 'uberpool', 'uberx', 'uc', 'udacity', 'udges', 'ui', 'uild', 'ukraine', 'ulta', 'ultimate', 'ultimately', 'umber', 'umbers', 'umeric', 'umerical', 'umerous', 'umo', 'umpy', 'un', 'unable', 'unaided', 'unanticipated', 'unapproved', 'unasked', 'unassailable', 'unauthorized', 'unavailable', 'unbelievably', 'unbiased', 'unbounded', 'uncertainty', 'uncharted', 'uncleansed', 'uncommon', 'uncommongoods', 'unconventional', 'uncover', 'uncovering', 'uncovers', 'undefined', 'under', 'underbelly', 'undergoing', 'undergradinternships', 'undergraduate', 'underlies', 'underlying', 'underneath', 'underperforming', 'underpin', 'underpinnings', 'underrepresented', 'understand', 'understandable', 'understanding', 'understands', 'understood', 'undertake', 'undertaken', 'undertaking', 'underwriting', 'undue', 'unearth', 'unemployment', 'unexpected', 'unfamiliar', 'unfurnished', 'unicorns', 'unified', 'uniformed', 'uniformity', 'unify', 'unifying', 'unimagined', 'union', 'unions', 'unique', 'uniquely', 'uniqueness', 'unison', 'unit', 'united', 'unitedhealth', 'unitedhealthcare', 'unites', 'units', 'univariate', 'universal', 'universally', 'universe', 'universities', 'university', 'unix', 'unknown', 'unknowns', 'unl', 'unlawful', 'unleashing', 'unless', 'unlikely', 'unlimited', 'unlock', 'unlocking', 'unlocks', 'unmatched', 'unmet', 'unnecessary', 'unparalleled', 'unprecedented', 'unpredictable', 'unquestioned', 'unrelated', 'unrivaled', 'unsecured', 'unseen', 'unsolicited', 'unsolved', 'unstructured', 'unsupervised', 'untapped', 'until', 'unusually', 'unwavering', 'unwilling', 'unwind', 'up', 'upbeat', 'upcoming', 'update', 'updated', 'updates', 'updating', 'upfront', 'upgrade', 'upgrades', 'upholding', 'uploaded', 'upon', 'upper', 'upside', 'upstream', 'uptick', 'urban', 'urgency', 'urgent', 'urgently', 'urse', 'urt1', 'urture', 'us', 'usa', 'usaa', 'usable', 'usage', 'usd', 'use', 'used', 'useful', 'usemploymentcompliance', 'user', 'users', 'uses', 'usher', 'usinfosys', 'using', 'usingprogramming', 'usstratcom', 'ustranscom', 'usually', 'ut', 'utah', 'utica', 'utilities', 'utility', 'utilization', 'utilize', 'utilized', 'utilizes', 'utilizing', 'utilizingapplicable', 'utm', 'ux', 'v1', 'va', 'vacancies', 'vacation', 'vacations', 'vague', 'valid', 'validate', 'validated', 'validating', 'validation', 'validationexperience', 'validity', 'valley', 'valuable', 'value', 'valued', 'values', 'valuing', 'vanishing', 'variable', 'variables', 'variance', 'variancecollaborate', 'variation', 'variational', 'varied', 'varies', 'variety', 'various', 'vary', 'varying', 'vast', 'vastly', 'vba', 'vc', 'vcs', 've', 'vector', 'vectorizing', 'vectors', 'vehicle', 'vehicles', 'velocity', 'vendor', 'vendors', 'venrock', 'venture', 'ventures', 'verb', 'verbal', 'verbally', 'verification', 'verified', 'verifies', 'verify', 'verifying', 'verily', 'verizon', 'vermont', 'versa', 'versant', 'versatile', 'versatility', 'versed', 'version', 'versioning', 'versus', 'vertica', 'vertical', 'verticals', 'very', 'vet', 'veteran', 'veterans', 'vets', 'vh1', 'via', 'viability', 'viable', 'viacom', 'viagogo', 'vibrant', 'vice', 'victim', 'victories', 'video', 'videoiq', 'videos', 'view', 'viewability', 'viewable', 'viewer', 'viewers', 'viewing', 'viewpoints', 'views', 'vigilant', 'village', 'violate', 'violations', 'violence', 'virginia', 'virtual', 'virtualization', 'virtually', 'virtue', 'virtues', 'viruses', 'visa', 'visas', 'visibility', 'visible', 'vision', 'visionaries', 'visionary', 'visionpush', 'visit', 'visitation', 'visiting', 'visits', 'visual', 'visualisations', 'visualization', 'visualizations', 'visualizationsexperience', 'visualizationstrong', 'visualize', 'visualizes', 'visualizing', 'visually', 'visuals', 'vital', 'vitamin', 'vitamins', 'vizio', 'vlookup', 'vms', 'vmware', 'voice', 'voices', 'voiding', 'volume', 'volumes', 'volunteer', 'volunteering', 'volunteerism', 'vosb', 'voscal', 'vowpal', 'vp', 'vps', 'vr', 'vs', 'vudu', 'w2', 'wa', 'wabbit', 'wacker', 'wages', 'wagging', 'wait', 'waiting', 'waitr', 'waitrapp', 'wakefield', 'walk', 'walking', 'wall', 'walled', 'wallet', 'walls', 'walmart', 'walmartlabs', 'want', 'wanted', 'wants', 'warehouse', 'warehouses', 'warehousing', 'warehousingdata', 'warn', 'warner', 'warning', 'warrant', 'warranties', 'warranty', 'warrior', 'was', 'washington', 'waste', 'water', 'waterfall', 'waterfront', 'waters', 'watershed', 'watson', 'waukesha', 'wave', 'way', 'ways', 'wdatpeppres', 'wdatpred', 'we', 'weaklings', 'wealth', 'wear', 'wearable', 'weather', 'web', 'webrtc', 'webscraping', 'website', 'websites', 'websockets', 'wednesday', 'wednesdays', 'week', 'weekday', 'weekends', 'weekly', 'weeks', 'weighted', 'weka', 'welcome', 'welcomed', 'welcomes', 'welcoming', 'welding', 'well', 'wellbeing', 'wellness', 'were', 'west', 'westlake', 'westrock', 'wetlands', 'wework', 'wfh', 'wfs', 'what', 'whatever', 'whatsapp', 'whd', 'when', 'whenever', 'where', 'wherever', 'whether', 'which', 'while', 'whilst', 'white', 'whiz', 'who', 'whole', 'wholesome', 'wholly', 'whom', 'whose', 'why', 'wide', 'widely', 'wider', 'widespread', 'wild', 'wildlife', 'will', 'williams', 'willing', 'willingness', 'win', 'windowing', 'windows', 'winners', 'winning', 'wipro', 'wire', 'wireless', 'wireline', 'wisconsin', 'wisdom', 'wish', 'with', 'withdraw', 'within', 'without', 'wizard', 'wm', 'wolferman', 'women', 'won', 'worcester', 'word', 'word2vec', 'words', 'work', 'workday', 'worked', 'worker', 'workers', 'workersdevelop', 'workflow', 'workflows', 'workforce', 'working', 'workings', 'workload', 'workplace', 'works', 'workshops', 'workspace', 'world', 'worldgrid', 'worldline', 'worldwide', 'worth', 'wotif', 'would', 'wrangle', 'wrangler', 'wrangles', 'wrangling', 'wrapped', 'write', 'writers', 'writing', 'written', 'writtenproven', 'wrk', 'wwe', 'www', 'x81ciency', 'x81eld', 'x81nd', 'x81ndings', 'x81table', 'x82', 'x83', 'x84', 'x8bthis', 'x8bwe', 'xa0', 'xa2', 'xa6', 'xa6and', 'xa6apple', 'xa6curious', 'xa6protect', 'xa6rapidly', 'xa7', 'xa8ve', 'xa9', 'xa9al', 'xa9cor', 'xac', 'xae', 'xafve', 'xb7', 'xb7experience', 'xb7identify', 'xb7knowledge', 'xbb', 'xbf', 'xbox', 'xc2', 'xc3', 'xef', 'xgboost', 'xp', 'xpo', 'yards', 'year', 'yeara', 'yearas', 'yearcollects', 'yeardescription', 'yearjob', 'yearlrs', 'years', 'yearsexperience', 'yearsummary', 'yearthe', 'yeartitle', 'yearworking', 'yes', 'yet', 'yeti', 'yield', 'york', 'you', 'young', 'your', 'yours', 'yourself', 'youtube', 'yrs', 'zenreach', 'zero', 'zeus', 'zf', 'zheng', 'zillow', 'zogsports', 'zones', 'zoom', 'zuckerberg', 'zurich']\n"
     ]
    }
   ],
   "source": [
    "print(vect.get_feature_names())"
   ]
  },
  {
   "cell_type": "code",
   "execution_count": 26,
   "metadata": {},
   "outputs": [],
   "source": [
    "dtm = vect.transform(df['description'])"
   ]
  },
  {
   "cell_type": "code",
   "execution_count": 27,
   "metadata": {},
   "outputs": [
    {
     "data": {
      "text/plain": [
       "<426x8776 sparse matrix of type '<class 'numpy.int64'>'\n",
       "\twith 111490 stored elements in Compressed Sparse Row format>"
      ]
     },
     "execution_count": 27,
     "metadata": {},
     "output_type": "execute_result"
    }
   ],
   "source": [
    "dtm"
   ]
  },
  {
   "cell_type": "code",
   "execution_count": 28,
   "metadata": {},
   "outputs": [
    {
     "name": "stdout",
     "output_type": "stream",
     "text": [
      "  (0, 265)\t2\n",
      "  (0, 545)\t1\n",
      "  (0, 620)\t2\n",
      "  (0, 660)\t2\n",
      "  (0, 688)\t1\n",
      "  (0, 714)\t1\n",
      "  (0, 728)\t1\n",
      "  (0, 751)\t1\n",
      "  (0, 811)\t1\n",
      "  (0, 988)\t1\n",
      "  (0, 1146)\t1\n",
      "  (0, 1558)\t1\n",
      "  (0, 1619)\t1\n",
      "  (0, 1703)\t1\n",
      "  (0, 1781)\t1\n",
      "  (0, 1792)\t1\n",
      "  (0, 2195)\t1\n",
      "  (0, 2256)\t1\n",
      "  (0, 2291)\t1\n",
      "  (0, 2615)\t1\n",
      "  (0, 2761)\t1\n",
      "  (0, 3004)\t1\n",
      "  (0, 3131)\t2\n",
      "  (0, 3148)\t1\n",
      "  (0, 3179)\t1\n",
      "  :\t:\n",
      "  (425, 8383)\t1\n",
      "  (425, 8420)\t1\n",
      "  (425, 8441)\t1\n",
      "  (425, 8471)\t1\n",
      "  (425, 8477)\t1\n",
      "  (425, 8498)\t1\n",
      "  (425, 8547)\t1\n",
      "  (425, 8571)\t2\n",
      "  (425, 8608)\t1\n",
      "  (425, 8614)\t1\n",
      "  (425, 8616)\t1\n",
      "  (425, 8622)\t2\n",
      "  (425, 8635)\t3\n",
      "  (425, 8637)\t2\n",
      "  (425, 8651)\t10\n",
      "  (425, 8653)\t2\n",
      "  (425, 8654)\t1\n",
      "  (425, 8664)\t7\n",
      "  (425, 8670)\t1\n",
      "  (425, 8673)\t2\n",
      "  (425, 8676)\t1\n",
      "  (425, 8747)\t2\n",
      "  (425, 8753)\t1\n",
      "  (425, 8758)\t3\n",
      "  (425, 8760)\t1\n"
     ]
    }
   ],
   "source": [
    "print(dtm)"
   ]
  },
  {
   "cell_type": "code",
   "execution_count": 29,
   "metadata": {},
   "outputs": [
    {
     "data": {
      "text/plain": [
       "matrix([[0, 0, 0, ..., 0, 0, 0],\n",
       "        [0, 0, 0, ..., 0, 0, 0],\n",
       "        [0, 0, 0, ..., 0, 0, 0],\n",
       "        ...,\n",
       "        [0, 2, 0, ..., 0, 0, 0],\n",
       "        [0, 0, 0, ..., 0, 0, 0],\n",
       "        [0, 1, 0, ..., 0, 0, 0]], dtype=int64)"
      ]
     },
     "execution_count": 29,
     "metadata": {},
     "output_type": "execute_result"
    }
   ],
   "source": [
    "dtm.todense()"
   ]
  },
  {
   "cell_type": "code",
   "execution_count": 30,
   "metadata": {},
   "outputs": [],
   "source": [
    "# WORD COUNTS FOR EACH LISTING\n",
    "dtm = pd.DataFrame(dtm.todense(),columns=vect.get_feature_names())"
   ]
  },
  {
   "cell_type": "code",
   "execution_count": 31,
   "metadata": {},
   "outputs": [
    {
     "data": {
      "text/plain": [
       "(426, 8776)"
      ]
     },
     "execution_count": 31,
     "metadata": {},
     "output_type": "execute_result"
    }
   ],
   "source": [
    "dtm.shape"
   ]
  },
  {
   "cell_type": "code",
   "execution_count": 32,
   "metadata": {},
   "outputs": [
    {
     "data": {
      "text/html": [
       "<div>\n",
       "<style scoped>\n",
       "    .dataframe tbody tr th:only-of-type {\n",
       "        vertical-align: middle;\n",
       "    }\n",
       "\n",
       "    .dataframe tbody tr th {\n",
       "        vertical-align: top;\n",
       "    }\n",
       "\n",
       "    .dataframe thead th {\n",
       "        text-align: right;\n",
       "    }\n",
       "</style>\n",
       "<table border=\"1\" class=\"dataframe\">\n",
       "  <thead>\n",
       "    <tr style=\"text-align: right;\">\n",
       "      <th></th>\n",
       "      <th>00</th>\n",
       "      <th>000</th>\n",
       "      <th>02115</th>\n",
       "      <th>03</th>\n",
       "      <th>0305</th>\n",
       "      <th>0356</th>\n",
       "      <th>04</th>\n",
       "      <th>062</th>\n",
       "      <th>06366</th>\n",
       "      <th>08</th>\n",
       "      <th>...</th>\n",
       "      <th>zero</th>\n",
       "      <th>zeus</th>\n",
       "      <th>zf</th>\n",
       "      <th>zheng</th>\n",
       "      <th>zillow</th>\n",
       "      <th>zogsports</th>\n",
       "      <th>zones</th>\n",
       "      <th>zoom</th>\n",
       "      <th>zuckerberg</th>\n",
       "      <th>zurich</th>\n",
       "    </tr>\n",
       "  </thead>\n",
       "  <tbody>\n",
       "    <tr>\n",
       "      <th>0</th>\n",
       "      <td>0</td>\n",
       "      <td>0</td>\n",
       "      <td>0</td>\n",
       "      <td>0</td>\n",
       "      <td>0</td>\n",
       "      <td>0</td>\n",
       "      <td>0</td>\n",
       "      <td>0</td>\n",
       "      <td>0</td>\n",
       "      <td>0</td>\n",
       "      <td>...</td>\n",
       "      <td>0</td>\n",
       "      <td>0</td>\n",
       "      <td>0</td>\n",
       "      <td>0</td>\n",
       "      <td>0</td>\n",
       "      <td>0</td>\n",
       "      <td>0</td>\n",
       "      <td>0</td>\n",
       "      <td>0</td>\n",
       "      <td>0</td>\n",
       "    </tr>\n",
       "    <tr>\n",
       "      <th>1</th>\n",
       "      <td>0</td>\n",
       "      <td>0</td>\n",
       "      <td>0</td>\n",
       "      <td>0</td>\n",
       "      <td>0</td>\n",
       "      <td>0</td>\n",
       "      <td>0</td>\n",
       "      <td>0</td>\n",
       "      <td>0</td>\n",
       "      <td>0</td>\n",
       "      <td>...</td>\n",
       "      <td>0</td>\n",
       "      <td>0</td>\n",
       "      <td>0</td>\n",
       "      <td>0</td>\n",
       "      <td>0</td>\n",
       "      <td>0</td>\n",
       "      <td>0</td>\n",
       "      <td>0</td>\n",
       "      <td>0</td>\n",
       "      <td>0</td>\n",
       "    </tr>\n",
       "    <tr>\n",
       "      <th>2</th>\n",
       "      <td>0</td>\n",
       "      <td>0</td>\n",
       "      <td>0</td>\n",
       "      <td>0</td>\n",
       "      <td>0</td>\n",
       "      <td>0</td>\n",
       "      <td>0</td>\n",
       "      <td>0</td>\n",
       "      <td>0</td>\n",
       "      <td>0</td>\n",
       "      <td>...</td>\n",
       "      <td>0</td>\n",
       "      <td>0</td>\n",
       "      <td>0</td>\n",
       "      <td>0</td>\n",
       "      <td>0</td>\n",
       "      <td>0</td>\n",
       "      <td>0</td>\n",
       "      <td>0</td>\n",
       "      <td>0</td>\n",
       "      <td>0</td>\n",
       "    </tr>\n",
       "    <tr>\n",
       "      <th>3</th>\n",
       "      <td>0</td>\n",
       "      <td>0</td>\n",
       "      <td>0</td>\n",
       "      <td>0</td>\n",
       "      <td>0</td>\n",
       "      <td>0</td>\n",
       "      <td>0</td>\n",
       "      <td>0</td>\n",
       "      <td>0</td>\n",
       "      <td>0</td>\n",
       "      <td>...</td>\n",
       "      <td>0</td>\n",
       "      <td>0</td>\n",
       "      <td>0</td>\n",
       "      <td>1</td>\n",
       "      <td>0</td>\n",
       "      <td>0</td>\n",
       "      <td>0</td>\n",
       "      <td>0</td>\n",
       "      <td>0</td>\n",
       "      <td>0</td>\n",
       "    </tr>\n",
       "    <tr>\n",
       "      <th>4</th>\n",
       "      <td>0</td>\n",
       "      <td>0</td>\n",
       "      <td>0</td>\n",
       "      <td>0</td>\n",
       "      <td>0</td>\n",
       "      <td>0</td>\n",
       "      <td>0</td>\n",
       "      <td>0</td>\n",
       "      <td>0</td>\n",
       "      <td>0</td>\n",
       "      <td>...</td>\n",
       "      <td>0</td>\n",
       "      <td>0</td>\n",
       "      <td>0</td>\n",
       "      <td>0</td>\n",
       "      <td>0</td>\n",
       "      <td>0</td>\n",
       "      <td>0</td>\n",
       "      <td>0</td>\n",
       "      <td>0</td>\n",
       "      <td>0</td>\n",
       "    </tr>\n",
       "  </tbody>\n",
       "</table>\n",
       "<p>5 rows × 8776 columns</p>\n",
       "</div>"
      ],
      "text/plain": [
       "   00  000  02115  03  0305  0356  04  062  06366  08  ...  zero  zeus  zf  \\\n",
       "0   0    0      0   0     0     0   0    0      0   0  ...     0     0   0   \n",
       "1   0    0      0   0     0     0   0    0      0   0  ...     0     0   0   \n",
       "2   0    0      0   0     0     0   0    0      0   0  ...     0     0   0   \n",
       "3   0    0      0   0     0     0   0    0      0   0  ...     0     0   0   \n",
       "4   0    0      0   0     0     0   0    0      0   0  ...     0     0   0   \n",
       "\n",
       "   zheng  zillow  zogsports  zones  zoom  zuckerberg  zurich  \n",
       "0      0       0          0      0     0           0       0  \n",
       "1      0       0          0      0     0           0       0  \n",
       "2      0       0          0      0     0           0       0  \n",
       "3      1       0          0      0     0           0       0  \n",
       "4      0       0          0      0     0           0       0  \n",
       "\n",
       "[5 rows x 8776 columns]"
      ]
     },
     "execution_count": 32,
     "metadata": {},
     "output_type": "execute_result"
    }
   ],
   "source": [
    "# WORD COUNTS FOR EACH LISTING\n",
    "dtm.head()"
   ]
  },
  {
   "cell_type": "markdown",
   "metadata": {
    "colab_type": "text",
    "id": "Zo1iH_UeY7_n"
   },
   "source": [
    "## 4) Visualize the most common word counts"
   ]
  },
  {
   "cell_type": "code",
   "execution_count": 33,
   "metadata": {
    "colab": {},
    "colab_type": "code",
    "id": "M5LB00uyZKV5"
   },
   "outputs": [],
   "source": [
    "import squarify"
   ]
  },
  {
   "cell_type": "code",
   "execution_count": 34,
   "metadata": {},
   "outputs": [
    {
     "data": {
      "image/png": "[encoded data removed]",
      "text/plain": [
       "<Figure size 432x288 with 1 Axes>"
      ]
     },
     "metadata": {
      "needs_background": "light"
     },
     "output_type": "display_data"
    }
   ],
   "source": [
    "squarify.plot(sizes=wc_top20['pct_total'], label=wc_top20['word'], alpha=.8)\n",
    "plt.axis('off')\n",
    "plt.show()"
   ]
  },
  {
   "cell_type": "markdown",
   "metadata": {
    "colab_type": "text",
    "id": "bwFsTqrVZMYi"
   },
   "source": [
    "## 5) Use Scikit-Learn's tfidfVectorizer to get a TF-IDF feature matrix"
   ]
  },
  {
   "cell_type": "code",
   "execution_count": 35,
   "metadata": {
    "colab": {},
    "colab_type": "code",
    "id": "-gx2gZCbl5Np"
   },
   "outputs": [],
   "source": [
    "from sklearn.feature_extraction.text import TfidfVectorizer"
   ]
  },
  {
   "cell_type": "code",
   "execution_count": 36,
   "metadata": {},
   "outputs": [],
   "source": [
    "def tokenize(document):\n",
    "    \n",
    "    doc = nlp(document)\n",
    "    \n",
    "    return [token.lemma_ for token in doc if (token.is_stop !=True) and (token.is_punct !=True)]"
   ]
  },
  {
   "cell_type": "code",
   "execution_count": 37,
   "metadata": {},
   "outputs": [],
   "source": [
    "tfidf = TfidfVectorizer(stop_words = STOP_WORDS, tokenizer=tokenize, min_df=.025, max_df=.95, ngram_range=(1,2))"
   ]
  },
  {
   "cell_type": "code",
   "execution_count": 38,
   "metadata": {},
   "outputs": [
    {
     "name": "stderr",
     "output_type": "stream",
     "text": [
      "C:\\Users\\Sarmen\\.conda\\envs\\U4-S1-M1\\lib\\site-packages\\sklearn\\feature_extraction\\text.py:300: UserWarning: Your stop_words may be inconsistent with your preprocessing. Tokenizing the stop words generated tokens ['d', 'm', 've'] not in stop_words.\n",
      "  'stop_words.' % sorted(inconsistent))\n"
     ]
    }
   ],
   "source": [
    "sparse_tfidf = tfidf.fit_transform(df['description'])"
   ]
  },
  {
   "cell_type": "code",
   "execution_count": 39,
   "metadata": {},
   "outputs": [],
   "source": [
    "dtm_tfidf = pd.DataFrame(sparse_tfidf.todense(), columns=tfidf.get_feature_names())"
   ]
  },
  {
   "cell_type": "code",
   "execution_count": 40,
   "metadata": {},
   "outputs": [
    {
     "data": {
      "text/html": [
       "<div>\n",
       "<style scoped>\n",
       "    .dataframe tbody tr th:only-of-type {\n",
       "        vertical-align: middle;\n",
       "    }\n",
       "\n",
       "    .dataframe tbody tr th {\n",
       "        vertical-align: top;\n",
       "    }\n",
       "\n",
       "    .dataframe thead th {\n",
       "        text-align: right;\n",
       "    }\n",
       "</style>\n",
       "<table border=\"1\" class=\"dataframe\">\n",
       "  <thead>\n",
       "    <tr style=\"text-align: right;\">\n",
       "      <th></th>\n",
       "      <th></th>\n",
       "      <th>0</th>\n",
       "      <th>000</th>\n",
       "      <th>1</th>\n",
       "      <th>1 year</th>\n",
       "      <th>10</th>\n",
       "      <th>100</th>\n",
       "      <th>12</th>\n",
       "      <th>15</th>\n",
       "      <th>2</th>\n",
       "      <th>...</th>\n",
       "      <th>year 9</th>\n",
       "      <th>year datum</th>\n",
       "      <th>year experience</th>\n",
       "      <th>year hand</th>\n",
       "      <th>year industry</th>\n",
       "      <th>year professional</th>\n",
       "      <th>year relevant</th>\n",
       "      <th>year work</th>\n",
       "      <th>york</th>\n",
       "      <th>york city</th>\n",
       "    </tr>\n",
       "  </thead>\n",
       "  <tbody>\n",
       "    <tr>\n",
       "      <th>0</th>\n",
       "      <td>0.000000</td>\n",
       "      <td>0.0</td>\n",
       "      <td>0.0</td>\n",
       "      <td>0.000000</td>\n",
       "      <td>0.0000</td>\n",
       "      <td>0.0</td>\n",
       "      <td>0.0</td>\n",
       "      <td>0.0</td>\n",
       "      <td>0.0</td>\n",
       "      <td>0.079100</td>\n",
       "      <td>...</td>\n",
       "      <td>0.0</td>\n",
       "      <td>0.0</td>\n",
       "      <td>0.0</td>\n",
       "      <td>0.0</td>\n",
       "      <td>0.0</td>\n",
       "      <td>0.0</td>\n",
       "      <td>0.0</td>\n",
       "      <td>0.0</td>\n",
       "      <td>0.0</td>\n",
       "      <td>0.0</td>\n",
       "    </tr>\n",
       "    <tr>\n",
       "      <th>1</th>\n",
       "      <td>0.000000</td>\n",
       "      <td>0.0</td>\n",
       "      <td>0.0</td>\n",
       "      <td>0.091968</td>\n",
       "      <td>0.0589</td>\n",
       "      <td>0.0</td>\n",
       "      <td>0.0</td>\n",
       "      <td>0.0</td>\n",
       "      <td>0.0</td>\n",
       "      <td>0.000000</td>\n",
       "      <td>...</td>\n",
       "      <td>0.0</td>\n",
       "      <td>0.0</td>\n",
       "      <td>0.0</td>\n",
       "      <td>0.0</td>\n",
       "      <td>0.0</td>\n",
       "      <td>0.0</td>\n",
       "      <td>0.0</td>\n",
       "      <td>0.0</td>\n",
       "      <td>0.0</td>\n",
       "      <td>0.0</td>\n",
       "    </tr>\n",
       "    <tr>\n",
       "      <th>2</th>\n",
       "      <td>0.000000</td>\n",
       "      <td>0.0</td>\n",
       "      <td>0.0</td>\n",
       "      <td>0.000000</td>\n",
       "      <td>0.0000</td>\n",
       "      <td>0.0</td>\n",
       "      <td>0.0</td>\n",
       "      <td>0.0</td>\n",
       "      <td>0.0</td>\n",
       "      <td>0.000000</td>\n",
       "      <td>...</td>\n",
       "      <td>0.0</td>\n",
       "      <td>0.0</td>\n",
       "      <td>0.0</td>\n",
       "      <td>0.0</td>\n",
       "      <td>0.0</td>\n",
       "      <td>0.0</td>\n",
       "      <td>0.0</td>\n",
       "      <td>0.0</td>\n",
       "      <td>0.0</td>\n",
       "      <td>0.0</td>\n",
       "    </tr>\n",
       "    <tr>\n",
       "      <th>3</th>\n",
       "      <td>0.000000</td>\n",
       "      <td>0.0</td>\n",
       "      <td>0.0</td>\n",
       "      <td>0.000000</td>\n",
       "      <td>0.0000</td>\n",
       "      <td>0.0</td>\n",
       "      <td>0.0</td>\n",
       "      <td>0.0</td>\n",
       "      <td>0.0</td>\n",
       "      <td>0.000000</td>\n",
       "      <td>...</td>\n",
       "      <td>0.0</td>\n",
       "      <td>0.0</td>\n",
       "      <td>0.0</td>\n",
       "      <td>0.0</td>\n",
       "      <td>0.0</td>\n",
       "      <td>0.0</td>\n",
       "      <td>0.0</td>\n",
       "      <td>0.0</td>\n",
       "      <td>0.0</td>\n",
       "      <td>0.0</td>\n",
       "    </tr>\n",
       "    <tr>\n",
       "      <th>4</th>\n",
       "      <td>0.195808</td>\n",
       "      <td>0.0</td>\n",
       "      <td>0.0</td>\n",
       "      <td>0.000000</td>\n",
       "      <td>0.0000</td>\n",
       "      <td>0.0</td>\n",
       "      <td>0.0</td>\n",
       "      <td>0.0</td>\n",
       "      <td>0.0</td>\n",
       "      <td>0.166601</td>\n",
       "      <td>...</td>\n",
       "      <td>0.0</td>\n",
       "      <td>0.0</td>\n",
       "      <td>0.0</td>\n",
       "      <td>0.0</td>\n",
       "      <td>0.0</td>\n",
       "      <td>0.0</td>\n",
       "      <td>0.0</td>\n",
       "      <td>0.0</td>\n",
       "      <td>0.0</td>\n",
       "      <td>0.0</td>\n",
       "    </tr>\n",
       "  </tbody>\n",
       "</table>\n",
       "<p>5 rows × 2482 columns</p>\n",
       "</div>"
      ],
      "text/plain": [
       "               0  000         1  1 year   10  100   12   15         2  ...  \\\n",
       "0  0.000000  0.0  0.0  0.000000  0.0000  0.0  0.0  0.0  0.0  0.079100  ...   \n",
       "1  0.000000  0.0  0.0  0.091968  0.0589  0.0  0.0  0.0  0.0  0.000000  ...   \n",
       "2  0.000000  0.0  0.0  0.000000  0.0000  0.0  0.0  0.0  0.0  0.000000  ...   \n",
       "3  0.000000  0.0  0.0  0.000000  0.0000  0.0  0.0  0.0  0.0  0.000000  ...   \n",
       "4  0.195808  0.0  0.0  0.000000  0.0000  0.0  0.0  0.0  0.0  0.166601  ...   \n",
       "\n",
       "   year 9  year datum  year experience  year hand  year industry  \\\n",
       "0     0.0         0.0              0.0        0.0            0.0   \n",
       "1     0.0         0.0              0.0        0.0            0.0   \n",
       "2     0.0         0.0              0.0        0.0            0.0   \n",
       "3     0.0         0.0              0.0        0.0            0.0   \n",
       "4     0.0         0.0              0.0        0.0            0.0   \n",
       "\n",
       "   year professional  year relevant  year work  york  york city  \n",
       "0                0.0            0.0        0.0   0.0        0.0  \n",
       "1                0.0            0.0        0.0   0.0        0.0  \n",
       "2                0.0            0.0        0.0   0.0        0.0  \n",
       "3                0.0            0.0        0.0   0.0        0.0  \n",
       "4                0.0            0.0        0.0   0.0        0.0  \n",
       "\n",
       "[5 rows x 2482 columns]"
      ]
     },
     "execution_count": 40,
     "metadata": {},
     "output_type": "execute_result"
    }
   ],
   "source": [
    "# TFIDF FEATURE MATRIX\n",
    "dtm_tfidf.head()"
   ]
  },
  {
   "cell_type": "markdown",
   "metadata": {},
   "source": [
    "## 6) Create a NearestNeighbor Model. Write the description of your ideal datascience job and query your job listings. "
   ]
  },
  {
   "cell_type": "code",
   "execution_count": 41,
   "metadata": {
    "collapsed": false,
    "inputHidden": false,
    "jupyter": {
     "outputs_hidden": false
    },
    "outputHidden": false
   },
   "outputs": [],
   "source": [
    "from sklearn.neighbors import NearestNeighbors"
   ]
  },
  {
   "cell_type": "code",
   "execution_count": 42,
   "metadata": {},
   "outputs": [],
   "source": [
    "nn = NearestNeighbors(n_neighbors=5, algorithm='ball_tree')"
   ]
  },
  {
   "cell_type": "code",
   "execution_count": 43,
   "metadata": {},
   "outputs": [
    {
     "data": {
      "text/plain": [
       "NearestNeighbors(algorithm='ball_tree', leaf_size=30, metric='minkowski',\n",
       "         metric_params=None, n_jobs=None, n_neighbors=5, p=2, radius=1.0)"
      ]
     },
     "execution_count": 43,
     "metadata": {},
     "output_type": "execute_result"
    }
   ],
   "source": [
    "nn.fit(dtm_tfidf)"
   ]
  },
  {
   "cell_type": "code",
   "execution_count": 44,
   "metadata": {},
   "outputs": [
    {
     "data": {
      "text/plain": [
       "(array([[0.        , 1.21409491, 1.23978005, 1.25130893, 1.25450602]]),\n",
       " array([[356, 201, 311, 281, 291]], dtype=int64))"
      ]
     },
     "execution_count": 44,
     "metadata": {},
     "output_type": "execute_result"
    }
   ],
   "source": [
    "# CREATING AN ARRAY OF DOCS THAT ARE SIMILAR TO ENTRY 356 (201 IS CLOSEST, FOLLOWED BY 311)\n",
    "nn.kneighbors([dtm_tfidf.iloc[356]])"
   ]
  },
  {
   "cell_type": "code",
   "execution_count": 45,
   "metadata": {},
   "outputs": [
    {
     "data": {
      "text/plain": [
       "'InternshipOverview  Are you a geek for data  Do you love using analytics to help make decisions  Do you get so excited about coding breakthroughs that you forget about the hours it took you to find an errant comma  If so  we are looking for you  The Alteryx Community Content team is a small and dynamic team located in Broomfield  CO that works to create and maintain advanced analytic content for the Alteryx Community  We are looking for a dynamic  creative  and passionate DSIT  Data Scientist in'"
      ]
     },
     "execution_count": 45,
     "metadata": {},
     "output_type": "execute_result"
    }
   ],
   "source": [
    "df['description'][356][:500]"
   ]
  },
  {
   "cell_type": "code",
   "execution_count": 46,
   "metadata": {},
   "outputs": [
    {
     "data": {
      "text/plain": [
       "'InternshipOverview Data Science Internships Portland  OR or Seattle  WA These twelve week internships are scheduled to begin in May June 2019 Responsibilities   Requirements Cambia Health Solutions is working to create a seamless and frictionless health care experience for consumers ationwide  This presents a unique challenge and opportunity for innovative and disruptive solutions from our Artificial Intelligence team   Our Data Scientists design  develop  and implement data driven solutions usi'"
      ]
     },
     "execution_count": 46,
     "metadata": {},
     "output_type": "execute_result"
    }
   ],
   "source": [
    "df['description'][201][:500]"
   ]
  },
  {
   "cell_type": "code",
   "execution_count": 47,
   "metadata": {},
   "outputs": [],
   "source": [
    "# PERSONAL JOB QUERY (LOOKING FOR RESULTS RELATED TO MARKETING)\n",
    "query = ['''marketing''']"
   ]
  },
  {
   "cell_type": "code",
   "execution_count": 48,
   "metadata": {},
   "outputs": [],
   "source": [
    "new = tfidf.transform(query)"
   ]
  },
  {
   "cell_type": "code",
   "execution_count": 49,
   "metadata": {},
   "outputs": [
    {
     "data": {
      "text/plain": [
       "(array([[1.02429505, 1.11355721, 1.16892001, 1.17377678, 1.19651647]]),\n",
       " array([[414, 230, 342, 278,  51]], dtype=int64))"
      ]
     },
     "execution_count": 49,
     "metadata": {},
     "output_type": "execute_result"
    }
   ],
   "source": [
    "nn.kneighbors(new.todense())"
   ]
  },
  {
   "cell_type": "code",
   "execution_count": 50,
   "metadata": {},
   "outputs": [
    {
     "data": {
      "text/plain": [
       "'We are looking for a Senior Data Scientist with marketing analytics background to join the Spotify product Insights team in New York City  As part of the Growth Opportunities department  you will lead insights for a ew team focused on Engineering Automated Marketing for user acquisition  Engineering Automated Marketing is the art and science of bringing the right content to the right users  at scale  Thanks to the power of Machine Learning  the depth of Spotify      9s catalog and our large user'"
      ]
     },
     "execution_count": 50,
     "metadata": {},
     "output_type": "execute_result"
    }
   ],
   "source": [
    "df['description'][414][:500]"
   ]
  },
  {
   "cell_type": "code",
   "execution_count": 51,
   "metadata": {},
   "outputs": [
    {
     "data": {
      "text/plain": [
       "'Spotify is seeking a Data Scientist  Advanced Marketing Analytics to build advanced marketing analytics solutions  You      9ll play a key role in expanding Spotify      9s marketing measurement abilities  The role reports into the Marketing Analytics team lead and there will be significant cross functional collaboration  In addition  you      9ll have the opportunity to leverage Spotify      9s world class user data infrastructure and collaborate with a global community of 100  data analysts   '"
      ]
     },
     "execution_count": 51,
     "metadata": {},
     "output_type": "execute_result"
    }
   ],
   "source": [
    "df['description'][230][:500]"
   ]
  },
  {
   "cell_type": "markdown",
   "metadata": {
    "colab_type": "text",
    "id": "FiDfTWceoRkH"
   },
   "source": [
    "## Stretch Goals\n",
    "\n",
    " - Try different visualizations for words and frequencies - what story do you want to tell with the data?\n",
    " - Scrape Job Listings for the job title \"Data Analyst\". How do these differ from Data Scientist Job Listings\n",
    " - Try and identify requirements for experience specific technologies that are asked for in the job listings. How are those distributed among the job listings?\n",
    " - Use a clustering algorithm to cluster documents by their most important terms. Do the clusters reveal any common themes?\n",
    "  - **Hint:** K-means might not be the best algorithm for this. Do a little bit of research to see what might be good for this. Also, remember that algorithms that depend on Euclidean distance break down with high dimensional data.\n",
    " - Create a labeled dataset - which jobs will you apply for? Train a model to select the jobs you are most likely to apply for. :) "
   ]
  }
 ],
 "metadata": {
  "colab": {
   "collapsed_sections": [],
   "name": "LS_DS_422_BOW_Assignment.ipynb",
   "provenance": [],
   "version": "0.3.2"
  },
  "kernel_info": {
   "name": "python3"
  },
  "kernelspec": {
   "display_name": "U4-S1-M1 (Python3)",
   "language": "python",
   "name": "u4-s1-m1"
  },
  "language_info": {
   "codemirror_mode": {
    "name": "ipython",
    "version": 3
   },
   "file_extension": ".py",
   "mimetype": "text/x-python",
   "name": "python",
   "nbconvert_exporter": "python",
   "pygments_lexer": "ipython3",
   "version": "3.7.3"
  },
  "nteract": {
   "version": "0.14.3"
  }
 },
 "nbformat": 4,
 "nbformat_minor": 4
}
