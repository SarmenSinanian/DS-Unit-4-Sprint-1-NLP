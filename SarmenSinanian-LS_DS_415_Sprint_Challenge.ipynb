{
 "cells": [
  {
   "cell_type": "markdown",
   "metadata": {},
   "source": [
    "<img align=\"left\" src=\"https://lever-client-logos.s3.amazonaws.com/864372b1-534c-480e-acd5-9711f850815c-1524247202159.png\" width=200>\n",
    "<br></br>\n",
    "<br></br>\n",
    "\n",
    "# Sprint Challenge\n",
    "## *Data Science Unit 4 Sprint 1*\n",
    "\n",
    "After a week of Natural Language Processing, you've learned some cool new stuff: how to process text, how turn text into vectors, and how to model topics from documents. Apply your newly acquired skills to one of the most famous NLP datasets out there: [Yelp](https://www.yelp.com/dataset/challenge). As part of the job selection process, some of my friends have been asked to create analysis of this dataset, so I want to empower you to have a head start.  \n",
    "\n",
    "The real dataset is massive (almost 8 gigs uncompressed). I've sampled the data for you to something more managable for the Sprint Challenge. You can analyze the full dataset as a stretch goal or after the sprint challenge. As you work on the challenge, I suggest adding notes about your findings and things you want to analyze in the future.\n",
    "\n",
    "## Challenge Objectives\n",
    "*Successfully complete these all these objectives to earn a 2. There are more details on each objective further down in the notebook.*\n",
    "* <a href=\"#p1\">Part 1</a>: Write a function to tokenize the yelp reviews\n",
    "* <a href=\"#p2\">Part 2</a>: Create a vector representation of those tokens\n",
    "* <a href=\"#p3\">Part 3</a>: Use your tokens in a classification model on yelp rating\n",
    "* <a href=\"#p4\">Part 4</a>: Estimate & Interpret a topic model of the Yelp reviews"
   ]
  },
  {
   "cell_type": "code",
   "execution_count": 1,
   "metadata": {},
   "outputs": [],
   "source": [
    "import pandas as pd\n",
    "\n",
    "yelp = pd.read_json('./data/review_sample.json', lines=True)"
   ]
  },
  {
   "cell_type": "code",
   "execution_count": 2,
   "metadata": {},
   "outputs": [
    {
     "data": {
      "text/html": [
       "<div>\n",
       "<style scoped>\n",
       "    .dataframe tbody tr th:only-of-type {\n",
       "        vertical-align: middle;\n",
       "    }\n",
       "\n",
       "    .dataframe tbody tr th {\n",
       "        vertical-align: top;\n",
       "    }\n",
       "\n",
       "    .dataframe thead th {\n",
       "        text-align: right;\n",
       "    }\n",
       "</style>\n",
       "<table border=\"1\" class=\"dataframe\">\n",
       "  <thead>\n",
       "    <tr style=\"text-align: right;\">\n",
       "      <th></th>\n",
       "      <th>business_id</th>\n",
       "      <th>cool</th>\n",
       "      <th>date</th>\n",
       "      <th>funny</th>\n",
       "      <th>review_id</th>\n",
       "      <th>stars</th>\n",
       "      <th>text</th>\n",
       "      <th>useful</th>\n",
       "      <th>user_id</th>\n",
       "    </tr>\n",
       "  </thead>\n",
       "  <tbody>\n",
       "    <tr>\n",
       "      <th>0</th>\n",
       "      <td>nDuEqIyRc8YKS1q1fX0CZg</td>\n",
       "      <td>1</td>\n",
       "      <td>2015-03-31 16:50:30</td>\n",
       "      <td>0</td>\n",
       "      <td>eZs2tpEJtXPwawvHnHZIgQ</td>\n",
       "      <td>1</td>\n",
       "      <td>BEWARE!!! FAKE, FAKE, FAKE....We also own a sm...</td>\n",
       "      <td>10</td>\n",
       "      <td>n1LM36qNg4rqGXIcvVXv8w</td>\n",
       "    </tr>\n",
       "    <tr>\n",
       "      <th>1</th>\n",
       "      <td>eMYeEapscbKNqUDCx705hg</td>\n",
       "      <td>0</td>\n",
       "      <td>2015-12-16 05:31:03</td>\n",
       "      <td>0</td>\n",
       "      <td>DoQDWJsNbU0KL1O29l_Xug</td>\n",
       "      <td>4</td>\n",
       "      <td>Came here for lunch Togo. Service was quick. S...</td>\n",
       "      <td>0</td>\n",
       "      <td>5CgjjDAic2-FAvCtiHpytA</td>\n",
       "    </tr>\n",
       "    <tr>\n",
       "      <th>2</th>\n",
       "      <td>6Q7-wkCPc1KF75jZLOTcMw</td>\n",
       "      <td>1</td>\n",
       "      <td>2010-06-20 19:14:48</td>\n",
       "      <td>1</td>\n",
       "      <td>DDOdGU7zh56yQHmUnL1idQ</td>\n",
       "      <td>3</td>\n",
       "      <td>I've been to Vegas dozens of times and had nev...</td>\n",
       "      <td>2</td>\n",
       "      <td>BdV-cf3LScmb8kZ7iiBcMA</td>\n",
       "    </tr>\n",
       "    <tr>\n",
       "      <th>3</th>\n",
       "      <td>k3zrItO4l9hwfLRwHBDc9w</td>\n",
       "      <td>3</td>\n",
       "      <td>2010-07-13 00:33:45</td>\n",
       "      <td>4</td>\n",
       "      <td>LfTMUWnfGFMOfOIyJcwLVA</td>\n",
       "      <td>1</td>\n",
       "      <td>We went here on a night where they closed off ...</td>\n",
       "      <td>5</td>\n",
       "      <td>cZZnBqh4gAEy4CdNvJailQ</td>\n",
       "    </tr>\n",
       "    <tr>\n",
       "      <th>4</th>\n",
       "      <td>6hpfRwGlOzbNv7k5eP9rsQ</td>\n",
       "      <td>1</td>\n",
       "      <td>2018-06-30 02:30:01</td>\n",
       "      <td>0</td>\n",
       "      <td>zJSUdI7bJ8PNJAg4lnl_Gg</td>\n",
       "      <td>4</td>\n",
       "      <td>3.5 to 4 stars\\n\\nNot bad for the price, $12.9...</td>\n",
       "      <td>5</td>\n",
       "      <td>n9QO4ClYAS7h9fpQwa5bhA</td>\n",
       "    </tr>\n",
       "  </tbody>\n",
       "</table>\n",
       "</div>"
      ],
      "text/plain": [
       "              business_id  cool                date  funny  \\\n",
       "0  nDuEqIyRc8YKS1q1fX0CZg     1 2015-03-31 16:50:30      0   \n",
       "1  eMYeEapscbKNqUDCx705hg     0 2015-12-16 05:31:03      0   \n",
       "2  6Q7-wkCPc1KF75jZLOTcMw     1 2010-06-20 19:14:48      1   \n",
       "3  k3zrItO4l9hwfLRwHBDc9w     3 2010-07-13 00:33:45      4   \n",
       "4  6hpfRwGlOzbNv7k5eP9rsQ     1 2018-06-30 02:30:01      0   \n",
       "\n",
       "                review_id  stars  \\\n",
       "0  eZs2tpEJtXPwawvHnHZIgQ      1   \n",
       "1  DoQDWJsNbU0KL1O29l_Xug      4   \n",
       "2  DDOdGU7zh56yQHmUnL1idQ      3   \n",
       "3  LfTMUWnfGFMOfOIyJcwLVA      1   \n",
       "4  zJSUdI7bJ8PNJAg4lnl_Gg      4   \n",
       "\n",
       "                                                text  useful  \\\n",
       "0  BEWARE!!! FAKE, FAKE, FAKE....We also own a sm...      10   \n",
       "1  Came here for lunch Togo. Service was quick. S...       0   \n",
       "2  I've been to Vegas dozens of times and had nev...       2   \n",
       "3  We went here on a night where they closed off ...       5   \n",
       "4  3.5 to 4 stars\\n\\nNot bad for the price, $12.9...       5   \n",
       "\n",
       "                  user_id  \n",
       "0  n1LM36qNg4rqGXIcvVXv8w  \n",
       "1  5CgjjDAic2-FAvCtiHpytA  \n",
       "2  BdV-cf3LScmb8kZ7iiBcMA  \n",
       "3  cZZnBqh4gAEy4CdNvJailQ  \n",
       "4  n9QO4ClYAS7h9fpQwa5bhA  "
      ]
     },
     "execution_count": 2,
     "metadata": {},
     "output_type": "execute_result"
    }
   ],
   "source": [
    "yelp.head()"
   ]
  },
  {
   "cell_type": "code",
   "execution_count": 3,
   "metadata": {},
   "outputs": [
    {
     "data": {
      "text/plain": [
       "Index(['business_id', 'cool', 'date', 'funny', 'review_id', 'stars', 'text',\n",
       "       'useful', 'user_id'],\n",
       "      dtype='object')"
      ]
     },
     "execution_count": 3,
     "metadata": {},
     "output_type": "execute_result"
    }
   ],
   "source": [
    "yelp.columns"
   ]
  },
  {
   "cell_type": "markdown",
   "metadata": {},
   "source": [
    "## Part 1: Tokenize Function\n",
    "<a id=\"#p1\"></a>\n",
    "\n",
    "Complete the function `tokenize`. Your function should\n",
    "- accept one document at a time\n",
    "- return a list of tokens\n",
    "\n",
    "You are free to use any method you have learned this week."
   ]
  },
  {
   "cell_type": "markdown",
   "metadata": {},
   "source": [
    "# ADD STOP WORD REMOVAL & THROW SOME CHARTS IN FOR GOOD MEASURE & REMOVE ASIAN/FOREIGN LANGUAGES"
   ]
  },
  {
   "cell_type": "code",
   "execution_count": 4,
   "metadata": {},
   "outputs": [],
   "source": [
    "import spacy\n",
    "from spacy.tokenizer import Tokenizer\n",
    "\n",
    "nlp = spacy.load(\"en_core_web_lg\")\n",
    "\n",
    "# Tokenizer\n",
    "tokenizer = Tokenizer(nlp.vocab)"
   ]
  },
  {
   "cell_type": "code",
   "execution_count": 5,
   "metadata": {},
   "outputs": [],
   "source": [
    "STOP_WORDS = nlp.Defaults.stop_words.union(['', ' ','  ','   ', '-', '1', 'the,', ' the', 'the ',\n",
    "                                            'be', 'like' ,'coffee', '', 'i', 'I', 'be'])"
   ]
  },
  {
   "cell_type": "code",
   "execution_count": 6,
   "metadata": {},
   "outputs": [],
   "source": [
    "import re"
   ]
  },
  {
   "cell_type": "code",
   "execution_count": 7,
   "metadata": {},
   "outputs": [],
   "source": [
    "def tokenize(text):\n",
    "    tokens = []\n",
    "\n",
    "    for doc in tokenizer.pipe(text):\n",
    "\n",
    "        doc_tokens = []\n",
    "\n",
    "        for token in doc: \n",
    "            if token.text not in STOP_WORDS:\n",
    "                doc_tokens_text = re.sub(r'[^a-zA-Z ^0-9]', '', token.text)\n",
    "                doc_tokens.append(doc_tokens_text.lower())\n",
    "\n",
    "\n",
    "        tokens.append(doc_tokens)\n",
    "    return tokens"
   ]
  },
  {
   "cell_type": "code",
   "execution_count": 8,
   "metadata": {},
   "outputs": [],
   "source": [
    "yelp['tokens'] = tokenize(yelp['text'])"
   ]
  },
  {
   "cell_type": "code",
   "execution_count": 9,
   "metadata": {},
   "outputs": [
    {
     "data": {
      "text/plain": [
       "0       [beware, fake, fake, fakewe, small, business, ...\n",
       "1       [came, lunch, togo, service, quick, staff, fri...\n",
       "2       [ive, vegas, dozens, times, stepped, foot, cir...\n",
       "3       [we, went, night, closed, street, party, and, ...\n",
       "4       [35, 4, stars, , not, bad, price, 1299, lunch,...\n",
       "5       [tasty, fast, casual, latin, street, food, the...\n",
       "6       [this, absolutely, amazing, what, incredible, ...\n",
       "7       [came, pho, enjoyed, it, we, got, 900pm, busy,...\n",
       "8       [absolutely, unique, experience, nail, shop, f...\n",
       "9       [wow, walked, sat, bar, 10, minutes, all, bart...\n",
       "10      [we, popped, dinner, yesterday, reservation, d...\n",
       "11      [thw, worst, stay, ever, so, ended, paying, 70...\n",
       "12      [great, friendly, customer, service, quality, ...\n",
       "13      [the, food, great, it, super, busy, server, at...\n",
       "14      [talk, getting, ripped, off, they, charged, 42...\n",
       "15      [girls, night, tonight, kid, decided, drive, h...\n",
       "16      [stopped, drinks, flying, charlotte, weeks, ba...\n",
       "17      [this, excellent, restaurant, encourage, visit...\n",
       "18      [had, purchased, groupon, massage, maryann, ma...\n",
       "19      [below, previous, review, still, stands, 2, ye...\n",
       "20      [awesome, ayce, sushi, joint, fresh, instead, ...\n",
       "21      [yorkdale, shopping, centre, best, mall, toron...\n",
       "22      [biancos, best, marketing, ploy, city, powerba...\n",
       "23      [havent, indian, food, buffet, legit, , buffet...\n",
       "24      [their, kids, menu, kraft, mac, n, cheese, the...\n",
       "25      [this, place, friendly, clean, yes, bathrooms,...\n",
       "26      [just, high, end, retailer, store, forum, shop...\n",
       "27      [after, spending, 3, hours, last, chance, dad,...\n",
       "28      [first, love, feel, throw, joint, love, place,...\n",
       "29      [had, long, time, coming, here, glad, finally,...\n",
       "                              ...                        \n",
       "9970    [a, know, , expensive, , went, work, dinner, ,...\n",
       "9971    [im, providing, 5, stars, service, technician,...\n",
       "9972    [the, couple, run, place, seen, thing, morning...\n",
       "9973    [ive, grabbed, dinner, couple, times, past, mo...\n",
       "9974    [given, finding, good, mexican, restaurant, ve...\n",
       "9975    [one, wordamazing, , the, selections, world, f...\n",
       "9976    [this, package, great, ambience, amazing, live...\n",
       "9977    [order, burger, cold, test, good, jack, daniel...\n",
       "9978    [love, roxton, solid, service, lovely, owners,...\n",
       "9979    [not, impressed, all, this, place, came, recom...\n",
       "9980    [well, im, hard, watch, sports, drink, but, we...\n",
       "9981    [as, authentic, gets, try, kobe, beef, carpaccio]\n",
       "9982    [tried, place, time, im, asking, wait, long, i...\n",
       "9983    [before, going, 9037, salon, barbershop, lagun...\n",
       "9984    [best, bowl, dandan, noodles, ive, had, huge, ...\n",
       "9985    [truly, touched, customer, service, wildflower...\n",
       "9986    [if, looking, save, little, time, dont, bother...\n",
       "9987    [sw, awesome, got, chance, tour, diana, amazin...\n",
       "9988    [purchased, car, super, happy, overall, colean...\n",
       "9989    [indie, favourite, junctionites, opening, door...\n",
       "9990    [such, great, little, spot, its, remember, goo...\n",
       "9991    [going, 8, years, professional, the, services,...\n",
       "9992    [this, salon, new, management, new, owners, am...\n",
       "9993    [reading, reviews, sure, doctor, professional,...\n",
       "9994    [loga, expanded, menu, include, parathas, beef...\n",
       "9995    [my, family, hungry, subway, open, 24, hours, ...\n",
       "9996    [my, wife, came, couple, friends, the, sever, ...\n",
       "9997    [the, food, ok, brag, about, the, food, hot, i...\n",
       "9998    [todays, visit, great, love, enjoy, town, squa...\n",
       "9999    [this, absolute, worst, place, stayed, 43, yea...\n",
       "Name: tokens, Length: 10000, dtype: object"
      ]
     },
     "execution_count": 9,
     "metadata": {},
     "output_type": "execute_result"
    }
   ],
   "source": [
    "yelp['tokens']"
   ]
  },
  {
   "cell_type": "markdown",
   "metadata": {},
   "source": [
    "## Part 2: Vector Representation\n",
    "<a id=\"#p2\"></a>\n",
    "1. Create a vector representation of the reviews\n",
    "2. Write a fake review and query for the 10 most similiar reviews, print the text of the reviews. Do you notice any patterns?\n",
    "    - Given the size of the dataset, it will probably be best to use a `NearestNeighbors` model for this. "
   ]
  },
  {
   "cell_type": "markdown",
   "metadata": {},
   "source": [
    "# 1"
   ]
  },
  {
   "cell_type": "code",
   "execution_count": 10,
   "metadata": {},
   "outputs": [],
   "source": [
    "from sklearn.feature_extraction.text import CountVectorizer, TfidfVectorizer"
   ]
  },
  {
   "cell_type": "code",
   "execution_count": 11,
   "metadata": {},
   "outputs": [],
   "source": [
    "vect = CountVectorizer(stop_words='english', min_df = 0.05, max_df= 0.90)"
   ]
  },
  {
   "cell_type": "code",
   "execution_count": 12,
   "metadata": {},
   "outputs": [
    {
     "data": {
      "text/plain": [
       "CountVectorizer(analyzer='word', binary=False, decode_error='strict',\n",
       "                dtype=<class 'numpy.int64'>, encoding='utf-8', input='content',\n",
       "                lowercase=True, max_df=0.9, max_features=None, min_df=0.05,\n",
       "                ngram_range=(1, 1), preprocessor=None, stop_words='english',\n",
       "                strip_accents=None, token_pattern='(?u)\\\\b\\\\w\\\\w+\\\\b',\n",
       "                tokenizer=None, vocabulary=None)"
      ]
     },
     "execution_count": 12,
     "metadata": {},
     "output_type": "execute_result"
    }
   ],
   "source": [
    "vect"
   ]
  },
  {
   "cell_type": "code",
   "execution_count": 13,
   "metadata": {},
   "outputs": [
    {
     "data": {
      "text/plain": [
       "CountVectorizer(analyzer='word', binary=False, decode_error='strict',\n",
       "                dtype=<class 'numpy.int64'>, encoding='utf-8', input='content',\n",
       "                lowercase=True, max_df=0.9, max_features=None, min_df=0.05,\n",
       "                ngram_range=(1, 1), preprocessor=None, stop_words='english',\n",
       "                strip_accents=None, token_pattern='(?u)\\\\b\\\\w\\\\w+\\\\b',\n",
       "                tokenizer=None, vocabulary=None)"
      ]
     },
     "execution_count": 13,
     "metadata": {},
     "output_type": "execute_result"
    }
   ],
   "source": [
    "vect.fit(yelp['text'])"
   ]
  },
  {
   "cell_type": "code",
   "execution_count": 14,
   "metadata": {},
   "outputs": [],
   "source": [
    "dtm = vect.transform(yelp['text'])"
   ]
  },
  {
   "cell_type": "code",
   "execution_count": 15,
   "metadata": {},
   "outputs": [
    {
     "data": {
      "text/plain": [
       "<10000x116 sparse matrix of type '<class 'numpy.int64'>'\n",
       "\twith 112374 stored elements in Compressed Sparse Row format>"
      ]
     },
     "execution_count": 15,
     "metadata": {},
     "output_type": "execute_result"
    }
   ],
   "source": [
    "dtm"
   ]
  },
  {
   "cell_type": "code",
   "execution_count": 16,
   "metadata": {},
   "outputs": [],
   "source": [
    "# print(dtm)"
   ]
  },
  {
   "cell_type": "code",
   "execution_count": 17,
   "metadata": {},
   "outputs": [
    {
     "data": {
      "text/plain": [
       "matrix([[0, 0, 0, ..., 0, 0, 0],\n",
       "        [0, 0, 0, ..., 0, 0, 0],\n",
       "        [0, 0, 1, ..., 0, 0, 0],\n",
       "        ...,\n",
       "        [0, 0, 0, ..., 0, 0, 0],\n",
       "        [0, 0, 0, ..., 0, 0, 0],\n",
       "        [0, 0, 0, ..., 0, 0, 0]], dtype=int64)"
      ]
     },
     "execution_count": 17,
     "metadata": {},
     "output_type": "execute_result"
    }
   ],
   "source": [
    "dtm.todense()"
   ]
  },
  {
   "cell_type": "code",
   "execution_count": 18,
   "metadata": {},
   "outputs": [],
   "source": [
    "dtm = pd.DataFrame(dtm.todense(),columns=vect.get_feature_names())"
   ]
  },
  {
   "cell_type": "code",
   "execution_count": 19,
   "metadata": {},
   "outputs": [
    {
     "data": {
      "text/plain": [
       "(10000, 116)"
      ]
     },
     "execution_count": 19,
     "metadata": {},
     "output_type": "execute_result"
    }
   ],
   "source": [
    "dtm.shape"
   ]
  },
  {
   "cell_type": "code",
   "execution_count": 20,
   "metadata": {},
   "outputs": [
    {
     "data": {
      "text/html": [
       "<div>\n",
       "<style scoped>\n",
       "    .dataframe tbody tr th:only-of-type {\n",
       "        vertical-align: middle;\n",
       "    }\n",
       "\n",
       "    .dataframe tbody tr th {\n",
       "        vertical-align: top;\n",
       "    }\n",
       "\n",
       "    .dataframe thead th {\n",
       "        text-align: right;\n",
       "    }\n",
       "</style>\n",
       "<table border=\"1\" class=\"dataframe\">\n",
       "  <thead>\n",
       "    <tr style=\"text-align: right;\">\n",
       "      <th></th>\n",
       "      <th>10</th>\n",
       "      <th>amazing</th>\n",
       "      <th>area</th>\n",
       "      <th>asked</th>\n",
       "      <th>away</th>\n",
       "      <th>awesome</th>\n",
       "      <th>bad</th>\n",
       "      <th>bar</th>\n",
       "      <th>best</th>\n",
       "      <th>better</th>\n",
       "      <th>...</th>\n",
       "      <th>vegas</th>\n",
       "      <th>wait</th>\n",
       "      <th>want</th>\n",
       "      <th>wanted</th>\n",
       "      <th>wasn</th>\n",
       "      <th>way</th>\n",
       "      <th>went</th>\n",
       "      <th>work</th>\n",
       "      <th>worth</th>\n",
       "      <th>years</th>\n",
       "    </tr>\n",
       "  </thead>\n",
       "  <tbody>\n",
       "    <tr>\n",
       "      <th>0</th>\n",
       "      <td>0</td>\n",
       "      <td>0</td>\n",
       "      <td>0</td>\n",
       "      <td>0</td>\n",
       "      <td>0</td>\n",
       "      <td>0</td>\n",
       "      <td>0</td>\n",
       "      <td>0</td>\n",
       "      <td>0</td>\n",
       "      <td>0</td>\n",
       "      <td>...</td>\n",
       "      <td>0</td>\n",
       "      <td>1</td>\n",
       "      <td>0</td>\n",
       "      <td>0</td>\n",
       "      <td>0</td>\n",
       "      <td>0</td>\n",
       "      <td>0</td>\n",
       "      <td>0</td>\n",
       "      <td>0</td>\n",
       "      <td>0</td>\n",
       "    </tr>\n",
       "    <tr>\n",
       "      <th>1</th>\n",
       "      <td>0</td>\n",
       "      <td>0</td>\n",
       "      <td>0</td>\n",
       "      <td>0</td>\n",
       "      <td>0</td>\n",
       "      <td>0</td>\n",
       "      <td>0</td>\n",
       "      <td>0</td>\n",
       "      <td>0</td>\n",
       "      <td>0</td>\n",
       "      <td>...</td>\n",
       "      <td>0</td>\n",
       "      <td>0</td>\n",
       "      <td>0</td>\n",
       "      <td>0</td>\n",
       "      <td>0</td>\n",
       "      <td>0</td>\n",
       "      <td>0</td>\n",
       "      <td>0</td>\n",
       "      <td>0</td>\n",
       "      <td>0</td>\n",
       "    </tr>\n",
       "    <tr>\n",
       "      <th>2</th>\n",
       "      <td>0</td>\n",
       "      <td>0</td>\n",
       "      <td>1</td>\n",
       "      <td>0</td>\n",
       "      <td>0</td>\n",
       "      <td>0</td>\n",
       "      <td>0</td>\n",
       "      <td>0</td>\n",
       "      <td>0</td>\n",
       "      <td>0</td>\n",
       "      <td>...</td>\n",
       "      <td>2</td>\n",
       "      <td>0</td>\n",
       "      <td>0</td>\n",
       "      <td>0</td>\n",
       "      <td>0</td>\n",
       "      <td>0</td>\n",
       "      <td>1</td>\n",
       "      <td>0</td>\n",
       "      <td>0</td>\n",
       "      <td>0</td>\n",
       "    </tr>\n",
       "    <tr>\n",
       "      <th>3</th>\n",
       "      <td>0</td>\n",
       "      <td>0</td>\n",
       "      <td>0</td>\n",
       "      <td>0</td>\n",
       "      <td>0</td>\n",
       "      <td>0</td>\n",
       "      <td>0</td>\n",
       "      <td>0</td>\n",
       "      <td>1</td>\n",
       "      <td>0</td>\n",
       "      <td>...</td>\n",
       "      <td>0</td>\n",
       "      <td>0</td>\n",
       "      <td>0</td>\n",
       "      <td>0</td>\n",
       "      <td>0</td>\n",
       "      <td>0</td>\n",
       "      <td>1</td>\n",
       "      <td>0</td>\n",
       "      <td>0</td>\n",
       "      <td>0</td>\n",
       "    </tr>\n",
       "    <tr>\n",
       "      <th>4</th>\n",
       "      <td>0</td>\n",
       "      <td>0</td>\n",
       "      <td>0</td>\n",
       "      <td>0</td>\n",
       "      <td>0</td>\n",
       "      <td>0</td>\n",
       "      <td>1</td>\n",
       "      <td>2</td>\n",
       "      <td>0</td>\n",
       "      <td>0</td>\n",
       "      <td>...</td>\n",
       "      <td>0</td>\n",
       "      <td>0</td>\n",
       "      <td>0</td>\n",
       "      <td>0</td>\n",
       "      <td>0</td>\n",
       "      <td>0</td>\n",
       "      <td>0</td>\n",
       "      <td>0</td>\n",
       "      <td>0</td>\n",
       "      <td>0</td>\n",
       "    </tr>\n",
       "  </tbody>\n",
       "</table>\n",
       "<p>5 rows × 116 columns</p>\n",
       "</div>"
      ],
      "text/plain": [
       "   10  amazing  area  asked  away  awesome  bad  bar  best  better  ...  \\\n",
       "0   0        0     0      0     0        0    0    0     0       0  ...   \n",
       "1   0        0     0      0     0        0    0    0     0       0  ...   \n",
       "2   0        0     1      0     0        0    0    0     0       0  ...   \n",
       "3   0        0     0      0     0        0    0    0     1       0  ...   \n",
       "4   0        0     0      0     0        0    1    2     0       0  ...   \n",
       "\n",
       "   vegas  wait  want  wanted  wasn  way  went  work  worth  years  \n",
       "0      0     1     0       0     0    0     0     0      0      0  \n",
       "1      0     0     0       0     0    0     0     0      0      0  \n",
       "2      2     0     0       0     0    0     1     0      0      0  \n",
       "3      0     0     0       0     0    0     1     0      0      0  \n",
       "4      0     0     0       0     0    0     0     0      0      0  \n",
       "\n",
       "[5 rows x 116 columns]"
      ]
     },
     "execution_count": 20,
     "metadata": {},
     "output_type": "execute_result"
    }
   ],
   "source": [
    "dtm.head()"
   ]
  },
  {
   "cell_type": "code",
   "execution_count": 21,
   "metadata": {},
   "outputs": [
    {
     "data": {
      "text/plain": [
       "Index(['10', 'amazing', 'area', 'asked', 'away', 'awesome', 'bad', 'bar',\n",
       "       'best', 'better',\n",
       "       ...\n",
       "       'vegas', 'wait', 'want', 'wanted', 'wasn', 'way', 'went', 'work',\n",
       "       'worth', 'years'],\n",
       "      dtype='object', length=116)"
      ]
     },
     "execution_count": 21,
     "metadata": {},
     "output_type": "execute_result"
    }
   ],
   "source": [
    "dtm.columns"
   ]
  },
  {
   "cell_type": "markdown",
   "metadata": {},
   "source": [
    "# 2"
   ]
  },
  {
   "cell_type": "code",
   "execution_count": 22,
   "metadata": {},
   "outputs": [],
   "source": [
    "from sklearn.neighbors import NearestNeighbors\n",
    "from sklearn.metrics.pairwise import cosine_similarity"
   ]
  },
  {
   "cell_type": "code",
   "execution_count": 23,
   "metadata": {},
   "outputs": [
    {
     "data": {
      "text/plain": [
       "NearestNeighbors(algorithm='ball_tree', leaf_size=30, metric='minkowski',\n",
       "                 metric_params=None, n_jobs=None, n_neighbors=5, p=2,\n",
       "                 radius=1.0)"
      ]
     },
     "execution_count": 23,
     "metadata": {},
     "output_type": "execute_result"
    }
   ],
   "source": [
    "nn  = NearestNeighbors(n_neighbors=5, algorithm='ball_tree')\n",
    "nn.fit(dtm)"
   ]
  },
  {
   "cell_type": "code",
   "execution_count": 24,
   "metadata": {},
   "outputs": [
    {
     "data": {
      "text/plain": [
       "(array([[0.        , 3.87298335, 4.12310563, 4.12310563, 4.12310563]]),\n",
       " array([[ 356, 3888, 6475, 5232, 5072]], dtype=int64))"
      ]
     },
     "execution_count": 24,
     "metadata": {},
     "output_type": "execute_result"
    }
   ],
   "source": [
    "nn.kneighbors([dtm.iloc[356]])"
   ]
  },
  {
   "cell_type": "code",
   "execution_count": 25,
   "metadata": {},
   "outputs": [
    {
     "data": {
      "text/plain": [
       "'I went to this place after seeing all the hype from different blogs posting about their drinks! \\nI ordered their signature tea (recommended by the cashier) - I am glad I asked her and chose less ice/5'"
      ]
     },
     "execution_count": 25,
     "metadata": {},
     "output_type": "execute_result"
    }
   ],
   "source": [
    "yelp['text'][356][:200]"
   ]
  },
  {
   "cell_type": "code",
   "execution_count": 26,
   "metadata": {},
   "outputs": [
    {
     "data": {
      "text/plain": [
       "\"They advertise that they will  price match on the internet in their camera department. h\\nHowever, don't expect to receieve any of the internet promo items like a free camera bag, or free memory card w\""
      ]
     },
     "execution_count": 26,
     "metadata": {},
     "output_type": "execute_result"
    }
   ],
   "source": [
    "yelp['text'][3888][:200]"
   ]
  },
  {
   "cell_type": "code",
   "execution_count": null,
   "metadata": {},
   "outputs": [],
   "source": []
  },
  {
   "cell_type": "code",
   "execution_count": 27,
   "metadata": {},
   "outputs": [],
   "source": [
    "# tfidf = TfidfVectorizer(stop_words = 'english', min_df=.025, max_df=.95, ngram_range=(1,2))\n",
    "tfidf = TfidfVectorizer(stop_words = STOP_WORDS, min_df=.025, max_df=.95, ngram_range=(1,2))"
   ]
  },
  {
   "cell_type": "code",
   "execution_count": 28,
   "metadata": {},
   "outputs": [
    {
     "name": "stderr",
     "output_type": "stream",
     "text": [
      "C:\\Users\\Sarmen\\.conda\\envs\\U4-S1-M1\\lib\\site-packages\\sklearn\\feature_extraction\\text.py:300: UserWarning: Your stop_words may be inconsistent with your preprocessing. Tokenizing the stop words generated tokens ['ll', 've'] not in stop_words.\n",
      "  'stop_words.' % sorted(inconsistent))\n"
     ]
    }
   ],
   "source": [
    "sparse = tfidf.fit_transform(yelp['text'])"
   ]
  },
  {
   "cell_type": "code",
   "execution_count": 29,
   "metadata": {},
   "outputs": [
    {
     "data": {
      "text/plain": [
       "<10000x317 sparse matrix of type '<class 'numpy.float64'>'\n",
       "\twith 174191 stored elements in Compressed Sparse Row format>"
      ]
     },
     "execution_count": 29,
     "metadata": {},
     "output_type": "execute_result"
    }
   ],
   "source": [
    "sparse"
   ]
  },
  {
   "cell_type": "code",
   "execution_count": 30,
   "metadata": {},
   "outputs": [],
   "source": [
    "dtm = pd.DataFrame(sparse.todense(), columns=tfidf.get_feature_names())"
   ]
  },
  {
   "cell_type": "code",
   "execution_count": 31,
   "metadata": {},
   "outputs": [
    {
     "data": {
      "text/html": [
       "<div>\n",
       "<style scoped>\n",
       "    .dataframe tbody tr th:only-of-type {\n",
       "        vertical-align: middle;\n",
       "    }\n",
       "\n",
       "    .dataframe tbody tr th {\n",
       "        vertical-align: top;\n",
       "    }\n",
       "\n",
       "    .dataframe thead th {\n",
       "        text-align: right;\n",
       "    }\n",
       "</style>\n",
       "<table border=\"1\" class=\"dataframe\">\n",
       "  <thead>\n",
       "    <tr style=\"text-align: right;\">\n",
       "      <th></th>\n",
       "      <th>10</th>\n",
       "      <th>15</th>\n",
       "      <th>20</th>\n",
       "      <th>30</th>\n",
       "      <th>able</th>\n",
       "      <th>absolutely</th>\n",
       "      <th>actually</th>\n",
       "      <th>ago</th>\n",
       "      <th>amazing</th>\n",
       "      <th>area</th>\n",
       "      <th>...</th>\n",
       "      <th>wonderful</th>\n",
       "      <th>work</th>\n",
       "      <th>working</th>\n",
       "      <th>worst</th>\n",
       "      <th>worth</th>\n",
       "      <th>wouldn</th>\n",
       "      <th>wrong</th>\n",
       "      <th>year</th>\n",
       "      <th>years</th>\n",
       "      <th>yelp</th>\n",
       "    </tr>\n",
       "  </thead>\n",
       "  <tbody>\n",
       "    <tr>\n",
       "      <th>0</th>\n",
       "      <td>0.0</td>\n",
       "      <td>0.000000</td>\n",
       "      <td>0.241159</td>\n",
       "      <td>0.0</td>\n",
       "      <td>0.0</td>\n",
       "      <td>0.0</td>\n",
       "      <td>0.000000</td>\n",
       "      <td>0.0</td>\n",
       "      <td>0.0</td>\n",
       "      <td>0.000000</td>\n",
       "      <td>...</td>\n",
       "      <td>0.0</td>\n",
       "      <td>0.0</td>\n",
       "      <td>0.0</td>\n",
       "      <td>0.0</td>\n",
       "      <td>0.0</td>\n",
       "      <td>0.0</td>\n",
       "      <td>0.0</td>\n",
       "      <td>0.00000</td>\n",
       "      <td>0.0</td>\n",
       "      <td>0.0</td>\n",
       "    </tr>\n",
       "    <tr>\n",
       "      <th>1</th>\n",
       "      <td>0.0</td>\n",
       "      <td>0.000000</td>\n",
       "      <td>0.000000</td>\n",
       "      <td>0.0</td>\n",
       "      <td>0.0</td>\n",
       "      <td>0.0</td>\n",
       "      <td>0.000000</td>\n",
       "      <td>0.0</td>\n",
       "      <td>0.0</td>\n",
       "      <td>0.000000</td>\n",
       "      <td>...</td>\n",
       "      <td>0.0</td>\n",
       "      <td>0.0</td>\n",
       "      <td>0.0</td>\n",
       "      <td>0.0</td>\n",
       "      <td>0.0</td>\n",
       "      <td>0.0</td>\n",
       "      <td>0.0</td>\n",
       "      <td>0.00000</td>\n",
       "      <td>0.0</td>\n",
       "      <td>0.0</td>\n",
       "    </tr>\n",
       "    <tr>\n",
       "      <th>2</th>\n",
       "      <td>0.0</td>\n",
       "      <td>0.000000</td>\n",
       "      <td>0.000000</td>\n",
       "      <td>0.0</td>\n",
       "      <td>0.0</td>\n",
       "      <td>0.0</td>\n",
       "      <td>0.000000</td>\n",
       "      <td>0.0</td>\n",
       "      <td>0.0</td>\n",
       "      <td>0.126582</td>\n",
       "      <td>...</td>\n",
       "      <td>0.0</td>\n",
       "      <td>0.0</td>\n",
       "      <td>0.0</td>\n",
       "      <td>0.0</td>\n",
       "      <td>0.0</td>\n",
       "      <td>0.0</td>\n",
       "      <td>0.0</td>\n",
       "      <td>0.14977</td>\n",
       "      <td>0.0</td>\n",
       "      <td>0.0</td>\n",
       "    </tr>\n",
       "    <tr>\n",
       "      <th>3</th>\n",
       "      <td>0.0</td>\n",
       "      <td>0.000000</td>\n",
       "      <td>0.000000</td>\n",
       "      <td>0.0</td>\n",
       "      <td>0.0</td>\n",
       "      <td>0.0</td>\n",
       "      <td>0.302932</td>\n",
       "      <td>0.0</td>\n",
       "      <td>0.0</td>\n",
       "      <td>0.000000</td>\n",
       "      <td>...</td>\n",
       "      <td>0.0</td>\n",
       "      <td>0.0</td>\n",
       "      <td>0.0</td>\n",
       "      <td>0.0</td>\n",
       "      <td>0.0</td>\n",
       "      <td>0.0</td>\n",
       "      <td>0.0</td>\n",
       "      <td>0.00000</td>\n",
       "      <td>0.0</td>\n",
       "      <td>0.0</td>\n",
       "    </tr>\n",
       "    <tr>\n",
       "      <th>4</th>\n",
       "      <td>0.0</td>\n",
       "      <td>0.225699</td>\n",
       "      <td>0.000000</td>\n",
       "      <td>0.0</td>\n",
       "      <td>0.0</td>\n",
       "      <td>0.0</td>\n",
       "      <td>0.000000</td>\n",
       "      <td>0.0</td>\n",
       "      <td>0.0</td>\n",
       "      <td>0.000000</td>\n",
       "      <td>...</td>\n",
       "      <td>0.0</td>\n",
       "      <td>0.0</td>\n",
       "      <td>0.0</td>\n",
       "      <td>0.0</td>\n",
       "      <td>0.0</td>\n",
       "      <td>0.0</td>\n",
       "      <td>0.0</td>\n",
       "      <td>0.00000</td>\n",
       "      <td>0.0</td>\n",
       "      <td>0.0</td>\n",
       "    </tr>\n",
       "  </tbody>\n",
       "</table>\n",
       "<p>5 rows × 317 columns</p>\n",
       "</div>"
      ],
      "text/plain": [
       "    10        15        20   30  able  absolutely  actually  ago  amazing  \\\n",
       "0  0.0  0.000000  0.241159  0.0   0.0         0.0  0.000000  0.0      0.0   \n",
       "1  0.0  0.000000  0.000000  0.0   0.0         0.0  0.000000  0.0      0.0   \n",
       "2  0.0  0.000000  0.000000  0.0   0.0         0.0  0.000000  0.0      0.0   \n",
       "3  0.0  0.000000  0.000000  0.0   0.0         0.0  0.302932  0.0      0.0   \n",
       "4  0.0  0.225699  0.000000  0.0   0.0         0.0  0.000000  0.0      0.0   \n",
       "\n",
       "       area  ...  wonderful  work  working  worst  worth  wouldn  wrong  \\\n",
       "0  0.000000  ...        0.0   0.0      0.0    0.0    0.0     0.0    0.0   \n",
       "1  0.000000  ...        0.0   0.0      0.0    0.0    0.0     0.0    0.0   \n",
       "2  0.126582  ...        0.0   0.0      0.0    0.0    0.0     0.0    0.0   \n",
       "3  0.000000  ...        0.0   0.0      0.0    0.0    0.0     0.0    0.0   \n",
       "4  0.000000  ...        0.0   0.0      0.0    0.0    0.0     0.0    0.0   \n",
       "\n",
       "      year  years  yelp  \n",
       "0  0.00000    0.0   0.0  \n",
       "1  0.00000    0.0   0.0  \n",
       "2  0.14977    0.0   0.0  \n",
       "3  0.00000    0.0   0.0  \n",
       "4  0.00000    0.0   0.0  \n",
       "\n",
       "[5 rows x 317 columns]"
      ]
     },
     "execution_count": 31,
     "metadata": {},
     "output_type": "execute_result"
    }
   ],
   "source": [
    "dtm.head()"
   ]
  },
  {
   "cell_type": "code",
   "execution_count": 32,
   "metadata": {},
   "outputs": [
    {
     "data": {
      "text/plain": [
       "(10000, 317)"
      ]
     },
     "execution_count": 32,
     "metadata": {},
     "output_type": "execute_result"
    }
   ],
   "source": [
    "dtm.shape"
   ]
  },
  {
   "cell_type": "code",
   "execution_count": 33,
   "metadata": {},
   "outputs": [
    {
     "data": {
      "text/plain": [
       "NearestNeighbors(algorithm='ball_tree', leaf_size=30, metric='minkowski',\n",
       "                 metric_params=None, n_jobs=None, n_neighbors=5, p=2,\n",
       "                 radius=1.0)"
      ]
     },
     "execution_count": 33,
     "metadata": {},
     "output_type": "execute_result"
    }
   ],
   "source": [
    "nn.fit(dtm)"
   ]
  },
  {
   "cell_type": "code",
   "execution_count": 34,
   "metadata": {},
   "outputs": [],
   "source": [
    "dist_matrix  = cosine_similarity(dtm)"
   ]
  },
  {
   "cell_type": "code",
   "execution_count": 35,
   "metadata": {},
   "outputs": [],
   "source": [
    "df = pd.DataFrame(dist_matrix)"
   ]
  },
  {
   "cell_type": "code",
   "execution_count": 36,
   "metadata": {},
   "outputs": [
    {
     "data": {
      "text/plain": [
       "(10000, 10000)"
      ]
     },
     "execution_count": 36,
     "metadata": {},
     "output_type": "execute_result"
    }
   ],
   "source": [
    "df.shape"
   ]
  },
  {
   "cell_type": "code",
   "execution_count": 37,
   "metadata": {},
   "outputs": [],
   "source": [
    "query = ['''horrible place''']"
   ]
  },
  {
   "cell_type": "code",
   "execution_count": 38,
   "metadata": {},
   "outputs": [
    {
     "data": {
      "text/plain": [
       "<1x317 sparse matrix of type '<class 'numpy.float64'>'\n",
       "\twith 1 stored elements in Compressed Sparse Row format>"
      ]
     },
     "execution_count": 38,
     "metadata": {},
     "output_type": "execute_result"
    }
   ],
   "source": [
    "new = tfidf.transform(query)\n",
    "new"
   ]
  },
  {
   "cell_type": "code",
   "execution_count": 39,
   "metadata": {},
   "outputs": [
    {
     "data": {
      "text/plain": [
       "(array([[0.        , 0.73128674, 0.87937313, 0.91067666, 0.91406045]]),\n",
       " array([[4062, 8013, 1503, 2483, 5129]], dtype=int64))"
      ]
     },
     "execution_count": 39,
     "metadata": {},
     "output_type": "execute_result"
    }
   ],
   "source": [
    "nn.kneighbors(new.todense())"
   ]
  },
  {
   "cell_type": "code",
   "execution_count": 40,
   "metadata": {},
   "outputs": [
    {
     "data": {
      "text/plain": [
       "'Place is horrible it smells like cigarets smoke penetrated. Out dated and nasty'"
      ]
     },
     "execution_count": 40,
     "metadata": {},
     "output_type": "execute_result"
    }
   ],
   "source": [
    "#ACCURATE\n",
    "yelp['text'][4062]"
   ]
  },
  {
   "cell_type": "markdown",
   "metadata": {},
   "source": [
    "## Part 3: Classification\n",
    "<a id=\"#p3\"></a>\n",
    "Your goal in this section will be to predict `stars` from the review dataset. \n",
    "\n",
    "1. Create a piepline object with a sklearn `CountVectorizer` or `TfidfVector` and any sklearn classifier. Use that pipeline to estimate a model to predict `stars`. Use the Pipeline to predict a star rating for your fake review from Part 2. \n",
    "2. Tune the entire pipeline with a GridSearch"
   ]
  },
  {
   "cell_type": "code",
   "execution_count": 41,
   "metadata": {},
   "outputs": [],
   "source": [
    "from sklearn.pipeline import Pipeline\n",
    "from sklearn.ensemble import RandomForestClassifier\n",
    "from sklearn.model_selection import GridSearchCV"
   ]
  },
  {
   "cell_type": "code",
   "execution_count": 42,
   "metadata": {},
   "outputs": [],
   "source": [
    "clf = RandomForestClassifier()\n"
   ]
  },
  {
   "cell_type": "code",
   "execution_count": 43,
   "metadata": {},
   "outputs": [],
   "source": [
    "pipe = Pipeline([\n",
    "    # VECTORIZER\n",
    "    ('vect', vect),\n",
    "    # CLASSIFIER\n",
    "    ('clf', clf)\n",
    "    ])"
   ]
  },
  {
   "cell_type": "code",
   "execution_count": 44,
   "metadata": {},
   "outputs": [],
   "source": [
    "parameters = {\n",
    "    'vect__max_df': ( 0.75, 1.0),\n",
    "    'vect__min_df': (.02, .05),\n",
    "    'vect__max_features': (500,1000),\n",
    "    'clf__n_estimators':(5, 10),\n",
    "    'clf__max_depth':(15,20)\n",
    "}"
   ]
  },
  {
   "cell_type": "code",
   "execution_count": 45,
   "metadata": {},
   "outputs": [
    {
     "name": "stdout",
     "output_type": "stream",
     "text": [
      "Fitting 5 folds for each of 32 candidates, totalling 160 fits\n"
     ]
    },
    {
     "name": "stderr",
     "output_type": "stream",
     "text": [
      "[Parallel(n_jobs=-1)]: Using backend LokyBackend with 12 concurrent workers.\n",
      "[Parallel(n_jobs=-1)]: Done  26 tasks      | elapsed:    7.3s\n",
      "[Parallel(n_jobs=-1)]: Done 160 out of 160 | elapsed:   28.2s finished\n"
     ]
    },
    {
     "data": {
      "text/plain": [
       "GridSearchCV(cv=5, error_score='raise-deprecating',\n",
       "             estimator=Pipeline(memory=None,\n",
       "                                steps=[('vect',\n",
       "                                        CountVectorizer(analyzer='word',\n",
       "                                                        binary=False,\n",
       "                                                        decode_error='strict',\n",
       "                                                        dtype=<class 'numpy.int64'>,\n",
       "                                                        encoding='utf-8',\n",
       "                                                        input='content',\n",
       "                                                        lowercase=True,\n",
       "                                                        max_df=0.9,\n",
       "                                                        max_features=None,\n",
       "                                                        min_df=0.05,\n",
       "                                                        ngram_range=(1, 1),\n",
       "                                                        preprocessor=None,\n",
       "                                                        stop_words='english',\n",
       "                                                        strip_accents=...\n",
       "                                                               n_estimators='warn',\n",
       "                                                               n_jobs=None,\n",
       "                                                               oob_score=False,\n",
       "                                                               random_state=None,\n",
       "                                                               verbose=0,\n",
       "                                                               warm_start=False))],\n",
       "                                verbose=False),\n",
       "             iid='warn', n_jobs=-1,\n",
       "             param_grid={'clf__max_depth': (15, 20),\n",
       "                         'clf__n_estimators': (5, 10),\n",
       "                         'vect__max_df': (0.75, 1.0),\n",
       "                         'vect__max_features': (500, 1000),\n",
       "                         'vect__min_df': (0.02, 0.05)},\n",
       "             pre_dispatch='2*n_jobs', refit=True, return_train_score=False,\n",
       "             scoring=None, verbose=1)"
      ]
     },
     "execution_count": 45,
     "metadata": {},
     "output_type": "execute_result"
    }
   ],
   "source": [
    "grid_search = GridSearchCV(pipe, parameters, cv=5, n_jobs=-1, verbose=1)\n",
    "grid_search.fit(yelp['text'], yelp['stars'])"
   ]
  },
  {
   "cell_type": "code",
   "execution_count": 46,
   "metadata": {},
   "outputs": [
    {
     "data": {
      "text/plain": [
       "array([1, 5, 5, 5], dtype=int64)"
      ]
     },
     "execution_count": 46,
     "metadata": {},
     "output_type": "execute_result"
    }
   ],
   "source": [
    "grid_search.predict(['horrible place','not the worst place but also not the best place enjoyed the coffee', 'love',\n",
    "                     'hated spending time here it was expensive and bad'])"
   ]
  },
  {
   "cell_type": "code",
   "execution_count": 47,
   "metadata": {},
   "outputs": [
    {
     "data": {
      "text/plain": [
       "0.5417"
      ]
     },
     "execution_count": 47,
     "metadata": {},
     "output_type": "execute_result"
    }
   ],
   "source": [
    "grid_search.best_score_"
   ]
  },
  {
   "cell_type": "markdown",
   "metadata": {},
   "source": [
    "## Part 4: Topic Modeling\n",
    "\n",
    "Let's find out what those yelp reviews are saying! :D\n",
    "\n",
    "1. Estimate a LDA topic model of the review text\n",
    "    - Keep the `iterations` parameter at or below 5 to reduce run time\n",
    "    - The `workers` parameter should match the number of physical cores on your machine.\n",
    "2. Create 1-2 visualizations of the results\n",
    "    - You can use the most important 3 words of a topic in relevant visualizations. Refer to yesterday's notebook to extract. \n",
    "3. In markdown, write 1-2 paragraphs of analysis on the results of your topic model\n",
    "\n",
    "__*Note*__: You can pass the DataFrame column of text reviews to gensim. You do not have to use a generator."
   ]
  },
  {
   "cell_type": "code",
   "execution_count": 48,
   "metadata": {
    "collapsed": false,
    "inputHidden": false,
    "jupyter": {
     "outputs_hidden": false
    },
    "outputHidden": false
   },
   "outputs": [],
   "source": [
    "from gensim.models import LdaMulticore\n",
    "from gensim.corpora import Dictionary\n",
    "from gensim import corpora\n",
    "from gensim.parsing.preprocessing import STOPWORDS\n",
    "from gensim.utils import simple_preprocess"
   ]
  },
  {
   "cell_type": "markdown",
   "metadata": {},
   "source": [
    "Learn the vocubalary of the yelp data:"
   ]
  },
  {
   "cell_type": "code",
   "execution_count": 49,
   "metadata": {},
   "outputs": [],
   "source": [
    "id2word = corpora.Dictionary(yelp['tokens'])"
   ]
  },
  {
   "cell_type": "code",
   "execution_count": 50,
   "metadata": {},
   "outputs": [
    {
     "data": {
      "text/plain": [
       "473"
      ]
     },
     "execution_count": 50,
     "metadata": {},
     "output_type": "execute_result"
    }
   ],
   "source": [
    "id2word.token2id['touch']"
   ]
  },
  {
   "cell_type": "code",
   "execution_count": 51,
   "metadata": {},
   "outputs": [
    {
     "data": {
      "text/plain": [
       "'long'"
      ]
     },
     "execution_count": 51,
     "metadata": {},
     "output_type": "execute_result"
    }
   ],
   "source": [
    "id2word[100]"
   ]
  },
  {
   "cell_type": "code",
   "execution_count": 52,
   "metadata": {},
   "outputs": [
    {
     "data": {
      "text/plain": [
       "'checkin'"
      ]
     },
     "execution_count": 52,
     "metadata": {},
     "output_type": "execute_result"
    }
   ],
   "source": [
    "id2word[74]"
   ]
  },
  {
   "cell_type": "markdown",
   "metadata": {},
   "source": [
    "Create a bag of words representation of the entire corpus"
   ]
  },
  {
   "cell_type": "code",
   "execution_count": 53,
   "metadata": {
    "collapsed": false,
    "inputHidden": false,
    "jupyter": {
     "outputs_hidden": false
    },
    "outputHidden": false
   },
   "outputs": [],
   "source": [
    "corpus = [id2word.doc2bow(text) for text in yelp['tokens']]"
   ]
  },
  {
   "cell_type": "markdown",
   "metadata": {},
   "source": [
    "Your LDA model should be ready for estimation: "
   ]
  },
  {
   "cell_type": "code",
   "execution_count": 54,
   "metadata": {
    "collapsed": false,
    "inputHidden": false,
    "jupyter": {
     "outputs_hidden": false
    },
    "outputHidden": false
   },
   "outputs": [],
   "source": [
    "lda = LdaMulticore(corpus=corpus,\n",
    "                   id2word=id2word,\n",
    "                   iterations=5,\n",
    "                   workers=6,\n",
    "                   num_topics = 10 # You can change this parameter\n",
    "                  )"
   ]
  },
  {
   "cell_type": "code",
   "execution_count": 55,
   "metadata": {},
   "outputs": [
    {
     "data": {
      "text/plain": [
       "[(0,\n",
       "  '0.021*\"\" + 0.019*\"the\" + 0.009*\"good\" + 0.008*\"food\" + 0.006*\"it\" + 0.006*\"we\" + 0.006*\"great\" + 0.006*\"time\" + 0.005*\"service\" + 0.005*\"place\"'),\n",
       " (1,\n",
       "  '0.027*\"\" + 0.022*\"the\" + 0.010*\"good\" + 0.009*\"food\" + 0.008*\"place\" + 0.007*\"its\" + 0.007*\"it\" + 0.006*\"we\" + 0.006*\"great\" + 0.006*\"service\"'),\n",
       " (2,\n",
       "  '0.028*\"\" + 0.015*\"the\" + 0.008*\"place\" + 0.008*\"service\" + 0.008*\"it\" + 0.007*\"food\" + 0.007*\"great\" + 0.006*\"we\" + 0.006*\"good\" + 0.005*\"time\"'),\n",
       " (3,\n",
       "  '0.020*\"\" + 0.012*\"the\" + 0.008*\"great\" + 0.007*\"it\" + 0.007*\"we\" + 0.007*\"place\" + 0.007*\"time\" + 0.006*\"good\" + 0.006*\"food\" + 0.005*\"got\"'),\n",
       " (4,\n",
       "  '0.028*\"\" + 0.015*\"the\" + 0.010*\"food\" + 0.009*\"place\" + 0.008*\"good\" + 0.007*\"it\" + 0.007*\"great\" + 0.006*\"service\" + 0.006*\"we\" + 0.006*\"time\"'),\n",
       " (5,\n",
       "  '0.019*\"\" + 0.013*\"the\" + 0.011*\"great\" + 0.008*\"place\" + 0.008*\"food\" + 0.007*\"good\" + 0.007*\"it\" + 0.007*\"we\" + 0.006*\"service\" + 0.004*\"they\"'),\n",
       " (6,\n",
       "  '0.025*\"\" + 0.011*\"the\" + 0.009*\"place\" + 0.008*\"food\" + 0.007*\"great\" + 0.006*\"service\" + 0.006*\"time\" + 0.006*\"good\" + 0.006*\"it\" + 0.005*\"we\"'),\n",
       " (7,\n",
       "  '0.025*\"\" + 0.016*\"the\" + 0.009*\"good\" + 0.008*\"food\" + 0.008*\"it\" + 0.007*\"place\" + 0.007*\"time\" + 0.006*\"its\" + 0.005*\"service\" + 0.005*\"we\"'),\n",
       " (8,\n",
       "  '0.021*\"\" + 0.014*\"the\" + 0.009*\"service\" + 0.008*\"food\" + 0.008*\"good\" + 0.007*\"great\" + 0.007*\"place\" + 0.007*\"it\" + 0.006*\"time\" + 0.005*\"we\"'),\n",
       " (9,\n",
       "  '0.032*\"\" + 0.018*\"the\" + 0.008*\"good\" + 0.008*\"food\" + 0.008*\"place\" + 0.006*\"time\" + 0.006*\"we\" + 0.006*\"great\" + 0.006*\"it\" + 0.005*\"service\"')]"
      ]
     },
     "execution_count": 55,
     "metadata": {},
     "output_type": "execute_result"
    }
   ],
   "source": [
    "lda.print_topics()"
   ]
  },
  {
   "cell_type": "code",
   "execution_count": 56,
   "metadata": {},
   "outputs": [],
   "source": [
    "words = [re.findall(r'\"([^\"]*)\"',t[1]) for t in lda.print_topics()]"
   ]
  },
  {
   "cell_type": "code",
   "execution_count": 57,
   "metadata": {},
   "outputs": [
    {
     "data": {
      "text/plain": [
       "[['', 'the', 'good', 'food', 'it', 'we', 'great', 'time', 'service', 'place'],\n",
       " ['', 'the', 'good', 'food', 'place', 'its', 'it', 'we', 'great', 'service'],\n",
       " ['', 'the', 'place', 'service', 'it', 'food', 'great', 'we', 'good', 'time'],\n",
       " ['', 'the', 'great', 'it', 'we', 'place', 'time', 'good', 'food', 'got'],\n",
       " ['', 'the', 'food', 'place', 'good', 'it', 'great', 'service', 'we', 'time'],\n",
       " ['', 'the', 'great', 'place', 'food', 'good', 'it', 'we', 'service', 'they'],\n",
       " ['', 'the', 'place', 'food', 'great', 'service', 'time', 'good', 'it', 'we'],\n",
       " ['', 'the', 'good', 'food', 'it', 'place', 'time', 'its', 'service', 'we'],\n",
       " ['', 'the', 'service', 'food', 'good', 'great', 'place', 'it', 'time', 'we'],\n",
       " ['', 'the', 'good', 'food', 'place', 'time', 'we', 'great', 'it', 'service']]"
      ]
     },
     "execution_count": 57,
     "metadata": {},
     "output_type": "execute_result"
    }
   ],
   "source": [
    "words"
   ]
  },
  {
   "cell_type": "markdown",
   "metadata": {},
   "source": [
    "Create 1-2 visualizations of the results"
   ]
  },
  {
   "cell_type": "code",
   "execution_count": 58,
   "metadata": {
    "collapsed": false,
    "inputHidden": false,
    "jupyter": {
     "outputs_hidden": false
    },
    "outputHidden": false
   },
   "outputs": [],
   "source": [
    "import pyLDAvis.gensim"
   ]
  },
  {
   "cell_type": "code",
   "execution_count": 59,
   "metadata": {},
   "outputs": [],
   "source": [
    "pyLDAvis.enable_notebook()"
   ]
  },
  {
   "cell_type": "code",
   "execution_count": 60,
   "metadata": {},
   "outputs": [
    {
     "name": "stderr",
     "output_type": "stream",
     "text": [
      "C:\\Users\\Sarmen\\.conda\\envs\\U4-S1-M1\\lib\\site-packages\\pyLDAvis\\_prepare.py:257: FutureWarning: Sorting because non-concatenation axis is not aligned. A future version\n",
      "of pandas will change to not sort by default.\n",
      "\n",
      "To accept the future behavior, pass 'sort=False'.\n",
      "\n",
      "To retain the current behavior and silence the warning, pass 'sort=True'.\n",
      "\n",
      "  return pd.concat([default_term_info] + list(topic_dfs))\n"
     ]
    },
    {
     "data": {
      "text/html": [
       "\n",
       "<link rel=\"stylesheet\" type=\"text/css\" href=\"https://cdn.rawgit.com/bmabey/pyLDAvis/files/ldavis.v1.0.0.css\">\n",
       "\n",
       "\n",
       "<div id=\"ldavis_el2962825672322205204120759604\"></div>\n",
       "<script type=\"text/javascript\">\n",
       "\n",
       "var ldavis_el2962825672322205204120759604_data = {\"mdsDat\": {\"x\": [-0.00012807504773809753, 0.005189187920206008, 0.0011659801135726862, -0.0012625822307378522, 0.001259375562764896, 0.0022673405661476327, 7.610311212632663e-05, -0.0030165502726575678, -0.0018907239040362779, -0.003660055819647762], \"y\": [-0.001896077721235067, 2.4669968061502244e-05, 0.0013468981852742578, -0.0035453598266257276, -0.0006634865359830354, 0.00045834188097646904, 0.0031987030488742256, -0.0015708760007519043, -0.0010820276574213129, 0.0037292146588305936], \"topics\": [1, 2, 3, 4, 5, 6, 7, 8, 9, 10], \"cluster\": [1, 1, 1, 1, 1, 1, 1, 1, 1, 1], \"Freq\": [10.60032844543457, 10.436126708984375, 10.198382377624512, 10.14484691619873, 10.142666816711426, 9.85518741607666, 9.854434967041016, 9.765849113464355, 9.673920631408691, 9.328250885009766]}, \"tinfo\": {\"Category\": [\"Default\", \"Default\", \"Default\", \"Default\", \"Default\", \"Default\", \"Default\", \"Default\", \"Default\", \"Default\", \"Default\", \"Default\", \"Default\", \"Default\", \"Default\", \"Default\", \"Default\", \"Default\", \"Default\", \"Default\", \"Default\", \"Default\", \"Default\", \"Default\", \"Default\", \"Default\", \"Default\", \"Default\", \"Default\", \"Default\", \"Topic1\", \"Topic1\", \"Topic1\", \"Topic1\", \"Topic1\", \"Topic1\", \"Topic1\", \"Topic1\", \"Topic1\", \"Topic1\", \"Topic1\", \"Topic1\", \"Topic1\", \"Topic1\", \"Topic1\", \"Topic1\", \"Topic1\", \"Topic1\", \"Topic1\", \"Topic1\", \"Topic1\", \"Topic1\", \"Topic1\", \"Topic1\", \"Topic1\", \"Topic1\", \"Topic1\", \"Topic1\", \"Topic1\", \"Topic1\", \"Topic1\", \"Topic1\", \"Topic1\", \"Topic1\", \"Topic1\", \"Topic1\", \"Topic1\", \"Topic1\", \"Topic1\", \"Topic1\", \"Topic1\", \"Topic1\", \"Topic1\", \"Topic1\", \"Topic1\", \"Topic1\", \"Topic1\", \"Topic1\", \"Topic1\", \"Topic1\", \"Topic1\", \"Topic1\", \"Topic1\", \"Topic1\", \"Topic1\", \"Topic1\", \"Topic1\", \"Topic1\", \"Topic1\", \"Topic1\", \"Topic1\", \"Topic1\", \"Topic1\", \"Topic1\", \"Topic1\", \"Topic1\", \"Topic1\", \"Topic1\", \"Topic1\", \"Topic1\", \"Topic1\", \"Topic1\", \"Topic1\", \"Topic1\", \"Topic1\", \"Topic1\", \"Topic1\", \"Topic1\", \"Topic1\", \"Topic2\", \"Topic2\", \"Topic2\", \"Topic2\", \"Topic2\", \"Topic2\", \"Topic2\", \"Topic2\", \"Topic2\", \"Topic2\", \"Topic2\", \"Topic2\", \"Topic2\", \"Topic2\", \"Topic2\", \"Topic2\", \"Topic2\", \"Topic2\", \"Topic2\", \"Topic2\", \"Topic2\", \"Topic2\", \"Topic2\", \"Topic2\", \"Topic2\", \"Topic2\", \"Topic2\", \"Topic2\", \"Topic2\", \"Topic2\", \"Topic2\", \"Topic2\", \"Topic2\", \"Topic2\", \"Topic2\", \"Topic2\", \"Topic2\", \"Topic2\", \"Topic2\", \"Topic2\", \"Topic2\", \"Topic2\", \"Topic2\", \"Topic2\", \"Topic2\", \"Topic2\", \"Topic2\", \"Topic2\", \"Topic2\", \"Topic2\", \"Topic2\", \"Topic2\", \"Topic2\", \"Topic2\", \"Topic2\", \"Topic2\", \"Topic2\", \"Topic2\", \"Topic2\", \"Topic2\", \"Topic2\", \"Topic2\", \"Topic2\", \"Topic2\", \"Topic2\", \"Topic2\", \"Topic2\", \"Topic2\", \"Topic2\", \"Topic2\", \"Topic2\", \"Topic2\", \"Topic2\", \"Topic2\", \"Topic2\", \"Topic2\", \"Topic2\", \"Topic2\", \"Topic2\", \"Topic2\", \"Topic3\", \"Topic3\", \"Topic3\", \"Topic3\", \"Topic3\", \"Topic3\", \"Topic3\", \"Topic3\", \"Topic3\", \"Topic3\", \"Topic3\", \"Topic3\", \"Topic3\", \"Topic3\", \"Topic3\", \"Topic3\", \"Topic3\", \"Topic3\", \"Topic3\", \"Topic3\", \"Topic3\", \"Topic3\", \"Topic3\", \"Topic3\", \"Topic3\", \"Topic3\", \"Topic3\", \"Topic3\", \"Topic3\", \"Topic3\", \"Topic3\", \"Topic3\", \"Topic3\", \"Topic3\", \"Topic3\", \"Topic3\", \"Topic3\", \"Topic3\", \"Topic3\", \"Topic3\", \"Topic3\", \"Topic3\", \"Topic3\", \"Topic3\", \"Topic3\", \"Topic3\", \"Topic3\", \"Topic3\", \"Topic3\", \"Topic3\", \"Topic3\", \"Topic3\", \"Topic3\", \"Topic3\", \"Topic3\", \"Topic3\", \"Topic3\", \"Topic3\", \"Topic3\", \"Topic3\", \"Topic3\", \"Topic3\", \"Topic3\", \"Topic3\", \"Topic3\", \"Topic3\", \"Topic3\", \"Topic3\", \"Topic3\", \"Topic3\", \"Topic3\", \"Topic3\", \"Topic3\", \"Topic3\", \"Topic4\", \"Topic4\", \"Topic4\", \"Topic4\", \"Topic4\", \"Topic4\", \"Topic4\", \"Topic4\", \"Topic4\", \"Topic4\", \"Topic4\", \"Topic4\", \"Topic4\", \"Topic4\", \"Topic4\", \"Topic4\", \"Topic4\", \"Topic4\", \"Topic4\", \"Topic4\", \"Topic4\", \"Topic4\", \"Topic4\", \"Topic4\", \"Topic4\", \"Topic4\", \"Topic4\", \"Topic4\", \"Topic4\", \"Topic4\", \"Topic4\", \"Topic4\", \"Topic4\", \"Topic4\", \"Topic4\", \"Topic4\", \"Topic4\", \"Topic4\", \"Topic4\", \"Topic4\", \"Topic4\", \"Topic4\", \"Topic4\", \"Topic4\", \"Topic4\", \"Topic4\", \"Topic4\", \"Topic4\", \"Topic4\", \"Topic4\", \"Topic4\", \"Topic4\", \"Topic4\", \"Topic4\", \"Topic4\", \"Topic4\", \"Topic4\", \"Topic4\", \"Topic4\", \"Topic4\", \"Topic4\", \"Topic4\", \"Topic4\", \"Topic4\", \"Topic4\", \"Topic4\", \"Topic4\", \"Topic4\", \"Topic4\", \"Topic4\", \"Topic4\", \"Topic4\", \"Topic4\", \"Topic4\", \"Topic4\", \"Topic4\", \"Topic4\", \"Topic4\", \"Topic4\", \"Topic4\", \"Topic4\", \"Topic4\", \"Topic4\", \"Topic4\", \"Topic4\", \"Topic4\", \"Topic4\", \"Topic5\", \"Topic5\", \"Topic5\", \"Topic5\", \"Topic5\", \"Topic5\", \"Topic5\", \"Topic5\", \"Topic5\", \"Topic5\", \"Topic5\", \"Topic5\", \"Topic5\", \"Topic5\", \"Topic5\", \"Topic5\", \"Topic5\", \"Topic5\", \"Topic5\", \"Topic5\", \"Topic5\", \"Topic5\", \"Topic5\", \"Topic5\", \"Topic5\", \"Topic5\", \"Topic5\", \"Topic5\", \"Topic5\", \"Topic5\", \"Topic5\", \"Topic5\", \"Topic5\", \"Topic5\", \"Topic5\", \"Topic5\", \"Topic5\", \"Topic5\", \"Topic5\", \"Topic5\", \"Topic5\", \"Topic5\", \"Topic5\", \"Topic5\", \"Topic5\", \"Topic5\", \"Topic5\", \"Topic5\", \"Topic5\", \"Topic5\", \"Topic5\", \"Topic5\", \"Topic5\", \"Topic5\", \"Topic5\", \"Topic5\", \"Topic5\", \"Topic5\", \"Topic5\", \"Topic5\", \"Topic5\", \"Topic5\", \"Topic5\", \"Topic5\", \"Topic5\", \"Topic5\", \"Topic5\", \"Topic5\", \"Topic5\", \"Topic5\", \"Topic5\", \"Topic5\", \"Topic5\", \"Topic5\", \"Topic5\", \"Topic5\", \"Topic5\", \"Topic5\", \"Topic5\", \"Topic6\", \"Topic6\", \"Topic6\", \"Topic6\", \"Topic6\", \"Topic6\", \"Topic6\", \"Topic6\", \"Topic6\", \"Topic6\", \"Topic6\", \"Topic6\", \"Topic6\", \"Topic6\", \"Topic6\", \"Topic6\", \"Topic6\", \"Topic6\", \"Topic6\", \"Topic6\", \"Topic6\", \"Topic6\", \"Topic6\", \"Topic6\", \"Topic6\", \"Topic6\", \"Topic6\", \"Topic6\", \"Topic6\", \"Topic6\", \"Topic6\", \"Topic6\", \"Topic6\", \"Topic6\", \"Topic6\", \"Topic6\", \"Topic6\", \"Topic6\", \"Topic6\", \"Topic6\", \"Topic6\", \"Topic6\", \"Topic6\", \"Topic6\", \"Topic6\", \"Topic6\", \"Topic6\", \"Topic6\", \"Topic6\", \"Topic6\", \"Topic6\", \"Topic6\", \"Topic6\", \"Topic6\", \"Topic6\", \"Topic6\", \"Topic6\", \"Topic6\", \"Topic6\", \"Topic6\", \"Topic6\", \"Topic6\", \"Topic6\", \"Topic6\", \"Topic6\", \"Topic6\", \"Topic6\", \"Topic6\", \"Topic6\", \"Topic6\", \"Topic6\", \"Topic6\", \"Topic6\", \"Topic6\", \"Topic6\", \"Topic6\", \"Topic6\", \"Topic6\", \"Topic6\", \"Topic6\", \"Topic6\", \"Topic6\", \"Topic6\", \"Topic6\", \"Topic6\", \"Topic6\", \"Topic6\", \"Topic6\", \"Topic7\", \"Topic7\", \"Topic7\", \"Topic7\", \"Topic7\", \"Topic7\", \"Topic7\", \"Topic7\", \"Topic7\", \"Topic7\", \"Topic7\", \"Topic7\", \"Topic7\", \"Topic7\", \"Topic7\", \"Topic7\", \"Topic7\", \"Topic7\", \"Topic7\", \"Topic7\", \"Topic7\", \"Topic7\", \"Topic7\", \"Topic7\", \"Topic7\", \"Topic7\", \"Topic7\", \"Topic7\", \"Topic7\", \"Topic7\", \"Topic7\", \"Topic7\", \"Topic7\", \"Topic7\", \"Topic7\", \"Topic7\", \"Topic7\", \"Topic7\", \"Topic7\", \"Topic7\", \"Topic7\", \"Topic7\", \"Topic7\", \"Topic7\", \"Topic7\", \"Topic7\", \"Topic7\", \"Topic7\", \"Topic7\", \"Topic7\", \"Topic7\", \"Topic7\", \"Topic7\", \"Topic7\", \"Topic7\", \"Topic7\", \"Topic7\", \"Topic7\", \"Topic7\", \"Topic7\", \"Topic7\", \"Topic7\", \"Topic7\", \"Topic7\", \"Topic7\", \"Topic7\", \"Topic7\", \"Topic7\", \"Topic7\", \"Topic7\", \"Topic7\", \"Topic7\", \"Topic7\", \"Topic7\", \"Topic7\", \"Topic7\", \"Topic7\", \"Topic7\", \"Topic7\", \"Topic7\", \"Topic7\", \"Topic7\", \"Topic7\", \"Topic7\", \"Topic8\", \"Topic8\", \"Topic8\", \"Topic8\", \"Topic8\", \"Topic8\", \"Topic8\", \"Topic8\", \"Topic8\", \"Topic8\", \"Topic8\", \"Topic8\", \"Topic8\", \"Topic8\", \"Topic8\", \"Topic8\", \"Topic8\", \"Topic8\", \"Topic8\", \"Topic8\", \"Topic8\", \"Topic8\", \"Topic8\", \"Topic8\", \"Topic8\", \"Topic8\", \"Topic8\", \"Topic8\", \"Topic8\", \"Topic8\", \"Topic8\", \"Topic8\", \"Topic8\", \"Topic8\", \"Topic8\", \"Topic8\", \"Topic8\", \"Topic8\", \"Topic8\", \"Topic8\", \"Topic8\", \"Topic8\", \"Topic8\", \"Topic8\", \"Topic8\", \"Topic8\", \"Topic8\", \"Topic8\", \"Topic8\", \"Topic8\", \"Topic8\", \"Topic8\", \"Topic8\", \"Topic8\", \"Topic8\", \"Topic8\", \"Topic8\", \"Topic8\", \"Topic8\", \"Topic8\", \"Topic8\", \"Topic8\", \"Topic8\", \"Topic8\", \"Topic8\", \"Topic8\", \"Topic8\", \"Topic8\", \"Topic8\", \"Topic8\", \"Topic8\", \"Topic8\", \"Topic8\", \"Topic8\", \"Topic8\", \"Topic8\", \"Topic8\", \"Topic8\", \"Topic8\", \"Topic8\", \"Topic8\", \"Topic8\", \"Topic8\", \"Topic8\", \"Topic9\", \"Topic9\", \"Topic9\", \"Topic9\", \"Topic9\", \"Topic9\", \"Topic9\", \"Topic9\", \"Topic9\", \"Topic9\", \"Topic9\", \"Topic9\", \"Topic9\", \"Topic9\", \"Topic9\", \"Topic9\", \"Topic9\", \"Topic9\", \"Topic9\", \"Topic9\", \"Topic9\", \"Topic9\", \"Topic9\", \"Topic9\", \"Topic9\", \"Topic9\", \"Topic9\", \"Topic9\", \"Topic9\", \"Topic9\", \"Topic9\", \"Topic9\", \"Topic9\", \"Topic9\", \"Topic9\", \"Topic9\", \"Topic9\", \"Topic9\", \"Topic9\", \"Topic9\", \"Topic9\", \"Topic9\", \"Topic9\", \"Topic9\", \"Topic9\", \"Topic9\", \"Topic9\", \"Topic9\", \"Topic9\", \"Topic9\", \"Topic9\", \"Topic9\", \"Topic9\", \"Topic9\", \"Topic9\", \"Topic9\", \"Topic9\", \"Topic9\", \"Topic9\", \"Topic9\", \"Topic9\", \"Topic9\", \"Topic9\", \"Topic9\", \"Topic9\", \"Topic9\", \"Topic9\", \"Topic9\", \"Topic9\", \"Topic9\", \"Topic9\", \"Topic9\", \"Topic9\", \"Topic9\", \"Topic9\", \"Topic9\", \"Topic9\", \"Topic9\", \"Topic9\", \"Topic9\", \"Topic9\", \"Topic9\", \"Topic9\", \"Topic9\", \"Topic9\", \"Topic9\", \"Topic9\", \"Topic9\", \"Topic9\", \"Topic9\", \"Topic9\", \"Topic10\", \"Topic10\", \"Topic10\", \"Topic10\", \"Topic10\", \"Topic10\", \"Topic10\", \"Topic10\", \"Topic10\", \"Topic10\", \"Topic10\", \"Topic10\", \"Topic10\", \"Topic10\", \"Topic10\", \"Topic10\", \"Topic10\", \"Topic10\", \"Topic10\", \"Topic10\", \"Topic10\", \"Topic10\", \"Topic10\", \"Topic10\", \"Topic10\", \"Topic10\", \"Topic10\", \"Topic10\", \"Topic10\", \"Topic10\", \"Topic10\", \"Topic10\", \"Topic10\", \"Topic10\", \"Topic10\", \"Topic10\", \"Topic10\", \"Topic10\", \"Topic10\", \"Topic10\", \"Topic10\", \"Topic10\", \"Topic10\", \"Topic10\", \"Topic10\", \"Topic10\", \"Topic10\", \"Topic10\", \"Topic10\", \"Topic10\", \"Topic10\", \"Topic10\", \"Topic10\", \"Topic10\", \"Topic10\", \"Topic10\", \"Topic10\", \"Topic10\", \"Topic10\", \"Topic10\", \"Topic10\", \"Topic10\", \"Topic10\", \"Topic10\", \"Topic10\", \"Topic10\", \"Topic10\", \"Topic10\", \"Topic10\", \"Topic10\", \"Topic10\", \"Topic10\", \"Topic10\", \"Topic10\", \"Topic10\", \"Topic10\", \"Topic10\", \"Topic10\", \"Topic10\", \"Topic10\", \"Topic10\", \"Topic10\", \"Topic10\", \"Topic10\", \"Topic10\"], \"Freq\": [14536.0, 9213.0, 4046.0, 3460.0, 3234.0, 2694.0, 4525.0, 4555.0, 1102.0, 1962.0, 1358.0, 794.0, 3400.0, 4734.0, 1322.0, 1884.0, 1834.0, 1464.0, 1587.0, 1384.0, 1087.0, 960.0, 622.0, 1470.0, 1334.0, 1492.0, 872.0, 1478.0, 1652.0, 752.0, 0.754449188709259, 0.4854287803173065, 0.9180817604064941, 0.4560129642486572, 0.44740113615989685, 0.4388517141342163, 0.43390756845474243, 0.6350322961807251, 0.4231775403022766, 0.4194035530090332, 0.4116160571575165, 0.40122276544570923, 0.39932161569595337, 0.5964158773422241, 0.9866347908973694, 0.7870882153511047, 0.39229127764701843, 0.583084762096405, 0.7769823670387268, 0.576906144618988, 0.38299378752708435, 0.3783692717552185, 0.3751090168952942, 0.9306051731109619, 0.7417281270027161, 0.7373642921447754, 0.9103254079818726, 0.3647838234901428, 4.906166076660156, 0.3622191548347473, 0.5389160513877869, 0.8891761898994446, 16.68308448791504, 189.5741424560547, 83.2503662109375, 189.27333068847656, 122.76284790039062, 19.904653549194336, 476.5794677734375, 1766.665283203125, 144.48538208007812, 209.79522705078125, 58.62601089477539, 127.55245208740234, 73.11236572265625, 179.64259338378906, 114.99678802490234, 300.10186767578125, 147.71559143066406, 404.8983459472656, 472.28192138671875, 76.77327728271484, 91.12355041503906, 68.27708435058594, 520.9676513671875, 233.909912109375, 167.7938690185547, 178.0074462890625, 169.69923400878906, 84.01605224609375, 931.6760864257812, 182.1505889892578, 276.47222900390625, 437.02301025390625, 139.77792358398438, 176.9678192138672, 161.68165588378906, 460.13134765625, 328.8783874511719, 146.96524047851562, 271.6430969238281, 185.30194091796875, 162.95132446289062, 363.902587890625, 155.2052001953125, 174.90174865722656, 174.57614135742188, 158.19679260253906, 164.5382843017578, 0.6006608605384827, 0.5835216641426086, 0.5822528004646301, 0.48972082138061523, 0.4861067235469818, 0.48385995626449585, 0.47169017791748047, 0.46828681230545044, 0.45338019728660583, 0.4520043432712555, 0.4526749849319458, 0.4486613869667053, 0.666586697101593, 0.44116929173469543, 0.4254399538040161, 0.6331962943077087, 0.42298898100852966, 1.2599555253982544, 0.4146868884563446, 0.41343167424201965, 0.6152119040489197, 1.2106996774673462, 0.3993726372718811, 0.3954046666622162, 0.39560410380363464, 0.5884490013122559, 0.775989294052124, 0.3872983753681183, 0.3862416744232178, 0.7734543085098267, 1.5230175256729126, 457.39251708984375, 86.65437316894531, 1324.0625, 243.4493408203125, 218.98902893066406, 89.98844146728516, 112.19184112548828, 591.2138061523438, 16.561485290527344, 182.61917114257812, 1660.4891357421875, 66.0338134765625, 105.33356475830078, 241.7633819580078, 76.27593994140625, 56.719181060791016, 33.70879364013672, 122.70346069335938, 86.54322814941406, 43.20133590698242, 30.897815704345703, 522.3982543945312, 504.6229553222656, 108.30538177490234, 138.92103576660156, 449.4728088378906, 167.3709259033203, 51.11275100708008, 138.54183959960938, 122.77880859375, 364.9368896484375, 193.76380920410156, 174.69631958007812, 179.91543579101562, 142.70721435546875, 348.71649169921875, 361.7112731933594, 180.0360870361328, 230.41387939453125, 152.118408203125, 209.28721618652344, 151.2651824951172, 152.97938537597656, 177.96078491210938, 168.09619140625, 147.39903259277344, 185.169677734375, 149.45523071289062, 144.89593505859375, 0.6346913576126099, 0.5766229629516602, 0.5763274431228638, 12.737272262573242, 0.5408021211624146, 0.5332829356193542, 0.5109233260154724, 0.48812732100486755, 0.7237873673439026, 1.1389875411987305, 0.4479199945926666, 0.4356117844581604, 0.42970362305641174, 0.4170256555080414, 0.4148389399051666, 0.6086170077323914, 0.40034008026123047, 0.3935432434082031, 0.39134031534194946, 0.38567420840263367, 0.38345444202423096, 0.38204827904701233, 0.382330060005188, 0.943712592124939, 0.37545615434646606, 0.37467220425605774, 0.7473620176315308, 0.3715813159942627, 1.469963788986206, 0.36202162504196167, 91.00507354736328, 4.4862847328186035, 30.98956298828125, 26.741628646850586, 211.78102111816406, 27.341264724731445, 42.35926818847656, 113.81394958496094, 348.0172119140625, 182.69049072265625, 198.1729736328125, 239.65110778808594, 174.63633728027344, 91.70059204101562, 70.65896606445312, 394.7956848144531, 526.6864624023438, 1519.69189453125, 195.2200469970703, 83.82575225830078, 974.801513671875, 456.32073974609375, 203.74200439453125, 184.80935668945312, 105.56866455078125, 156.80540466308594, 85.0094223022461, 229.5799102783203, 269.2549743652344, 270.3305358886719, 135.7205047607422, 466.1873779296875, 433.62841796875, 171.1717987060547, 114.1562271118164, 157.5231475830078, 303.4747314453125, 288.85174560546875, 189.06019592285156, 165.47572326660156, 280.9656677246094, 143.5555419921875, 142.81764221191406, 148.5548553466797, 0.5302038192749023, 0.5079776644706726, 0.5030105113983154, 0.4593321681022644, 0.4348781704902649, 0.42879900336265564, 0.41332367062568665, 0.8253729343414307, 0.4032870829105377, 1.6111928224563599, 0.4007371962070465, 0.39826759696006775, 0.3968771696090698, 0.3922685980796814, 0.7689453363418579, 1.3410468101501465, 0.380334734916687, 0.9297643899917603, 0.5591029524803162, 1.8564908504486084, 0.37038877606391907, 0.551463782787323, 0.5502142906188965, 0.36705297231674194, 0.7330145239830017, 0.3665577471256256, 0.5464057922363281, 0.5437939167022705, 0.3623473346233368, 0.360258549451828, 113.09464263916016, 3.9868357181549072, 2.42948842048645, 1.0664342641830444, 52.37067794799805, 102.61602020263672, 47.80592727661133, 81.11642456054688, 54.68749237060547, 78.53638458251953, 231.81756591796875, 105.6731185913086, 259.0935974121094, 17.755842208862305, 156.4496307373047, 95.54054260253906, 52.19194793701172, 115.8106918334961, 49.19866943359375, 12.640888214111328, 556.9695434570312, 59.119781494140625, 180.427001953125, 173.57769775390625, 50.2465705871582, 62.209739685058594, 60.443973541259766, 1472.7763671875, 29.855506896972656, 114.41442108154297, 45.52803421020508, 137.8555450439453, 495.9313049316406, 145.54734802246094, 268.8619079589844, 350.333251953125, 70.47721099853516, 411.4126892089844, 351.9205017089844, 255.68368530273438, 145.62750244140625, 196.74513244628906, 681.4204711914062, 156.60342407226562, 175.4423065185547, 250.06320190429688, 334.6092224121094, 350.0838317871094, 275.681396484375, 164.42613220214844, 166.9935760498047, 163.08859252929688, 152.9946746826172, 151.039794921875, 150.36129760742188, 156.5419464111328, 146.52716064453125, 0.7869588732719421, 0.9414957165718079, 0.925155520439148, 0.6001068949699402, 0.5650743246078491, 0.5082570910453796, 0.49570924043655396, 0.4735069274902344, 0.46401694416999817, 0.43502557277679443, 0.43083804845809937, 3.0997354984283447, 0.40359461307525635, 0.603452205657959, 0.400376558303833, 0.39686739444732666, 0.5909159779548645, 0.5881199240684509, 0.39150017499923706, 0.38602903485298157, 0.3830677270889282, 0.3818018436431885, 0.3810826539993286, 0.5704882144927979, 0.37530115246772766, 0.37260493636131287, 0.7435429096221924, 0.5564476847648621, 0.37012040615081787, 0.5528719425201416, 0.5501210689544678, 2.4852840900421143, 18.517539978027344, 8.617667198181152, 132.91941833496094, 64.8332748413086, 88.05134582519531, 190.34478759765625, 34.196189880371094, 593.5882568359375, 1684.3016357421875, 24.054330825805664, 555.4791259765625, 21.71798324584961, 173.8953399658203, 187.37460327148438, 23.151559829711914, 12.398324966430664, 170.91067504882812, 147.4012908935547, 179.48121643066406, 102.90930938720703, 84.01827239990234, 922.76953125, 438.7305908203125, 483.84857177734375, 379.8649597167969, 173.70108032226562, 111.75642395019531, 412.8345947265625, 336.4901123046875, 218.8404998779297, 186.1951446533203, 337.2952575683594, 246.49090576171875, 84.15225219726562, 73.00102996826172, 174.14126586914062, 150.52037048339844, 125.8609848022461, 249.84716796875, 162.54458618164062, 218.70156860351562, 132.4487762451172, 139.9995574951172, 164.17703247070312, 141.39776611328125, 142.69439697265625, 140.21420288085938, 0.5215840935707092, 0.479065865278244, 0.7013337016105652, 0.4417991638183594, 0.4338722825050354, 0.4303729236125946, 0.41824230551719666, 0.41709479689598083, 0.4147569537162781, 0.4126162827014923, 0.41096290946006775, 0.40734535455703735, 0.40527117252349854, 0.4027112126350403, 0.5964958071708679, 0.39254647493362427, 0.7707355618476868, 0.5768133401870728, 0.5736784934997559, 0.37910890579223633, 0.3753293752670288, 0.37301719188690186, 0.36965155601501465, 0.36941665410995483, 0.3678379952907562, 0.3684612512588501, 0.9129831194877625, 0.5429897308349609, 1.9846879243850708, 0.7187617421150208, 13.49363899230957, 7.065210819244385, 26.0301456451416, 7.988504886627197, 3.876213550567627, 1.7421214580535889, 22.782989501953125, 1825.6697998046875, 156.9891815185547, 27.693769454956055, 30.289236068725586, 1060.4273681640625, 52.22618865966797, 64.73263549804688, 80.34074401855469, 11.374704360961914, 67.5486831665039, 148.69415283203125, 95.20494842529297, 63.247779846191406, 91.3202133178711, 198.0058135986328, 55.00626754760742, 357.3910827636719, 482.4163513183594, 161.39810180664062, 61.77865982055664, 38.21891784667969, 26.35126304626465, 103.43480682373047, 448.5784606933594, 458.56256103515625, 343.4029846191406, 80.15471649169922, 170.48007202148438, 57.73580551147461, 177.01254272460938, 166.82809448242188, 154.37576293945312, 115.91320037841797, 105.89572143554688, 301.82159423828125, 341.1009521484375, 329.3020935058594, 133.07533264160156, 217.20062255859375, 121.64341735839844, 118.74223327636719, 206.7302703857422, 147.35678100585938, 218.48487854003906, 165.29222106933594, 168.48101806640625, 132.96568298339844, 141.90756225585938, 127.14004516601562, 140.420166015625, 124.25624084472656, 0.874098539352417, 0.6593695282936096, 0.5705870985984802, 0.5485108494758606, 0.44690781831741333, 0.4366362392902374, 0.425592839717865, 0.41539305448532104, 0.4122650623321533, 0.4071463644504547, 0.39606973528862, 0.39390692114830017, 0.3825579881668091, 0.3790734112262726, 0.9417098760604858, 0.5608624219894409, 1.8594844341278076, 0.3722667694091797, 0.37013816833496094, 0.3656570017337799, 0.5433627963066101, 0.36066582798957825, 0.35735711455345154, 0.35629379749298096, 0.35488447546958923, 0.5301478505134583, 0.3529622256755829, 0.3525599241256714, 0.3511281907558441, 0.34694188833236694, 8.348400115966797, 64.46402740478516, 88.74102020263672, 24.918933868408203, 38.4597282409668, 125.7270278930664, 57.05146789550781, 34.632545471191406, 67.58995819091797, 58.402244567871094, 91.80915832519531, 34.11791229248047, 1076.5433349609375, 78.52134704589844, 51.754302978515625, 513.1287231445312, 70.4898681640625, 90.59791564941406, 234.8317413330078, 102.82083892822266, 108.26968383789062, 40.653419494628906, 133.7518768310547, 174.62884521484375, 84.05226135253906, 484.9481506347656, 93.58512878417969, 256.1055908203125, 1233.217529296875, 342.2535400390625, 322.9682312011719, 129.06719970703125, 170.62156677246094, 119.09390258789062, 137.08251953125, 369.904296875, 116.66746520996094, 122.60157775878906, 143.20205688476562, 335.14422607421875, 245.10665893554688, 285.708251953125, 217.26092529296875, 127.66765594482422, 168.2552490234375, 126.31573486328125, 276.2693176269531, 144.1573944091797, 131.53091430664062, 133.1281280517578, 135.38687133789062, 145.85562133789062, 138.1040496826172, 127.3533935546875, 0.5146093368530273, 0.5094443559646606, 0.49644961953163147, 1.4473687410354614, 0.4817759692668915, 0.47984007000923157, 0.4714774191379547, 0.4570077657699585, 0.4534462094306946, 0.4455256164073944, 0.42803889513015747, 0.4276781678199768, 0.4177471697330475, 0.4126428961753845, 0.4106365144252777, 0.41026654839515686, 0.4098856747150421, 0.40347573161125183, 0.40200257301330566, 0.39431607723236084, 0.5896124243736267, 0.3916890621185303, 0.38817328214645386, 0.38773876428604126, 0.5798013210296631, 0.7720249891281128, 0.9588180780410767, 0.5733925104141235, 0.7644392251968384, 0.5682911276817322, 609.3265380859375, 13.30617618560791, 122.14664459228516, 30.63292121887207, 21.521995544433594, 149.6588897705078, 18.649940490722656, 42.52436065673828, 105.8039779663086, 19.252307891845703, 58.05984115600586, 43.12352752685547, 100.4256591796875, 85.89205169677734, 141.78713989257812, 107.5148696899414, 28.02237319946289, 106.6519546508789, 377.7999267578125, 99.76534271240234, 72.48013305664062, 188.67770385742188, 482.0231018066406, 158.69859313964844, 176.41940307617188, 88.64168548583984, 133.61341857910156, 136.09153747558594, 480.7231140136719, 170.65206909179688, 107.10802459716797, 257.0786437988281, 175.66763305664062, 159.50474548339844, 110.16511535644531, 126.56200408935547, 150.7235107421875, 771.6273193359375, 384.14593505859375, 1111.87451171875, 123.53755187988281, 408.5498962402344, 239.387451171875, 199.71844482421875, 315.93963623046875, 182.75991821289062, 226.51864624023438, 152.31149291992188, 237.1988067626953, 160.15086364746094, 145.14285278320312, 157.13461303710938, 146.44512939453125, 139.27203369140625, 0.47604453563690186, 0.4569075107574463, 0.43916332721710205, 0.43888601660728455, 0.6435902118682861, 0.42248934507369995, 0.41642579436302185, 0.41088801622390747, 0.40715792775154114, 0.4057213068008423, 0.6080254912376404, 0.40466806292533875, 0.4039730131626129, 0.40302422642707825, 0.3959197402000427, 0.5889874696731567, 0.5886038541793823, 0.3906739056110382, 0.38468027114868164, 0.37906837463378906, 0.3725576102733612, 0.7394815683364868, 0.3697495460510254, 0.5507996678352356, 0.3655983805656433, 0.3636747896671295, 0.5373547673225403, 0.3570708632469177, 0.35482412576675415, 0.7081366181373596, 1.403351902961731, 19.42756462097168, 12.482206344604492, 28.547428131103516, 499.83172607421875, 39.63803482055664, 2.365640163421631, 1.5541999340057373, 35.08667755126953, 29.34569549560547, 105.09333038330078, 86.26689910888672, 146.06765747070312, 8.919412612915039, 6.610828876495361, 64.23141479492188, 47.18003463745117, 227.24978637695312, 99.35012817382812, 72.1283950805664, 109.52415466308594, 28.63536262512207, 36.82490921020508, 55.8052978515625, 353.0237731933594, 94.88711547851562, 109.56059265136719, 44.107025146484375, 79.25987243652344, 424.28936767578125, 75.2499771118164, 153.49497985839844, 58.259483337402344, 469.0514221191406, 449.4014892578125, 168.7023162841797, 201.70411682128906, 137.8519744873047, 391.605712890625, 170.8654327392578, 1172.2666015625, 787.536865234375, 206.97637939453125, 116.97107696533203, 398.12957763671875, 159.65676879882812, 97.44090270996094, 216.85464477539062, 121.7509994506836, 138.41123962402344, 279.282958984375, 139.7066192626953, 197.77481079101562, 154.69113159179688, 135.81594848632812, 186.79345703125, 132.5226593017578, 136.6057586669922, 135.13687133789062, 135.5005340576172, 133.78713989257812, 0.5316566228866577, 0.6969020366668701, 0.4327031373977661, 0.42593052983283997, 0.4015272557735443, 0.4004673957824707, 0.38454821705818176, 0.3841644823551178, 0.3794034719467163, 0.5617337822914124, 0.3726818561553955, 0.36982670426368713, 0.5463104844093323, 0.361906498670578, 2.6677680015563965, 0.5315575003623962, 0.35099348425865173, 0.34978291392326355, 0.3492443859577179, 0.3469565212726593, 0.5175672173500061, 0.5182439684867859, 0.5162265300750732, 1.0164599418640137, 0.3362058103084564, 0.33516278862953186, 0.3316158056259155, 1.6505639553070068, 0.49272680282592773, 0.49102112650871277, 1.4431692361831665, 46.472373962402344, 40.743995666503906, 38.04323959350586, 56.82096481323242, 83.66316223144531, 85.9666519165039, 183.52024841308594, 131.74942016601562, 34.98704528808594, 31.82101058959961, 66.05406951904297, 23.187435150146484, 247.3365478515625, 66.27652740478516, 148.28538513183594, 65.06126403808594, 25.214069366455078, 386.04486083984375, 367.89337158203125, 34.62120819091797, 67.54662322998047, 45.16029739379883, 13.712909698486328, 61.75815200805664, 432.2082824707031, 171.99301147460938, 130.85386657714844, 94.79080963134766, 60.11574935913086, 403.2709655761719, 116.90286254882812, 122.64645385742188, 148.44000244140625, 144.68878173828125, 1089.6317138671875, 154.67031860351562, 682.6566162109375, 378.859375, 240.59063720703125, 127.89433288574219, 355.8841247558594, 142.8306427001953, 135.58570861816406, 119.2510757446289, 121.90867614746094, 198.0013885498047, 192.5423583984375, 303.1672058105469, 157.3084716796875, 144.24510192871094, 196.27462768554688, 148.24867248535156, 127.62509155273438, 125.21984100341797], \"Term\": [\"\", \"the\", \"great\", \"service\", \"time\", \"its\", \"good\", \"place\", \"recommend\", \"got\", \"restaurant\", \"bit\", \"we\", \"food\", \"people\", \"dont\", \"my\", \"ordered\", \"love\", \"definitely\", \"so\", \"wait\", \"prices\", \"came\", \"little\", \"staff\", \"bar\", \"order\", \"best\", \"a\", \"crews\", \"despensers\", \"711\", \"lattedefinitely\", \"scrapped\", \"snackscoffeeand\", \"insectarium\", \"swordfish\", \"unite\", \"unexplainable\", \"chintzy\", \"imcomplete\", \"barley\", \"mikes\", \"jellyfish\", \"petrus\", \"largespaciousand\", \"pennies\", \"essentials\", \"nadya\", \"saj\", \"bigegg\", \"incred\", \"cad\", \"kang\", \"janet\", \"cher\", \"metros\", \"village\", \"embarrassment\", \"90mns\", \"anita\", \"salt\", \"experience\", \"visit\", \"amazing\", \"location\", \"certainly\", \"service\", \"\", \"pretty\", \"didnt\", \"tell\", \"2\", \"perfect\", \"there\", \"eat\", \"this\", \"going\", \"we\", \"it\", \"meat\", \"clean\", \"10\", \"place\", \"dont\", \"chicken\", \"went\", \"restaurant\", \"years\", \"the\", \"order\", \"they\", \"great\", \"better\", \"came\", \"little\", \"food\", \"time\", \"menu\", \"its\", \"best\", \"come\", \"good\", \"friendly\", \"nice\", \"my\", \"ive\", \"got\", \"aknowledgement\", \"recomendill\", \"kiki\", \"eatdefiantly\", \"palmas\", \"brookline\", \"cwru\", \"romper\", \"bsc\", \"talia\", \"sparring\", \"momma\", \"swirl\", \"halalkosher\", \"suitemates\", \"swordfish\", \"posoleshawwty\", \"ycs\", \"preexisting\", \"aisha\", \"homestyle\", \"jewish\", \"calabash\", \"congregation\", \"butterflies\", \"angelinas\", \"swift\", \"spotmy\", \"wrestlemania\", \"wilkes\", \"hatch\", \"its\", \"overall\", \"the\", \"love\", \"ordered\", \"fries\", \"back\", \"good\", \"bag\", \"friendly\", \"\", \"kind\", \"lunch\", \"my\", \"visit\", \"sandwich\", \"plenty\", \"price\", \"called\", \"music\", \"available\", \"food\", \"place\", \"cant\", \"way\", \"it\", \"little\", \"pork\", \"better\", \"wait\", \"we\", \"best\", \"order\", \"im\", \"delicious\", \"service\", \"great\", \"nice\", \"this\", \"try\", \"they\", \"definitely\", \"ive\", \"got\", \"dont\", \"came\", \"time\", \"didnt\", \"went\", \"stabbed\", \"penetrated\", \"cigarets\", \"yuk\", \"convent\", \"gooddecent\", \"sevice\", \"poom\", \"squishies\", \"rudys\", \"fst\", \"propre\", \"kendel\", \"solomon\", \"personnels\", \"zoey\", \"harlow\", \"shootsbut\", \"birthdaythank\", \"organis\", \"respectueux\", \"shootreallyall\", \"pruitts\", \"galley\", \"chefthe\", \"rains\", \"painfully\", \"erika\", \"woodmans\", \"ricketts\", \"burger\", \"collection\", \"evening\", \"by\", \"definitely\", \"read\", \"red\", \"cheese\", \"its\", \"restaurant\", \"staff\", \"my\", \"people\", \"salad\", \"ask\", \"time\", \"good\", \"\", \"im\", \"server\", \"the\", \"it\", \"nice\", \"order\", \"bit\", \"amazing\", \"out\", \"got\", \"this\", \"they\", \"way\", \"food\", \"place\", \"came\", \"2\", \"went\", \"service\", \"we\", \"dont\", \"love\", \"great\", \"there\", \"little\", \"ive\", \"siela\", \"pnw\", \"everrrrr\", \"cages\", \"waitresscashier\", \"sweettooth\", \"placethis\", \"dominican\", \"93018\", \"suzi\", \"bai\", \"tellers\", \"decals\", \"beause\", \"shenanigans\", \"termite\", \"longi\", \"tikki\", \"auction\", \"towing\", \"merest\", \"cruffin\", \"elva\", \"azlove\", \"banking\", \"helpfullmy\", \"amazinggg\", \"melinda\", \"noreen\", \"perrys\", \"prices\", \"francisco\", \"meets\", \"presto\", \"professional\", \"when\", \"problem\", \"care\", \"go\", \"highly\", \"best\", \"home\", \"dont\", \"pie\", \"day\", \"looking\", \"guy\", \"customer\", \"extra\", \"results\", \"place\", \"ill\", \"definitely\", \"little\", \"especially\", \"ok\", \"ice\", \"\", \"understand\", \"well\", \"was\", \"recommend\", \"food\", \"delicious\", \"they\", \"time\", \"sushi\", \"great\", \"service\", \"this\", \"experience\", \"my\", \"the\", \"went\", \"nice\", \"its\", \"it\", \"good\", \"we\", \"im\", \"love\", \"didnt\", \"ive\", \"came\", \"staff\", \"got\", \"ordered\", \"donny\", \"hunan\", \"lydia\", \"nachosummm\", \"kristy\", \"jeffery\", \"shoooz\", \"paced\", \"backfood\", \"friedservice\", \"rammed\", \"doughnuts\", \"ito\", \"grossman\", \"wallace\", \"stagette\", \"jdt\", \"melinda\", \"vibey\", \"increible\", \"wtfclosing\", \"bombdifinitly\", \"fetta\", \"goooood\", \"roastit\", \"shootreallyall\", \"stacy\", \"fungus\", \"tamari\", \"gerrard\", \"croquetas\", \"cuban\", \"stores\", \"fare\", \"bar\", \"as\", \"stars\", \"there\", \"flavors\", \"food\", \"\", \"taken\", \"place\", \"low\", \"little\", \"ive\", \"seafood\", \"24\", \"try\", \"delicious\", \"came\", \"wasnt\", \"need\", \"the\", \"it\", \"good\", \"service\", \"ordered\", \"work\", \"great\", \"time\", \"got\", \"nice\", \"we\", \"they\", \"awesome\", \"check\", \"best\", \"come\", \"new\", \"its\", \"im\", \"this\", \"menu\", \"chicken\", \"dont\", \"went\", \"staff\", \"love\", \"greentea\", \"walkthrough\", \"crabcakes\", \"papas\", \"vadai\", \"everrrrr\", \"inbred\", \"butterflies\", \"dahl\", \"honestprices\", \"currythey\", \"oknot\", \"jobneeds\", \"drgoldman\", \"pam\", \"hungrybut\", \"powersports\", \"satified\", \"conrad\", \"northwestawesome\", \"ernie\", \"serviceseven\", \"justamazing\", \"idlywada\", \"mila\", \"wattery\", \"lining\", \"breakfastlunch\", \"halo\", \"greenhouse\", \"nachos\", \"saved\", \"simply\", \"risotto\", \"unfriendly\", \"emily\", \"sorry\", \"\", \"recommend\", \"rooms\", \"terrible\", \"the\", \"owner\", \"gave\", \"very\", \"zero\", \"family\", \"you\", \"area\", \"friend\", \"for\", \"nice\", \"now\", \"time\", \"good\", \"try\", \"fun\", \"variety\", \"only\", \"think\", \"place\", \"food\", \"we\", \"wanted\", \"didnt\", \"house\", \"best\", \"love\", \"ordered\", \"here\", \"told\", \"service\", \"great\", \"it\", \"amazing\", \"they\", \"day\", \"so\", \"this\", \"staff\", \"its\", \"my\", \"got\", \"chicken\", \"order\", \"people\", \"dont\", \"come\", \"abiance\", \"lgbtq\", \"diwali\", \"luxuriously\", \"avarage\", \"ricecabbagemiso\", \"whoopers\", \"respectueux\", \"makets\", \"lad\", \"gemwholesale\", \"outbacks\", \"taist\", \"bombbbb\", \"outfit\", \"yasmin\", \"chillers\", \"caterpillars\", \"landen\", \"passionfruit\", \"skyloft\", \"fridendly\", \"organis\", \"propre\", \"shay\", \"packers\", \"poopoo\", \"irrigation\", \"minh\", \"weeki\", \"gluten\", \"finally\", \"check\", \"window\", \"fine\", \"night\", \"husband\", \"taking\", \"use\", \"couple\", \"excellent\", \"stopped\", \"the\", \"fries\", \"today\", \"good\", \"free\", \"tried\", \"got\", \"wasnt\", \"vegas\", \"worst\", \"so\", \"order\", \"store\", \"food\", \"back\", \"this\", \"\", \"we\", \"time\", \"recommend\", \"didnt\", \"right\", \"menu\", \"it\", \"and\", \"if\", \"chicken\", \"great\", \"its\", \"service\", \"they\", \"said\", \"my\", \"delicious\", \"place\", \"staff\", \"there\", \"come\", \"ive\", \"dont\", \"best\", \"friendly\", \"acrobaticsreally\", \"shellwithout\", \"coolworth\", \"resource\", \"naga\", \"breakfastwtf\", \"knoll\", \"humorromance\", \"preexisting\", \"underpriced\", \"disheswhats\", \"vegasperformers\", \"awesomerespectful\", \"ari\", \"ceaser\", \"decour\", \"gr\", \"chauffeured\", \"guacamolie\", \"austinswell\", \"noddle\", \"avarage\", \"pleasantquiet\", \"showyou\", \"negotiated\", \"reece\", \"rics\", \"lochiel\", \"intelligent\", \"vince\", \"great\", \"broken\", \"bit\", \"simple\", \"milk\", \"not\", \"pho\", \"15\", \"that\", \"cup\", \"usually\", \"making\", \"a\", \"one\", \"new\", \"times\", \"remember\", \"asked\", \"we\", \"in\", \"thats\", \"love\", \"place\", \"people\", \"staff\", \"happy\", \"better\", \"know\", \"food\", \"ordered\", \"all\", \"they\", \"im\", \"come\", \"price\", \"if\", \"friendly\", \"the\", \"it\", \"\", \"here\", \"good\", \"this\", \"dont\", \"service\", \"my\", \"its\", \"ive\", \"time\", \"nice\", \"went\", \"got\", \"didnt\", \"came\", \"daaayyuuummm\", \"alam\", \"carna\", \"unauthentic\", \"barros\", \"healthyvegan\", \"adrianna\", \"froide\", \"superdisappointed\", \"produxt\", \"crude\", \"od\", \"mexicaninspired\", \"disrespected\", \"pizzabut\", \"attendants\", \"ethan\", \"inly\", \"exausting\", \"placeorder\", \"horriblei\", \"opa\", \"mauriccio\", \"huddle\", \"albacora\", \"reyna\", \"qualifier\", \"bello\", \"javier\", \"handels\", \"coin\", \"dogs\", \"tap\", \"italian\", \"service\", \"decor\", \"desperate\", \"frittata\", \"regular\", \"floor\", \"a\", \"thing\", \"so\", \"asada\", \"cupcake\", \"use\", \"though\", \"dont\", \"3\", \"thats\", \"bar\", \"offered\", \"late\", \"open\", \"time\", \"pizza\", \"work\", \"everything\", \"quality\", \"great\", \"friends\", \"people\", \"breakfast\", \"food\", \"good\", \"staff\", \"my\", \"menu\", \"it\", \"im\", \"\", \"the\", \"got\", \"want\", \"place\", \"order\", \"location\", \"they\", \"new\", \"chicken\", \"we\", \"there\", \"this\", \"best\", \"went\", \"its\", \"restaurant\", \"ive\", \"didnt\", \"love\", \"nice\", \"shoooz\", \"aber\", \"carina\", \"wallete\", \"scotty\", \"migraines\", \"clubish\", \"tastydont\", \"touristen\", \"piri\", \"6ishpm\", \"schn\", \"towner\", \"bathtrim\", \"amazon\", \"jdt\", \"shortening\", \"tastedjust\", \"servicedont\", \"kein\", \"yasmin\", \"hobak\", \"iorio\", \"tendon\", \"330pm\", \"pay19\", \"binks\", \"stole\", \"cashew\", \"stringed\", \"deanna\", \"door\", \"i\", \"real\", \"reviews\", \"taste\", \"called\", \"restaurant\", \"wait\", \"life\", \"seating\", \"flavor\", \"treat\", \"got\", \"decided\", \"you\", \"fried\", \"month\", \"we\", \"time\", \"portions\", \"highly\", \"return\", \"shops\", \"on\", \"great\", \"came\", \"recommend\", \"3\", \"selection\", \"it\", \"want\", \"way\", \"try\", \"people\", \"\", \"ive\", \"the\", \"place\", \"its\", \"menu\", \"good\", \"come\", \"friendly\", \"going\", \"said\", \"they\", \"this\", \"food\", \"dont\", \"best\", \"service\", \"my\", \"definitely\", \"ordered\"], \"Total\": [14536.0, 9213.0, 4046.0, 3460.0, 3234.0, 2694.0, 4525.0, 4555.0, 1102.0, 1962.0, 1358.0, 794.0, 3400.0, 4734.0, 1322.0, 1884.0, 1834.0, 1464.0, 1587.0, 1384.0, 1087.0, 960.0, 622.0, 1470.0, 1334.0, 1492.0, 872.0, 1478.0, 1652.0, 752.0, 2.841731309890747, 1.8982932567596436, 3.7864902019500732, 1.8969875574111938, 1.897955298423767, 1.8975224494934082, 1.8967924118041992, 2.842010259628296, 1.8952234983444214, 1.8983113765716553, 1.8983632326126099, 1.899823784828186, 1.8991047143936157, 2.843506336212158, 4.7333149909973145, 3.7880358695983887, 1.8974363803863525, 2.8440589904785156, 3.7909460067749023, 2.8472368717193604, 1.8961031436920166, 1.8986166715621948, 1.8947464227676392, 4.7408976554870605, 3.791778564453125, 3.787719964981079, 4.733400821685791, 1.899035096168518, 25.572057723999023, 1.9014557600021362, 2.8444249629974365, 4.742475509643555, 97.55242919921875, 1221.9945068359375, 523.8121337890625, 1256.7408447265625, 808.4180908203125, 121.20520782470703, 3460.13232421875, 14536.583984375, 1022.0860595703125, 1544.36669921875, 392.3456115722656, 918.2499389648438, 507.2389831542969, 1341.0638427734375, 831.7589721679688, 2366.6962890625, 1112.146728515625, 3400.447998046875, 4029.644287109375, 551.2906494140625, 668.65576171875, 486.9644775390625, 4555.52734375, 1884.8892822265625, 1314.457275390625, 1413.3172607421875, 1358.285888671875, 616.9064331054688, 9213.521484375, 1478.4344482421875, 2377.83935546875, 4046.0166015625, 1101.6258544921875, 1470.8382568359375, 1334.1044921875, 4734.68896484375, 3234.14208984375, 1199.5478515625, 2694.45751953125, 1652.0457763671875, 1387.0057373046875, 4525.11572265625, 1305.5198974609375, 1642.06689453125, 1834.726806640625, 1473.1883544921875, 1962.2218017578125, 1.9012129306793213, 1.9014033079147339, 1.899580717086792, 1.8986953496932983, 1.8994196653366089, 1.900371789932251, 1.9018821716308594, 1.898858666419983, 1.8987241983413696, 1.8970389366149902, 1.900183916091919, 1.8978416919708252, 2.842362403869629, 1.9022647142410278, 1.901109218597412, 2.842010259628296, 1.8985710144042969, 5.688131809234619, 1.9017778635025024, 1.9005675315856934, 2.847050189971924, 5.694883823394775, 1.899564504623413, 1.9004253149032593, 1.9033499956130981, 2.845357894897461, 3.7968382835388184, 1.8978333473205566, 1.8968536853790283, 3.8022947311401367, 7.59226131439209, 2694.45751953125, 511.82159423828125, 9213.521484375, 1587.725341796875, 1464.118896484375, 572.2897338867188, 745.7594604492188, 4525.11572265625, 98.46905517578125, 1305.5198974609375, 14536.583984375, 443.5287170410156, 737.251220703125, 1834.726806640625, 523.8121337890625, 378.48846435546875, 216.20074462890625, 898.0478515625, 611.175048828125, 285.2557373046875, 200.826416015625, 4734.68896484375, 4555.52734375, 811.8373413085938, 1075.9793701171875, 4029.644287109375, 1334.1044921875, 352.533203125, 1101.6258544921875, 960.416259765625, 3400.447998046875, 1652.0457763671875, 1478.4344482421875, 1542.492431640625, 1180.3760986328125, 3460.13232421875, 4046.0166015625, 1642.06689453125, 2366.6962890625, 1357.87744140625, 2377.83935546875, 1384.4383544921875, 1473.1883544921875, 1962.2218017578125, 1884.8892822265625, 1470.8382568359375, 3234.14208984375, 1544.36669921875, 1413.3172607421875, 1.898734211921692, 1.8959071636199951, 1.8963055610656738, 42.663814544677734, 1.8993496894836426, 1.9016162157058716, 1.9035258293151855, 1.8995122909545898, 2.8475089073181152, 4.741690635681152, 1.9008398056030273, 1.8992791175842285, 1.8984477519989014, 1.901893138885498, 1.8981131315231323, 2.8490912914276123, 1.8997790813446045, 1.8951953649520874, 1.899620771408081, 1.8983901739120483, 1.9008514881134033, 1.8956025838851929, 1.8991639614105225, 4.7466206550598145, 1.9004778861999512, 1.9016616344451904, 3.7946903705596924, 1.8985440731048584, 7.589939117431641, 1.8990589380264282, 508.5477600097656, 24.626453399658203, 181.00169372558594, 158.351806640625, 1384.4383544921875, 166.86737060546875, 265.2615966796875, 763.4031982421875, 2694.45751953125, 1358.285888671875, 1492.52783203125, 1834.726806640625, 1322.425048828125, 659.26416015625, 498.2384033203125, 3234.14208984375, 4525.11572265625, 14536.583984375, 1542.492431640625, 611.5740966796875, 9213.521484375, 4029.644287109375, 1642.06689453125, 1478.4344482421875, 794.8182373046875, 1256.7408447265625, 625.225341796875, 1962.2218017578125, 2366.6962890625, 2377.83935546875, 1075.9793701171875, 4734.68896484375, 4555.52734375, 1470.8382568359375, 918.2499389648438, 1413.3172607421875, 3460.13232421875, 3400.447998046875, 1884.8892822265625, 1587.725341796875, 4046.0166015625, 1341.0638427734375, 1334.1044921875, 1473.1883544921875, 1.8998236656188965, 1.8995790481567383, 1.8992329835891724, 1.9042280912399292, 1.9018713235855103, 1.9011362791061401, 1.9028313159942627, 3.80084228515625, 1.9013622999191284, 7.597927570343018, 1.8994309902191162, 1.9003922939300537, 1.9017560482025146, 1.9005110263824463, 3.799973487854004, 6.640444278717041, 1.901808738708496, 4.738931655883789, 2.852175235748291, 9.484380722045898, 1.8999969959259033, 2.8464603424072266, 2.847444772720337, 1.9020410776138306, 3.7992308139801025, 1.9026559591293335, 2.8509514331817627, 2.8452985286712646, 1.9010870456695557, 1.9001717567443848, 622.916748046875, 21.832712173461914, 13.28088665008545, 5.699214935302734, 318.4762878417969, 652.3010864257812, 294.8599853515625, 518.4909057617188, 351.5530090332031, 517.8265991210938, 1652.0457763671875, 721.3582153320312, 1884.8892822265625, 110.01478576660156, 1122.900390625, 660.7731323242188, 349.6819152832031, 828.9961547851562, 330.658447265625, 76.78974151611328, 4555.52734375, 410.5132141113281, 1384.4383544921875, 1334.1044921875, 344.9488525390625, 436.7866516113281, 428.4346618652344, 14536.583984375, 198.14479064941406, 889.164306640625, 316.7539367675781, 1102.5701904296875, 4734.68896484375, 1180.3760986328125, 2377.83935546875, 3234.14208984375, 521.9814453125, 4046.0166015625, 3460.13232421875, 2366.6962890625, 1221.9945068359375, 1834.726806640625, 9213.521484375, 1413.3172607421875, 1642.06689453125, 2694.45751953125, 4029.644287109375, 4525.11572265625, 3400.447998046875, 1542.492431640625, 1587.725341796875, 1544.36669921875, 1473.1883544921875, 1470.8382568359375, 1492.52783203125, 1962.2218017578125, 1464.118896484375, 1.896248698234558, 2.8371503353118896, 2.842954397201538, 1.8975143432617188, 1.893593430519104, 1.8958250284194946, 1.9000701904296875, 1.899253487586975, 1.8958327770233154, 1.8957359790802002, 1.8992316722869873, 14.196681022644043, 1.90083909034729, 2.8487017154693604, 1.9005247354507446, 1.898112177848816, 2.8507497310638428, 2.8452985286712646, 1.9015218019485474, 1.8994762897491455, 1.8951095342636108, 1.896761178970337, 1.8981379270553589, 2.844038486480713, 1.8987023830413818, 1.8956025838851929, 3.79431414604187, 2.8477330207824707, 1.8999677896499634, 2.84784197807312, 2.845442295074463, 13.267800331115723, 106.04694366455078, 48.321189880371094, 872.4078369140625, 412.3320617675781, 579.6198120117188, 1341.0638427734375, 222.5189971923828, 4734.68896484375, 14536.583984375, 154.53211975097656, 4555.52734375, 140.25140380859375, 1334.1044921875, 1473.1883544921875, 152.58505249023438, 77.64766693115234, 1357.87744140625, 1180.3760986328125, 1470.8382568359375, 800.2932739257812, 639.4452514648438, 9213.521484375, 4029.644287109375, 4525.11572265625, 3460.13232421875, 1464.118896484375, 893.1133422851562, 4046.0166015625, 3234.14208984375, 1962.2218017578125, 1642.06689453125, 3400.447998046875, 2377.83935546875, 656.5662841796875, 558.5191650390625, 1652.0457763671875, 1387.0057373046875, 1106.6278076171875, 2694.45751953125, 1542.492431640625, 2366.6962890625, 1199.5478515625, 1314.457275390625, 1884.8892822265625, 1413.3172607421875, 1492.52783203125, 1587.725341796875, 1.903867244720459, 1.9026702642440796, 2.8499770164489746, 1.9036506414413452, 1.9008822441101074, 1.8992329835891724, 1.904898762702942, 1.9033499956130981, 1.9007335901260376, 1.9038667678833008, 1.9019889831542969, 1.9014190435409546, 1.9021753072738647, 1.9040082693099976, 2.8526082038879395, 1.9047040939331055, 3.8014018535614014, 2.8467371463775635, 2.849172353744507, 1.9029169082641602, 1.9041253328323364, 1.9011380672454834, 1.903656244277954, 1.905722737312317, 1.9013029336929321, 1.9054367542266846, 4.74828577041626, 2.8515686988830566, 10.442562103271484, 3.798316717147827, 74.90766143798828, 39.848453521728516, 154.4476776123047, 45.5348014831543, 21.830781936645508, 9.490158081054688, 141.32196044921875, 14536.583984375, 1102.5701904296875, 177.40948486328125, 200.11123657226562, 9213.521484375, 362.3390808105469, 459.08416748046875, 594.4475708007812, 71.15823364257812, 493.5171813964844, 1178.7506103515625, 723.7114868164062, 462.2669372558594, 696.6651611328125, 1642.06689453125, 403.85418701171875, 3234.14208984375, 4525.11572265625, 1357.87744140625, 468.7087097167969, 275.0065612792969, 182.78948974609375, 851.0615844726562, 4555.52734375, 4734.68896484375, 3400.447998046875, 643.8468017578125, 1544.36669921875, 443.5419921875, 1652.0457763671875, 1587.725341796875, 1464.118896484375, 1032.9478759765625, 925.2263793945312, 3460.13232421875, 4046.0166015625, 4029.644287109375, 1256.7408447265625, 2377.83935546875, 1122.900390625, 1087.1866455078125, 2366.6962890625, 1492.52783203125, 2694.45751953125, 1834.726806640625, 1962.2218017578125, 1314.457275390625, 1478.4344482421875, 1322.425048828125, 1884.8892822265625, 1387.0057373046875, 1.9045052528381348, 1.9038020372390747, 1.9004571437835693, 1.8993412256240845, 1.9023700952529907, 1.9009733200073242, 1.900486707687378, 1.9008514881134033, 1.9002857208251953, 1.9019639492034912, 1.9031811952590942, 1.8989884853363037, 1.9009522199630737, 1.902468204498291, 4.744658946990967, 2.848489284515381, 9.505575180053711, 1.904259443283081, 1.902935266494751, 1.9020016193389893, 2.8518869876861572, 1.8979377746582031, 1.8983901739120483, 1.8992791175842285, 1.9021022319793701, 2.848860740661621, 1.9012434482574463, 1.9037723541259766, 1.899340271949768, 1.9021861553192139, 46.4486083984375, 397.0506896972656, 558.5191650390625, 151.5570831298828, 242.7167510986328, 877.8579711914062, 386.5907897949219, 230.555419921875, 466.99102783203125, 400.8645324707031, 651.9351806640625, 228.28497314453125, 9213.521484375, 572.2897338867188, 366.0060119628906, 4525.11572265625, 525.1569213867188, 695.5369873046875, 1962.2218017578125, 800.2932739257812, 852.1512451171875, 291.7234191894531, 1087.1866455078125, 1478.4344482421875, 656.773681640625, 4734.68896484375, 745.7594604492188, 2366.6962890625, 14536.583984375, 3400.447998046875, 3234.14208984375, 1102.5701904296875, 1544.36669921875, 1005.84765625, 1199.5478515625, 4029.644287109375, 991.341796875, 1059.1763916015625, 1314.457275390625, 4046.0166015625, 2694.45751953125, 3460.13232421875, 2377.83935546875, 1147.0614013671875, 1834.726806640625, 1180.3760986328125, 4555.52734375, 1492.52783203125, 1341.0638427734375, 1387.0057373046875, 1473.1883544921875, 1884.8892822265625, 1652.0457763671875, 1305.5198974609375, 1.9039740562438965, 1.9025824069976807, 1.9044084548950195, 5.694304466247559, 1.9027528762817383, 1.899463415145874, 1.903632402420044, 1.9036461114883423, 1.9017778635025024, 1.9020953178405762, 1.901946783065796, 1.9031339883804321, 1.9024776220321655, 1.9017292261123657, 1.9037096500396729, 1.9031494855880737, 1.901668906211853, 1.9019854068756104, 1.8982486724853516, 1.901634693145752, 2.847364664077759, 1.9023700952529907, 1.9000343084335327, 1.9005833864212036, 2.849675416946411, 3.7994003295898438, 4.750486850738525, 2.851048707962036, 3.8017921447753906, 2.850738048553467, 4046.0166015625, 75.84489440917969, 794.8182373046875, 187.73162841796875, 129.9593048095703, 1026.311279296875, 112.92831420898438, 277.8874206542969, 751.1362915039062, 122.21734619140625, 411.4341125488281, 298.7059326171875, 752.5521240234375, 637.1589965820312, 1106.6278076171875, 818.530517578125, 191.44781494140625, 834.36328125, 3400.447998046875, 780.3202514648438, 547.7997436523438, 1587.725341796875, 4555.52734375, 1322.425048828125, 1492.52783203125, 689.7416381835938, 1101.6258544921875, 1126.83642578125, 4734.68896484375, 1464.118896484375, 864.3870239257812, 2377.83935546875, 1542.492431640625, 1387.0057373046875, 898.0478515625, 1059.1763916015625, 1305.5198974609375, 9213.521484375, 4029.644287109375, 14536.583984375, 1032.9478759765625, 4525.11572265625, 2366.6962890625, 1884.8892822265625, 3460.13232421875, 1834.726806640625, 2694.45751953125, 1473.1883544921875, 3234.14208984375, 1642.06689453125, 1413.3172607421875, 1962.2218017578125, 1544.36669921875, 1470.8382568359375, 1.898046851158142, 1.901691198348999, 1.8997524976730347, 1.9021872282028198, 2.844438314437866, 1.8972889184951782, 1.898576259613037, 1.9007657766342163, 1.897788166999817, 1.9013991355895996, 2.852365016937256, 1.9009109735488892, 1.90054190158844, 1.9008750915527344, 1.8979531526565552, 2.8495004177093506, 2.8478641510009766, 1.8982934951782227, 1.90104079246521, 1.901916742324829, 1.9034266471862793, 3.7956063747406006, 1.901538610458374, 2.849811553955078, 1.90188467502594, 1.8962438106536865, 2.851825714111328, 1.8986307382583618, 1.899818778038025, 3.7971625328063965, 7.586910247802734, 112.81844329833984, 72.9753646850586, 171.53085327148438, 3460.13232421875, 248.33245849609375, 13.271711349487305, 8.531421661376953, 231.83998107910156, 193.1785125732422, 752.5521240234375, 616.1470336914062, 1087.1866455078125, 54.8855094909668, 39.82107925415039, 466.99102783203125, 336.4073791503906, 1884.8892822265625, 775.4210815429688, 547.7997436523438, 872.4078369140625, 199.9132843017578, 265.26593017578125, 421.3534240722656, 3234.14208984375, 757.7858276367188, 893.1133422851562, 325.9107971191406, 625.087158203125, 4046.0166015625, 591.2052001953125, 1322.425048828125, 447.09771728515625, 4734.68896484375, 4525.11572265625, 1492.52783203125, 1834.726806640625, 1199.5478515625, 4029.644287109375, 1542.492431640625, 14536.583984375, 9213.521484375, 1962.2218017578125, 1008.0528564453125, 4555.52734375, 1478.4344482421875, 808.4180908203125, 2377.83935546875, 1106.6278076171875, 1314.457275390625, 3400.447998046875, 1341.0638427734375, 2366.6962890625, 1652.0457763671875, 1413.3172607421875, 2694.45751953125, 1358.285888671875, 1473.1883544921875, 1544.36669921875, 1587.725341796875, 1642.06689453125, 1.9000701904296875, 2.852733850479126, 1.9052315950393677, 1.904699683189392, 1.9044344425201416, 1.9023120403289795, 1.904344916343689, 1.904868483543396, 1.902393102645874, 2.85485577583313, 1.9006344079971313, 1.9036688804626465, 2.849807024002075, 1.9036067724227905, 14.233831405639648, 2.8507497310638428, 1.9027323722839355, 1.904285192489624, 1.9039748907089233, 1.9035853147506714, 2.848489284515381, 2.8546273708343506, 2.850647449493408, 5.6987104415893555, 1.9023314714431763, 1.9023329019546509, 1.9047918319702148, 9.486222267150879, 2.850778818130493, 2.852302312850952, 8.541520118713379, 300.47265625, 273.93511962890625, 256.7038269042969, 390.951416015625, 592.5745849609375, 611.175048828125, 1358.285888671875, 960.416259765625, 240.03009033203125, 219.0005340576172, 477.54998779296875, 157.4875030517578, 1962.2218017578125, 495.07806396484375, 1178.7506103515625, 486.1680908203125, 176.35157775878906, 3400.447998046875, 3234.14208984375, 249.2406005859375, 517.8265991210938, 334.73370361328125, 91.92239379882812, 475.5957946777344, 4046.0166015625, 1470.8382568359375, 1102.5701904296875, 775.4210815429688, 470.0158996582031, 4029.644287109375, 1008.0528564453125, 1075.9793701171875, 1357.87744140625, 1322.425048828125, 14536.583984375, 1473.1883544921875, 9213.521484375, 4555.52734375, 2694.45751953125, 1199.5478515625, 4525.11572265625, 1387.0057373046875, 1305.5198974609375, 1112.146728515625, 1147.0614013671875, 2377.83935546875, 2366.6962890625, 4734.68896484375, 1884.8892822265625, 1652.0457763671875, 3460.13232421875, 1834.726806640625, 1384.4383544921875, 1464.118896484375], \"loglift\": [30.0, 29.0, 28.0, 27.0, 26.0, 25.0, 24.0, 23.0, 22.0, 21.0, 20.0, 19.0, 18.0, 17.0, 16.0, 15.0, 14.0, 13.0, 12.0, 11.0, 10.0, 9.0, 8.0, 7.0, 6.0, 5.0, 4.0, 3.0, 2.0, 1.0, 0.9180999994277954, 0.8805999755859375, 0.8274000287055969, 0.8187999725341797, 0.7991999983787537, 0.7800999879837036, 0.7692000269889832, 0.7457000017166138, 0.7450000047683716, 0.7343999743461609, 0.7156000137329102, 0.689300000667572, 0.6848999857902527, 0.6823999881744385, 0.6761999726295471, 0.6729999780654907, 0.6679999828338623, 0.659600019454956, 0.6593000292778015, 0.6478999853134155, 0.6446999907493591, 0.6312999725341797, 0.6247000098228455, 0.616100013256073, 0.6126999855041504, 0.6078000068664551, 0.5957000255584717, 0.5945000052452087, 0.5932999849319458, 0.5861999988555908, 0.5806999802589417, 0.5702999830245972, 0.478300005197525, 0.3808000087738037, 0.4050000011920929, 0.35120001435279846, 0.359499990940094, 0.43779999017715454, 0.26190000772476196, 0.13670000433921814, 0.28790000081062317, 0.24799999594688416, 0.3433000147342682, 0.2703000009059906, 0.30730000138282776, 0.23399999737739563, 0.2655999958515167, 0.17919999361038208, 0.22550000250339508, 0.11630000174045563, 0.10040000081062317, 0.2728999853134155, 0.25119999051094055, 0.27970001101493835, 0.07590000331401825, 0.15760000050067902, 0.1858000010251999, 0.17239999771118164, 0.16429999470710754, 0.25060001015663147, -0.047200001776218414, 0.15039999783039093, 0.09239999949932098, 0.018799999728798866, 0.17980000376701355, 0.1266999989748001, 0.1339000016450882, -0.0869000032544136, -0.04149999842047691, 0.14480000734329224, -0.050200000405311584, 0.05649999901652336, 0.10279999673366547, -0.27619999647140503, 0.11469999700784683, 0.004800000227987766, -0.1080000028014183, 0.012900000438094139, -0.23440000414848328, 1.107699990272522, 1.0786000490188599, 1.0773999691009521, 0.9047999978065491, 0.8970000147819519, 0.8919000029563904, 0.8655999898910522, 0.8600000143051147, 0.8277000188827515, 0.8255000114440918, 0.8253999948501587, 0.8177000284194946, 0.8097000122070312, 0.7985000014305115, 0.7627999782562256, 0.758400022983551, 0.758400022983551, 0.7526000142097473, 0.7368999719619751, 0.734499990940094, 0.7278000116348267, 0.7114999890327454, 0.7003999948501587, 0.6899999976158142, 0.6888999938964844, 0.683899998664856, 0.6721000075340271, 0.6705999970436096, 0.66839998960495, 0.6674000024795532, 0.6535000205039978, 0.48649999499320984, 0.4837999939918518, 0.3199000060558319, 0.3847000002861023, 0.35989999771118164, 0.4099000096321106, 0.36570000648498535, 0.22470000386238098, 0.4772000014781952, 0.2928999960422516, 0.09030000120401382, 0.35530000925064087, 0.3140999972820282, 0.23319999873638153, 0.33309999108314514, 0.3617999851703644, 0.40139999985694885, 0.2694000005722046, 0.3052000105381012, 0.3723999857902527, 0.3880999982357025, 0.05570000037550926, 0.05959999933838844, 0.24560000002384186, 0.21279999613761902, 0.06650000065565109, 0.18410000205039978, 0.3287999927997589, 0.18649999797344208, 0.2029000073671341, 0.02800000086426735, 0.11680000275373459, 0.1242000013589859, 0.1111999973654747, 0.14710000157356262, -0.0348999984562397, -0.15469999611377716, 0.049300000071525574, -0.06949999928474426, 0.07090000063180923, -0.17030000686645508, 0.045899998396635056, -0.004999999888241291, -0.1404000073671341, -0.15719999372959137, -0.04050000011920929, -0.6003000140190125, -0.0754999965429306, -0.017799999564886093, 1.1871000528335571, 1.0927000045776367, 1.0920000076293945, 1.0741000175476074, 1.0267000198364258, 1.0115000009536743, 0.9677000045776367, 0.9241999983787537, 0.9132000207901001, 0.8567000031471252, 0.8374999761581421, 0.8105000257492065, 0.7972000241279602, 0.765500009059906, 0.7621999979019165, 0.7394000291824341, 0.7257999777793884, 0.7110999822616577, 0.7031000256538391, 0.6891999840736389, 0.6820999979972839, 0.6812000274658203, 0.6801000237464905, 0.6675999760627747, 0.6611999869346619, 0.6585000157356262, 0.6581000089645386, 0.6518999934196472, 0.6413999795913696, 0.6255000233650208, 0.5623000264167786, 0.5800999999046326, 0.5181000232696533, 0.5042999982833862, 0.40540000796318054, 0.4740999937057495, 0.44839999079704285, 0.3797000050544739, 0.2362000048160553, 0.2768000066280365, 0.2639000117778778, 0.2475000023841858, 0.25839999318122864, 0.31029999256134033, 0.3296999931335449, 0.17980000376701355, 0.13210000097751617, 0.024800000712275505, 0.2159000039100647, 0.2955999970436096, 0.03669999912381172, 0.1046999990940094, 0.19609999656677246, 0.20350000262260437, 0.26420000195503235, 0.20170000195503235, 0.28760001063346863, 0.13740000128746033, 0.10930000245571136, 0.10859999805688858, 0.2125999927520752, -0.035100001841783524, -0.0689999982714653, 0.13199999928474426, 0.1979999989271164, 0.08879999816417694, -0.15080000460147858, -0.18279999494552612, -0.016599999740719795, 0.021700000390410423, -0.38429999351501465, 0.04839999973773956, 0.048500001430511475, -0.011300000362098217, 1.0118999481201172, 0.9692999720573425, 0.9595999717712402, 0.866100013256073, 0.8126999735832214, 0.7990000247955322, 0.7613000273704529, 0.7610999941825867, 0.737500011920929, 0.7372999787330627, 0.732200026512146, 0.7254999876022339, 0.7213000059127808, 0.7103000283241272, 0.690500020980835, 0.6884999871253967, 0.6786999702453613, 0.659600019454956, 0.6586999893188477, 0.6571999788284302, 0.6531000137329102, 0.6468999981880188, 0.6442999839782715, 0.6430000066757202, 0.642799973487854, 0.6413999795913696, 0.6362000107765198, 0.633400022983551, 0.6305999755859375, 0.6252999901771545, 0.5820000171661377, 0.5878000259399414, 0.5896000266075134, 0.6122000217437744, 0.4830000102519989, 0.43869999051094055, 0.46889999508857727, 0.43320000171661377, 0.42750000953674316, 0.40209999680519104, 0.32440000772476196, 0.36739999055862427, 0.30379998683929443, 0.4643000066280365, 0.3172999918460846, 0.35429999232292175, 0.38609999418258667, 0.3199000060558319, 0.382999986410141, 0.48410001397132874, 0.186599999666214, 0.35040000081062317, 0.25049999356269836, 0.24879999458789825, 0.3617999851703644, 0.3393000066280365, 0.329800009727478, -0.0013000000035390258, 0.39559999108314514, 0.23770000040531158, 0.3483999967575073, 0.20900000631809235, 0.03200000151991844, 0.19509999454021454, 0.10849999636411667, 0.06560000032186508, 0.2858999967575073, 0.002300000051036477, 0.0024999999441206455, 0.06289999932050705, 0.16099999845027924, 0.05550000071525574, -0.3160000145435333, 0.08820000290870667, 0.05180000141263008, -0.08900000154972076, -0.20029999315738678, -0.2709999978542328, -0.22419999539852142, 0.0494999997317791, 0.03610000014305115, 0.04010000079870224, 0.023399999365210533, 0.012199999764561653, -0.007000000216066837, -0.2402999997138977, -0.01360000018030405, 1.409000039100647, 1.1852999925613403, 1.1657999753952026, 1.1371999979019165, 1.0791000127792358, 0.972000002861023, 0.9448000192642212, 0.899399995803833, 0.8809000253677368, 0.8165000081062317, 0.8048999905586243, 0.766700029373169, 0.7387999892234802, 0.7365000247955322, 0.73089998960495, 0.7233999967575073, 0.7148000001907349, 0.711899995803833, 0.7080000042915344, 0.6949999928474426, 0.6895999908447266, 0.6854000091552734, 0.6827999949455261, 0.6819000244140625, 0.6672000288963318, 0.6615999937057495, 0.6585999727249146, 0.6557000279426575, 0.6527000069618225, 0.6492000222206116, 0.6450999975204468, 0.6134999990463257, 0.5432999730110168, 0.5644000172615051, 0.40689998865127563, 0.438400000333786, 0.40400001406669617, 0.335999995470047, 0.4154999852180481, 0.211899995803833, 0.1331000030040741, 0.42829999327659607, 0.1842000037431717, 0.42309999465942383, 0.250900000333786, 0.22630000114440918, 0.4027999937534332, 0.4537999927997589, 0.2159000039100647, 0.20800000429153442, 0.18490000069141388, 0.23729999363422394, 0.258899986743927, -0.012600000016391277, 0.07090000063180923, 0.052799999713897705, 0.07919999957084656, 0.156700000166893, 0.20999999344348907, 0.006000000052154064, 0.025499999523162842, 0.09489999711513519, 0.11150000244379044, -0.022299999371170998, 0.021800000220537186, 0.23399999737739563, 0.25360000133514404, 0.03849999979138374, 0.06759999692440033, 0.1145000010728836, -0.08969999849796295, 0.03819999843835831, -0.09309999644756317, 0.08489999920129776, 0.048900000751018524, -0.15230000019073486, -0.013700000010430813, -0.05909999832510948, -0.13850000500679016, 1.0224000215530396, 0.9380000233650208, 0.9150999784469604, 0.8565000295639038, 0.8398000001907349, 0.8325999975204468, 0.8009999990463257, 0.7990999817848206, 0.7949000000953674, 0.7879999876022339, 0.7850000262260437, 0.7764999866485596, 0.7710000276565552, 0.763700008392334, 0.7523000240325928, 0.7376999855041504, 0.7214000225067139, 0.72079998254776, 0.7145000100135803, 0.7038999795913696, 0.6931999921798706, 0.6886000037193298, 0.6782000064849854, 0.6765000224113464, 0.6744999885559082, 0.6740000247955322, 0.66839998960495, 0.6585999727249146, 0.6567000150680542, 0.652400016784668, 0.6031000018119812, 0.5873000025749207, 0.5365999937057495, 0.57669997215271, 0.588699996471405, 0.621999979019165, 0.4921000003814697, 0.24250000715255737, 0.367900013923645, 0.45989999175071716, 0.42910000681877136, 0.15520000457763672, 0.38019999861717224, 0.3582000136375427, 0.3158000111579895, 0.4837000072002411, 0.32850000262260437, 0.24690000712871552, 0.2888000011444092, 0.3280999958515167, 0.28519999980926514, 0.20180000364780426, 0.32359999418258667, 0.1145000010728836, 0.07859999686479568, 0.1873999983072281, 0.2906999886035919, 0.34369999170303345, 0.38040000200271606, 0.20960000157356262, -0.0007999999797903001, -0.017400000244379044, 0.024399999529123306, 0.2337000072002411, 0.11339999735355377, 0.2782999873161316, 0.0835999995470047, 0.0640999972820282, 0.06759999692440033, 0.1298000067472458, 0.14959999918937683, -0.12210000306367874, -0.15610000491142273, -0.18729999661445618, 0.07180000096559525, -0.07599999755620956, 0.09459999948740005, 0.10279999673366547, -0.12070000171661377, 0.0017999999690800905, -0.19509999454021454, -0.08980000019073486, -0.13779999315738678, 0.026100000366568565, -0.026399999856948853, -0.024800000712275505, -0.2797999978065491, -0.09539999812841415, 1.5384999513626099, 1.2568999528884888, 1.1140999794006348, 1.0751999616622925, 0.8687000274658203, 0.8461999893188477, 0.820900022983551, 0.7964000105857849, 0.7892000079154968, 0.7757999897003174, 0.7476000189781189, 0.7443000078201294, 0.7139999866485596, 0.7041000127792358, 0.7002000212669373, 0.6922000050544739, 0.685699999332428, 0.6850000023841858, 0.6800000071525574, 0.6682999730110168, 0.6593000292778015, 0.6567000150680542, 0.6471999883651733, 0.6438000202178955, 0.6383000016212463, 0.635699987411499, 0.6333000063896179, 0.6309000253677368, 0.6291000247001648, 0.6155999898910522, 0.6010000109672546, 0.4993000030517578, 0.47769999504089355, 0.511900007724762, 0.4749999940395355, 0.37389999628067017, 0.40380001068115234, 0.42160001397132874, 0.38440001010894775, 0.39100000262260437, 0.3569999933242798, 0.4165000021457672, 0.17030000686645508, 0.3310000002384186, 0.3610999882221222, 0.1404000073671341, 0.3089999854564667, 0.27900001406669617, 0.19429999589920044, 0.2653000056743622, 0.2540999948978424, 0.3465000092983246, 0.22190000116825104, 0.18119999766349792, 0.2612999975681305, 0.038600001484155655, 0.24169999361038208, 0.09359999746084213, -0.14980000257492065, 0.0210999995470047, 0.013299999758601189, 0.17219999432563782, 0.11429999768733978, 0.18359999358654022, 0.14810000360012054, -0.07090000063180923, 0.17749999463558197, 0.16089999675750732, 0.10029999911785126, -0.1737000048160553, -0.07999999821186066, -0.17679999768733978, -0.07559999823570251, 0.1216999962925911, -0.07190000265836716, 0.08240000158548355, -0.4855000078678131, -0.020099999383091927, -0.004699999932199717, -0.02630000002682209, -0.0697999969124794, -0.241799995303154, -0.16449999809265137, -0.010099999606609344, 1.0180000066757202, 1.0085999965667725, 0.9818000197410583, 0.95660001039505, 0.9527000188827515, 0.9503999948501587, 0.9305999875068665, 0.8995000123977661, 0.8925999999046326, 0.8748000264167786, 0.8349000215530396, 0.8334000110626221, 0.8101999759674072, 0.79830002784729, 0.7924000024795532, 0.7918000221252441, 0.791700005531311, 0.7756999731063843, 0.7741000056266785, 0.753000020980835, 0.7516000270843506, 0.7458999752998352, 0.738099992275238, 0.7366999983787537, 0.734000027179718, 0.732699990272522, 0.7260000109672546, 0.7224000096321106, 0.7221999764442444, 0.7135999798774719, 0.43309998512268066, 0.5857999920845032, 0.45339998602867126, 0.5133000016212463, 0.5281000137329102, 0.4009000062942505, 0.5253999829292297, 0.44909998774528503, 0.36629998683929443, 0.4781000018119812, 0.36809998750686646, 0.39089998602867126, 0.31220000982284546, 0.3224000036716461, 0.27149999141693115, 0.2964000105857849, 0.40470001101493835, 0.26919999718666077, 0.1289999932050705, 0.2694000005722046, 0.3037000000476837, 0.19629999995231628, 0.08020000159740448, 0.2061000019311905, 0.19089999794960022, 0.27459999918937683, 0.2167000025510788, 0.21240000426769257, 0.03889999911189079, 0.1768999993801117, 0.23810000717639923, 0.10170000046491623, 0.15369999408721924, 0.16339999437332153, 0.2280000001192093, 0.20180000364780426, 0.16740000247955322, -0.15360000729560852, -0.02410000003874302, -0.2442999929189682, 0.20270000398159027, -0.07850000262260437, 0.035100001841783524, 0.08160000294446945, -0.06719999760389328, 0.01979999989271164, -0.14980000257492065, 0.05700000002980232, -0.28630000352859497, -0.0013000000035390258, 0.0502999983727932, -0.19850000739097595, -0.029400000348687172, -0.030899999663233757, 0.9527000188827515, 0.9096999764442444, 0.8711000084877014, 0.8691999912261963, 0.8496999740600586, 0.8337000012397766, 0.8185999989509583, 0.8040000200271606, 0.796500027179718, 0.791100025177002, 0.7900000214576721, 0.7886999845504761, 0.7871999740600586, 0.7846999764442444, 0.7684000134468079, 0.7591999769210815, 0.7591999769210815, 0.7548999786376953, 0.7379999756813049, 0.7228000164031982, 0.7046999931335449, 0.7001000046730042, 0.6980999708175659, 0.6920999884605408, 0.6866999864578247, 0.6844000220298767, 0.666700005531311, 0.6647999882698059, 0.657800018787384, 0.6564000248908997, 0.6481999754905701, 0.5766000151634216, 0.5698999762535095, 0.5425000190734863, 0.4009000062942505, 0.5008000135421753, 0.6111999750137329, 0.6328999996185303, 0.44749999046325684, 0.4512999951839447, 0.3671000003814697, 0.36970001459121704, 0.32850000262260437, 0.5187000036239624, 0.5400000214576721, 0.35190001130104065, 0.37139999866485596, 0.22020000219345093, 0.2809999883174896, 0.3082999885082245, 0.2606000006198883, 0.39250001311302185, 0.3612000048160553, 0.3140999972820282, 0.12080000340938568, 0.257999986410141, 0.23749999701976776, 0.33570000529289246, 0.27059999108314514, 0.08070000261068344, 0.274399995803833, 0.18219999969005585, 0.29789999127388, 0.023800000548362732, 0.02630000002682209, 0.15559999644756317, 0.12790000438690186, 0.17219999432563782, 0.004600000102072954, 0.1354999989271164, -0.18199999630451202, -0.12380000203847885, 0.08649999648332596, 0.1818999946117401, -0.10159999877214432, 0.10999999940395355, 0.2198999971151352, -0.05900000035762787, 0.12860000133514404, 0.08479999750852585, -0.16369999945163727, 0.07410000264644623, -0.14640000462532043, -0.032600000500679016, -0.0066999997943639755, -0.33320000767707825, 0.008500000461935997, -0.04230000078678131, -0.10029999911785126, -0.12530000507831573, -0.17170000076293945, 1.0985000133514404, 0.9627000093460083, 0.8898000121116638, 0.8743000030517578, 0.815500020980835, 0.8138999938964844, 0.7723000049591064, 0.7710000276565552, 0.7598999738693237, 0.746399998664856, 0.742900013923645, 0.7336000204086304, 0.720300018787384, 0.7120000123977661, 0.697700023651123, 0.6926000118255615, 0.6818000078201294, 0.6776000261306763, 0.6761999726295471, 0.6697999835014343, 0.666700005531311, 0.6658999919891357, 0.6633999943733215, 0.6481999754905701, 0.6389999985694885, 0.6359000205993652, 0.6240000128746033, 0.6233999729156494, 0.6166999936103821, 0.6126999855041504, 0.593999981880188, 0.5055999755859375, 0.46650001406669617, 0.4629000127315521, 0.44339999556541443, 0.41440001130104065, 0.4106999933719635, 0.37049999833106995, 0.385699987411499, 0.4462999999523163, 0.4431999921798706, 0.3939000070095062, 0.4564000070095062, 0.3009999990463257, 0.3612000048160553, 0.29910001158714294, 0.36090001463890076, 0.4269999861717224, 0.1964000016450882, 0.19840000569820404, 0.39820000529289246, 0.3352999985218048, 0.36899998784065247, 0.46950000524520874, 0.33079999685287476, 0.1354999989271164, 0.22599999606609344, 0.24079999327659607, 0.2703999876976013, 0.3156000077724457, 0.07029999792575836, 0.21770000457763672, 0.2003999948501587, 0.15860000252723694, 0.15950000286102295, -0.21870000660419464, 0.11819999665021896, -0.23029999434947968, -0.11479999870061874, -0.043699998408555984, 0.13359999656677246, -0.17069999873638153, 0.09889999777078629, 0.10740000009536743, 0.13930000364780426, 0.13040000200271606, -0.1136000007390976, -0.13680000603199005, -0.37630000710487366, -0.11129999905824661, -0.06610000133514404, -0.4973999857902527, -0.1436000019311905, -0.011800000444054604, -0.0868000015616417], \"logprob\": [30.0, 29.0, 28.0, 27.0, 26.0, 25.0, 24.0, 23.0, 22.0, 21.0, 20.0, 19.0, 18.0, 17.0, 16.0, 15.0, 14.0, 13.0, 12.0, 11.0, 10.0, 9.0, 8.0, 7.0, 6.0, 5.0, 4.0, 3.0, 2.0, 1.0, -11.321499824523926, -11.762499809265137, -11.125200271606445, -11.824999809265137, -11.844099998474121, -11.863300323486328, -11.874699592590332, -11.493800163269043, -11.899700164794922, -11.908699989318848, -11.927399635314941, -11.95300006866455, -11.9576997756958, -11.556599617004395, -11.053199768066406, -11.279199600219727, -11.975500106811523, -11.57919979095459, -11.292099952697754, -11.589799880981445, -11.999500274658203, -12.01159954071045, -12.020299911499023, -11.111700057983398, -11.338500022888184, -11.344400405883789, -11.133700370788574, -12.048199653625488, -9.449299812316895, -12.055299758911133, -11.657999992370605, -11.15719985961914, -8.2253999710083, -5.795000076293945, -6.6178998947143555, -5.796599864959717, -6.229499816894531, -8.048800468444824, -4.8730998039245605, -3.5629000663757324, -6.0665998458862305, -5.693600177764893, -6.968599796295166, -6.191199779510498, -6.747799873352051, -5.848800182342529, -6.294899940490723, -5.335599899291992, -6.04449987411499, -5.036099910736084, -4.882199764251709, -6.69890022277832, -6.527500152587891, -6.816199779510498, -4.78410005569458, -5.584799766540527, -5.916999816894531, -5.857900142669678, -5.905700206756592, -6.608699798583984, -4.2027997970581055, -5.83489990234375, -5.417600154876709, -4.959799766540527, -6.099699974060059, -5.863800048828125, -5.954100131988525, -4.908199787139893, -5.244100093841553, -6.049600124359131, -5.435299873352051, -5.817800045013428, -5.946300029754639, -5.142899990081787, -5.994999885559082, -5.875500202178955, -5.877399921417236, -5.975900173187256, -5.936600208282471, -11.533900260925293, -11.562800407409668, -11.5649995803833, -11.738100051879883, -11.745499610900879, -11.750100135803223, -11.77560043334961, -11.78279972076416, -11.815199851989746, -11.81820011138916, -11.816699981689453, -11.825599670410156, -11.429699897766113, -11.842499732971191, -11.878800392150879, -11.481100082397461, -11.884599685668945, -10.793100357055664, -11.904399871826172, -11.907400131225586, -11.509900093078613, -10.832900047302246, -11.942000389099121, -11.95199966430664, -11.951499938964844, -11.554400444030762, -11.277799606323242, -11.972700119018555, -11.9753999710083, -11.281000137329102, -10.603400230407715, -4.898600101470947, -6.56220006942749, -3.835700035095215, -5.529200077056885, -5.6350998878479, -6.524499893188477, -6.303899765014648, -4.642000198364258, -8.217100143432617, -5.816699981689453, -3.609299898147583, -6.834000110626221, -6.367000102996826, -5.536200046539307, -6.689799785614014, -6.986000061035156, -7.506400108337402, -6.214399814605713, -6.563499927520752, -7.258299827575684, -7.593500137329102, -4.765699863433838, -4.800300121307373, -6.339200019836426, -6.090199947357178, -4.916100025177002, -5.903900146484375, -7.090099811553955, -6.0929999351501465, -6.213799953460693, -5.1244001388549805, -5.757500171661377, -5.861100196838379, -5.831699848175049, -6.063300132751465, -5.169899940490723, -5.133299827575684, -5.830999851226807, -5.5843000411987305, -5.999499797821045, -5.6803998947143555, -6.005099773406982, -5.993800163269043, -5.842599868774414, -5.899600028991699, -6.031000137329102, -5.8028998374938965, -6.017099857330322, -6.048099994659424, -11.455699920654297, -11.5516996383667, -11.552200317382812, -8.456600189208984, -11.615799903869629, -11.629799842834473, -11.672599792480469, -11.718299865722656, -11.324399948120117, -10.871000289916992, -11.804200172424316, -11.832099914550781, -11.845800399780273, -11.875699996948242, -11.880999565124512, -11.497699737548828, -11.916500091552734, -11.933699607849121, -11.939299583435059, -11.953900337219238, -11.959600448608398, -11.963299751281738, -11.962599754333496, -11.059000015258789, -11.98069953918457, -11.982799530029297, -11.2923002243042, -11.991100311279297, -10.615900039672852, -12.017200469970703, -6.490200042724609, -9.500100135803223, -7.567399978637695, -7.714900016784668, -5.645500183105469, -7.692699909210205, -7.254899978637695, -6.266499996185303, -5.148799896240234, -5.793300151824951, -5.711999893188477, -5.521900177001953, -5.838399887084961, -6.482600212097168, -6.743199825286865, -5.02269983291626, -4.734499931335449, -3.674799919128418, -5.7270002365112305, -6.572400093078613, -4.118899822235107, -4.877900123596191, -5.684199810028076, -5.781799793243408, -6.341700077056885, -5.946100234985352, -6.558300018310547, -5.564799785614014, -5.405399799346924, -5.401500225067139, -6.0904998779296875, -4.856500148773193, -4.928899765014648, -5.858399868011475, -6.263500213623047, -5.941500186920166, -5.285799980163574, -5.33519983291626, -5.758999824523926, -5.892300128936768, -5.3628997802734375, -6.03439998626709, -6.0395002365112305, -6.000100135803223, -11.63029956817627, -11.673199653625488, -11.682999610900879, -11.773799896240234, -11.828499794006348, -11.842599868774414, -11.879400253295898, -11.187800407409668, -11.903900146484375, -10.518899917602539, -11.910300254821777, -11.916500091552734, -11.920000076293945, -11.931599617004395, -11.258600234985352, -10.702400207519531, -11.962499618530273, -11.068699836730957, -11.577300071716309, -10.377099990844727, -11.98900032043457, -11.590999603271484, -11.593299865722656, -11.998100280761719, -11.306400299072266, -11.99940013885498, -11.600199699401855, -11.604999542236328, -12.01099967956543, -12.016799926757812, -6.267600059509277, -9.612799644470215, -10.108200073242188, -10.931500434875488, -7.037499904632568, -6.364799976348877, -7.128699779510498, -6.599999904632568, -6.994200229644775, -6.632299900054932, -5.549900054931641, -6.3354997634887695, -5.438600063323975, -8.119099617004395, -5.9430999755859375, -6.436299800872803, -7.040900230407715, -6.243899822235107, -7.099999904632568, -8.458900451660156, -4.673299789428711, -6.916299819946289, -5.80049991607666, -5.839200019836426, -7.07889986038208, -6.865300178527832, -6.894100189208984, -3.700900077819824, -7.5995001792907715, -6.25600004196167, -7.177499771118164, -6.0696001052856445, -4.789400100708008, -6.0152997970581055, -5.401599884033203, -5.13700008392334, -6.740499973297119, -4.976200103759766, -5.132400035858154, -5.451900005340576, -6.014800071716309, -5.713900089263916, -4.471700191497803, -5.9421000480651855, -5.828499794006348, -5.474100112915039, -5.1828999519348145, -5.137700080871582, -5.3765997886657715, -5.893400192260742, -5.877900123596191, -5.901500225067139, -5.965400218963623, -5.978300094604492, -5.982800006866455, -5.942500114440918, -6.008600234985352, -11.235199928283691, -11.055899620056152, -11.073399543762207, -11.50629997253418, -11.566399574279785, -11.67240047454834, -11.697400093078613, -11.743200302124023, -11.763500213623047, -11.82800006866455, -11.837599754333496, -9.864299774169922, -11.902999877929688, -11.500699996948242, -11.91100025177002, -11.9197998046875, -11.521699905395508, -11.526399612426758, -11.93340015411377, -11.947500228881836, -11.9552001953125, -11.958499908447266, -11.960399627685547, -11.556900024414062, -11.975600242614746, -11.98289966583252, -11.291999816894531, -11.58180046081543, -11.989500045776367, -11.588199615478516, -11.593199729919434, -10.085200309753418, -8.076899528503418, -8.84179973602295, -6.105899810791016, -6.823800086975098, -6.5177001953125, -5.746799945831299, -7.463500022888184, -4.609399795532227, -3.566499948501587, -7.815299987792969, -4.67579984664917, -7.917500019073486, -5.837200164794922, -5.762499809265137, -7.853600025177002, -8.478099822998047, -5.854499816894531, -6.002500057220459, -5.805600166320801, -6.361800193786621, -6.564599990844727, -4.1682000160217285, -4.9116997718811035, -4.813799858093262, -5.055799961090088, -5.8383002281188965, -6.279300212860107, -4.972599983215332, -5.17710018157959, -5.6072998046875, -5.768799781799316, -5.174699783325195, -5.48829984664917, -6.563000202178955, -6.705100059509277, -5.8358001708984375, -5.981500148773193, -6.160399913787842, -5.474800109863281, -5.904699802398682, -5.607900142669678, -6.109399795532227, -6.053999900817871, -5.894700050354004, -6.044000148773193, -6.034900188446045, -6.0524001121521, -11.617799758911133, -11.702799797058105, -11.321599960327148, -11.78380012512207, -11.801899909973145, -11.8100004196167, -11.838600158691406, -11.841300010681152, -11.84689998626709, -11.852100372314453, -11.856100082397461, -11.864999771118164, -11.870100021362305, -11.876399993896484, -11.483599662780762, -11.902000427246094, -11.227299690246582, -11.51710033416748, -11.522600173950195, -11.936800003051758, -11.946800231933594, -11.95300006866455, -11.9621000289917, -11.962699890136719, -11.967000007629395, -11.965299606323242, -11.057900428771973, -11.577500343322754, -10.281399726867676, -11.297100067138672, -8.36460018157959, -9.011699676513672, -7.707600116729736, -8.888899803161621, -9.612000465393066, -10.411800384521484, -7.84089994430542, -3.457200050354004, -5.910699844360352, -7.645699977874756, -7.556099891662598, -4.000400066375732, -7.011300086975098, -6.796599864959717, -6.580599784851074, -8.535499572753906, -6.754000186920166, -5.965000152587891, -6.410799980163574, -6.819799900054932, -6.452499866485596, -5.678599834442139, -6.959400177001953, -5.0879998207092285, -4.788099765777588, -5.882999897003174, -6.843299865722656, -7.323500156402588, -7.695400238037109, -6.327899932861328, -4.860799789428711, -4.838799953460693, -5.127999782562256, -6.582900047302246, -5.828199863433838, -6.910999774932861, -5.790599822998047, -5.849899768829346, -5.927499771118164, -6.214000225067139, -6.3043999671936035, -5.256999969482422, -5.134699821472168, -5.169899940490723, -6.076000213623047, -5.585999965667725, -6.165800094604492, -6.189899921417236, -5.635499954223633, -5.973999977111816, -5.5802001953125, -5.8592000007629395, -5.840000152587891, -6.0767998695373535, -6.01170015335083, -6.121600151062012, -6.022200107574463, -6.144499778747559, -11.101400375366211, -11.383299827575684, -11.527899742126465, -11.567299842834473, -11.772199630737305, -11.79539966583252, -11.821100234985352, -11.84529972076416, -11.852899551391602, -11.865400314331055, -11.892999649047852, -11.89840030670166, -11.92770004272461, -11.936800003051758, -11.026800155639648, -11.545100212097168, -10.346500396728516, -11.954899787902832, -11.960700035095215, -11.972900390625, -11.576800346374512, -11.986599922180176, -11.995800018310547, -11.998800277709961, -12.002799987792969, -11.601400375366211, -12.008199691772461, -12.009300231933594, -12.013400077819824, -12.025400161743164, -8.84469985961914, -6.8007001876831055, -6.481100082397461, -7.751200199127197, -7.317200183868408, -6.132699966430664, -6.922800064086914, -7.421999931335449, -6.753300189971924, -6.899400234222412, -6.4471001625061035, -7.436999797821045, -3.985300064086914, -6.603400230407715, -7.020299911499023, -4.72629976272583, -6.711299896240234, -6.460400104522705, -5.507900238037109, -6.333799839019775, -6.282199859619141, -7.26170015335083, -6.070799827575684, -5.804100036621094, -6.535399913787842, -4.782800197601318, -6.4278998374938965, -5.421199798583984, -3.849400043487549, -5.131199836730957, -5.189199924468994, -6.106500148773193, -5.827300071716309, -6.1869001388549805, -6.046199798583984, -5.053500175476074, -6.207499980926514, -6.157899856567383, -6.002500057220459, -5.152200222015381, -5.465099811553955, -5.311800003051758, -5.585700035095215, -6.117400169372559, -5.841300010681152, -6.127999782562256, -5.345399856567383, -5.9959001541137695, -6.087600231170654, -6.075500011444092, -6.058700084686279, -5.9842000007629395, -6.03879976272583, -6.119800090789795, -11.622099876403809, -11.632200241088867, -11.657999992370605, -10.588000297546387, -11.687999725341797, -11.692099571228027, -11.709600448608398, -11.740799903869629, -11.748600006103516, -11.766300201416016, -11.806300163269043, -11.807100296020508, -11.830599784851074, -11.842900276184082, -11.847800254821777, -11.848699569702148, -11.849599838256836, -11.865400314331055, -11.869099617004395, -11.888400077819824, -11.486100196838379, -11.895000457763672, -11.90410041809082, -11.905200004577637, -11.502799987792969, -11.216500282287598, -10.999799728393555, -11.513899803161621, -11.226400375366211, -11.522899627685547, -4.545400142669678, -8.369500160217285, -6.152500152587891, -7.535699844360352, -7.888700008392334, -5.949399948120117, -8.031900405883789, -7.207699775695801, -6.296199798583984, -8.000100135803223, -6.896299839019775, -7.193699836730957, -6.348299980163574, -6.504700183868408, -6.003399848937988, -6.280099868774414, -7.624800205230713, -6.2881999015808105, -5.023399829864502, -6.354899883270264, -6.6743998527526855, -5.717700004577637, -4.779799938201904, -5.8907999992370605, -5.784900188446045, -6.473199844360352, -6.06279993057251, -6.044400215148926, -4.78249979019165, -5.8180999755859375, -6.283899784088135, -5.408400058746338, -5.7891998291015625, -5.885700225830078, -6.255799770355225, -6.117000102996826, -5.942299842834473, -4.309299945831299, -5.006700038909912, -3.944000005722046, -6.141200065612793, -4.945099830627441, -5.479700088500977, -5.660900115966797, -5.202199935913086, -5.749599933624268, -5.534900188446045, -5.93179988861084, -5.488900184631348, -5.8815999031066895, -5.980000019073486, -5.900700092315674, -5.971099853515625, -6.021299839019775, -11.690500259399414, -11.731599807739258, -11.771200180053711, -11.77180004119873, -11.388999938964844, -11.809900283813477, -11.824399948120117, -11.837699890136719, -11.84689998626709, -11.8503999710083, -11.445799827575684, -11.852999687194824, -11.854700088500977, -11.857099533081055, -11.874799728393555, -11.477700233459473, -11.478300094604492, -11.888199806213379, -11.903599739074707, -11.918299674987793, -11.935700416564941, -11.250100135803223, -11.94320011138916, -11.544699668884277, -11.954500198364258, -11.959799766540527, -11.5693998336792, -11.978099822998047, -11.984399795532227, -11.293399810791016, -10.609399795532227, -7.981599807739258, -8.423999786376953, -7.596700191497803, -4.734000205993652, -7.268499851226807, -10.087300300598145, -10.50730037689209, -7.390500068664551, -7.569200038909912, -6.293499946594238, -6.490900039672852, -5.964200019836426, -8.760100364685059, -9.059599876403809, -6.785799980163574, -7.094299793243408, -5.522299766540527, -6.349699974060059, -6.669899940490723, -6.252200126647949, -7.593699932098389, -7.342100143432617, -6.926400184631348, -5.0817999839782715, -6.395599842071533, -6.251800060272217, -7.1616997718811035, -6.5756001472473145, -4.897900104522705, -6.627500057220459, -5.914599895477295, -6.883399963378906, -4.797599792480469, -4.840400218963623, -5.820199966430664, -5.641499996185303, -6.02209997177124, -4.978000164031982, -5.807400226593018, -3.8815999031066895, -4.279399871826172, -5.615699768066406, -6.186399936676025, -4.96150016784668, -5.87529993057251, -6.369100093841553, -5.5690999031066895, -6.146299839019775, -6.018099784851074, -5.316100120544434, -6.008800029754639, -5.661200046539307, -5.906899929046631, -6.0370001792907715, -5.718299865722656, -6.061600208282471, -6.031199932098389, -6.041999816894531, -6.039299964904785, -6.05210018157959, -11.543700218200684, -11.27299976348877, -11.749600410461426, -11.765399932861328, -11.824399948120117, -11.82699966430664, -11.867600440979004, -11.868599891662598, -11.881099700927734, -11.48859977722168, -11.898900032043457, -11.906599998474121, -11.516500473022461, -11.928299903869629, -9.930700302124023, -11.543899536132812, -11.958900451660156, -11.962400436401367, -11.963899612426758, -11.970499992370605, -11.570500373840332, -11.569199562072754, -11.573100090026855, -10.895600318908691, -12.001899719238281, -12.00510025024414, -12.015700340270996, -10.410799980163574, -11.61970043182373, -11.623200416564941, -10.545100212097168, -7.0731000900268555, -7.204599857330322, -7.273200035095215, -6.872000217437744, -6.485099792480469, -6.458000183105469, -5.6996002197265625, -6.031000137329102, -7.356900215148926, -7.4517998695373535, -6.721399784088135, -7.7683000564575195, -5.401199817657471, -6.718100070953369, -5.912799835205078, -6.736599922180176, -7.684500217437744, -4.955999851226807, -5.0040998458862305, -7.367499828338623, -6.699100017547607, -7.1016998291015625, -8.293600082397461, -6.788700103759766, -4.8429999351501465, -5.764500141143799, -6.037799835205078, -6.360199928283691, -6.8155999183654785, -4.912300109863281, -6.150599956512451, -6.10260009765625, -5.9116997718811035, -5.937300205230713, -3.918299913406372, -5.87060022354126, -4.385900020599365, -4.974800109863281, -5.428800106048584, -6.060699939727783, -5.037300109863281, -5.950300216674805, -6.002299785614014, -6.13070011138916, -6.10860013961792, -5.623600006103516, -5.651599884033203, -5.1975998878479, -5.853700160980225, -5.940400123596191, -5.632400035858154, -5.913000106811523, -6.06279993057251, -6.0817999839782715]}, \"token.table\": {\"Topic\": [1, 2, 3, 4, 5, 6, 7, 8, 9, 10, 1, 2, 3, 4, 5, 6, 7, 8, 9, 10, 1, 2, 3, 4, 5, 6, 7, 8, 9, 10, 1, 2, 3, 4, 5, 6, 7, 8, 9, 10, 1, 2, 3, 4, 5, 6, 7, 8, 9, 10, 1, 2, 3, 4, 5, 6, 7, 8, 9, 10, 1, 1, 5, 1, 2, 3, 4, 5, 6, 7, 8, 9, 10, 10, 7, 8, 2, 1, 2, 3, 4, 5, 6, 7, 8, 9, 10, 1, 2, 3, 4, 5, 6, 7, 8, 9, 10, 4, 1, 2, 3, 4, 5, 6, 7, 8, 9, 10, 1, 2, 3, 4, 5, 6, 7, 8, 9, 10, 2, 1, 4, 7, 8, 1, 2, 3, 4, 5, 6, 7, 8, 9, 10, 1, 2, 3, 4, 5, 6, 7, 8, 9, 10, 1, 2, 3, 4, 5, 6, 7, 8, 9, 10, 1, 2, 3, 4, 5, 6, 7, 8, 9, 10, 1, 2, 3, 4, 5, 6, 7, 8, 9, 10, 9, 4, 1, 2, 3, 4, 5, 6, 7, 8, 9, 10, 1, 2, 3, 4, 5, 6, 7, 8, 9, 10, 1, 2, 3, 4, 5, 6, 7, 8, 9, 10, 1, 2, 3, 4, 5, 6, 7, 8, 9, 10, 4, 1, 2, 3, 4, 5, 6, 7, 8, 9, 10, 9, 1, 2, 3, 4, 5, 6, 7, 8, 9, 10, 1, 2, 3, 4, 5, 6, 7, 8, 9, 10, 1, 2, 3, 4, 5, 6, 7, 8, 9, 10, 1, 2, 3, 4, 5, 6, 7, 8, 9, 10, 6, 1, 2, 3, 4, 5, 6, 7, 8, 9, 10, 1, 2, 3, 4, 5, 6, 7, 8, 9, 10, 1, 2, 3, 4, 5, 6, 7, 8, 9, 10, 1, 8, 1, 2, 3, 4, 5, 6, 7, 8, 9, 10, 1, 2, 3, 4, 5, 6, 7, 8, 9, 10, 1, 2, 3, 4, 5, 6, 7, 8, 9, 10, 1, 2, 3, 4, 5, 6, 7, 8, 9, 10, 1, 2, 3, 4, 5, 6, 7, 8, 9, 10, 1, 2, 3, 4, 5, 6, 7, 8, 9, 10, 1, 2, 3, 4, 5, 6, 7, 8, 9, 10, 1, 5, 7, 9, 1, 2, 3, 4, 5, 6, 7, 8, 9, 10, 1, 2, 3, 4, 5, 6, 7, 8, 9, 10, 3, 1, 2, 3, 4, 5, 6, 7, 8, 9, 10, 1, 3, 4, 6, 7, 8, 9, 1, 2, 3, 4, 5, 6, 7, 8, 9, 10, 1, 2, 3, 4, 5, 6, 7, 8, 9, 10, 6, 3, 1, 2, 3, 4, 5, 6, 7, 8, 9, 10, 6, 1, 5, 9, 4, 1, 2, 3, 4, 5, 6, 7, 8, 9, 10, 1, 2, 3, 4, 5, 6, 7, 8, 9, 10, 1, 2, 3, 4, 5, 6, 7, 8, 9, 10, 1, 2, 3, 4, 5, 6, 7, 8, 9, 10, 1, 2, 3, 4, 5, 6, 7, 8, 9, 10, 1, 2, 3, 4, 5, 6, 7, 8, 9, 10, 1, 2, 3, 4, 5, 6, 7, 8, 9, 10, 1, 2, 3, 4, 5, 6, 7, 8, 9, 10, 1, 2, 3, 4, 5, 6, 7, 8, 9, 10, 1, 2, 3, 4, 5, 6, 7, 8, 9, 10, 1, 2, 3, 4, 5, 6, 7, 8, 9, 10, 1, 2, 3, 4, 5, 6, 7, 8, 9, 10, 7, 1, 2, 3, 4, 5, 6, 7, 8, 9, 10, 4, 5, 1, 2, 3, 4, 5, 6, 7, 8, 9, 10, 1, 2, 3, 4, 5, 6, 7, 8, 9, 10, 1, 2, 3, 4, 5, 6, 7, 8, 9, 10, 1, 2, 3, 4, 5, 6, 7, 8, 9, 10, 4, 1, 2, 3, 4, 5, 6, 7, 8, 9, 10, 1, 2, 3, 4, 5, 6, 7, 8, 9, 10, 1, 9, 1, 2, 3, 4, 5, 6, 7, 8, 9, 10, 4, 1, 2, 3, 4, 5, 6, 7, 8, 9, 10, 1, 2, 3, 4, 5, 6, 7, 8, 9, 10, 1, 2, 3, 4, 5, 6, 7, 8, 9, 10, 1, 2, 3, 4, 5, 6, 7, 8, 9, 10, 1, 2, 3, 4, 5, 6, 7, 8, 9, 10, 1, 2, 3, 4, 5, 6, 7, 8, 9, 10, 1, 2, 3, 4, 5, 6, 7, 8, 9, 10, 1, 2, 3, 4, 5, 6, 7, 8, 9, 10, 1, 2, 3, 4, 5, 6, 7, 8, 9, 10, 1, 2, 3, 4, 5, 6, 7, 8, 9, 10, 1, 2, 3, 4, 5, 6, 7, 8, 9, 10, 1, 2, 3, 4, 5, 6, 7, 8, 9, 10, 1, 2, 3, 4, 5, 6, 7, 8, 9, 10, 1, 2, 3, 4, 5, 6, 7, 8, 9, 10, 1, 2, 3, 4, 5, 6, 7, 8, 9, 10, 1, 2, 3, 4, 5, 6, 7, 8, 9, 10, 1, 2, 3, 4, 5, 6, 7, 8, 9, 10, 1, 2, 3, 4, 5, 6, 7, 8, 9, 10, 1, 2, 3, 4, 5, 6, 7, 8, 9, 10, 1, 2, 3, 4, 5, 6, 7, 8, 9, 10, 1, 2, 3, 4, 5, 6, 7, 8, 9, 10, 1, 2, 3, 4, 5, 6, 7, 8, 9, 10, 5, 3, 6, 9, 1, 2, 3, 4, 5, 6, 7, 8, 9, 10, 5, 1, 2, 3, 4, 5, 6, 7, 8, 9, 10, 1, 2, 3, 4, 5, 6, 7, 8, 9, 10, 1, 2, 3, 4, 5, 6, 7, 8, 9, 10, 1, 2, 3, 4, 5, 6, 7, 8, 9, 10, 3, 5, 1, 2, 3, 4, 5, 6, 7, 8, 9, 10, 1, 2, 3, 4, 5, 6, 7, 8, 9, 10, 6, 6, 5, 1, 2, 3, 4, 5, 6, 7, 8, 9, 10, 1, 2, 3, 4, 5, 6, 7, 8, 9, 10, 2, 9, 1, 2, 3, 4, 5, 6, 7, 8, 9, 10, 1, 2, 3, 4, 5, 6, 7, 8, 9, 10, 1, 2, 3, 4, 5, 6, 7, 8, 9, 10, 1, 2, 3, 4, 5, 6, 7, 8, 9, 10, 10, 1, 2, 3, 4, 5, 6, 7, 8, 9, 10, 2, 1, 2, 3, 4, 5, 6, 7, 8, 9, 10, 9, 5, 1, 2, 3, 4, 5, 6, 7, 8, 9, 10, 1, 2, 3, 4, 5, 6, 7, 8, 9, 10, 1, 2, 3, 4, 5, 6, 7, 8, 9, 10, 1, 2, 3, 4, 5, 6, 7, 8, 9, 10, 1, 2, 3, 4, 5, 6, 7, 8, 9, 10, 1, 2, 3, 4, 5, 6, 7, 8, 9, 10, 1, 2, 3, 4, 5, 6, 7, 8, 9, 10, 8, 10, 1, 2, 3, 4, 5, 6, 7, 8, 9, 10, 1, 2, 3, 4, 5, 6, 7, 8, 9, 10, 1, 2, 3, 4, 5, 6, 7, 8, 9, 10, 1, 2, 3, 4, 5, 6, 7, 8, 9, 10, 1, 5, 6, 5, 10, 5, 1, 3, 5, 6, 2, 4, 5, 7, 8, 1, 2, 1, 2, 3, 4, 5, 6, 7, 8, 9, 10, 1, 2, 3, 4, 5, 6, 7, 8, 9, 10, 5, 1, 2, 3, 4, 5, 6, 7, 8, 9, 10, 7, 1, 2, 3, 4, 5, 6, 7, 8, 9, 10, 1, 6, 1, 2, 3, 4, 5, 6, 7, 8, 9, 10, 1, 2, 3, 4, 5, 6, 7, 8, 9, 10, 8, 1, 2, 3, 4, 5, 6, 7, 8, 9, 10, 1, 2, 3, 4, 5, 6, 7, 8, 9, 10, 1, 2, 3, 4, 5, 6, 7, 8, 9, 10, 1, 2, 3, 4, 5, 6, 7, 8, 9, 10, 7, 5, 1, 2, 3, 4, 5, 6, 7, 8, 9, 10, 1, 2, 3, 4, 5, 6, 7, 8, 9, 10, 1, 2, 3, 4, 5, 6, 7, 8, 9, 10, 4, 5, 1, 2, 3, 4, 5, 6, 7, 8, 9, 10, 1, 1, 2, 3, 4, 5, 6, 7, 8, 9, 10, 1, 2, 3, 4, 5, 6, 7, 8, 9, 10, 1, 2, 3, 4, 5, 6, 7, 8, 9, 10, 1, 2, 3, 4, 5, 6, 7, 8, 9, 10, 1, 2, 3, 4, 5, 6, 7, 8, 9, 10, 5, 1, 1, 2, 3, 4, 5, 6, 7, 8, 9, 10, 8, 1, 2, 3, 4, 5, 6, 7, 8, 9, 10, 1, 2, 3, 4, 5, 6, 7, 8, 9, 10, 1, 2, 3, 4, 5, 6, 7, 8, 9, 10, 8, 1, 2, 3, 4, 5, 6, 7, 8, 9, 10, 1, 2, 3, 4, 5, 6, 7, 8, 9, 10, 1, 2, 3, 4, 5, 6, 7, 8, 9, 10, 1, 2, 3, 4, 5, 6, 7, 8, 9, 10, 1, 2, 3, 4, 5, 6, 7, 8, 9, 10, 1, 2, 3, 4, 5, 6, 7, 8, 9, 10, 1, 2, 3, 4, 5, 6, 7, 8, 9, 10, 9, 1, 2, 3, 4, 5, 6, 7, 8, 9, 10, 1, 2, 3, 4, 5, 6, 7, 8, 9, 10, 1, 2, 3, 4, 5, 6, 7, 8, 9, 10, 1, 2, 3, 4, 5, 6, 7, 8, 9, 10, 7, 9, 1, 2, 3, 4, 5, 6, 7, 8, 9, 10, 1, 2, 3, 4, 5, 6, 7, 8, 9, 10, 7, 3, 6, 3, 1, 1, 2, 3, 4, 5, 6, 7, 8, 9, 10, 1, 2, 3, 4, 5, 6, 7, 8, 9, 10, 1, 1, 2, 3, 4, 5, 6, 7, 8, 9, 10, 1, 2, 3, 4, 5, 6, 7, 8, 9, 10, 10, 1, 2, 3, 4, 5, 6, 7, 8, 9, 10, 1, 2, 3, 4, 5, 6, 7, 8, 9, 10, 1, 2, 3, 4, 5, 6, 7, 8, 9, 10, 4, 1, 2, 3, 4, 5, 6, 7, 8, 9, 10, 1, 2, 3, 4, 5, 6, 7, 8, 9, 10, 6, 1, 4, 5, 10, 1, 2, 3, 4, 5, 6, 7, 8, 9, 10, 1, 2, 3, 4, 5, 6, 7, 8, 9, 10, 1, 2, 3, 4, 5, 6, 7, 8, 9, 10, 1, 2, 3, 4, 5, 6, 7, 8, 9, 10, 1, 2, 3, 4, 5, 6, 7, 8, 9, 10, 9, 1, 2, 3, 4, 5, 6, 7, 8, 9, 10, 1, 2, 3, 4, 5, 6, 7, 8, 9, 10, 1, 2, 3, 4, 5, 6, 7, 8, 9, 10, 2, 1, 2, 3, 4, 5, 6, 7, 8, 9, 10, 1, 2, 3, 4, 5, 6, 7, 8, 9, 10, 8, 1, 2, 3, 4, 5, 6, 7, 8, 9, 10, 1, 2, 3, 4, 5, 6, 7, 8, 9, 10, 2, 5, 6, 8, 9, 10, 1, 2, 3, 4, 5, 6, 7, 8, 9, 10, 1, 2, 3, 4, 5, 6, 7, 8, 9, 10, 1, 2, 3, 4, 5, 6, 7, 8, 9, 10, 1, 2, 3, 4, 5, 6, 7, 8, 9, 10, 5, 8, 10, 1, 2, 3, 4, 5, 6, 7, 8, 9, 10, 1, 2, 3, 4, 5, 6, 7, 8, 9, 10, 1, 2, 3, 4, 5, 6, 7, 8, 9, 10, 3, 5, 6, 1, 2, 3, 4, 5, 6, 7, 8, 9, 10, 1, 2, 3, 4, 5, 6, 7, 8, 9, 10, 1, 2, 3, 4, 5, 6, 7, 8, 9, 10, 1, 2, 3, 4, 5, 6, 7, 8, 9, 10, 6, 1, 2, 3, 4, 5, 6, 7, 8, 9, 10, 1, 2, 3, 4, 5, 6, 7, 8, 9, 10, 1, 2, 3, 4, 5, 6, 7, 8, 9, 10, 1, 2, 3, 4, 5, 6, 7, 8, 9, 10, 1, 2, 3, 4, 5, 6, 7, 8, 9, 10, 1, 2, 3, 4, 5, 6, 7, 8, 9, 10, 3, 8, 4, 10, 1, 2, 3, 4, 5, 6, 7, 8, 9, 10, 4, 1, 2, 3, 4, 5, 6, 7, 8, 9, 10, 1, 2, 3, 4, 5, 6, 7, 8, 9, 10, 7, 1, 2, 3, 4, 5, 6, 7, 8, 9, 10, 1, 2, 3, 4, 5, 6, 7, 8, 9, 10, 3, 3, 5, 6, 1, 2, 3, 4, 5, 6, 7, 8, 9, 10, 1, 2, 3, 4, 5, 6, 7, 8, 9, 10, 1, 2, 3, 4, 5, 6, 7, 8, 9, 10, 1, 2, 3, 4, 5, 6, 7, 8, 9, 10, 1, 2, 3, 4, 5, 6, 7, 8, 9, 10, 1, 2, 3, 4, 5, 6, 7, 8, 9, 10, 1, 2, 3, 4, 5, 6, 7, 8, 9, 10, 1, 2, 3, 4, 5, 6, 7, 8, 9, 10, 2, 6, 2, 1, 2, 1, 2, 3, 4, 5, 6, 7, 8, 9, 10, 1, 2, 3, 4, 5, 6, 7, 8, 9, 10, 1, 2, 3, 4, 5, 6, 7, 8, 9, 10, 1, 2, 3, 4, 5, 6, 7, 8, 9, 10, 1, 2, 3, 4, 5, 6, 7, 8, 9, 10, 2, 3, 5, 6, 8, 10, 1, 3, 4, 5, 6, 7, 1, 2, 3, 4, 5, 6, 7, 8, 9, 10, 1, 2, 3, 4, 5, 6, 7, 8, 9, 10, 1, 2, 3, 4, 5, 6, 7, 8, 9, 10, 1, 2, 3, 4, 5, 6, 7, 8, 9, 10, 1, 2, 3, 4, 5, 6, 7, 8, 9, 10, 1, 2, 3, 4, 5, 6, 7, 8, 9, 10, 1, 2, 3, 4, 5, 6, 7, 8, 9, 10, 1, 2, 3, 4, 5, 6, 7, 8, 9, 10, 1, 2, 3, 4, 5, 6, 7, 8, 9, 10, 1, 2, 3, 4, 5, 6, 7, 8, 9, 10, 1, 4, 7, 1, 2, 3, 4, 5, 6, 7, 8, 9, 10, 1, 2, 3, 4, 5, 6, 7, 8, 9, 10, 1, 2, 3, 4, 5, 6, 7, 8, 9, 10, 1, 2, 3, 4, 5, 6, 7, 8, 9, 10, 1, 2, 3, 4, 5, 6, 7, 8, 9, 10, 10, 1, 2, 3, 4, 5, 6, 7, 8, 9, 10, 1, 2, 3, 4, 5, 6, 7, 8, 9, 10, 1, 2, 3, 4, 5, 6, 7, 8, 9, 10, 1, 2, 3, 4, 5, 6, 7, 8, 9, 10, 1, 2, 3, 4, 5, 6, 7, 8, 9, 10, 1, 2, 3, 4, 5, 6, 7, 8, 9, 10, 1, 2, 3, 4, 5, 6, 7, 8, 9, 10, 1, 2, 3, 4, 5, 6, 7, 8, 9, 10, 1, 2, 3, 4, 5, 6, 7, 8, 9, 10, 1, 2, 3, 4, 5, 6, 7, 8, 9, 10, 1, 2, 3, 4, 5, 6, 7, 8, 9, 10, 8, 1, 2, 3, 4, 5, 6, 7, 8, 9, 10, 1, 2, 3, 4, 5, 6, 7, 8, 9, 10, 1, 2, 3, 4, 5, 6, 7, 8, 9, 10, 1, 2, 3, 4, 5, 6, 7, 8, 9, 10, 1, 2, 3, 4, 5, 6, 7, 8, 9, 10, 1, 2, 3, 4, 5, 6, 7, 8, 9, 10, 1, 2, 3, 4, 5, 6, 7, 8, 9, 10, 1, 2, 3, 4, 5, 6, 7, 8, 9, 10, 1, 2, 3, 4, 5, 6, 7, 8, 9, 10, 1, 2, 3, 4, 5, 6, 7, 8, 9, 10, 1, 2, 3, 4, 5, 6, 7, 8, 9, 10, 2, 1, 2, 3, 4, 5, 6, 7, 8, 9, 10, 1, 2, 3, 5, 6, 7, 8, 9, 10, 1, 2, 3, 4, 5, 6, 7, 8, 9, 10, 1, 2, 3, 4, 5, 6, 7, 8, 9, 10, 7, 10, 1, 2, 5, 7, 10, 1, 2, 3, 4, 5, 6, 7, 8, 9, 10, 1, 2, 3, 4, 5, 6, 7, 8, 9, 10, 1, 2, 3, 4, 5, 6, 7, 8, 9, 10, 1, 2, 3, 4, 5, 6, 7, 8, 9, 10, 3], \"Freq\": [0.1215553805232048, 0.11419463902711868, 0.10456376522779465, 0.10133054852485657, 0.11584565043449402, 0.12561410665512085, 0.08482047915458679, 0.0764966532588005, 0.08062417060136795, 0.07498323172330856, 0.13964056968688965, 0.09240920096635818, 0.08624859154224396, 0.13347996771335602, 0.0883021280169487, 0.09856981784105301, 0.07598090171813965, 0.10473043471574783, 0.11499812453985214, 0.06776674836874008, 0.09356307238340378, 0.11155596375465393, 0.1079573854804039, 0.10076022893190384, 0.09356307238340378, 0.08276733011007309, 0.08996448665857315, 0.1547389179468155, 0.08636590838432312, 0.08276733011007309, 0.1393955945968628, 0.11979309469461441, 0.12414920330047607, 0.09256739169359207, 0.0980125293135643, 0.1045466959476471, 0.10019058734178543, 0.06751974672079086, 0.07405391335487366, 0.08058807998895645, 0.14166556298732758, 0.06439343839883804, 0.09015081077814102, 0.06439343839883804, 0.15454424917697906, 0.10302949696779251, 0.09015081077814102, 0.07727212458848953, 0.09015081077814102, 0.115908183157444, 0.08124618232250214, 0.11477635055780411, 0.11219710111618042, 0.0915631577372551, 0.09801126271486282, 0.07608769088983536, 0.09672164171934128, 0.07866693288087845, 0.12767256796360016, 0.12251407653093338, 0.26409682631492615, 0.3515649139881134, 0.3515649139881134, 0.09833206236362457, 0.10763373970985413, 0.1009896844625473, 0.08105751127004623, 0.08371513336896896, 0.11162017285823822, 0.06909820437431335, 0.13288116455078125, 0.13952521979808807, 0.07574225962162018, 0.3505409359931946, 0.5250707268714905, 0.5252172350883484, 0.5259799957275391, 0.12494403123855591, 0.09139424562454224, 0.09486491233110428, 0.10296313464641571, 0.0879235789179802, 0.09602180123329163, 0.09833557903766632, 0.12378714233636856, 0.09486491233110428, 0.08445291221141815, 0.15038900077342987, 0.08911940455436707, 0.12492631375789642, 0.07877518981695175, 0.08991511911153793, 0.10582929849624634, 0.07718377560377121, 0.10503359138965607, 0.08593656867742538, 0.09309795498847961, 0.3507601022720337, 0.07025515288114548, 0.07025515288114548, 0.07025515288114548, 0.14051030576229095, 0.07025515288114548, 0.07025515288114548, 0.07025515288114548, 0.07025515288114548, 0.14051030576229095, 0.21076545119285583, 0.09885591268539429, 0.12003932148218155, 0.06052402779459953, 0.11297819018363953, 0.11499565839767456, 0.10188211500644684, 0.11802186071872711, 0.08574237674474716, 0.11096072196960449, 0.07565503567457199, 0.3514496386051178, 0.21086034178733826, 0.21086034178733826, 0.21086034178733826, 0.21086034178733826, 0.11606835573911667, 0.10777775943279266, 0.08014243096113205, 0.08981479704380035, 0.09396009147167206, 0.13126778602600098, 0.10086892545223236, 0.08566949516534805, 0.08290596306324005, 0.11192305386066437, 0.09458395838737488, 0.11156056821346283, 0.10185965150594711, 0.080032579600811, 0.15763993561267853, 0.08730827271938324, 0.10428488254547119, 0.06063074618577957, 0.09700918942689896, 0.10428488254547119, 0.12753821909427643, 0.12753821909427643, 0.10931847244501114, 0.09109872579574585, 0.09109872579574585, 0.05465923622250557, 0.09109872579574585, 0.09109872579574585, 0.163977712392807, 0.07287897914648056, 0.1123959943652153, 0.0822899267077446, 0.1425020694732666, 0.05820506811141968, 0.12443841993808746, 0.07024749368429184, 0.10637477785348892, 0.11038891971111298, 0.09232527762651443, 0.10236063599586487, 0.10427112877368927, 0.07310964167118073, 0.07430815696716309, 0.10546964406967163, 0.11865334957838058, 0.11625631153583527, 0.11026372015476227, 0.12824149429798126, 0.08988890051841736, 0.07910223305225372, 0.35093870759010315, 0.35060960054397583, 0.11452676355838776, 0.15436215698719025, 0.07469137012958527, 0.10954733937978745, 0.09958849102258682, 0.09460906684398651, 0.07469137012958527, 0.10456791520118713, 0.08465021848678589, 0.0896296426653862, 0.12489219009876251, 0.09899990260601044, 0.1035691350698471, 0.100522980093956, 0.12793834507465363, 0.08072300255298615, 0.08376915007829666, 0.11575373262166977, 0.100522980093956, 0.06396917253732681, 0.08313672244548798, 0.15018247067928314, 0.0737503245472908, 0.09788679331541061, 0.11129593849182129, 0.0657048299908638, 0.12604600191116333, 0.10593228042125702, 0.10861410945653915, 0.0777730643749237, 0.12186569720506668, 0.17264306545257568, 0.09139927476644516, 0.09139927476644516, 0.11171022057533264, 0.08124379813671112, 0.09139927476644516, 0.07108832150697708, 0.06093284860253334, 0.11171022057533264, 0.2632111608982086, 0.1180640459060669, 0.06533641368150711, 0.0917002335190773, 0.09857774525880814, 0.15245163440704346, 0.08253020793199539, 0.08367645740509033, 0.0974314957857132, 0.12608781456947327, 0.08482271432876587, 0.3515632450580597, 0.11198236793279648, 0.11743015795946121, 0.07626907527446747, 0.1404319405555725, 0.10532395541667938, 0.10713988542556763, 0.08353279531002045, 0.07687438279390335, 0.09382306784391403, 0.08716465532779694, 0.1270848959684372, 0.12617714703083038, 0.09622141718864441, 0.07443543523550034, 0.09077492356300354, 0.08623617142438889, 0.09803691506385803, 0.12163839489221573, 0.08260517567396164, 0.09894466400146484, 0.09939379245042801, 0.04655152186751366, 0.13336382806301117, 0.09184490144252777, 0.11700788140296936, 0.08555415272712708, 0.10945899039506912, 0.1534942090511322, 0.07926340401172638, 0.08429600298404694, 0.09617584198713303, 0.10735908150672913, 0.08722925186157227, 0.11630567163228989, 0.06262613087892532, 0.11406902223825455, 0.11630567163228989, 0.08722925186157227, 0.12972556054592133, 0.08051931113004684, 0.35068416595458984, 0.0659240186214447, 0.0791088193655014, 0.1186632290482521, 0.0922936201095581, 0.1054784283041954, 0.0922936201095581, 0.0922936201095581, 0.1714024394750595, 0.0791088193655014, 0.1054784283041954, 0.10028556734323502, 0.1219157874584198, 0.17894090712070465, 0.07865534722805023, 0.10421833395957947, 0.08455449342727661, 0.09242003411054611, 0.06489066034555435, 0.06685704737901688, 0.10225194692611694, 0.08841073513031006, 0.1136709451675415, 0.17050641775131226, 0.05052042007446289, 0.07578063011169434, 0.0820956826210022, 0.0820956826210022, 0.1136709451675415, 0.10735589265823364, 0.1136709451675415, 0.21093051135540009, 0.21093051135540009, 0.10308012366294861, 0.1423487365245819, 0.0785372406244278, 0.08344581723213196, 0.10798870027065277, 0.09489916265010834, 0.0785372406244278, 0.08671820163726807, 0.08508200943470001, 0.14071254432201385, 0.1203395426273346, 0.09994300454854965, 0.11626023054122925, 0.10266254842281342, 0.12169931083917618, 0.08226601034402847, 0.06254936754703522, 0.09450393170118332, 0.08226601034402847, 0.11694011837244034, 0.09238303452730179, 0.13303157687187195, 0.10100545734167099, 0.10593254864215851, 0.09484658390283585, 0.09115126729011536, 0.10716432332992554, 0.09361480921506882, 0.09854190796613693, 0.08376061916351318, 0.06750359386205673, 0.0829329863190651, 0.08871901035308838, 0.1562226116657257, 0.1253638118505478, 0.1195777952671051, 0.10221973061561584, 0.07521829009056091, 0.09836237877607346, 0.08486165851354599, 0.16500940918922424, 0.08250470459461212, 0.09900564700365067, 0.10725611448287964, 0.07425423711538315, 0.09900564700365067, 0.09900564700365067, 0.09900564700365067, 0.10725611448287964, 0.07425423711538315, 0.07340840250253677, 0.0769893005490303, 0.10026513785123825, 0.0823606476187706, 0.13070276379585266, 0.10384603589773178, 0.1593499481678009, 0.0877319946885109, 0.10384603589773178, 0.0823606476187706, 0.10741374641656876, 0.08514504879713058, 0.14933131635189056, 0.10479389876127243, 0.08514504879713058, 0.08645497262477875, 0.09824427962303162, 0.07859542965888977, 0.10872367024421692, 0.09693435579538345, 0.21126459538936615, 0.21126459538936615, 0.21126459538936615, 0.21126459538936615, 0.12780940532684326, 0.09737859666347504, 0.08444549888372421, 0.09053166210651398, 0.10650783777236938, 0.10118244588375092, 0.10879014432430267, 0.09053166210651398, 0.1049862951040268, 0.0867278128862381, 0.10520141571760178, 0.10520141571760178, 0.10520141571760178, 0.10520141571760178, 0.10520141571760178, 0.10520141571760178, 0.21040283143520355, 0.10520141571760178, 0.10520141571760178, 0.10520141571760178, 0.5273411870002747, 0.13609394431114197, 0.10169657319784164, 0.0882367342710495, 0.0882367342710495, 0.09421888738870621, 0.11216533929109573, 0.10767872631549835, 0.11216533929109573, 0.065803661942482, 0.09571442008018494, 0.13180595636367798, 0.13180595636367798, 0.13180595636367798, 0.13180595636367798, 0.13180595636367798, 0.13180595636367798, 0.13180595636367798, 0.12182021886110306, 0.12182021886110306, 0.16242696344852448, 0.08121348172426224, 0.08121348172426224, 0.12182021886110306, 0.08121348172426224, 0.08121348172426224, 0.08121348172426224, 0.08121348172426224, 0.11751934140920639, 0.09877392649650574, 0.10021588206291199, 0.09589001536369324, 0.10886760801076889, 0.08940121531486511, 0.09589001536369324, 0.11535640805959702, 0.07570264488458633, 0.10309979319572449, 0.35097911953926086, 0.5264959931373596, 0.1322142481803894, 0.1022789403796196, 0.11225737631320953, 0.09230050444602966, 0.06485981494188309, 0.11225737631320953, 0.14468728005886078, 0.10477355122566223, 0.07234364002943039, 0.05987060070037842, 0.3508800268173218, 0.3518981635570526, 0.3514392077922821, 0.35058626532554626, 0.3513135313987732, 0.07537044584751129, 0.07537044584751129, 0.07537044584751129, 0.07537044584751129, 0.15074089169502258, 0.07537044584751129, 0.07537044584751129, 0.07537044584751129, 0.07537044584751129, 0.07537044584751129, 0.13091431558132172, 0.08182144910097122, 0.08182144910097122, 0.10636787861585617, 0.07363930344581604, 0.08182144910097122, 0.06545715779066086, 0.15546074509620667, 0.12273216992616653, 0.09818573296070099, 0.0753369852900505, 0.10044930875301361, 0.10044930875301361, 0.10044930875301361, 0.0753369852900505, 0.1255616396665573, 0.10044930875301361, 0.050224654376506805, 0.17578630149364471, 0.0753369852900505, 0.1170089840888977, 0.12304037809371948, 0.0952959805727005, 0.13992826640605927, 0.06634530425071716, 0.08926458656787872, 0.10735876113176346, 0.09650225937366486, 0.0735829696059227, 0.09167714416980743, 0.1024133563041687, 0.08371178805828094, 0.10152281075716019, 0.1389259397983551, 0.10508500784635544, 0.10864721238613129, 0.10597556084394455, 0.07658737897872925, 0.08905509114265442, 0.08638343960046768, 0.11707518249750137, 0.11707518249750137, 0.11707518249750137, 0.11707518249750137, 0.11707518249750137, 0.11707518249750137, 0.11707518249750137, 0.11707518249750137, 0.11707518249750137, 0.11707518249750137, 0.09897428750991821, 0.08685498684644699, 0.10301405936479568, 0.09897428750991821, 0.08281522244215012, 0.09695440530776978, 0.07877545803785324, 0.1252327710390091, 0.09493452310562134, 0.13331231474876404, 0.10872521251440048, 0.11677893251180649, 0.07651033997535706, 0.11275207251310349, 0.07651033997535706, 0.09261777251958847, 0.10469835251569748, 0.08456405997276306, 0.16107439994812012, 0.06845661997795105, 0.09462320804595947, 0.10906950384378433, 0.1531306952238083, 0.13001662492752075, 0.0939008966088295, 0.07728765904903412, 0.07584302872419357, 0.08884469419717789, 0.08523312211036682, 0.09245626628398895, 0.09488501399755478, 0.12114782631397247, 0.10928720235824585, 0.12368939071893692, 0.12453658133745193, 0.08980188518762589, 0.1067456379532814, 0.08726032078266144, 0.0584559440612793, 0.08387157320976257, 0.07534823566675186, 0.07534823566675186, 0.07534823566675186, 0.07534823566675186, 0.07534823566675186, 0.07534823566675186, 0.07534823566675186, 0.07534823566675186, 0.15069647133350372, 0.07534823566675186, 0.1359780728816986, 0.09647967666387558, 0.08741447329521179, 0.10554488003253937, 0.09000453352928162, 0.11007748544216156, 0.11072500050067902, 0.09453713148832321, 0.08741447329521179, 0.08093932271003723, 0.5261892080307007, 0.07977419346570969, 0.0620465911924839, 0.1240931823849678, 0.10636558383703232, 0.07091039419174194, 0.10636558383703232, 0.07977419346570969, 0.09750179201364517, 0.16841217875480652, 0.09750179201364517, 0.2630995810031891, 0.5273569822311401, 0.12414522469043732, 0.08912990242242813, 0.10027114301919937, 0.13740859925746918, 0.08700776100158691, 0.07427491992712021, 0.07745812833309174, 0.10610702633857727, 0.12043147534132004, 0.08329401910305023, 0.12313932180404663, 0.0765460655093193, 0.07987415790557861, 0.09318651258945465, 0.11981123685836792, 0.09984269738197327, 0.0765460655093193, 0.09984269738197327, 0.0765460655093193, 0.1530921310186386, 0.07043899595737457, 0.07043899595737457, 0.07043899595737457, 0.07043899595737457, 0.2113170027732849, 0.07043899595737457, 0.07043899595737457, 0.14087799191474915, 0.07043899595737457, 0.07043899595737457, 0.13826121389865875, 0.12623849511146545, 0.0841589942574501, 0.11421578377485275, 0.10219306498765945, 0.08776581287384033, 0.10579988360404968, 0.07814764231443405, 0.07093401253223419, 0.09257489442825317, 0.35119205713272095, 0.10537232458591461, 0.10537232458591461, 0.10537232458591461, 0.10537232458591461, 0.10537232458591461, 0.21074464917182922, 0.10537232458591461, 0.10537232458591461, 0.10537232458591461, 0.10537232458591461, 0.11016125977039337, 0.09856534004211426, 0.13045412302017212, 0.1449490189552307, 0.09856534004211426, 0.1072622761130333, 0.08407043665647507, 0.07247450947761536, 0.08117145299911499, 0.07247450947761536, 0.2637864053249359, 0.3511403501033783, 0.10497139394283295, 0.08839696645736694, 0.17126911878585815, 0.07734734565019608, 0.08839696645736694, 0.11049620062112808, 0.08839696645736694, 0.06629772484302521, 0.08287215232849121, 0.12707063555717468, 0.5265283584594727, 0.11045967042446136, 0.11352799832820892, 0.11045967042446136, 0.07977642863988876, 0.09511805325746536, 0.07057145982980728, 0.07057145982980728, 0.11352799832820892, 0.13500626385211945, 0.10125470161437988, 0.09510147571563721, 0.13191495835781097, 0.07822863757610321, 0.11810990422964096, 0.10277095437049866, 0.10737263411283493, 0.14111831784248352, 0.06902527064085007, 0.08129642903804779, 0.07669474184513092, 0.15548351407051086, 0.1080201268196106, 0.11047513037919998, 0.1194768026471138, 0.09983678162097931, 0.07937842607498169, 0.07283174991607666, 0.09001677483320236, 0.09329010546207428, 0.07283174991607666, 0.10282513499259949, 0.09677659720182419, 0.12701928615570068, 0.14818917214870453, 0.08770379424095154, 0.07863098382949829, 0.09980086982250214, 0.07863098382949829, 0.11189794540405273, 0.06653390824794769, 0.12360258400440216, 0.09320850670337677, 0.07902460545301437, 0.13373394310474396, 0.09118223935365677, 0.13778649270534515, 0.08105087280273438, 0.08915596455335617, 0.07902460545301437, 0.09320850670337677, 0.10347427427768707, 0.10347427427768707, 0.0827794149518013, 0.12416912615299225, 0.18625369668006897, 0.14486397802829742, 0.04138970747590065, 0.10347427427768707, 0.062084563076496124, 0.062084563076496124, 0.10577994585037231, 0.09822423756122589, 0.08311281353235245, 0.07051996141672134, 0.11585422605276108, 0.09822423756122589, 0.16118848323822021, 0.09822423756122589, 0.07807567715644836, 0.09066852182149887, 0.10300072282552719, 0.09476066380739212, 0.08240057528018951, 0.08652060478925705, 0.10300072282552719, 0.1153608039021492, 0.15656109154224396, 0.07416051626205444, 0.08240057528018951, 0.10300072282552719, 0.09423097223043442, 0.08376086503267288, 0.09632499516010284, 0.07957281917333603, 0.12564130127429962, 0.09213694930076599, 0.08376086503267288, 0.10260705649852753, 0.10260705649852753, 0.138205423951149, 0.10785596072673798, 0.09886796027421951, 0.11234995722770691, 0.09886796027421951, 0.1527959406375885, 0.08987996727228165, 0.08538597077131271, 0.07639797031879425, 0.08538597077131271, 0.08987996727228165, 0.09835462272167206, 0.11906085908412933, 0.09835462272167206, 0.0828249454498291, 0.09317806363105774, 0.07247182726860046, 0.12423741817474365, 0.08800150454044342, 0.15012021362781525, 0.06729526817798615, 0.09715527296066284, 0.11025011539459229, 0.09842251241207123, 0.10475873202085495, 0.1254570335149765, 0.09694406390190125, 0.10243545472621918, 0.10159062594175339, 0.09905613958835602, 0.06399575620889664, 0.133493110537529, 0.0818183571100235, 0.10334950685501099, 0.09186622500419617, 0.08755999803543091, 0.13062229752540588, 0.08899540454149246, 0.09617245942354202, 0.10334950685501099, 0.0818183571100235, 0.09160566329956055, 0.13740849494934082, 0.09160566329956055, 0.1832113265991211, 0.13740849494934082, 0.09160566329956055, 0.09160566329956055, 0.09160566329956055, 0.04580283164978027, 0.09160566329956055, 0.10473059862852097, 0.10282640904188156, 0.09901802241802216, 0.11425156146287918, 0.09140124917030334, 0.07045513391494751, 0.1332934945821762, 0.10092221200466156, 0.08378448337316513, 0.09711383283138275, 0.10901579260826111, 0.1049019917845726, 0.09050367772579193, 0.1049019917845726, 0.11107269674539566, 0.08021917194128036, 0.10695888847112656, 0.08638987690210342, 0.07610536366701126, 0.13369861245155334, 0.09950960427522659, 0.12330538034439087, 0.08436683565378189, 0.056244559586048126, 0.10167285799980164, 0.13628488779067993, 0.12546862661838531, 0.09301985055208206, 0.09518309682607651, 0.08220358937978745, 0.11872664839029312, 0.1401740461587906, 0.09191740304231644, 0.09191740304231644, 0.08425761759281158, 0.08732153475284576, 0.09727925062179565, 0.11566273123025894, 0.06893805414438248, 0.10417305678129196, 0.0862644612789154, 0.10487052798271179, 0.12009366601705551, 0.10825344920158386, 0.09133884310722351, 0.07949862629175186, 0.08964738249778748, 0.08288154751062393, 0.12685950100421906, 0.11332782357931137, 0.06639993190765381, 0.15726299583911896, 0.0926104336977005, 0.08212623000144958, 0.11357883363962173, 0.09959989786148071, 0.13804197311401367, 0.0926104336977005, 0.08736833184957504, 0.07338939607143402, 0.11721375584602356, 0.11721375584602356, 0.11721375584602356, 0.11721375584602356, 0.11721375584602356, 0.11721375584602356, 0.11721375584602356, 0.11721375584602356, 0.23442751169204712, 0.11721375584602356, 0.11734367161989212, 0.10454253852367401, 0.10240902006626129, 0.10454253852367401, 0.11947719007730484, 0.13227832317352295, 0.0810738056898117, 0.10027550160884857, 0.06400563567876816, 0.07894028723239899, 0.3511565029621124, 0.2106761932373047, 0.2106761932373047, 0.2106761932373047, 0.07406049221754074, 0.13287323713302612, 0.11544723808765411, 0.0936647430062294, 0.10673423856496811, 0.14158624410629272, 0.08712999522686005, 0.0849517434835434, 0.0849517434835434, 0.07841699570417404, 0.35114309191703796, 0.10764585435390472, 0.08611667901277542, 0.10764585435390472, 0.08611667901277542, 0.08611667901277542, 0.06458751112222672, 0.17223335802555084, 0.08611667901277542, 0.10764585435390472, 0.10764585435390472, 0.10524728894233704, 0.10524728894233704, 0.12231441587209702, 0.15644866228103638, 0.056890424340963364, 0.08818016201257706, 0.1080918088555336, 0.08249111473560333, 0.0853356346487999, 0.08818016201257706, 0.13307596743106842, 0.09261368215084076, 0.10250446200370789, 0.10340362042188644, 0.07552960515022278, 0.09890781342983246, 0.10160529613494873, 0.0917145162820816, 0.09351284056901932, 0.10700026899576187, 0.08043993264436722, 0.13060440123081207, 0.11646111309528351, 0.0773460865020752, 0.10695859044790268, 0.10651661455631256, 0.11336726695299149, 0.09038443118333817, 0.09922397881746292, 0.07867202162742615, 0.5258684754371643, 0.3516126871109009, 0.08408835530281067, 0.0907134935259819, 0.11721406877040863, 0.08001134544610977, 0.11160817742347717, 0.08561722934246063, 0.11976219713687897, 0.08001134544610977, 0.10549265891313553, 0.1258777230978012, 0.10800746828317642, 0.08947071433067322, 0.06945102661848068, 0.1015813946723938, 0.10207570344209671, 0.08428042382001877, 0.08279748260974884, 0.15051841735839844, 0.10479442775249481, 0.10677168518304825, 0.26327452063560486, 0.5252466797828674, 0.3510371148586273, 0.1086701899766922, 0.12010915577411652, 0.11724941432476044, 0.1487065702676773, 0.09151174128055573, 0.07721302658319473, 0.07721302658319473, 0.08579225838184357, 0.10009096562862396, 0.07435328513383865, 0.09576193988323212, 0.09576193988323212, 0.09576193988323212, 0.09576193988323212, 0.09576193988323212, 0.19152387976646423, 0.09576193988323212, 0.09576193988323212, 0.09576193988323212, 0.09576193988323212, 0.2633545398712158, 0.2633545398712158, 0.11018618196249008, 0.10148727893829346, 0.10728655010461807, 0.09568800032138824, 0.08843891322612762, 0.09858763962984085, 0.09858763962984085, 0.12903381884098053, 0.10438691079616547, 0.06524182111024857, 0.13171306252479553, 0.26342612504959106, 0.13171306252479553, 0.13171306252479553, 0.13171306252479553, 0.13171306252479553, 0.13171306252479553, 0.13171306252479553, 0.13171306252479553, 0.13171306252479553, 0.08422496914863586, 0.11133185029029846, 0.1055232360959053, 0.09681030362844467, 0.10358702391386032, 0.11229995638132095, 0.0929378941655159, 0.1200447827577591, 0.09777840971946716, 0.07648014277219772, 0.08883282542228699, 0.07531479001045227, 0.07531479001045227, 0.15256072580814362, 0.09848856925964355, 0.10621315985918045, 0.07531479001045227, 0.10428201407194138, 0.09655741602182388, 0.1313180923461914, 0.3503084182739258, 0.09149406850337982, 0.09842544049024582, 0.10951562970876694, 0.1469450294971466, 0.09981171786785126, 0.11090190708637238, 0.09842544049024582, 0.07763133198022842, 0.09981171786785126, 0.06792742013931274, 0.35124072432518005, 0.08792854100465775, 0.13302010297775269, 0.1397838294506073, 0.11723805218935013, 0.05410987138748169, 0.13076552748680115, 0.10145600885152817, 0.09469227492809296, 0.07440107315778732, 0.06989191472530365, 0.3509003818035126, 0.352466344833374, 0.08277486264705658, 0.11640214920043945, 0.08018814772367477, 0.10864201188087463, 0.09829515218734741, 0.10864201188087463, 0.14744272828102112, 0.07501471787691116, 0.10346858203411102, 0.07760143280029297, 0.09126248955726624, 0.08031098544597626, 0.11681598424911499, 0.09491298347711563, 0.113165482878685, 0.07666049152612686, 0.113165482878685, 0.08031098544597626, 0.08031098544597626, 0.14967048168182373, 0.11903798580169678, 0.09102904796600342, 0.07469049841165543, 0.1400446891784668, 0.10036536306142807, 0.0886949747800827, 0.11436983197927475, 0.09803128242492676, 0.09803128242492676, 0.07469049841165543, 0.1217927411198616, 0.09441298246383667, 0.08402755111455917, 0.08497168123722076, 0.1019660159945488, 0.09630124270915985, 0.11612796783447266, 0.11990448832511902, 0.07741864770650864, 0.10385427623987198, 0.08525913208723068, 0.11449083685874939, 0.08525913208723068, 0.1437225341796875, 0.09013108164072037, 0.0633353516459465, 0.126670703291893, 0.080387182533741, 0.08525913208723068, 0.12179876118898392, 0.09205880016088486, 0.11669424921274185, 0.12641876935958862, 0.10632143169641495, 0.10567312687635422, 0.0784444659948349, 0.07585126161575317, 0.11410104483366013, 0.11085953563451767, 0.07325805723667145, 0.09226980805397034, 0.09995895624160767, 0.11149268597364426, 0.10252200812101364, 0.09098828583955765, 0.07689150422811508, 0.12046336382627487, 0.1281525045633316, 0.09483285993337631, 0.08201760798692703, 0.26303383708000183, 0.35079750418663025, 0.11713192611932755, 0.11142423003911972, 0.1131613552570343, 0.08313389122486115, 0.10894262045621872, 0.0816449224948883, 0.09181951731443405, 0.09529376775026321, 0.09727905690670013, 0.10000883042812347, 0.10493738949298859, 0.05829855054616928, 0.12242695689201355, 0.0991075336933136, 0.06995826214551926, 0.0991075336933136, 0.11659710109233856, 0.10493738949298859, 0.16906578838825226, 0.06412840634584427, 0.10094796121120453, 0.16960743069648743, 0.1291540116071701, 0.09278305619955063, 0.09278305619955063, 0.08090682327747345, 0.09092739224433899, 0.08424701541662216, 0.06940172612667084, 0.08944286406040192, 0.10725037008523941, 0.10385636985301971, 0.10114117711782455, 0.10385636985301971, 0.12693557143211365, 0.0638071820139885, 0.0916379764676094, 0.10317757725715637, 0.09299557656049728, 0.10521396994590759, 0.26401105523109436, 0.26401105523109436, 0.26401105523109436, 0.35078492760658264, 0.35078492760658264, 0.5274748206138611, 0.21126842498779297, 0.21126842498779297, 0.21126842498779297, 0.21126842498779297, 0.1755962073802948, 0.1755962073802948, 0.1755962073802948, 0.1755962073802948, 0.1755962073802948, 0.26372846961021423, 0.5264319777488708, 0.08567652851343155, 0.1488066017627716, 0.0992043986916542, 0.0992043986916542, 0.0969497561454773, 0.0969497561454773, 0.10145904123783112, 0.06989400833845139, 0.10145904123783112, 0.0992043986916542, 0.11004259437322617, 0.10471794754266739, 0.09939330816268921, 0.11447979509830475, 0.08253194391727448, 0.07099521905183792, 0.09673098474740982, 0.12069187313318253, 0.10560538619756699, 0.09584354609251022, 0.5280964374542236, 0.10555445402860641, 0.09047524631023407, 0.11686386168003082, 0.09801484644412994, 0.09801484644412994, 0.08670544624328613, 0.0829356387257576, 0.11309405416250229, 0.13948266208171844, 0.06785643100738525, 0.5252646803855896, 0.08748903125524521, 0.08332289010286331, 0.0958213210105896, 0.11665204167366028, 0.0999874621629715, 0.10831975191831589, 0.08332289010286331, 0.10415361076593399, 0.07915674149990082, 0.14581504464149475, 0.2106023132801056, 0.2106023132801056, 0.12142977118492126, 0.12517760694026947, 0.10718800872564316, 0.13042455911636353, 0.13042455911636353, 0.0839514434337616, 0.06521227955818176, 0.07945404946804047, 0.0876992791891098, 0.06896011531352997, 0.1521489918231964, 0.08535187691450119, 0.10019567608833313, 0.09277378022670746, 0.08040393888950348, 0.11503948271274567, 0.11503948271274567, 0.08040393888950348, 0.11998742073774338, 0.056901250034570694, 0.35074812173843384, 0.11501678079366684, 0.11199002712965012, 0.07415555417537689, 0.14528435468673706, 0.07415555417537689, 0.08777596801519394, 0.09836962074041367, 0.10139637440443039, 0.10593651235103607, 0.0892893448472023, 0.08880629390478134, 0.15304914116859436, 0.10392225533723831, 0.10518191754817963, 0.08817645907402039, 0.10518191754817963, 0.07369032502174377, 0.11903822422027588, 0.08565713465213776, 0.07683948427438736, 0.07843058556318283, 0.1283409595489502, 0.09982074797153473, 0.07843058556318283, 0.15686117112636566, 0.12121091037988663, 0.07130053639411926, 0.085560642182827, 0.09269069135189056, 0.085560642182827, 0.09223449975252151, 0.1424209177494049, 0.09087811410427094, 0.11393673717975616, 0.10715479403734207, 0.10986757278442383, 0.0678194910287857, 0.10444200783967972, 0.08545255661010742, 0.08545255661010742, 0.5264983177185059, 0.3517467677593231, 0.09708545356988907, 0.10378099977970123, 0.10378099977970123, 0.10378099977970123, 0.10043322294950485, 0.09373767673969269, 0.08034657686948776, 0.1439542919397354, 0.09708545356988907, 0.07699880748987198, 0.13967223465442657, 0.09432411193847656, 0.1251608431339264, 0.08888233453035355, 0.07618486136198044, 0.07799878716468811, 0.0979519635438919, 0.09432411193847656, 0.09251018613576889, 0.11246336251497269, 0.07529617846012115, 0.07529617846012115, 0.07529617846012115, 0.1505923569202423, 0.07529617846012115, 0.1505923569202423, 0.07529617846012115, 0.07529617846012115, 0.07529617846012115, 0.07529617846012115, 0.35145696997642517, 0.35145696997642517, 0.12254617363214493, 0.09086757153272629, 0.08586568385362625, 0.0783628597855568, 0.11004146188497543, 0.08086380362510681, 0.11420969665050507, 0.09503580629825592, 0.11504334956407547, 0.10670687258243561, 0.3516784906387329, 0.10003131628036499, 0.09233659505844116, 0.09233659505844116, 0.0769471675157547, 0.10772603005170822, 0.10772603005170822, 0.10772603005170822, 0.16928376257419586, 0.06155773252248764, 0.09233659505844116, 0.1190803050994873, 0.08505736291408539, 0.08505736291408539, 0.11340981721878052, 0.079386867582798, 0.079386867582798, 0.10206883400678635, 0.09072785079479218, 0.09639834612607956, 0.14176227152347565, 0.11218003928661346, 0.15074193477630615, 0.12269692122936249, 0.09815753251314163, 0.09465190768241882, 0.10166316479444504, 0.10516878962516785, 0.07011252641677856, 0.06660690158605576, 0.07712377607822418, 0.09538204967975616, 0.13189974427223206, 0.13080966472625732, 0.10737293213605881, 0.0632246732711792, 0.08993164449930191, 0.09156676381826401, 0.09974236786365509, 0.11009813845157623, 0.0806659609079361, 0.09344838559627533, 0.10679815709590912, 0.08009861409664154, 0.09344838559627533, 0.09344838559627533, 0.17354699969291687, 0.10679815709590912, 0.06674885004758835, 0.08009861409664154, 0.09344838559627533, 0.5270052552223206, 0.35121771693229675, 0.11416145414113998, 0.0844481959939003, 0.09852290153503418, 0.0922674760222435, 0.1313638687133789, 0.0766289234161377, 0.12041687965393066, 0.08913976699113846, 0.09539518505334854, 0.09852290153503418, 0.35091716051101685, 0.12108858674764633, 0.09217191487550735, 0.07500263303518295, 0.09397920221090317, 0.11385942250490189, 0.08584638684988022, 0.09036462008953094, 0.12831775844097137, 0.11024483293294907, 0.09126826375722885, 0.10657300055027008, 0.10961794853210449, 0.1242336705327034, 0.10657300055027008, 0.11327187716960907, 0.12057974189519882, 0.06759773194789886, 0.09743817150592804, 0.0816044732928276, 0.0718606561422348, 0.11505278199911118, 0.07518300414085388, 0.10593968629837036, 0.10707882791757584, 0.09227005392313004, 0.08543523401021957, 0.1435311883687973, 0.06493077427148819, 0.10138314217329025, 0.10707882791757584, 0.35120195150375366, 0.10230813920497894, 0.11497486382722855, 0.09548760205507278, 0.10620559751987457, 0.0857439637184143, 0.07794906198978424, 0.09451323747634888, 0.1461544930934906, 0.0964619591832161, 0.08087214827537537, 0.08914108574390411, 0.09904564917087555, 0.08666494488716125, 0.09904564917087555, 0.12380705773830414, 0.13618776202201843, 0.09904564917087555, 0.09904564917087555, 0.07428423315286636, 0.09409336745738983, 0.10004337877035141, 0.1250542253255844, 0.09003903716802597, 0.10504554212093353, 0.11504988372325897, 0.07503253221511841, 0.10504554212093353, 0.08503687381744385, 0.1450628936290741, 0.06502819806337357, 0.11218291521072388, 0.08242010325193405, 0.0961567834019661, 0.1419457346200943, 0.10302512347698212, 0.0847095474600792, 0.1190512552857399, 0.08928844332695007, 0.09844623506069183, 0.07326231151819229, 0.08831028640270233, 0.08831028640270233, 0.10933654010295868, 0.09461816400289536, 0.11984967440366745, 0.1072339192032814, 0.09041290730237961, 0.08410502970218658, 0.08831028640270233, 0.13036279380321503, 0.10358481854200363, 0.10515428334474564, 0.06905654817819595, 0.0878901481628418, 0.12398789077997208, 0.08161228150129318, 0.11771002411842346, 0.1349741667509079, 0.07690387964248657, 0.09887641668319702, 0.10941547900438309, 0.12035702913999557, 0.10941547900438309, 0.07659083604812622, 0.07659083604812622, 0.14224012196063995, 0.06564928591251373, 0.0984739363193512, 0.12582780420780182, 0.06564928591251373, 0.26346251368522644, 0.12815845012664795, 0.06170591711997986, 0.07357244193553925, 0.09967879205942154, 0.11629192531108856, 0.08543896675109863, 0.11391861736774445, 0.10917200893163681, 0.132905051112175, 0.080692358314991, 0.12310319393873215, 0.11836845427751541, 0.12513236701488495, 0.09537115693092346, 0.07305024564266205, 0.096047542989254, 0.11836845427751541, 0.07034467905759811, 0.1082225888967514, 0.07305024564266205, 0.08537557721138, 0.1495780199766159, 0.07786253094673157, 0.10040168464183807, 0.11884281039237976, 0.1051827147603035, 0.07649651914834976, 0.11679379642009735, 0.0846925750374794, 0.08537557721138, 0.12315559387207031, 0.09116712957620621, 0.1359509825706482, 0.12475501745939255, 0.08476943522691727, 0.07837174087762833, 0.07517289370298386, 0.10396251827478409, 0.1135590597987175, 0.06877520680427551, 0.21076330542564392, 0.21076330542564392, 0.12113595753908157, 0.16998110711574554, 0.12699738144874573, 0.07424461841583252, 0.08987506479024887, 0.10159790515899658, 0.082059845328331, 0.06447558850049973, 0.10159790515899658, 0.0722908154129982, 0.08279537409543991, 0.08003553003072739, 0.09659460186958313, 0.10211429744958878, 0.08831506967544556, 0.14351198077201843, 0.0938347578048706, 0.115913525223732, 0.11315368115901947, 0.08555521816015244, 0.3510175049304962, 0.2635261118412018, 0.3505563735961914, 0.5274519920349121, 0.3516101539134979, 0.10510993003845215, 0.10510993003845215, 0.13233263790607452, 0.07108153402805328, 0.08091195672750473, 0.09603568911552429, 0.06503204256296158, 0.12023365497589111, 0.11569653451442719, 0.10964704304933548, 0.14391638338565826, 0.11040160804986954, 0.1084301546216011, 0.09068703651428223, 0.09265848994255066, 0.12420181185007095, 0.07491537928581238, 0.051257889717817307, 0.10645869374275208, 0.09857286512851715, 0.26398906111717224, 0.05313105136156082, 0.10626210272312164, 0.09740692377090454, 0.10626210272312164, 0.09740692377090454, 0.09740692377090454, 0.08855175226926804, 0.16824832558631897, 0.11511727422475815, 0.07084140181541443, 0.06362780928611755, 0.10907624661922455, 0.10907624661922455, 0.16361437737941742, 0.09998656064271927, 0.09089687466621399, 0.09998656064271927, 0.06362780928611755, 0.09998656064271927, 0.09998656064271927, 0.35028040409088135, 0.11084926128387451, 0.07785841077566147, 0.11216889321804047, 0.09237438440322876, 0.11480816453695297, 0.07785841077566147, 0.08181731402873993, 0.09237438440322876, 0.1253652423620224, 0.11612779647111893, 0.1143665611743927, 0.11085434257984161, 0.09526888281106949, 0.12226904928684235, 0.12183002382516861, 0.09856158494949341, 0.06058574095368385, 0.10580553114414215, 0.08736639469861984, 0.08319563418626785, 0.08788128942251205, 0.15726125240325928, 0.10638261586427689, 0.08788128942251205, 0.08325595408678055, 0.12950927019119263, 0.1110079437494278, 0.10175728052854538, 0.06937996298074722, 0.06475463509559631, 0.5264323949813843, 0.11346448957920074, 0.14466722309589386, 0.0992814302444458, 0.10779126733541489, 0.09644481539726257, 0.0595688559114933, 0.08509837090969086, 0.11062787473201752, 0.06240547075867653, 0.12197432667016983, 0.08826812356710434, 0.092280313372612, 0.1123412474989891, 0.1444387435913086, 0.08425593376159668, 0.08024375140666962, 0.092280313372612, 0.08024375140666962, 0.08024375140666962, 0.14042656123638153, 0.2630608379840851, 0.1754627674818039, 0.1754627674818039, 0.1754627674818039, 0.1754627674818039, 0.14088833332061768, 0.08218485862016678, 0.10762303322553635, 0.07240094989538193, 0.11153659969568253, 0.1066446378827095, 0.09294716268777847, 0.07337933778762817, 0.10860142111778259, 0.10468785464763641, 0.10912559181451797, 0.13696375489234924, 0.0790603756904602, 0.11135263741016388, 0.11023911088705063, 0.0790603756904602, 0.09019564092159271, 0.12248790264129639, 0.0701521635055542, 0.09242269396781921, 0.09471570700407028, 0.09792640805244446, 0.0658193901181221, 0.18140466511249542, 0.12521737813949585, 0.08187289535999298, 0.1059531643986702, 0.10274246335029602, 0.0786621943116188, 0.0658193901181221, 0.1153089627623558, 0.06782880425453186, 0.08817744255065918, 0.16278912127017975, 0.09835176169872284, 0.08139456063508987, 0.07800312340259552, 0.12209184467792511, 0.11191752552986145, 0.07461168617010117, 0.11303824186325073, 0.08477868139743805, 0.10989829152822495, 0.16327746212482452, 0.07535883039236069, 0.07849878072738647, 0.0973384901881218, 0.11303824186325073, 0.08163873106241226, 0.08163873106241226, 0.3506525754928589, 0.12798215448856354, 0.08638795465230942, 0.07998884469270706, 0.11358416080474854, 0.08478817343711853, 0.11198438704013824, 0.07039018720388412, 0.09758639335632324, 0.12638238072395325, 0.09758639335632324, 0.06592061370611191, 0.10787010192871094, 0.1618051528930664, 0.11386288702487946, 0.11386288702487946, 0.08389896899461746, 0.10187731683254242, 0.08389896899461746, 0.08389896899461746, 0.07790618389844894, 0.10517957806587219, 0.09349295496940613, 0.0895974189043045, 0.09738849848508835, 0.12076173722743988, 0.09349295496940613, 0.09738849848508835, 0.05843309685587883, 0.09349295496940613, 0.14803051948547363, 0.5259273648262024, 0.11065055429935455, 0.06348802149295807, 0.07618562877178192, 0.12516209483146667, 0.06892985105514526, 0.142394557595253, 0.11699935048818588, 0.09432505816221237, 0.08344139903783798, 0.11881329864263535, 0.09424658864736557, 0.12817536294460297, 0.15833427011966705, 0.12440549582242966, 0.0678575411438942, 0.07916713505983353, 0.09047672152519226, 0.07539726793766022, 0.06408768147230148, 0.11309590190649033, 0.26319941878318787, 0.12508627772331238, 0.0862663984298706, 0.11214631795883179, 0.11214631795883179, 0.12508627772331238, 0.07763975858688354, 0.0862663984298706, 0.06901311874389648, 0.15096619725227356, 0.056073158979415894, 0.12536053359508514, 0.10446710884571075, 0.07835033535957336, 0.09402039647102356, 0.08879704028367996, 0.07312697917222977, 0.07312697917222977, 0.14625395834445953, 0.09402039647102356, 0.12013717740774155, 0.17561407387256622, 0.17561407387256622, 0.17561407387256622, 0.17561407387256622, 0.17561407387256622, 0.17561407387256622, 0.12515774369239807, 0.07730331271886826, 0.13472862541675568, 0.09423641860485077, 0.08098442107439041, 0.08172064274549484, 0.08245686441659927, 0.09129153192043304, 0.09791752696037292, 0.1354648470878601, 0.06511286646127701, 0.06511286646127701, 0.10418058186769485, 0.16929344832897186, 0.13022573292255402, 0.07813543826341629, 0.09115801006555557, 0.1432483047246933, 0.10418058186769485, 0.06511286646127701, 0.10157328099012375, 0.0985858291387558, 0.0985858291387558, 0.08962348103523254, 0.10157328099012375, 0.10157328099012375, 0.08066113293170929, 0.10754817724227905, 0.08364858478307724, 0.13443522155284882, 0.07417801767587662, 0.11766167730093002, 0.08952519297599792, 0.10231450200080872, 0.09208305180072784, 0.09464091807603836, 0.09464091807603836, 0.09208305180072784, 0.09719877690076828, 0.14579816162586212, 0.21050474047660828, 0.21050474047660828, 0.21050474047660828, 0.09643607586622238, 0.10936049371957779, 0.09544188529253006, 0.1183081716299057, 0.10438956320285797, 0.09146514534950256, 0.1183081716299057, 0.06561629474163055, 0.10637793689966202, 0.09444770216941833, 0.06588367372751236, 0.1098061203956604, 0.1098061203956604, 0.08784490078687668, 0.08784490078687668, 0.17568980157375336, 0.08784490078687668, 0.08784490078687668, 0.08784490078687668, 0.06588367372751236, 0.0958235114812851, 0.0958235114812851, 0.0958235114812851, 0.0845501571893692, 0.09018683433532715, 0.1578269600868225, 0.10709686577320099, 0.07891348004341125, 0.0845501571893692, 0.11837022006511688, 0.21089524030685425, 0.21089524030685425, 0.21089524030685425, 0.09415363520383835, 0.10897411406040192, 0.088922880589962, 0.11507666110992432, 0.10548694431781769, 0.07933315634727478, 0.11158949136734009, 0.10810232162475586, 0.08369211852550507, 0.10635873675346375, 0.1031453013420105, 0.08039265871047974, 0.13954952359199524, 0.0834263488650322, 0.09101056307554245, 0.0985947698354721, 0.11376319825649261, 0.10617898404598236, 0.0834263488650322, 0.0985947698354721, 0.17426526546478271, 0.09225808084011078, 0.08200718462467194, 0.0717562884092331, 0.13326168060302734, 0.11275988072156906, 0.08200718462467194, 0.11275988072156906, 0.0717562884092331, 0.0717562884092331, 0.10568353533744812, 0.15059904754161835, 0.08454682677984238, 0.08718892186880112, 0.0924730971455574, 0.10039936006069183, 0.07926265150308609, 0.08190473914146423, 0.11889398097991943, 0.09775727242231369, 0.3512793481349945, 0.1003803089261055, 0.1003803089261055, 0.07528523355722427, 0.07528523355722427, 0.07528523355722427, 0.17566554248332977, 0.07528523355722427, 0.07528523355722427, 0.1003803089261055, 0.1003803089261055, 0.0983058288693428, 0.11796699464321136, 0.07209093868732452, 0.08519838750362396, 0.15073560178279877, 0.10485955327749252, 0.07209093868732452, 0.09175210446119308, 0.09175210446119308, 0.11141327023506165, 0.10502257198095322, 0.0821915790438652, 0.10045637935400009, 0.10045637935400009, 0.10045637935400009, 0.08675777912139893, 0.09589017927646637, 0.09132397919893265, 0.09132397919893265, 0.14611835777759552, 0.10425179451704025, 0.08510350435972214, 0.09148626774549484, 0.1212724968791008, 0.09574144333600998, 0.0872310921549797, 0.08510350435972214, 0.08510350435972214, 0.11701732128858566, 0.1276552528142929, 0.08993186801671982, 0.07031036913394928, 0.13735048472881317, 0.08829674124717712, 0.10628311336040497, 0.08339136838912964, 0.12263436615467072, 0.11282361298799515, 0.10464798659086227, 0.08502649515867233, 0.13785600662231445, 0.10086319595575333, 0.08756890892982483, 0.10173021256923676, 0.10982239246368408, 0.08727990090847015, 0.08265579491853714, 0.09132598340511322, 0.1445031464099884, 0.0566452331840992, 0.5253409147262573, 0.5256013870239258, 0.26315972208976746, 0.5262963175773621, 0.08702993392944336, 0.08702993392944336, 0.15230238437652588, 0.07615119218826294, 0.09790867567062378, 0.09790867567062378, 0.06527245044708252, 0.07615119218826294, 0.1087874174118042, 0.15230238437652588, 0.5263646245002747, 0.09588155150413513, 0.0692477896809578, 0.07990129292011261, 0.0692477896809578, 0.11718856543302536, 0.11186181008815765, 0.0692477896809578, 0.16512933373451233, 0.10653505474328995, 0.11186181008815765, 0.09064558148384094, 0.09064558148384094, 0.0971202701330185, 0.07769621163606644, 0.110069639980793, 0.16834180057048798, 0.0971202701330185, 0.0971202701330185, 0.08417090028524399, 0.09064558148384094, 0.3506450355052948, 0.09382013976573944, 0.07726364582777023, 0.08554188907146454, 0.07726364582777023, 0.10209838300943375, 0.10945682972669601, 0.12325390428304672, 0.11129643768072128, 0.13429157435894012, 0.08646169304847717, 0.09198853373527527, 0.09906457364559174, 0.09198853373527527, 0.09198853373527527, 0.11321666091680527, 0.16274894773960114, 0.09906457364559174, 0.0849124938249588, 0.0849124938249588, 0.07783645391464233, 0.3511841595172882, 0.5266666412353516, 0.2635522484779358, 0.2635522484779358, 0.09983063489198685, 0.08174052089452744, 0.13266083598136902, 0.10050063580274582, 0.09581060707569122, 0.0984906256198883, 0.09648061543703079, 0.11792074888944626, 0.11323072016239166, 0.06298039853572845, 0.09316451847553253, 0.11386774480342865, 0.09661505371332169, 0.10869193822145462, 0.15182365477085114, 0.10179086029529572, 0.10524139553308487, 0.06728548556566238, 0.10179086029529572, 0.06038440763950348, 0.10541604459285736, 0.10541604459285736, 0.10541604459285736, 0.10541604459285736, 0.10541604459285736, 0.10541604459285736, 0.10541604459285736, 0.10541604459285736, 0.10541604459285736, 0.21083208918571472, 0.12265371531248093, 0.09637077897787094, 0.12703420221805573, 0.12265371531248093, 0.07884881645441055, 0.07008783519268036, 0.1489366590976715, 0.07008783519268036, 0.06570734828710556, 0.10075126588344574, 0.09744604676961899, 0.06090378016233444, 0.10353642702102661, 0.09440086036920547, 0.08526529371738434, 0.11876237392425537, 0.1278979331254959, 0.12180756032466888, 0.10505902022123337, 0.0867878869175911, 0.0942978635430336, 0.0942978635430336, 0.13201700150966644, 0.10372764617204666, 0.17916592955589294, 0.07543829083442688, 0.08486807346343994, 0.08486807346343994, 0.05657871812582016, 0.0942978635430336, 0.09770461916923523, 0.11494661122560501, 0.08620996028184891, 0.134104385972023, 0.10728351026773453, 0.07854685187339783, 0.09387306869029999, 0.08429418504238129, 0.10728351026773453, 0.09770461916923523, 0.1316148340702057, 0.1316148340702057, 0.1316148340702057, 0.2632296681404114, 0.1316148340702057, 0.1316148340702057, 0.1316148340702057, 0.1316148340702057, 0.1316148340702057, 0.1316148340702057, 0.26337704062461853, 0.26337704062461853, 0.3518200218677521, 0.3518636226654053, 0.3518636226654053, 0.0970671996474266, 0.06471146643161774, 0.07765375822782516, 0.0970671996474266, 0.15530751645565033, 0.0970671996474266, 0.09059605002403259, 0.11648064106702805, 0.09059605002403259, 0.11000949144363403, 0.06939762830734253, 0.09108439087867737, 0.08674703538417816, 0.09108439087867737, 0.10409644991159439, 0.108433797955513, 0.15180732309818268, 0.12144585698843002, 0.09108439087867737, 0.09108439087867737, 0.10962603986263275, 0.09592278301715851, 0.08221952617168427, 0.06851626932621002, 0.09592278301715851, 0.09592278301715851, 0.09592278301715851, 0.1233292892575264, 0.16443905234336853, 0.08221952617168427, 0.09112776815891266, 0.09281531721353531, 0.0995655283331871, 0.1198161393404007, 0.0995655283331871, 0.06750205159187317, 0.1029406264424324, 0.10125307738780975, 0.08437756448984146, 0.14175431430339813, 0.15037761628627777, 0.10704847425222397, 0.08156074583530426, 0.11469479650259018, 0.10195092856884003, 0.08920706063508987, 0.08156074583530426, 0.09430461376905441, 0.10195092856884003, 0.07901196926832199, 0.17547829449176788, 0.17547829449176788, 0.17547829449176788, 0.17547829449176788, 0.17547829449176788, 0.17547829449176788, 0.15059232711791992, 0.15059232711791992, 0.15059232711791992, 0.15059232711791992, 0.15059232711791992, 0.15059232711791992, 0.08495274931192398, 0.08994997292757034, 0.10494163632392883, 0.09494718909263611, 0.09494718909263611, 0.1499166190624237, 0.08495274931192398, 0.1099388524889946, 0.09994441270828247, 0.08994997292757034, 0.08520424365997314, 0.08919819444417953, 0.10384267568588257, 0.09052950888872147, 0.10384267568588257, 0.09052950888872147, 0.11316188424825668, 0.14111952483654022, 0.08520424365997314, 0.09851741045713425, 0.07849583774805069, 0.08032131940126419, 0.10405262559652328, 0.08397229015827179, 0.09857616573572159, 0.09492520242929459, 0.09309971332550049, 0.13143488764762878, 0.13143488764762878, 0.10405262559652328, 0.10115567594766617, 0.14370183646678925, 0.10582272708415985, 0.0739131048321724, 0.10017885267734528, 0.11504830420017242, 0.11689341813325882, 0.0837898924946785, 0.0855264738202095, 0.07413017749786377, 0.13422179222106934, 0.08798984438180923, 0.10737743973731995, 0.08127875626087189, 0.1416785717010498, 0.08277010917663574, 0.09842931479215622, 0.08277010917663574, 0.10439473390579224, 0.07978740334510803, 0.11607176065444946, 0.08789491653442383, 0.11354845762252808, 0.11312790960073471, 0.10345526784658432, 0.09125931560993195, 0.09125931560993195, 0.10808131098747253, 0.09125931560993195, 0.08326887339353561, 0.0892644077539444, 0.12983913719654083, 0.0908873975276947, 0.0908873975276947, 0.07628049701452255, 0.07628049701452255, 0.11685522645711899, 0.0908873975276947, 0.13957707583904266, 0.09737935662269592, 0.12220032513141632, 0.07402519881725311, 0.08342521637678146, 0.09400025010108948, 0.1081002876162529, 0.12102531641721725, 0.11515030264854431, 0.09047523885965347, 0.10340027511119843, 0.08695022761821747, 0.12675897777080536, 0.09718187898397446, 0.1136605516076088, 0.10816766321659088, 0.09253405034542084, 0.08746369183063507, 0.10816766321659088, 0.10098464787006378, 0.08366092294454575, 0.08154827356338501, 0.1248486265540123, 0.08323241770267487, 0.07134207338094711, 0.11593087017536163, 0.08620500564575195, 0.08620500564575195, 0.0980953499674797, 0.13079379498958588, 0.13971155881881714, 0.06836948543787003, 0.21101802587509155, 0.21101802587509155, 0.21101802587509155, 0.10172713547945023, 0.057202186435461044, 0.12213440239429474, 0.10822035372257233, 0.1038915365934372, 0.11038476228713989, 0.099871926009655, 0.07328063994646072, 0.10914795845746994, 0.11378597468137741, 0.11850505322217941, 0.09895782172679901, 0.11117484420537949, 0.10873144119977951, 0.09895782172679901, 0.0696369856595993, 0.09773612022399902, 0.13194376230239868, 0.06597188115119934, 0.09773612022399902, 0.07650147378444672, 0.11202001571655273, 0.08743026107549667, 0.12294880300760269, 0.08743026107549667, 0.09016245603561401, 0.14207416772842407, 0.10382343083620071, 0.0956268459558487, 0.08469805866479874, 0.10592002421617508, 0.08970777690410614, 0.09943512082099915, 0.08754613995552063, 0.09943512082099915, 0.11456655710935593, 0.10375838726758957, 0.09295022487640381, 0.11132410913705826, 0.09619267284870148, 0.10543651133775711, 0.10543651133775711, 0.10543651133775711, 0.21087302267551422, 0.10543651133775711, 0.10543651133775711, 0.10543651133775711, 0.10543651133775711, 0.10543651133775711, 0.10543651133775711, 0.35090094804763794, 0.10159536451101303, 0.08889593929052353, 0.06984680891036987, 0.13969361782073975, 0.08889593929052353, 0.08254623413085938, 0.10794506967067719, 0.10794506967067719, 0.06984680891036987, 0.1460433304309845, 0.10207939893007278, 0.10064166784286499, 0.11070583015680313, 0.09345297515392303, 0.09489071369171143, 0.10495487600564957, 0.13083416223526, 0.09345297515392303, 0.0833888053894043, 0.08482654392719269, 0.09794698655605316, 0.11193940788507462, 0.07659012079238892, 0.08616388589143753, 0.12593182921409607, 0.11856739968061447, 0.08248166739940643, 0.10015631467103958, 0.0913189947605133, 0.10899363458156586, 0.08579584956169128, 0.11102991551160812, 0.1211235448718071, 0.15140444040298462, 0.06560859084129333, 0.11607673019170761, 0.06560859084129333, 0.09084266424179077, 0.10598310083150864, 0.08579584956169128, 0.0916137620806694, 0.0916137620806694, 0.0916137620806694, 0.0916137620806694, 0.0916137620806694, 0.1832275241613388, 0.0916137620806694, 0.1374206393957138, 0.0916137620806694, 0.1374206393957138, 0.08779612183570862, 0.12205801904201508, 0.11777528375387192, 0.08137201517820358, 0.06852380186319351, 0.08351337909698486, 0.14561307430267334, 0.09207885712385178, 0.13704760372638702, 0.06638243049383163, 0.09722091257572174, 0.08263777941465378, 0.10694300383329391, 0.12395666539669037, 0.09235987067222595, 0.08749882131814957, 0.08263777941465378, 0.14097031950950623, 0.09235987067222595, 0.09479039162397385, 0.08363436907529831, 0.10181575268507004, 0.08363436907529831, 0.09090692549943924, 0.10181575268507004, 0.1381785273551941, 0.08727064728736877, 0.1054520308971405, 0.1054520308971405, 0.10181575268507004, 0.1150030568242073, 0.11148256063461304, 0.0938800498843193, 0.08683904260396957, 0.06923653185367584, 0.08801254630088806, 0.1267380714416504, 0.08566554635763168, 0.11030905693769455, 0.11382956057786942, 0.08074723929166794, 0.11439192295074463, 0.11775638908147812, 0.090840645134449, 0.1059807538986206, 0.13457873463630676, 0.08747617900371552, 0.08242947608232498, 0.1059807538986206, 0.0757005363702774, 0.1955259144306183, 0.07821036875247955, 0.07821036875247955, 0.07821036875247955, 0.07821036875247955, 0.07821036875247955, 0.07821036875247955, 0.11731554567813873, 0.07821036875247955, 0.07821036875247955, 0.35078635811805725, 0.15845376253128052, 0.14509019255638123, 0.08209049701690674, 0.11836304515600204, 0.09736315160989761, 0.08399958163499832, 0.08209049701690674, 0.07254509627819061, 0.07063601166009903, 0.0859086662530899, 0.08329721540212631, 0.12806947529315948, 0.0801735669374466, 0.11661610007286072, 0.10828638076782227, 0.09058572351932526, 0.09058572351932526, 0.06663776934146881, 0.0978742316365242, 0.13744039833545685, 0.12598545849323273, 0.07936091721057892, 0.08828902244567871, 0.1111052855849266, 0.08531298488378525, 0.10217718034982681, 0.09424109011888504, 0.08134493976831436, 0.11606534570455551, 0.11606534570455551, 0.12735949456691742, 0.10250885784626007, 0.09163670241832733, 0.05746708810329437, 0.0994025319814682, 0.12425316125154495, 0.11182784289121628, 0.11182784289121628, 0.06833923608064651, 0.104062020778656, 0.07892561703920364, 0.0915537178516388, 0.10102479159832001, 0.14522314071655273, 0.07892561703920364, 0.0915537178516388, 0.11049586534500122, 0.08839669078588486, 0.10733883827924728, 0.10733883827924728, 0.10246244072914124, 0.07497251778841019, 0.08122022449970245, 0.12495419383049011, 0.1287028193473816, 0.10621106624603271, 0.1287028193473816, 0.08122022449970245, 0.07872114330530167, 0.09371564537286758, 0.10409121215343475, 0.12918463349342346, 0.12639647722244263, 0.06877455115318298, 0.1022324413061142, 0.07806841284036636, 0.0892210379242897, 0.10409121215343475, 0.08364472538232803, 0.11431445926427841, 0.11910195648670197, 0.1073388010263443, 0.0849888026714325, 0.08116577565670013, 0.09910459071397781, 0.1008690595626831, 0.10057498514652252, 0.11116182059049606, 0.08204801380634308, 0.11351445317268372, 0.10234329104423523, 0.10909119993448257, 0.08659816533327103, 0.12821027636528015, 0.10121864080429077, 0.11246515065431595, 0.0978446826338768, 0.07760095596313477, 0.10459259152412415, 0.08097490668296814, 0.1259448230266571, 0.1025955080986023, 0.11179372668266296, 0.1110861673951149, 0.09976528584957123, 0.07641596347093582, 0.08915195614099503, 0.1025955080986023, 0.09622751176357269, 0.08490662276744843, 0.11191151291131973, 0.0705195814371109, 0.12110971659421921, 0.1579025387763977, 0.08125082403421402, 0.08278385549783707, 0.09504812955856323, 0.1042463406920433, 0.09198206663131714, 0.08125082403421402, 0.2629990875720978, 0.11216896027326584, 0.079178087413311, 0.06598173826932907, 0.06598173826932907, 0.0989726111292839, 0.12536530196666718, 0.16495434939861298, 0.079178087413311, 0.10557078570127487, 0.0989726111292839, 0.1317533552646637, 0.1317533552646637, 0.1317533552646637, 0.1317533552646637, 0.1317533552646637, 0.1317533552646637, 0.1317533552646637, 0.1317533552646637, 0.1317533552646637, 0.08173654973506927, 0.07837750762701035, 0.08621525764465332, 0.11756626516580582, 0.1254040151834488, 0.11196786910295486, 0.07613815367221832, 0.10077108442783356, 0.12316466122865677, 0.10077108442783356, 0.11312084645032883, 0.09598132222890854, 0.09940923005342484, 0.12683247029781342, 0.10626503825187683, 0.054846469312906265, 0.1405440866947174, 0.09940923005342484, 0.09255342185497284, 0.07198598980903625, 0.3510632812976837, 0.3510632812976837, 0.17580464482307434, 0.17580464482307434, 0.17580464482307434, 0.17580464482307434, 0.17580464482307434, 0.13616327941417694, 0.08104956895112991, 0.07942857593297958, 0.11833237111568451, 0.07618659734725952, 0.11184840649366379, 0.08915452659130096, 0.1231953427195549, 0.11022741347551346, 0.07618659734725952, 0.10265105962753296, 0.09925764054059982, 0.10265105962753296, 0.08822900801897049, 0.07889709621667862, 0.1264050304889679, 0.08738065510988235, 0.09077408164739609, 0.09756092727184296, 0.12555666267871857, 0.046878132969141006, 0.14063440263271332, 0.3047078549861908, 0.023439066484570503, 0.09375626593828201, 0.046878132969141006, 0.046878132969141006, 0.046878132969141006, 0.14063440263271332, 0.14063440263271332, 0.09837231040000916, 0.08431912213563919, 0.08431912213563919, 0.09837231040000916, 0.12647868692874908, 0.154585063457489, 0.08431912213563919, 0.08431912213563919, 0.07026593387126923, 0.08431912213563919, 0.35098910331726074], \"Term\": [\"\", \"\", \"\", \"\", \"\", \"\", \"\", \"\", \"\", \"\", \"10\", \"10\", \"10\", \"10\", \"10\", \"10\", \"10\", \"10\", \"10\", \"10\", \"15\", \"15\", \"15\", \"15\", \"15\", \"15\", \"15\", \"15\", \"15\", \"15\", \"2\", \"2\", \"2\", \"2\", \"2\", \"2\", \"2\", \"2\", \"2\", \"2\", \"24\", \"24\", \"24\", \"24\", \"24\", \"24\", \"24\", \"24\", \"24\", \"24\", \"3\", \"3\", \"3\", \"3\", \"3\", \"3\", \"3\", \"3\", \"3\", \"3\", \"711\", \"90mns\", \"90mns\", \"a\", \"a\", \"a\", \"a\", \"a\", \"a\", \"a\", \"a\", \"a\", \"a\", \"aber\", \"abiance\", \"acrobaticsreally\", \"aknowledgement\", \"all\", \"all\", \"all\", \"all\", \"all\", \"all\", \"all\", \"all\", \"all\", \"all\", \"amazing\", \"amazing\", \"amazing\", \"amazing\", \"amazing\", \"amazing\", \"amazing\", \"amazing\", \"amazing\", \"amazing\", \"amazinggg\", \"amazon\", \"amazon\", \"amazon\", \"amazon\", \"amazon\", \"amazon\", \"amazon\", \"amazon\", \"amazon\", \"amazon\", \"and\", \"and\", \"and\", \"and\", \"and\", \"and\", \"and\", \"and\", \"and\", \"and\", \"angelinas\", \"anita\", \"anita\", \"anita\", \"anita\", \"area\", \"area\", \"area\", \"area\", \"area\", \"area\", \"area\", \"area\", \"area\", \"area\", \"as\", \"as\", \"as\", \"as\", \"as\", \"as\", \"as\", \"as\", \"as\", \"as\", \"asada\", \"asada\", \"asada\", \"asada\", \"asada\", \"asada\", \"asada\", \"asada\", \"asada\", \"asada\", \"ask\", \"ask\", \"ask\", \"ask\", \"ask\", \"ask\", \"ask\", \"ask\", \"ask\", \"ask\", \"asked\", \"asked\", \"asked\", \"asked\", \"asked\", \"asked\", \"asked\", \"asked\", \"asked\", \"asked\", \"attendants\", \"auction\", \"available\", \"available\", \"available\", \"available\", \"available\", \"available\", \"available\", \"available\", \"available\", \"available\", \"awesome\", \"awesome\", \"awesome\", \"awesome\", \"awesome\", \"awesome\", \"awesome\", \"awesome\", \"awesome\", \"awesome\", \"back\", \"back\", \"back\", \"back\", \"back\", \"back\", \"back\", \"back\", \"back\", \"back\", \"bag\", \"bag\", \"bag\", \"bag\", \"bag\", \"bag\", \"bag\", \"bag\", \"bag\", \"bag\", \"banking\", \"bar\", \"bar\", \"bar\", \"bar\", \"bar\", \"bar\", \"bar\", \"bar\", \"bar\", \"bar\", \"barros\", \"best\", \"best\", \"best\", \"best\", \"best\", \"best\", \"best\", \"best\", \"best\", \"best\", \"better\", \"better\", \"better\", \"better\", \"better\", \"better\", \"better\", \"better\", \"better\", \"better\", \"bit\", \"bit\", \"bit\", \"bit\", \"bit\", \"bit\", \"bit\", \"bit\", \"bit\", \"bit\", \"breakfast\", \"breakfast\", \"breakfast\", \"breakfast\", \"breakfast\", \"breakfast\", \"breakfast\", \"breakfast\", \"breakfast\", \"breakfast\", \"breakfastlunch\", \"broken\", \"broken\", \"broken\", \"broken\", \"broken\", \"broken\", \"broken\", \"broken\", \"broken\", \"broken\", \"burger\", \"burger\", \"burger\", \"burger\", \"burger\", \"burger\", \"burger\", \"burger\", \"burger\", \"burger\", \"by\", \"by\", \"by\", \"by\", \"by\", \"by\", \"by\", \"by\", \"by\", \"by\", \"cad\", \"cad\", \"called\", \"called\", \"called\", \"called\", \"called\", \"called\", \"called\", \"called\", \"called\", \"called\", \"came\", \"came\", \"came\", \"came\", \"came\", \"came\", \"came\", \"came\", \"came\", \"came\", \"cant\", \"cant\", \"cant\", \"cant\", \"cant\", \"cant\", \"cant\", \"cant\", \"cant\", \"cant\", \"care\", \"care\", \"care\", \"care\", \"care\", \"care\", \"care\", \"care\", \"care\", \"care\", \"certainly\", \"certainly\", \"certainly\", \"certainly\", \"certainly\", \"certainly\", \"certainly\", \"certainly\", \"certainly\", \"certainly\", \"check\", \"check\", \"check\", \"check\", \"check\", \"check\", \"check\", \"check\", \"check\", \"check\", \"cheese\", \"cheese\", \"cheese\", \"cheese\", \"cheese\", \"cheese\", \"cheese\", \"cheese\", \"cheese\", \"cheese\", \"cher\", \"cher\", \"cher\", \"cher\", \"chicken\", \"chicken\", \"chicken\", \"chicken\", \"chicken\", \"chicken\", \"chicken\", \"chicken\", \"chicken\", \"chicken\", \"chillers\", \"chillers\", \"chillers\", \"chillers\", \"chillers\", \"chillers\", \"chillers\", \"chillers\", \"chillers\", \"chillers\", \"cigarets\", \"clean\", \"clean\", \"clean\", \"clean\", \"clean\", \"clean\", \"clean\", \"clean\", \"clean\", \"clean\", \"coin\", \"coin\", \"coin\", \"coin\", \"coin\", \"coin\", \"coin\", \"collection\", \"collection\", \"collection\", \"collection\", \"collection\", \"collection\", \"collection\", \"collection\", \"collection\", \"collection\", \"come\", \"come\", \"come\", \"come\", \"come\", \"come\", \"come\", \"come\", \"come\", \"come\", \"conrad\", \"convent\", \"couple\", \"couple\", \"couple\", \"couple\", \"couple\", \"couple\", \"couple\", \"couple\", \"couple\", \"couple\", \"crabcakes\", \"crews\", \"croquetas\", \"crude\", \"cruffin\", \"cuban\", \"cuban\", \"cuban\", \"cuban\", \"cuban\", \"cuban\", \"cuban\", \"cuban\", \"cuban\", \"cuban\", \"cup\", \"cup\", \"cup\", \"cup\", \"cup\", \"cup\", \"cup\", \"cup\", \"cup\", \"cup\", \"cupcake\", \"cupcake\", \"cupcake\", \"cupcake\", \"cupcake\", \"cupcake\", \"cupcake\", \"cupcake\", \"cupcake\", \"cupcake\", \"customer\", \"customer\", \"customer\", \"customer\", \"customer\", \"customer\", \"customer\", \"customer\", \"customer\", \"customer\", \"day\", \"day\", \"day\", \"day\", \"day\", \"day\", \"day\", \"day\", \"day\", \"day\", \"deanna\", \"deanna\", \"deanna\", \"deanna\", \"deanna\", \"deanna\", \"deanna\", \"deanna\", \"deanna\", \"deanna\", \"decided\", \"decided\", \"decided\", \"decided\", \"decided\", \"decided\", \"decided\", \"decided\", \"decided\", \"decided\", \"decor\", \"decor\", \"decor\", \"decor\", \"decor\", \"decor\", \"decor\", \"decor\", \"decor\", \"decor\", \"definitely\", \"definitely\", \"definitely\", \"definitely\", \"definitely\", \"definitely\", \"definitely\", \"definitely\", \"definitely\", \"definitely\", \"delicious\", \"delicious\", \"delicious\", \"delicious\", \"delicious\", \"delicious\", \"delicious\", \"delicious\", \"delicious\", \"delicious\", \"desperate\", \"desperate\", \"desperate\", \"desperate\", \"desperate\", \"desperate\", \"desperate\", \"desperate\", \"desperate\", \"desperate\", \"didnt\", \"didnt\", \"didnt\", \"didnt\", \"didnt\", \"didnt\", \"didnt\", \"didnt\", \"didnt\", \"didnt\", \"diwali\", \"dogs\", \"dogs\", \"dogs\", \"dogs\", \"dogs\", \"dogs\", \"dogs\", \"dogs\", \"dogs\", \"dogs\", \"dominican\", \"donny\", \"dont\", \"dont\", \"dont\", \"dont\", \"dont\", \"dont\", \"dont\", \"dont\", \"dont\", \"dont\", \"door\", \"door\", \"door\", \"door\", \"door\", \"door\", \"door\", \"door\", \"door\", \"door\", \"doughnuts\", \"doughnuts\", \"doughnuts\", \"doughnuts\", \"doughnuts\", \"doughnuts\", \"doughnuts\", \"doughnuts\", \"doughnuts\", \"doughnuts\", \"eat\", \"eat\", \"eat\", \"eat\", \"eat\", \"eat\", \"eat\", \"eat\", \"eat\", \"eat\", \"elva\", \"emily\", \"emily\", \"emily\", \"emily\", \"emily\", \"emily\", \"emily\", \"emily\", \"emily\", \"emily\", \"especially\", \"especially\", \"especially\", \"especially\", \"especially\", \"especially\", \"especially\", \"especially\", \"especially\", \"especially\", \"essentials\", \"ethan\", \"evening\", \"evening\", \"evening\", \"evening\", \"evening\", \"evening\", \"evening\", \"evening\", \"evening\", \"evening\", \"everrrrr\", \"everything\", \"everything\", \"everything\", \"everything\", \"everything\", \"everything\", \"everything\", \"everything\", \"everything\", \"everything\", \"excellent\", \"excellent\", \"excellent\", \"excellent\", \"excellent\", \"excellent\", \"excellent\", \"excellent\", \"excellent\", \"excellent\", \"experience\", \"experience\", \"experience\", \"experience\", \"experience\", \"experience\", \"experience\", \"experience\", \"experience\", \"experience\", \"extra\", \"extra\", \"extra\", \"extra\", \"extra\", \"extra\", \"extra\", \"extra\", \"extra\", \"extra\", \"family\", \"family\", \"family\", \"family\", \"family\", \"family\", \"family\", \"family\", \"family\", \"family\", \"fare\", \"fare\", \"fare\", \"fare\", \"fare\", \"fare\", \"fare\", \"fare\", \"fare\", \"fare\", \"finally\", \"finally\", \"finally\", \"finally\", \"finally\", \"finally\", \"finally\", \"finally\", \"finally\", \"finally\", \"fine\", \"fine\", \"fine\", \"fine\", \"fine\", \"fine\", \"fine\", \"fine\", \"fine\", \"fine\", \"flavor\", \"flavor\", \"flavor\", \"flavor\", \"flavor\", \"flavor\", \"flavor\", \"flavor\", \"flavor\", \"flavor\", \"flavors\", \"flavors\", \"flavors\", \"flavors\", \"flavors\", \"flavors\", \"flavors\", \"flavors\", \"flavors\", \"flavors\", \"floor\", \"floor\", \"floor\", \"floor\", \"floor\", \"floor\", \"floor\", \"floor\", \"floor\", \"floor\", \"food\", \"food\", \"food\", \"food\", \"food\", \"food\", \"food\", \"food\", \"food\", \"food\", \"for\", \"for\", \"for\", \"for\", \"for\", \"for\", \"for\", \"for\", \"for\", \"for\", \"francisco\", \"francisco\", \"francisco\", \"francisco\", \"francisco\", \"francisco\", \"francisco\", \"francisco\", \"francisco\", \"francisco\", \"free\", \"free\", \"free\", \"free\", \"free\", \"free\", \"free\", \"free\", \"free\", \"free\", \"fried\", \"fried\", \"fried\", \"fried\", \"fried\", \"fried\", \"fried\", \"fried\", \"fried\", \"fried\", \"friend\", \"friend\", \"friend\", \"friend\", \"friend\", \"friend\", \"friend\", \"friend\", \"friend\", \"friend\", \"friendly\", \"friendly\", \"friendly\", \"friendly\", \"friendly\", \"friendly\", \"friendly\", \"friendly\", \"friendly\", \"friendly\", \"friends\", \"friends\", \"friends\", \"friends\", \"friends\", \"friends\", \"friends\", \"friends\", \"friends\", \"friends\", \"fries\", \"fries\", \"fries\", \"fries\", \"fries\", \"fries\", \"fries\", \"fries\", \"fries\", \"fries\", \"frittata\", \"frittata\", \"frittata\", \"frittata\", \"frittata\", \"frittata\", \"frittata\", \"frittata\", \"frittata\", \"frittata\", \"fun\", \"fun\", \"fun\", \"fun\", \"fun\", \"fun\", \"fun\", \"fun\", \"fun\", \"fun\", \"fungus\", \"galley\", \"galley\", \"galley\", \"gave\", \"gave\", \"gave\", \"gave\", \"gave\", \"gave\", \"gave\", \"gave\", \"gave\", \"gave\", \"gerrard\", \"gluten\", \"gluten\", \"gluten\", \"gluten\", \"gluten\", \"gluten\", \"gluten\", \"gluten\", \"gluten\", \"gluten\", \"go\", \"go\", \"go\", \"go\", \"go\", \"go\", \"go\", \"go\", \"go\", \"go\", \"going\", \"going\", \"going\", \"going\", \"going\", \"going\", \"going\", \"going\", \"going\", \"going\", \"good\", \"good\", \"good\", \"good\", \"good\", \"good\", \"good\", \"good\", \"good\", \"good\", \"gooddecent\", \"goooood\", \"got\", \"got\", \"got\", \"got\", \"got\", \"got\", \"got\", \"got\", \"got\", \"got\", \"great\", \"great\", \"great\", \"great\", \"great\", \"great\", \"great\", \"great\", \"great\", \"great\", \"greenhouse\", \"greentea\", \"grossman\", \"guy\", \"guy\", \"guy\", \"guy\", \"guy\", \"guy\", \"guy\", \"guy\", \"guy\", \"guy\", \"halo\", \"halo\", \"halo\", \"halo\", \"halo\", \"halo\", \"halo\", \"halo\", \"halo\", \"halo\", \"handels\", \"handels\", \"happy\", \"happy\", \"happy\", \"happy\", \"happy\", \"happy\", \"happy\", \"happy\", \"happy\", \"happy\", \"hatch\", \"hatch\", \"hatch\", \"hatch\", \"hatch\", \"hatch\", \"hatch\", \"hatch\", \"hatch\", \"hatch\", \"here\", \"here\", \"here\", \"here\", \"here\", \"here\", \"here\", \"here\", \"here\", \"here\", \"highly\", \"highly\", \"highly\", \"highly\", \"highly\", \"highly\", \"highly\", \"highly\", \"highly\", \"highly\", \"hobak\", \"home\", \"home\", \"home\", \"home\", \"home\", \"home\", \"home\", \"home\", \"home\", \"home\", \"homestyle\", \"house\", \"house\", \"house\", \"house\", \"house\", \"house\", \"house\", \"house\", \"house\", \"house\", \"huddle\", \"hunan\", \"husband\", \"husband\", \"husband\", \"husband\", \"husband\", \"husband\", \"husband\", \"husband\", \"husband\", \"husband\", \"i\", \"i\", \"i\", \"i\", \"i\", \"i\", \"i\", \"i\", \"i\", \"i\", \"ice\", \"ice\", \"ice\", \"ice\", \"ice\", \"ice\", \"ice\", \"ice\", \"ice\", \"ice\", \"if\", \"if\", \"if\", \"if\", \"if\", \"if\", \"if\", \"if\", \"if\", \"if\", \"ill\", \"ill\", \"ill\", \"ill\", \"ill\", \"ill\", \"ill\", \"ill\", \"ill\", \"ill\", \"im\", \"im\", \"im\", \"im\", \"im\", \"im\", \"im\", \"im\", \"im\", \"im\", \"in\", \"in\", \"in\", \"in\", \"in\", \"in\", \"in\", \"in\", \"in\", \"in\", \"intelligent\", \"iorio\", \"it\", \"it\", \"it\", \"it\", \"it\", \"it\", \"it\", \"it\", \"it\", \"it\", \"italian\", \"italian\", \"italian\", \"italian\", \"italian\", \"italian\", \"italian\", \"italian\", \"italian\", \"italian\", \"its\", \"its\", \"its\", \"its\", \"its\", \"its\", \"its\", \"its\", \"its\", \"its\", \"ive\", \"ive\", \"ive\", \"ive\", \"ive\", \"ive\", \"ive\", \"ive\", \"ive\", \"ive\", \"janet\", \"janet\", \"janet\", \"jdt\", \"jdt\", \"jeffery\", \"jellyfish\", \"jellyfish\", \"jellyfish\", \"jellyfish\", \"jewish\", \"jewish\", \"jewish\", \"jewish\", \"jewish\", \"kang\", \"kiki\", \"kind\", \"kind\", \"kind\", \"kind\", \"kind\", \"kind\", \"kind\", \"kind\", \"kind\", \"kind\", \"know\", \"know\", \"know\", \"know\", \"know\", \"know\", \"know\", \"know\", \"know\", \"know\", \"kristy\", \"late\", \"late\", \"late\", \"late\", \"late\", \"late\", \"late\", \"late\", \"late\", \"late\", \"lgbtq\", \"life\", \"life\", \"life\", \"life\", \"life\", \"life\", \"life\", \"life\", \"life\", \"life\", \"lining\", \"lining\", \"little\", \"little\", \"little\", \"little\", \"little\", \"little\", \"little\", \"little\", \"little\", \"little\", \"location\", \"location\", \"location\", \"location\", \"location\", \"location\", \"location\", \"location\", \"location\", \"location\", \"lochiel\", \"looking\", \"looking\", \"looking\", \"looking\", \"looking\", \"looking\", \"looking\", \"looking\", \"looking\", \"looking\", \"love\", \"love\", \"love\", \"love\", \"love\", \"love\", \"love\", \"love\", \"love\", \"love\", \"low\", \"low\", \"low\", \"low\", \"low\", \"low\", \"low\", \"low\", \"low\", \"low\", \"lunch\", \"lunch\", \"lunch\", \"lunch\", \"lunch\", \"lunch\", \"lunch\", \"lunch\", \"lunch\", \"lunch\", \"luxuriously\", \"lydia\", \"making\", \"making\", \"making\", \"making\", \"making\", \"making\", \"making\", \"making\", \"making\", \"making\", \"meat\", \"meat\", \"meat\", \"meat\", \"meat\", \"meat\", \"meat\", \"meat\", \"meat\", \"meat\", \"meets\", \"meets\", \"meets\", \"meets\", \"meets\", \"meets\", \"meets\", \"meets\", \"meets\", \"meets\", \"melinda\", \"melinda\", \"menu\", \"menu\", \"menu\", \"menu\", \"menu\", \"menu\", \"menu\", \"menu\", \"menu\", \"menu\", \"mikes\", \"milk\", \"milk\", \"milk\", \"milk\", \"milk\", \"milk\", \"milk\", \"milk\", \"milk\", \"milk\", \"month\", \"month\", \"month\", \"month\", \"month\", \"month\", \"month\", \"month\", \"month\", \"month\", \"music\", \"music\", \"music\", \"music\", \"music\", \"music\", \"music\", \"music\", \"music\", \"music\", \"my\", \"my\", \"my\", \"my\", \"my\", \"my\", \"my\", \"my\", \"my\", \"my\", \"nachos\", \"nachos\", \"nachos\", \"nachos\", \"nachos\", \"nachos\", \"nachos\", \"nachos\", \"nachos\", \"nachos\", \"nachosummm\", \"nadya\", \"need\", \"need\", \"need\", \"need\", \"need\", \"need\", \"need\", \"need\", \"need\", \"need\", \"negotiated\", \"new\", \"new\", \"new\", \"new\", \"new\", \"new\", \"new\", \"new\", \"new\", \"new\", \"nice\", \"nice\", \"nice\", \"nice\", \"nice\", \"nice\", \"nice\", \"nice\", \"nice\", \"nice\", \"night\", \"night\", \"night\", \"night\", \"night\", \"night\", \"night\", \"night\", \"night\", \"night\", \"noddle\", \"not\", \"not\", \"not\", \"not\", \"not\", \"not\", \"not\", \"not\", \"not\", \"not\", \"now\", \"now\", \"now\", \"now\", \"now\", \"now\", \"now\", \"now\", \"now\", \"now\", \"offered\", \"offered\", \"offered\", \"offered\", \"offered\", \"offered\", \"offered\", \"offered\", \"offered\", \"offered\", \"ok\", \"ok\", \"ok\", \"ok\", \"ok\", \"ok\", \"ok\", \"ok\", \"ok\", \"ok\", \"on\", \"on\", \"on\", \"on\", \"on\", \"on\", \"on\", \"on\", \"on\", \"on\", \"one\", \"one\", \"one\", \"one\", \"one\", \"one\", \"one\", \"one\", \"one\", \"one\", \"only\", \"only\", \"only\", \"only\", \"only\", \"only\", \"only\", \"only\", \"only\", \"only\", \"opa\", \"open\", \"open\", \"open\", \"open\", \"open\", \"open\", \"open\", \"open\", \"open\", \"open\", \"order\", \"order\", \"order\", \"order\", \"order\", \"order\", \"order\", \"order\", \"order\", \"order\", \"ordered\", \"ordered\", \"ordered\", \"ordered\", \"ordered\", \"ordered\", \"ordered\", \"ordered\", \"ordered\", \"ordered\", \"out\", \"out\", \"out\", \"out\", \"out\", \"out\", \"out\", \"out\", \"out\", \"out\", \"outfit\", \"outfit\", \"overall\", \"overall\", \"overall\", \"overall\", \"overall\", \"overall\", \"overall\", \"overall\", \"overall\", \"overall\", \"owner\", \"owner\", \"owner\", \"owner\", \"owner\", \"owner\", \"owner\", \"owner\", \"owner\", \"owner\", \"packers\", \"painfully\", \"pam\", \"penetrated\", \"pennies\", \"people\", \"people\", \"people\", \"people\", \"people\", \"people\", \"people\", \"people\", \"people\", \"people\", \"perfect\", \"perfect\", \"perfect\", \"perfect\", \"perfect\", \"perfect\", \"perfect\", \"perfect\", \"perfect\", \"perfect\", \"petrus\", \"pho\", \"pho\", \"pho\", \"pho\", \"pho\", \"pho\", \"pho\", \"pho\", \"pho\", \"pho\", \"pie\", \"pie\", \"pie\", \"pie\", \"pie\", \"pie\", \"pie\", \"pie\", \"pie\", \"pie\", \"piri\", \"pizza\", \"pizza\", \"pizza\", \"pizza\", \"pizza\", \"pizza\", \"pizza\", \"pizza\", \"pizza\", \"pizza\", \"place\", \"place\", \"place\", \"place\", \"place\", \"place\", \"place\", \"place\", \"place\", \"place\", \"plenty\", \"plenty\", \"plenty\", \"plenty\", \"plenty\", \"plenty\", \"plenty\", \"plenty\", \"plenty\", \"plenty\", \"pnw\", \"pork\", \"pork\", \"pork\", \"pork\", \"pork\", \"pork\", \"pork\", \"pork\", \"pork\", \"pork\", \"portions\", \"portions\", \"portions\", \"portions\", \"portions\", \"portions\", \"portions\", \"portions\", \"portions\", \"portions\", \"powersports\", \"presto\", \"presto\", \"presto\", \"presto\", \"pretty\", \"pretty\", \"pretty\", \"pretty\", \"pretty\", \"pretty\", \"pretty\", \"pretty\", \"pretty\", \"pretty\", \"price\", \"price\", \"price\", \"price\", \"price\", \"price\", \"price\", \"price\", \"price\", \"price\", \"prices\", \"prices\", \"prices\", \"prices\", \"prices\", \"prices\", \"prices\", \"prices\", \"prices\", \"prices\", \"problem\", \"problem\", \"problem\", \"problem\", \"problem\", \"problem\", \"problem\", \"problem\", \"problem\", \"problem\", \"professional\", \"professional\", \"professional\", \"professional\", \"professional\", \"professional\", \"professional\", \"professional\", \"professional\", \"professional\", \"qualifier\", \"quality\", \"quality\", \"quality\", \"quality\", \"quality\", \"quality\", \"quality\", \"quality\", \"quality\", \"quality\", \"read\", \"read\", \"read\", \"read\", \"read\", \"read\", \"read\", \"read\", \"read\", \"read\", \"real\", \"real\", \"real\", \"real\", \"real\", \"real\", \"real\", \"real\", \"real\", \"real\", \"recomendill\", \"recommend\", \"recommend\", \"recommend\", \"recommend\", \"recommend\", \"recommend\", \"recommend\", \"recommend\", \"recommend\", \"recommend\", \"red\", \"red\", \"red\", \"red\", \"red\", \"red\", \"red\", \"red\", \"red\", \"red\", \"reece\", \"regular\", \"regular\", \"regular\", \"regular\", \"regular\", \"regular\", \"regular\", \"regular\", \"regular\", \"regular\", \"remember\", \"remember\", \"remember\", \"remember\", \"remember\", \"remember\", \"remember\", \"remember\", \"remember\", \"remember\", \"resource\", \"resource\", \"resource\", \"resource\", \"resource\", \"resource\", \"restaurant\", \"restaurant\", \"restaurant\", \"restaurant\", \"restaurant\", \"restaurant\", \"restaurant\", \"restaurant\", \"restaurant\", \"restaurant\", \"results\", \"results\", \"results\", \"results\", \"results\", \"results\", \"results\", \"results\", \"results\", \"results\", \"return\", \"return\", \"return\", \"return\", \"return\", \"return\", \"return\", \"return\", \"return\", \"return\", \"reviews\", \"reviews\", \"reviews\", \"reviews\", \"reviews\", \"reviews\", \"reviews\", \"reviews\", \"reviews\", \"reviews\", \"rics\", \"rics\", \"rics\", \"right\", \"right\", \"right\", \"right\", \"right\", \"right\", \"right\", \"right\", \"right\", \"right\", \"risotto\", \"risotto\", \"risotto\", \"risotto\", \"risotto\", \"risotto\", \"risotto\", \"risotto\", \"risotto\", \"risotto\", \"rooms\", \"rooms\", \"rooms\", \"rooms\", \"rooms\", \"rooms\", \"rooms\", \"rooms\", \"rooms\", \"rooms\", \"rudys\", \"rudys\", \"rudys\", \"said\", \"said\", \"said\", \"said\", \"said\", \"said\", \"said\", \"said\", \"said\", \"said\", \"salad\", \"salad\", \"salad\", \"salad\", \"salad\", \"salad\", \"salad\", \"salad\", \"salad\", \"salad\", \"salt\", \"salt\", \"salt\", \"salt\", \"salt\", \"salt\", \"salt\", \"salt\", \"salt\", \"salt\", \"sandwich\", \"sandwich\", \"sandwich\", \"sandwich\", \"sandwich\", \"sandwich\", \"sandwich\", \"sandwich\", \"sandwich\", \"sandwich\", \"satified\", \"saved\", \"saved\", \"saved\", \"saved\", \"saved\", \"saved\", \"saved\", \"saved\", \"saved\", \"saved\", \"seafood\", \"seafood\", \"seafood\", \"seafood\", \"seafood\", \"seafood\", \"seafood\", \"seafood\", \"seafood\", \"seafood\", \"seating\", \"seating\", \"seating\", \"seating\", \"seating\", \"seating\", \"seating\", \"seating\", \"seating\", \"seating\", \"selection\", \"selection\", \"selection\", \"selection\", \"selection\", \"selection\", \"selection\", \"selection\", \"selection\", \"selection\", \"server\", \"server\", \"server\", \"server\", \"server\", \"server\", \"server\", \"server\", \"server\", \"server\", \"service\", \"service\", \"service\", \"service\", \"service\", \"service\", \"service\", \"service\", \"service\", \"service\", \"sevice\", \"shellwithout\", \"shenanigans\", \"shoooz\", \"shops\", \"shops\", \"shops\", \"shops\", \"shops\", \"shops\", \"shops\", \"shops\", \"shops\", \"shops\", \"siela\", \"simple\", \"simple\", \"simple\", \"simple\", \"simple\", \"simple\", \"simple\", \"simple\", \"simple\", \"simple\", \"simply\", \"simply\", \"simply\", \"simply\", \"simply\", \"simply\", \"simply\", \"simply\", \"simply\", \"simply\", \"skyloft\", \"so\", \"so\", \"so\", \"so\", \"so\", \"so\", \"so\", \"so\", \"so\", \"so\", \"sorry\", \"sorry\", \"sorry\", \"sorry\", \"sorry\", \"sorry\", \"sorry\", \"sorry\", \"sorry\", \"sorry\", \"squishies\", \"stabbed\", \"stacy\", \"stacy\", \"staff\", \"staff\", \"staff\", \"staff\", \"staff\", \"staff\", \"staff\", \"staff\", \"staff\", \"staff\", \"stars\", \"stars\", \"stars\", \"stars\", \"stars\", \"stars\", \"stars\", \"stars\", \"stars\", \"stars\", \"stole\", \"stole\", \"stole\", \"stole\", \"stole\", \"stole\", \"stole\", \"stole\", \"stole\", \"stole\", \"stopped\", \"stopped\", \"stopped\", \"stopped\", \"stopped\", \"stopped\", \"stopped\", \"stopped\", \"stopped\", \"stopped\", \"store\", \"store\", \"store\", \"store\", \"store\", \"store\", \"store\", \"store\", \"store\", \"store\", \"stores\", \"stores\", \"stores\", \"stores\", \"stores\", \"stores\", \"stores\", \"stores\", \"stores\", \"stores\", \"sushi\", \"sushi\", \"sushi\", \"sushi\", \"sushi\", \"sushi\", \"sushi\", \"sushi\", \"sushi\", \"sushi\", \"suzi\", \"suzi\", \"suzi\", \"suzi\", \"suzi\", \"suzi\", \"suzi\", \"suzi\", \"suzi\", \"suzi\", \"swift\", \"swift\", \"swirl\", \"swordfish\", \"swordfish\", \"taken\", \"taken\", \"taken\", \"taken\", \"taken\", \"taken\", \"taken\", \"taken\", \"taken\", \"taken\", \"taking\", \"taking\", \"taking\", \"taking\", \"taking\", \"taking\", \"taking\", \"taking\", \"taking\", \"taking\", \"tap\", \"tap\", \"tap\", \"tap\", \"tap\", \"tap\", \"tap\", \"tap\", \"tap\", \"tap\", \"taste\", \"taste\", \"taste\", \"taste\", \"taste\", \"taste\", \"taste\", \"taste\", \"taste\", \"taste\", \"tell\", \"tell\", \"tell\", \"tell\", \"tell\", \"tell\", \"tell\", \"tell\", \"tell\", \"tell\", \"tendon\", \"tendon\", \"tendon\", \"tendon\", \"tendon\", \"tendon\", \"termite\", \"termite\", \"termite\", \"termite\", \"termite\", \"termite\", \"terrible\", \"terrible\", \"terrible\", \"terrible\", \"terrible\", \"terrible\", \"terrible\", \"terrible\", \"terrible\", \"terrible\", \"that\", \"that\", \"that\", \"that\", \"that\", \"that\", \"that\", \"that\", \"that\", \"that\", \"thats\", \"thats\", \"thats\", \"thats\", \"thats\", \"thats\", \"thats\", \"thats\", \"thats\", \"thats\", \"the\", \"the\", \"the\", \"the\", \"the\", \"the\", \"the\", \"the\", \"the\", \"the\", \"there\", \"there\", \"there\", \"there\", \"there\", \"there\", \"there\", \"there\", \"there\", \"there\", \"they\", \"they\", \"they\", \"they\", \"they\", \"they\", \"they\", \"they\", \"they\", \"they\", \"thing\", \"thing\", \"thing\", \"thing\", \"thing\", \"thing\", \"thing\", \"thing\", \"thing\", \"thing\", \"think\", \"think\", \"think\", \"think\", \"think\", \"think\", \"think\", \"think\", \"think\", \"think\", \"this\", \"this\", \"this\", \"this\", \"this\", \"this\", \"this\", \"this\", \"this\", \"this\", \"though\", \"though\", \"though\", \"though\", \"though\", \"though\", \"though\", \"though\", \"though\", \"though\", \"tikki\", \"tikki\", \"tikki\", \"time\", \"time\", \"time\", \"time\", \"time\", \"time\", \"time\", \"time\", \"time\", \"time\", \"times\", \"times\", \"times\", \"times\", \"times\", \"times\", \"times\", \"times\", \"times\", \"times\", \"today\", \"today\", \"today\", \"today\", \"today\", \"today\", \"today\", \"today\", \"today\", \"today\", \"told\", \"told\", \"told\", \"told\", \"told\", \"told\", \"told\", \"told\", \"told\", \"told\", \"towing\", \"towing\", \"towing\", \"towing\", \"towing\", \"towing\", \"towing\", \"towing\", \"towing\", \"towing\", \"towner\", \"treat\", \"treat\", \"treat\", \"treat\", \"treat\", \"treat\", \"treat\", \"treat\", \"treat\", \"treat\", \"tried\", \"tried\", \"tried\", \"tried\", \"tried\", \"tried\", \"tried\", \"tried\", \"tried\", \"tried\", \"try\", \"try\", \"try\", \"try\", \"try\", \"try\", \"try\", \"try\", \"try\", \"try\", \"understand\", \"understand\", \"understand\", \"understand\", \"understand\", \"understand\", \"understand\", \"understand\", \"understand\", \"understand\", \"unfriendly\", \"unfriendly\", \"unfriendly\", \"unfriendly\", \"unfriendly\", \"unfriendly\", \"unfriendly\", \"unfriendly\", \"unfriendly\", \"unfriendly\", \"use\", \"use\", \"use\", \"use\", \"use\", \"use\", \"use\", \"use\", \"use\", \"use\", \"usually\", \"usually\", \"usually\", \"usually\", \"usually\", \"usually\", \"usually\", \"usually\", \"usually\", \"usually\", \"variety\", \"variety\", \"variety\", \"variety\", \"variety\", \"variety\", \"variety\", \"variety\", \"variety\", \"variety\", \"vegas\", \"vegas\", \"vegas\", \"vegas\", \"vegas\", \"vegas\", \"vegas\", \"vegas\", \"vegas\", \"vegas\", \"very\", \"very\", \"very\", \"very\", \"very\", \"very\", \"very\", \"very\", \"very\", \"very\", \"village\", \"village\", \"village\", \"village\", \"village\", \"village\", \"village\", \"village\", \"village\", \"village\", \"vince\", \"visit\", \"visit\", \"visit\", \"visit\", \"visit\", \"visit\", \"visit\", \"visit\", \"visit\", \"visit\", \"wait\", \"wait\", \"wait\", \"wait\", \"wait\", \"wait\", \"wait\", \"wait\", \"wait\", \"wait\", \"want\", \"want\", \"want\", \"want\", \"want\", \"want\", \"want\", \"want\", \"want\", \"want\", \"wanted\", \"wanted\", \"wanted\", \"wanted\", \"wanted\", \"wanted\", \"wanted\", \"wanted\", \"wanted\", \"wanted\", \"was\", \"was\", \"was\", \"was\", \"was\", \"was\", \"was\", \"was\", \"was\", \"was\", \"wasnt\", \"wasnt\", \"wasnt\", \"wasnt\", \"wasnt\", \"wasnt\", \"wasnt\", \"wasnt\", \"wasnt\", \"wasnt\", \"way\", \"way\", \"way\", \"way\", \"way\", \"way\", \"way\", \"way\", \"way\", \"way\", \"we\", \"we\", \"we\", \"we\", \"we\", \"we\", \"we\", \"we\", \"we\", \"we\", \"well\", \"well\", \"well\", \"well\", \"well\", \"well\", \"well\", \"well\", \"well\", \"well\", \"went\", \"went\", \"went\", \"went\", \"went\", \"went\", \"went\", \"went\", \"went\", \"went\", \"when\", \"when\", \"when\", \"when\", \"when\", \"when\", \"when\", \"when\", \"when\", \"when\", \"wilkes\", \"window\", \"window\", \"window\", \"window\", \"window\", \"window\", \"window\", \"window\", \"window\", \"window\", \"woodmans\", \"woodmans\", \"woodmans\", \"woodmans\", \"woodmans\", \"woodmans\", \"woodmans\", \"woodmans\", \"woodmans\", \"work\", \"work\", \"work\", \"work\", \"work\", \"work\", \"work\", \"work\", \"work\", \"work\", \"worst\", \"worst\", \"worst\", \"worst\", \"worst\", \"worst\", \"worst\", \"worst\", \"worst\", \"worst\", \"yasmin\", \"yasmin\", \"ycs\", \"ycs\", \"ycs\", \"ycs\", \"ycs\", \"years\", \"years\", \"years\", \"years\", \"years\", \"years\", \"years\", \"years\", \"years\", \"years\", \"you\", \"you\", \"you\", \"you\", \"you\", \"you\", \"you\", \"you\", \"you\", \"you\", \"yuk\", \"yuk\", \"yuk\", \"yuk\", \"yuk\", \"yuk\", \"yuk\", \"yuk\", \"yuk\", \"yuk\", \"zero\", \"zero\", \"zero\", \"zero\", \"zero\", \"zero\", \"zero\", \"zero\", \"zero\", \"zero\", \"zoey\"]}, \"R\": 30, \"lambda.step\": 0.01, \"plot.opts\": {\"xlab\": \"PC1\", \"ylab\": \"PC2\"}, \"topic.order\": [3, 2, 8, 7, 5, 10, 1, 6, 9, 4]};\n",
       "\n",
       "function LDAvis_load_lib(url, callback){\n",
       "  var s = document.createElement('script');\n",
       "  s.src = url;\n",
       "  s.async = true;\n",
       "  s.onreadystatechange = s.onload = callback;\n",
       "  s.onerror = function(){console.warn(\"failed to load library \" + url);};\n",
       "  document.getElementsByTagName(\"head\")[0].appendChild(s);\n",
       "}\n",
       "\n",
       "if(typeof(LDAvis) !== \"undefined\"){\n",
       "   // already loaded: just create the visualization\n",
       "   !function(LDAvis){\n",
       "       new LDAvis(\"#\" + \"ldavis_el2962825672322205204120759604\", ldavis_el2962825672322205204120759604_data);\n",
       "   }(LDAvis);\n",
       "}else if(typeof define === \"function\" && define.amd){\n",
       "   // require.js is available: use it to load d3/LDAvis\n",
       "   require.config({paths: {d3: \"https://cdnjs.cloudflare.com/ajax/libs/d3/3.5.5/d3.min\"}});\n",
       "   require([\"d3\"], function(d3){\n",
       "      window.d3 = d3;\n",
       "      LDAvis_load_lib(\"https://cdn.rawgit.com/bmabey/pyLDAvis/files/ldavis.v1.0.0.js\", function(){\n",
       "        new LDAvis(\"#\" + \"ldavis_el2962825672322205204120759604\", ldavis_el2962825672322205204120759604_data);\n",
       "      });\n",
       "    });\n",
       "}else{\n",
       "    // require.js not available: dynamically load d3 & LDAvis\n",
       "    LDAvis_load_lib(\"https://cdnjs.cloudflare.com/ajax/libs/d3/3.5.5/d3.min.js\", function(){\n",
       "         LDAvis_load_lib(\"https://cdn.rawgit.com/bmabey/pyLDAvis/files/ldavis.v1.0.0.js\", function(){\n",
       "                 new LDAvis(\"#\" + \"ldavis_el2962825672322205204120759604\", ldavis_el2962825672322205204120759604_data);\n",
       "            })\n",
       "         });\n",
       "}\n",
       "</script>"
      ],
      "text/plain": [
       "PreparedData(topic_coordinates=              x         y  topics  cluster       Freq\n",
       "topic                                                \n",
       "2     -0.000128 -0.001896       1        1  10.600328\n",
       "1      0.005189  0.000025       2        1  10.436127\n",
       "7      0.001166  0.001347       3        1  10.198382\n",
       "6     -0.001263 -0.003545       4        1  10.144847\n",
       "4      0.001259 -0.000663       5        1  10.142667\n",
       "9      0.002267  0.000458       6        1   9.855187\n",
       "0      0.000076  0.003199       7        1   9.854435\n",
       "5     -0.003017 -0.001571       8        1   9.765849\n",
       "8     -0.001891 -0.001082       9        1   9.673921\n",
       "3     -0.003660  0.003729      10        1   9.328251, topic_info=     Category          Freq        Term         Total  loglift  logprob\n",
       "61    Default  14536.000000              14536.000000  30.0000  30.0000\n",
       "40    Default   9213.000000         the   9213.000000  29.0000  29.0000\n",
       "246   Default   4046.000000       great   4046.000000  28.0000  28.0000\n",
       "55    Default   3460.000000     service   3460.000000  27.0000  27.0000\n",
       "42    Default   3234.000000        time   3234.000000  26.0000  26.0000\n",
       "922   Default   2694.000000         its   2694.000000  25.0000  25.0000\n",
       "48    Default   4525.000000        good   4525.000000  24.0000  24.0000\n",
       "154   Default   4555.000000       place   4555.000000  23.0000  23.0000\n",
       "217   Default   1102.000000   recommend   1102.000000  22.0000  22.0000\n",
       "89    Default   1962.000000         got   1962.000000  21.0000  21.0000\n",
       "754   Default   1358.000000  restaurant   1358.000000  20.0000  20.0000\n",
       "166   Default    794.000000         bit    794.000000  19.0000  19.0000\n",
       "159   Default   3400.000000          we   3400.000000  18.0000  18.0000\n",
       "173   Default   4734.000000        food   4734.000000  17.0000  17.0000\n",
       "152   Default   1322.000000      people   1322.000000  16.0000  16.0000\n",
       "236   Default   1884.000000        dont   1884.000000  15.0000  15.0000\n",
       "104   Default   1834.000000          my   1834.000000  14.0000  14.0000\n",
       "1440  Default   1464.000000     ordered   1464.000000  13.0000  13.0000\n",
       "852   Default   1587.000000        love   1587.000000  12.0000  12.0000\n",
       "411   Default   1384.000000  definitely   1384.000000  11.0000  11.0000\n",
       "597   Default   1087.000000          so   1087.000000  10.0000  10.0000\n",
       "44    Default    960.000000        wait    960.000000   9.0000   9.0000\n",
       "580   Default    622.000000      prices    622.000000   8.0000   8.0000\n",
       "45    Default   1470.000000        came   1470.000000   7.0000   7.0000\n",
       "438   Default   1334.000000      little   1334.000000   6.0000   6.0000\n",
       "57    Default   1492.000000       staff   1492.000000   5.0000   5.0000\n",
       "165   Default    872.000000         bar    872.000000   4.0000   4.0000\n",
       "444   Default   1478.000000       order   1478.000000   3.0000   3.0000\n",
       "143   Default   1652.000000        best   1652.000000   2.0000   2.0000\n",
       "725   Default    752.000000           a    752.000000   1.0000   1.0000\n",
       "...       ...           ...         ...           ...      ...      ...\n",
       "246   Topic10    432.208282       great   4046.016602   0.1355  -4.8430\n",
       "45    Topic10    171.993011        came   1470.838257   0.2260  -5.7645\n",
       "217   Topic10    130.853867   recommend   1102.570190   0.2408  -6.0378\n",
       "945   Topic10     94.790810           3    775.421082   0.2704  -6.3602\n",
       "863   Topic10     60.115749   selection    470.015900   0.3156  -6.8156\n",
       "251   Topic10    403.270966          it   4029.644287   0.0703  -4.9123\n",
       "360   Topic10    116.902863        want   1008.052856   0.2177  -6.1506\n",
       "276   Topic10    122.646454         way   1075.979370   0.2004  -6.1026\n",
       "357   Topic10    148.440002         try   1357.877441   0.1586  -5.9117\n",
       "152   Topic10    144.688782      people   1322.425049   0.1595  -5.9373\n",
       "61    Topic10   1089.631714              14536.583984  -0.2187  -3.9183\n",
       "94    Topic10    154.670319         ive   1473.188354   0.1182  -5.8706\n",
       "40    Topic10    682.656616         the   9213.521484  -0.2303  -4.3859\n",
       "154   Topic10    378.859375       place   4555.527344  -0.1148  -4.9748\n",
       "922   Topic10    240.590637         its   2694.457520  -0.0437  -5.4288\n",
       "213   Topic10    127.894333        menu   1199.547852   0.1336  -6.0607\n",
       "48    Topic10    355.884125        good   4525.115723  -0.1707  -5.0373\n",
       "404   Topic10    142.830643        come   1387.005737   0.0989  -5.9503\n",
       "47    Topic10    135.585709    friendly   1305.519897   0.1074  -6.0023\n",
       "245   Topic10    119.251076       going   1112.146729   0.1393  -6.1307\n",
       "36    Topic10    121.908676        said   1147.061401   0.1304  -6.1086\n",
       "470   Topic10    198.001389        they   2377.839355  -0.1136  -5.6236\n",
       "41    Topic10    192.542358        this   2366.696289  -0.1368  -5.6516\n",
       "173   Topic10    303.167206        food   4734.688965  -0.3763  -5.1976\n",
       "236   Topic10    157.308472        dont   1884.889282  -0.1113  -5.8537\n",
       "143   Topic10    144.245102        best   1652.045776  -0.0661  -5.9404\n",
       "55    Topic10    196.274628     service   3460.132324  -0.4974  -5.6324\n",
       "104   Topic10    148.248672          my   1834.726807  -0.1436  -5.9130\n",
       "411   Topic10    127.625092  definitely   1384.438354  -0.0118  -6.0628\n",
       "1440  Topic10    125.219841     ordered   1464.118896  -0.0868  -6.0818\n",
       "\n",
       "[861 rows x 6 columns], token_table=       Topic      Freq  Term\n",
       "term                        \n",
       "61         1  0.121555      \n",
       "61         2  0.114195      \n",
       "61         3  0.104564      \n",
       "61         4  0.101331      \n",
       "61         5  0.115846      \n",
       "61         6  0.125614      \n",
       "61         7  0.084820      \n",
       "61         8  0.076497      \n",
       "61         9  0.080624      \n",
       "61        10  0.074983      \n",
       "365        1  0.139641    10\n",
       "365        2  0.092409    10\n",
       "365        3  0.086249    10\n",
       "365        4  0.133480    10\n",
       "365        5  0.088302    10\n",
       "365        6  0.098570    10\n",
       "365        7  0.075981    10\n",
       "365        8  0.104730    10\n",
       "365        9  0.114998    10\n",
       "365       10  0.067767    10\n",
       "161        1  0.093563    15\n",
       "161        2  0.111556    15\n",
       "161        3  0.107957    15\n",
       "161        4  0.100760    15\n",
       "161        5  0.093563    15\n",
       "161        6  0.082767    15\n",
       "161        7  0.089964    15\n",
       "161        8  0.154739    15\n",
       "161        9  0.086366    15\n",
       "161       10  0.082767    15\n",
       "...      ...       ...   ...\n",
       "387        2  0.099258   you\n",
       "387        3  0.102651   you\n",
       "387        4  0.088229   you\n",
       "387        5  0.078897   you\n",
       "387        6  0.126405   you\n",
       "387        7  0.087381   you\n",
       "387        8  0.090774   you\n",
       "387        9  0.097561   you\n",
       "387       10  0.125557   you\n",
       "14979      1  0.046878   yuk\n",
       "14979      2  0.140634   yuk\n",
       "14979      3  0.304708   yuk\n",
       "14979      4  0.023439   yuk\n",
       "14979      5  0.093756   yuk\n",
       "14979      6  0.046878   yuk\n",
       "14979      7  0.046878   yuk\n",
       "14979      8  0.046878   yuk\n",
       "14979      9  0.140634   yuk\n",
       "14979     10  0.140634   yuk\n",
       "3372       1  0.098372  zero\n",
       "3372       2  0.084319  zero\n",
       "3372       3  0.084319  zero\n",
       "3372       4  0.098372  zero\n",
       "3372       5  0.126479  zero\n",
       "3372       6  0.154585  zero\n",
       "3372       7  0.084319  zero\n",
       "3372       8  0.084319  zero\n",
       "3372       9  0.070266  zero\n",
       "3372      10  0.084319  zero\n",
       "26900      3  0.350989  zoey\n",
       "\n",
       "[2627 rows x 3 columns], R=30, lambda_step=0.01, plot_opts={'xlab': 'PC1', 'ylab': 'PC2'}, topic_order=[3, 2, 8, 7, 5, 10, 1, 6, 9, 4])"
      ]
     },
     "execution_count": 60,
     "metadata": {},
     "output_type": "execute_result"
    }
   ],
   "source": [
    "pyLDAvis.gensim.prepare(lda, corpus, id2word)"
   ]
  },
  {
   "cell_type": "markdown",
   "metadata": {},
   "source": [
    "Had some trouble getting certain words out and couldn't do so due to time constraints.\n",
    "\n",
    "The model seems to pick out sentiment in a hit or miss fashion (which is usually how yelpers review so I\n",
    "don't believe it is accurate beyond a coin toss). This is unfortunate but I'm sure that, with a little tuning,\n",
    "I can get this puppy predicting ratings properly."
   ]
  },
  {
   "cell_type": "markdown",
   "metadata": {},
   "source": [
    "## Stretch Goals\n",
    "\n",
    "Complete one of more of these to push your score towards a three: \n",
    "* Incorporate named entity recognition into your analysis\n",
    "* Compare vectorization methods in the classification section\n",
    "* Analyze more (or all) of the yelp dataset - this one is v. hard. \n",
    "* Use a generator object on the reviews file - this would help you with the analyzing the whole dataset.\n",
    "* Incorporate any of the other yelp dataset entities in your analysis (business, users, etc.)"
   ]
  }
 ],
 "metadata": {
  "kernel_info": {
   "name": "u4-s1-nlp"
  },
  "kernelspec": {
   "display_name": "U4-S1-M1 (Python3)",
   "language": "python",
   "name": "u4-s1-m1"
  },
  "language_info": {
   "codemirror_mode": {
    "name": "ipython",
    "version": 3
   },
   "file_extension": ".py",
   "mimetype": "text/x-python",
   "name": "python",
   "nbconvert_exporter": "python",
   "pygments_lexer": "ipython3",
   "version": "3.7.3"
  },
  "nteract": {
   "version": "0.14.5"
  },
  "toc-autonumbering": false
 },
 "nbformat": 4,
 "nbformat_minor": 4
}
