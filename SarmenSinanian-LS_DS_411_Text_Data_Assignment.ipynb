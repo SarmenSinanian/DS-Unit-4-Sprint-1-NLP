{
 "cells": [
  {
   "cell_type": "markdown",
   "metadata": {},
   "source": [
    "<img align=\"left\" src=\"https://lever-client-logos.s3.amazonaws.com/864372b1-534c-480e-acd5-9711f850815c-1524247202159.png\" width=200>\n",
    "<br></br>\n",
    "<br></br>\n",
    "\n",
    "# Natural Language Processing (NLP)\n",
    "## *Data Science Unit 4 Sprint 1 Assignment 1*\n",
    "\n",
    "Your goal in assignment: find the attributes of the best & worst coffee shops in the dataset. The text is fairly raw: dates in the review, extra words in the `star_rating` column, etc. You'll probably want to clean that stuff up for a better analysis. \n",
    "\n",
    "Analyze the corpus of text using text visualizations of token frequency. Try cleaning the data as much as possible. Try the following techniques: \n",
    "- Lemmatization\n",
    "- Custom stopword removal\n",
    "\n",
    "Keep in mind the attributes of good tokens. Once you have a solid baseline, layer in the star rating in your visualization(s). Keep part (key part?) in this assignment - produce a write-up of the attributes of the best and worst coffee shops. Based on your analysis, what makes the best the best and the worst the worst. Use graphs and numbers from your analysis to support your conclusions. There should be plenty of markdown cells! :coffee:\n",
    "\n",
    "\n",
    "\n",
    "Imagine you are a consultant that your assigned coffee shop has hired to provide recommendations on how improve their Yelp rating. You will present your recommendations to your TL (coffeeshop owner/manager) tomorrow during your 1:1. Give  your recommendations in a 3-5 slide presentation with supporting graphs and analysis. Here are a couple suggested questions to address in your presentation:\n",
    "1. How is the coffee shop doing overall (in terms of Yelp reviews)?\n",
    "2. What is the coffee shop doing well? - How does that compare to competitors?\n",
    "3. What is the coffee shop not doing well? - How does that compare to competitors?\n",
    "4. What are the recommendations for improving? (Summary / Conclusion)\n",
    "• Try to address one question for a number above.\n",
    "• Make sure to include plenty of charts & graphs :chart_with_upwards_trend: :bar_chart:\n",
    "• Include a title slide the the name of your coffeeshop and your name (and a presentation title)\n",
    "• Try to keep your presentation under 8 minutes."
   ]
  },
  {
   "cell_type": "code",
   "execution_count": 1,
   "metadata": {},
   "outputs": [
    {
     "data": {
      "image/jpeg": "[encoded data removed]",
      "text/html": [
       "\n",
       "        <iframe\n",
       "            width=\"400\"\n",
       "            height=\"300\"\n",
       "            src=\"https://www.youtube.com/embed/Jml7NVYm8cs\"\n",
       "            frameborder=\"0\"\n",
       "            allowfullscreen\n",
       "        ></iframe>\n",
       "        "
      ],
      "text/plain": [
       "<IPython.lib.display.YouTubeVideo at 0x2819f7ae710>"
      ]
     },
     "execution_count": 1,
     "metadata": {},
     "output_type": "execute_result"
    }
   ],
   "source": [
    "from IPython.display import YouTubeVideo\n",
    "\n",
    "YouTubeVideo('Jml7NVYm8cs')"
   ]
  },
  {
   "cell_type": "code",
   "execution_count": 2,
   "metadata": {},
   "outputs": [
    {
     "data": {
      "text/plain": [
       "'E:\\\\Desktop\\\\Lambda_School\\\\Github Repos\\\\DS-Unit-4-Sprint-1-NLP\\\\module1-text-data'"
      ]
     },
     "execution_count": 2,
     "metadata": {},
     "output_type": "execute_result"
    }
   ],
   "source": [
    "%pwd"
   ]
  },
  {
   "cell_type": "code",
   "execution_count": 3,
   "metadata": {},
   "outputs": [
    {
     "data": {
      "text/html": [
       "<div>\n",
       "<style scoped>\n",
       "    .dataframe tbody tr th:only-of-type {\n",
       "        vertical-align: middle;\n",
       "    }\n",
       "\n",
       "    .dataframe tbody tr th {\n",
       "        vertical-align: top;\n",
       "    }\n",
       "\n",
       "    .dataframe thead th {\n",
       "        text-align: right;\n",
       "    }\n",
       "</style>\n",
       "<table border=\"1\" class=\"dataframe\">\n",
       "  <thead>\n",
       "    <tr style=\"text-align: right;\">\n",
       "      <th></th>\n",
       "      <th>coffee_shop_name</th>\n",
       "      <th>full_review_text</th>\n",
       "      <th>star_rating</th>\n",
       "    </tr>\n",
       "  </thead>\n",
       "  <tbody>\n",
       "    <tr>\n",
       "      <th>0</th>\n",
       "      <td>The Factory - Cafe With a Soul</td>\n",
       "      <td>11/25/2016 1 check-in Love love loved the atm...</td>\n",
       "      <td>5.0 star rating</td>\n",
       "    </tr>\n",
       "  </tbody>\n",
       "</table>\n",
       "</div>"
      ],
      "text/plain": [
       "                  coffee_shop_name  \\\n",
       "0  The Factory - Cafe With a Soul    \n",
       "\n",
       "                                    full_review_text        star_rating  \n",
       "0   11/25/2016 1 check-in Love love loved the atm...   5.0 star rating   "
      ]
     },
     "execution_count": 3,
     "metadata": {},
     "output_type": "execute_result"
    }
   ],
   "source": [
    "import pandas as pd\n",
    "\n",
    "url = \"https://raw.githubusercontent.com/LambdaSchool/DS-Unit-4-Sprint-1-NLP/master/module1-text-data/data/yelp_coffeeshop_review_data.csv\"\n",
    "\n",
    "shops = pd.read_csv(url)\n",
    "shops.head(1)"
   ]
  },
  {
   "cell_type": "code",
   "execution_count": 4,
   "metadata": {},
   "outputs": [],
   "source": [
    "# shops['star_rating'].replace(\"star rating\", \"\", inplace=True)\n",
    "# Removes the words \" star rating\" from right side of the text within the \"star_rating\" column\n",
    "shops['star_rating'] = shops['star_rating'].map(lambda x: x.rstrip(' star rating'))"
   ]
  },
  {
   "cell_type": "code",
   "execution_count": 5,
   "metadata": {},
   "outputs": [],
   "source": [
    "# Removes ALL date/time patterns from a text column\n",
    "shops['full_review_text'].replace(\n",
    "    {'\\d+[\\/:\\-]\\d+[\\/:\\-\\s]*[\\dAaPpMm]*' : ' ', '\\w+\\s\\d+[\\,]\\s\\d+' : ' '},\n",
    "    regex=True,\n",
    "    inplace=True,\n",
    "    )"
   ]
  },
  {
   "cell_type": "code",
   "execution_count": 6,
   "metadata": {},
   "outputs": [
    {
     "data": {
      "text/html": [
       "<div>\n",
       "<style scoped>\n",
       "    .dataframe tbody tr th:only-of-type {\n",
       "        vertical-align: middle;\n",
       "    }\n",
       "\n",
       "    .dataframe tbody tr th {\n",
       "        vertical-align: top;\n",
       "    }\n",
       "\n",
       "    .dataframe thead th {\n",
       "        text-align: right;\n",
       "    }\n",
       "</style>\n",
       "<table border=\"1\" class=\"dataframe\">\n",
       "  <thead>\n",
       "    <tr style=\"text-align: right;\">\n",
       "      <th></th>\n",
       "      <th>coffee_shop_name</th>\n",
       "      <th>full_review_text</th>\n",
       "      <th>star_rating</th>\n",
       "    </tr>\n",
       "  </thead>\n",
       "  <tbody>\n",
       "    <tr>\n",
       "      <th>0</th>\n",
       "      <td>The Factory - Cafe With a Soul</td>\n",
       "      <td>1 check-in Love love loved the atmosphere! ...</td>\n",
       "      <td>5.0</td>\n",
       "    </tr>\n",
       "    <tr>\n",
       "      <th>1</th>\n",
       "      <td>The Factory - Cafe With a Soul</td>\n",
       "      <td>Listed in Date Night: Austin, Ambiance in A...</td>\n",
       "      <td>4.0</td>\n",
       "    </tr>\n",
       "    <tr>\n",
       "      <th>2</th>\n",
       "      <td>The Factory - Cafe With a Soul</td>\n",
       "      <td>1 check-in Listed in Brunch Spots I loved t...</td>\n",
       "      <td>4.0</td>\n",
       "    </tr>\n",
       "    <tr>\n",
       "      <th>3</th>\n",
       "      <td>The Factory - Cafe With a Soul</td>\n",
       "      <td>Very cool decor! Good drinks Nice seating  ...</td>\n",
       "      <td>2.0</td>\n",
       "    </tr>\n",
       "    <tr>\n",
       "      <th>4</th>\n",
       "      <td>The Factory - Cafe With a Soul</td>\n",
       "      <td>1 check-in They are located within the Nort...</td>\n",
       "      <td>4.0</td>\n",
       "    </tr>\n",
       "  </tbody>\n",
       "</table>\n",
       "</div>"
      ],
      "text/plain": [
       "                  coffee_shop_name  \\\n",
       "0  The Factory - Cafe With a Soul    \n",
       "1  The Factory - Cafe With a Soul    \n",
       "2  The Factory - Cafe With a Soul    \n",
       "3  The Factory - Cafe With a Soul    \n",
       "4  The Factory - Cafe With a Soul    \n",
       "\n",
       "                                    full_review_text star_rating  \n",
       "0     1 check-in Love love loved the atmosphere! ...         5.0  \n",
       "1     Listed in Date Night: Austin, Ambiance in A...         4.0  \n",
       "2     1 check-in Listed in Brunch Spots I loved t...         4.0  \n",
       "3     Very cool decor! Good drinks Nice seating  ...         2.0  \n",
       "4     1 check-in They are located within the Nort...         4.0  "
      ]
     },
     "execution_count": 6,
     "metadata": {},
     "output_type": "execute_result"
    }
   ],
   "source": [
    "shops.head()"
   ]
  },
  {
   "cell_type": "code",
   "execution_count": 7,
   "metadata": {},
   "outputs": [
    {
     "data": {
      "text/html": [
       "<div>\n",
       "<style scoped>\n",
       "    .dataframe tbody tr th:only-of-type {\n",
       "        vertical-align: middle;\n",
       "    }\n",
       "\n",
       "    .dataframe tbody tr th {\n",
       "        vertical-align: top;\n",
       "    }\n",
       "\n",
       "    .dataframe thead th {\n",
       "        text-align: right;\n",
       "    }\n",
       "</style>\n",
       "<table border=\"1\" class=\"dataframe\">\n",
       "  <thead>\n",
       "    <tr style=\"text-align: right;\">\n",
       "      <th></th>\n",
       "      <th>coffee_shop_name</th>\n",
       "      <th>full_review_text</th>\n",
       "      <th>star_rating</th>\n",
       "    </tr>\n",
       "  </thead>\n",
       "  <tbody>\n",
       "    <tr>\n",
       "      <th>7611</th>\n",
       "      <td>The Steeping Room</td>\n",
       "      <td>I actually step into this restaurant by cha...</td>\n",
       "      <td>4.0</td>\n",
       "    </tr>\n",
       "    <tr>\n",
       "      <th>7612</th>\n",
       "      <td>The Steeping Room</td>\n",
       "      <td>Ok, The Steeping Room IS awesome. How do th...</td>\n",
       "      <td>5.0</td>\n",
       "    </tr>\n",
       "    <tr>\n",
       "      <th>7613</th>\n",
       "      <td>The Steeping Room</td>\n",
       "      <td>Loved coming here for tea, and the atmosphe...</td>\n",
       "      <td>4.0</td>\n",
       "    </tr>\n",
       "    <tr>\n",
       "      <th>7614</th>\n",
       "      <td>The Steeping Room</td>\n",
       "      <td>The food is just average. The booths didn't...</td>\n",
       "      <td>3.0</td>\n",
       "    </tr>\n",
       "    <tr>\n",
       "      <th>7615</th>\n",
       "      <td>The Steeping Room</td>\n",
       "      <td>I finally stopped in for lunch with my coll...</td>\n",
       "      <td>4.0</td>\n",
       "    </tr>\n",
       "  </tbody>\n",
       "</table>\n",
       "</div>"
      ],
      "text/plain": [
       "        coffee_shop_name                                   full_review_text  \\\n",
       "7611  The Steeping Room      I actually step into this restaurant by cha...   \n",
       "7612  The Steeping Room      Ok, The Steeping Room IS awesome. How do th...   \n",
       "7613  The Steeping Room      Loved coming here for tea, and the atmosphe...   \n",
       "7614  The Steeping Room      The food is just average. The booths didn't...   \n",
       "7615  The Steeping Room      I finally stopped in for lunch with my coll...   \n",
       "\n",
       "     star_rating  \n",
       "7611         4.0  \n",
       "7612         5.0  \n",
       "7613         4.0  \n",
       "7614         3.0  \n",
       "7615         4.0  "
      ]
     },
     "execution_count": 7,
     "metadata": {},
     "output_type": "execute_result"
    }
   ],
   "source": [
    "shops.tail()"
   ]
  },
  {
   "cell_type": "code",
   "execution_count": 8,
   "metadata": {},
   "outputs": [
    {
     "data": {
      "text/plain": [
       "Epoch Coffee                       400\n",
       "Halcyon                            300\n",
       "The Factory - Cafe With a Soul     244\n",
       "Houndstooth Coffee                 200\n",
       "Venezia Italian Gelato             200\n",
       "Name: coffee_shop_name, dtype: int64"
      ]
     },
     "execution_count": 8,
     "metadata": {},
     "output_type": "execute_result"
    }
   ],
   "source": [
    "shops['coffee_shop_name'].value_counts().head()"
   ]
  },
  {
   "cell_type": "code",
   "execution_count": 9,
   "metadata": {},
   "outputs": [],
   "source": [
    "h = shops[shops['coffee_shop_name'].str.contains('Halcyon')]"
   ]
  },
  {
   "cell_type": "code",
   "execution_count": 10,
   "metadata": {},
   "outputs": [
    {
     "data": {
      "text/html": [
       "<div>\n",
       "<style scoped>\n",
       "    .dataframe tbody tr th:only-of-type {\n",
       "        vertical-align: middle;\n",
       "    }\n",
       "\n",
       "    .dataframe tbody tr th {\n",
       "        vertical-align: top;\n",
       "    }\n",
       "\n",
       "    .dataframe thead th {\n",
       "        text-align: right;\n",
       "    }\n",
       "</style>\n",
       "<table border=\"1\" class=\"dataframe\">\n",
       "  <thead>\n",
       "    <tr style=\"text-align: right;\">\n",
       "      <th></th>\n",
       "      <th>coffee_shop_name</th>\n",
       "      <th>full_review_text</th>\n",
       "      <th>star_rating</th>\n",
       "    </tr>\n",
       "  </thead>\n",
       "  <tbody>\n",
       "    <tr>\n",
       "      <th>3006</th>\n",
       "      <td>Halcyon</td>\n",
       "      <td>1 check-in I was craving smores all day and...</td>\n",
       "      <td>4.0</td>\n",
       "    </tr>\n",
       "    <tr>\n",
       "      <th>3007</th>\n",
       "      <td>Halcyon</td>\n",
       "      <td>1 check-in Listed in ATX The vibe in here i...</td>\n",
       "      <td>2.0</td>\n",
       "    </tr>\n",
       "    <tr>\n",
       "      <th>3008</th>\n",
       "      <td>Halcyon</td>\n",
       "      <td>This is based on experiencing multiple side...</td>\n",
       "      <td>2.0</td>\n",
       "    </tr>\n",
       "    <tr>\n",
       "      <th>3009</th>\n",
       "      <td>Halcyon</td>\n",
       "      <td>1 check-in Heard good things about Halcyon,...</td>\n",
       "      <td>5.0</td>\n",
       "    </tr>\n",
       "    <tr>\n",
       "      <th>3010</th>\n",
       "      <td>Halcyon</td>\n",
       "      <td>Out for my own personal coffee tour of down...</td>\n",
       "      <td>3.0</td>\n",
       "    </tr>\n",
       "  </tbody>\n",
       "</table>\n",
       "</div>"
      ],
      "text/plain": [
       "     coffee_shop_name                                   full_review_text  \\\n",
       "3006         Halcyon      1 check-in I was craving smores all day and...   \n",
       "3007         Halcyon      1 check-in Listed in ATX The vibe in here i...   \n",
       "3008         Halcyon      This is based on experiencing multiple side...   \n",
       "3009         Halcyon      1 check-in Heard good things about Halcyon,...   \n",
       "3010         Halcyon      Out for my own personal coffee tour of down...   \n",
       "\n",
       "     star_rating  \n",
       "3006         4.0  \n",
       "3007         2.0  \n",
       "3008         2.0  \n",
       "3009         5.0  \n",
       "3010         3.0  "
      ]
     },
     "execution_count": 10,
     "metadata": {},
     "output_type": "execute_result"
    }
   ],
   "source": [
    "h.head()"
   ]
  },
  {
   "cell_type": "code",
   "execution_count": 11,
   "metadata": {},
   "outputs": [
    {
     "data": {
      "text/plain": [
       "(300, 3)"
      ]
     },
     "execution_count": 11,
     "metadata": {},
     "output_type": "execute_result"
    }
   ],
   "source": [
    "h.shape"
   ]
  },
  {
   "cell_type": "markdown",
   "metadata": {},
   "source": [
    "Analyze the corpus of text using text visualizations of token frequency. Try cleaning the data as much as possible. Try the following techniques: \n",
    "- Lemmatization\n",
    "- Custom stopword removal\n",
    "\n",
    "\n",
    "Keep in mind the attributes of good tokens. Once you have a solid baseline, layer in the star rating in your visualization(s). Keep part (key part?) in this assignment - produce a write-up of the attributes of the best and worst coffee shops. Based on your analysis, what makes the best the best and the worst the worst. Use graphs and numbers from your analysis to support your conclusions. There should be plenty of markdown cells! :coffee:\n",
    "​\n",
    "​\n",
    "​\n",
    "Imagine you are a consultant that your assigned coffee shop has hired to provide recommendations on how improve their Yelp rating. You will present your recommendations to your TL (coffeeshop owner/manager) tomorrow during your 1:1. Give  your recommendations in a 3-5 slide presentation with supporting graphs and analysis. Here are a couple suggested questions to address in your presentation:\n",
    "1. How is the coffee shop doing overall (in terms of Yelp reviews)?\n",
    "2. What is the coffee shop doing well? - How does that compare to competitors?\n",
    "3. What is the coffee shop not doing well? - How does that compare to competitors?\n",
    "4. What are the recommendations for improving? (Summary / Conclusion)\n",
    "• Try to address one question for a number above.\n",
    "• Make sure to include plenty of charts & graphs :chart_with_upwards_trend: :bar_chart:\n",
    "• Include a title slide the the name of your coffeeshop and your name (and a presentation title)\n",
    "• Try to keep your presentation under 8 minutes."
   ]
  },
  {
   "cell_type": "code",
   "execution_count": 12,
   "metadata": {},
   "outputs": [],
   "source": [
    "import spacy\n",
    "from spacy.tokenizer import Tokenizer\n",
    "from nltk.stem import PorterStemmer"
   ]
  },
  {
   "cell_type": "code",
   "execution_count": 13,
   "metadata": {},
   "outputs": [],
   "source": [
    "nlp = spacy.load(\"en_core_web_lg\")"
   ]
  },
  {
   "cell_type": "code",
   "execution_count": 14,
   "metadata": {},
   "outputs": [
    {
     "data": {
      "text/html": [
       "<div>\n",
       "<style scoped>\n",
       "    .dataframe tbody tr th:only-of-type {\n",
       "        vertical-align: middle;\n",
       "    }\n",
       "\n",
       "    .dataframe tbody tr th {\n",
       "        vertical-align: top;\n",
       "    }\n",
       "\n",
       "    .dataframe thead th {\n",
       "        text-align: right;\n",
       "    }\n",
       "</style>\n",
       "<table border=\"1\" class=\"dataframe\">\n",
       "  <thead>\n",
       "    <tr style=\"text-align: right;\">\n",
       "      <th></th>\n",
       "      <th>coffee_shop_name</th>\n",
       "      <th>full_review_text</th>\n",
       "      <th>star_rating</th>\n",
       "    </tr>\n",
       "  </thead>\n",
       "  <tbody>\n",
       "    <tr>\n",
       "      <th>3006</th>\n",
       "      <td>Halcyon</td>\n",
       "      <td>1 check-in I was craving smores all day and...</td>\n",
       "      <td>4.0</td>\n",
       "    </tr>\n",
       "    <tr>\n",
       "      <th>3007</th>\n",
       "      <td>Halcyon</td>\n",
       "      <td>1 check-in Listed in ATX The vibe in here i...</td>\n",
       "      <td>2.0</td>\n",
       "    </tr>\n",
       "    <tr>\n",
       "      <th>3008</th>\n",
       "      <td>Halcyon</td>\n",
       "      <td>This is based on experiencing multiple side...</td>\n",
       "      <td>2.0</td>\n",
       "    </tr>\n",
       "    <tr>\n",
       "      <th>3009</th>\n",
       "      <td>Halcyon</td>\n",
       "      <td>1 check-in Heard good things about Halcyon,...</td>\n",
       "      <td>5.0</td>\n",
       "    </tr>\n",
       "    <tr>\n",
       "      <th>3010</th>\n",
       "      <td>Halcyon</td>\n",
       "      <td>Out for my own personal coffee tour of down...</td>\n",
       "      <td>3.0</td>\n",
       "    </tr>\n",
       "  </tbody>\n",
       "</table>\n",
       "</div>"
      ],
      "text/plain": [
       "     coffee_shop_name                                   full_review_text  \\\n",
       "3006         Halcyon      1 check-in I was craving smores all day and...   \n",
       "3007         Halcyon      1 check-in Listed in ATX The vibe in here i...   \n",
       "3008         Halcyon      This is based on experiencing multiple side...   \n",
       "3009         Halcyon      1 check-in Heard good things about Halcyon,...   \n",
       "3010         Halcyon      Out for my own personal coffee tour of down...   \n",
       "\n",
       "     star_rating  \n",
       "3006         4.0  \n",
       "3007         2.0  \n",
       "3008         2.0  \n",
       "3009         5.0  \n",
       "3010         3.0  "
      ]
     },
     "execution_count": 14,
     "metadata": {},
     "output_type": "execute_result"
    }
   ],
   "source": [
    "h.head()"
   ]
  },
  {
   "cell_type": "code",
   "execution_count": 15,
   "metadata": {},
   "outputs": [],
   "source": [
    "import re\n",
    "\n",
    "def tokenize(text):\n",
    "    \"\"\"Parses a string into a list of semantic units (words)\n",
    "\n",
    "    Args:\n",
    "        text (str): The string that the function will tokenize.\n",
    "\n",
    "    Returns:\n",
    "        list: tokens parsed out by the mechanics of your choice\n",
    "    \"\"\"\n",
    "    \n",
    "    tokens = re.sub(r'[^a-zA-Z ^0-9]', '', text)\n",
    "    tokens = tokens.lower().split()\n",
    "    \n",
    "    return tokens"
   ]
  },
  {
   "cell_type": "code",
   "execution_count": 16,
   "metadata": {},
   "outputs": [
    {
     "name": "stderr",
     "output_type": "stream",
     "text": [
      "C:\\Users\\Sarmen\\.conda\\envs\\U4-S1-M1\\lib\\site-packages\\ipykernel_launcher.py:1: SettingWithCopyWarning: \n",
      "A value is trying to be set on a copy of a slice from a DataFrame.\n",
      "Try using .loc[row_indexer,col_indexer] = value instead\n",
      "\n",
      "See the caveats in the documentation: http://pandas.pydata.org/pandas-docs/stable/indexing.html#indexing-view-versus-copy\n",
      "  \"\"\"Entry point for launching an IPython kernel.\n"
     ]
    }
   ],
   "source": [
    "h['tokens'] = h['full_review_text'].apply(tokenize)"
   ]
  },
  {
   "cell_type": "code",
   "execution_count": 17,
   "metadata": {},
   "outputs": [
    {
     "data": {
      "text/plain": [
       "3006    [1, checkin, i, was, craving, smores, all, day...\n",
       "3007    [1, checkin, listed, in, atx, the, vibe, in, h...\n",
       "3008    [this, is, based, on, experiencing, multiple, ...\n",
       "3009    [1, checkin, heard, good, things, about, halcy...\n",
       "3010    [out, for, my, own, personal, coffee, tour, of...\n",
       "Name: tokens, dtype: object"
      ]
     },
     "execution_count": 17,
     "metadata": {},
     "output_type": "execute_result"
    }
   ],
   "source": [
    "h['tokens'].head()"
   ]
  },
  {
   "cell_type": "code",
   "execution_count": 18,
   "metadata": {},
   "outputs": [],
   "source": [
    "# h['full_review_text'].value_counts(normalize=True)"
   ]
  },
  {
   "cell_type": "code",
   "execution_count": 19,
   "metadata": {},
   "outputs": [
    {
     "data": {
      "text/plain": [
       "[listed, in, yelp, 100, challenge, 2016, thai, tea, was, okay, kind, of, offtasting, liked, how, late, theyre, open, as, well, as, the, concept, of, the, bar, livemusic, though, kind, of, have, mixed, feelings, about, cause, its, too, loud, to, hear, the, person, next, to, you, if, youre, drinking, coffee, or, tea, guess, if, your, boozing, though, it, doesnt, matter]                                                                                                                                                                                                                                                                                                       0.01\n",
       "[1, checkin, a, date, night, place, if, ive, ever, seen, one, before, it, had, a, distinct, hipstery, vibe, and, its, probably, a, place, youd, expect, to, see, in, austin, the, guy, we, were, getting, advice, from, at, berry, austin, suggested, that, we, come, here, for, the, best, hot, chocolate, and, smores, in, town, since, we, were, pretty, much, done, with, alcohol, at, this, point, we, stopped, in, for, a, bit, its, pretty, cute, and, i, think, the, smores, are, a, unique, and, excellent, idea, basically, they, bring, a, lighter, light, it, for, you, and, you, roast, your, smores, over, a, ...]                                                         0.01\n",
       "[1, checkin, what, a, cute, place, i, heard, so, many, good, things, about, their, smores, and, i, was, in, such, a, smores, kick, so, i, had, to, try, it, out, i, cant, say, it, worked, perfectly, and, made, my, marshmallows, nice, and, crisp, and, gooey, on, the, inside, but, it, tasted, fine, their, coffee, is, also, very, delicious, i, love, austin, coffee, anyways, their, beans, are, so, aromatically, wonderful, great, place, to, go, to, with, a, group, or, even, alone]                                                                                                                                                                                          0.01\n",
       "[1, checkin, listed, in, pretending, to, hook, em, the, way, i, would, describe, this, place, is, a, michael, buble, song, laced, with, a, couple, shots, of, whiskey, all, in, all, i, had, a, hard, time, deciding, between, 4, and, 5, stars, lets, be, conservative, and, stick, with, 4, for, now, ambience, ohmygosh, so, romantic, redorange, lighting, live, music, modified, string, ensemble, with, drum, and, guitar, colorful, bejeweled, portraits, of, famous, people, on, the, walls, audrey, hepburn, lady, day, snoop, dogg, just, to, name, a, few, varied, seating, in, and, outdoors, stools, and, couches, and, a, bar, very, cozy, and, intimate, ...]             0.01\n",
       "[i, have, tried, halcyon, a, few, times, and, have, consistently, had, a, good, experience, the, smores, what, they, are, known, for, are, fun, but, a, little, overpriced, for, what, you, get, during, my, most, recent, stop, here, the, graham, crackers, were, slightly, stale, i, also, wish, the, marshmallows, were, a, little, bigger, now, for, the, good, this, place, has, an, incredibly, mellowrelaxing, vibe, it, is, great, for, people, watching, or, just, stopping, in, for, a, drinkcoffee, i, have, not, tried, their, alcoholic, drinks, but, their, coffee, is, delicious, the, customer, service, here, is, solid, and, it, usually, isnt, too, crowded, ...]    0.01\n",
       "[ordered, a, 4, egg, panini, and, a, 250, cup, of, coffee, when, i, checked, my, credit, card, statement, they, had, charged, me, 974, no, idea, what, happened, there, brusque, service, at, the, counter, not, many, food, options, coffee, was, good, egg, panini, was, ok, but, needed, more, sauce, of, some, kind, on, it, interior, space, was, very, austinish, with, a, variety, of, places, to, sit]                                                                                                                                                                                                                                                                           0.01\n",
       "[1, checkin, hipster, coffee, house, spirits, and, smokes, had, to, check, it, out, we, had, lunch, here, and, went, the, boring, route, of, just, getting, pg, versions, of, the, coffee, although, the, espresso, martini, was, tempting, me, the, soy, latte, was, very, nice, my, husband, had, the, pour, over, coffee, which, was, very, good, for, lunch, i, had, the, walnut, apple, salad, it, was, the, perfect, size, and, very, nice, my, husband, had, the, elvis, a, pbj, with, bacon, banana, and, honey, they, classify, this, as, a, snack, but, it, certainly, can, be, had, for, lunch, he, would, have, licked, ...]                                                 0.01\n",
       "[if, you, only, have, time, for, one, bar, or, coffee, shop, in, austin, go, here, best, mojito, ive, had, in, austin, also, the, amazing, coffee, goes, great, with, the, smores]                                                                                                                                                                                                                                                                                                                                                                                                                                                                                                       0.01\n",
       "[1, checkin, very, nice, a, clean, setup, food, was, very, good, for, a, light, breakfast, the, french, toast, was, just, as, good, as, mother, made, great, morning, breakfast, in, texas]                                                                                                                                                                                                                                                                                                                                                                                                                                                                                              0.01\n",
       "[1, checkin, a, friend, recommended, that, i, try, halcyon, while, i, was, in, austin, and, im, so, glad, i, did, my, barista, was, actually, from, the, same, town, i, am, which, was, absolutely, insane, to, me, because, its, over, 500, miles, away, this, coffee, shop, is, in, a, great, location, and, not, too, far, from, anything, i, ordered, an, iced, latte, and, my, husband, got, a, chocolate, frappe, and, both, were, excellent, halcyon, has, a, full, bar, so, you, can, add, a, shot, to, any, drink, you, purchase, the, ambience, is, awesome, and, there, is, a, ton, of, comfy, seating, ...]                                                                  0.01\n",
       "[bleh, a, cool, concept, cramming, a, lot, of, different, things, coffee, shop, bar, restaurant, patio, etc, into, a, very, small, space, what, ive, tried, mostly, coffee, has, been, pretty, good, but, the, low, rating, is, due, to, the, smoke, you, cant, get, through, or, even, around, the, place, while, trying, to, walk, by, without, breathing, in, smoke, its, horrible, the, 15, foot, law, is, completely, and, utterly, ignored]                                                                                                                                                                                                                                        0.01\n",
       "[very, tasty, coffee, drinks, the, avocado, toast, is, underwhelming, but, the, turkey, brie, sandwich, is, amazing]                                                                                                                                                                                                                                                                                                                                                                                                                                                                                                                                                                     0.01\n",
       "[not, sure, why, i, made, such, a, big, mistake, by, not, ordering, the, smores, but, i, think, i, need, to, come, back, and, try, it, came, here, to, meet, up, with, a, friend, on, a, saturday, afternoon, and, it, was, decently, packed, but, nothing, to, crazy, i, ordered, the, iced, latte, and, sat, down, for, a, couple, hours, to, do, some, work, the, wifi, was, nothing, to, crazy, but, it, did, the, job, the, overall, environment, in, halcyon, was, really, nice, not, too, loud, but, not, library, silent, i, would, highly, recommend, this, place, for, a, ice, quite, place, to, ...]                                                                          0.01\n",
       "[1, checkin, cool, vibe, great, art, on, the, walls, and, music, there, is, a, full, bar, coffee, and, snacks, plenty, of, room, to, chill, and, get, some, work, done, if, you, think, of, what, has, happened, to, cecil, the, lion, then, all, the, pictures, of, lions, will, get, another, meaning, like, a, reminder, for, us, people, that, we, owe, to, the, animal, kingdom]                                                                                                                                                                                                                                                                                                    0.01\n",
       "[this, spot, is, literally, perfection, smack, dab, in, otherwise, dirty, downtown, a, modern, interior, with, tons, of, intimate, couch, seating, or, traditional, bar, type, seating, if, you, prefer, this, place, is, the, perfect, pitstop, we, arrived, here, on, friday, night, and, ordered, drinks, and, smores, i, love, the, coffee, meets, dessert, meets, drinks, aspect, here, its, refreshing, compared, to, the, rest, of, the, dirty, 6, the, only, thing, thats, a, bit, gross, is, the, fact, that, their, restaurant, is, open, to, the, public, and, we, saw, the, most, random, people, walk, in, and, use, their, bathroom, which, kinda, marred, the, ...]       0.01\n",
       "[overall, great, place, for, a, quick, bite, for, dessert, on, a, date, ambience, perfect, little, place, to, go, for, a, date, with, mild, lighting, and, couches, for, you, to, sit, these, couches, have, very, comfortable, pillows, to, make, you, feel, like, youre, in, your, own, home, there, are, some, corners, with, couches, that, give, you, a, lot, of, privacy, also, sometimes, have, live, music, playing, which, is, quaint, but, not, overpowering, of, the, night, to, where, its, all, you, can, hear, taste, we, had, the, smores, for, 2, people, which, was, about, 7, it, was, your, basic, hersheys, bar, marshmallows, ...]                                  0.01\n",
       "[i, love, chocolate, i, also, love, ice, cream, and, tea, and, hot, chocolate, obviously, i, love, smores, i, am, not, a, huge, fan, of, alcohol, so, a, place, that, can, combine, the, two, successfully, is, so, appealing, to, me, either, way, halcyon, is, a, fantastic, place, to, go, to, for, just, regular, hot, chocolate, seriously, they, have, 4, different, types, of, hot, chocolate, heavily, on, the, chocolate, french, hot, chocolate, so, delicious, the, other, hot, chocolate, type, that, i, tried, is, the, bittersweet, caramel, i, really, love, caramel, and, its, this, is, a, little, salty, and, just, fantastic, of, course, ...]                        0.01\n",
       "[1, checkin, came, for, some, sunday, smores, and, coffee, i, got, the, guatemala, pour, over, which, was, strong, and, delicious, nice, seating, areas, there, were, lots, of, younger, couplesstudents, here, not, a, problem, just, an, observation, the, smores, were, a, fun, experience, definitely, worth, bringing, a, friend, here, if, they, are, visiting, to, have, a, cup, of, coffee, and, a, catch, up, chat, before, going, about, your, day, 4, stars, though, because, other, chocolate, options, would, have, been, appreciated, i, know, hersheys, are, original, but, the, choice, would, have, been, nice]                                                         0.01\n",
       "[really, needed, some, coffee, around, midnight, since, we, flew, in, on, a, friday, and, were, tired, from, the, traveling, we, were, really, surprised, how, there, was, a, cafe, right, in, the, middle, of, downtown, where, the, party, was, happening, got, an, iced, latte, and, it, was, good, very, nice, espresso, with, whole, milk, tried, a, bit, of, the, soy, chai, latte, and, typically, im, not, a, huge, chai, fan, but, it, was, some, tasty, brew, didnt, try, the, food, but, plenty, of, people, had, drinks, from, the, bar, also, on, a, friday, night, the, atmosphere, is, definitely, on, the, cool, ...]                                                    0.01\n",
       "[i, love, going, here, on, a, random, night, out, they, have, a, great, selection, of, coffee, and, tea, warning, their, drinks, are, extra, hot, as, they, should, be, not, lukewarm, like, some, places, they, even, have, smores, i, mean, need, i, say, more, its, a, great, place, to, take, your, friends, from, out, of, town, or, a, coffee, date, my, favorite, is, the, earl, grey, tea, there, smores]                                                                                                                                                                                                                                                                        0.01\n",
       "Name: tokens, dtype: float64"
      ]
     },
     "execution_count": 19,
     "metadata": {},
     "output_type": "execute_result"
    }
   ],
   "source": [
    "h['tokens'].value_counts(normalize=True)[:20]"
   ]
  },
  {
   "cell_type": "code",
   "execution_count": 20,
   "metadata": {},
   "outputs": [],
   "source": [
    "# Start here"
   ]
  },
  {
   "cell_type": "code",
   "execution_count": 21,
   "metadata": {},
   "outputs": [
    {
     "data": {
      "text/plain": [
       "3006       1 check-in I was craving smores all day and...\n",
       "3007       1 check-in Listed in ATX The vibe in here i...\n",
       "3008       This is based on experiencing multiple side...\n",
       "3009       1 check-in Heard good things about Halcyon,...\n",
       "3010       Out for my own personal coffee tour of down...\n",
       "Name: full_review_text, dtype: object"
      ]
     },
     "execution_count": 21,
     "metadata": {},
     "output_type": "execute_result"
    }
   ],
   "source": [
    "h['full_review_text'].head()"
   ]
  },
  {
   "cell_type": "markdown",
   "metadata": {},
   "source": [
    "## How do we want to analyze these coffee shop tokens? \n",
    "\n",
    "- Overall Word / Token Count\n",
    "- View Counts by Rating \n",
    "- *Hint:* a 'bad' coffee shops has a rating betweeen 1 & 3 based on the distribution of ratings. A 'good' coffee shop is a 4 or 5. "
   ]
  },
  {
   "cell_type": "code",
   "execution_count": 22,
   "metadata": {},
   "outputs": [
    {
     "data": {
      "text/plain": [
       "[('the', 1482),\n",
       " ('a', 1080),\n",
       " ('and', 1041),\n",
       " ('to', 702),\n",
       " ('i', 693),\n",
       " ('was', 549),\n",
       " ('of', 528),\n",
       " ('is', 444),\n",
       " ('it', 438),\n",
       " ('for', 408)]"
      ]
     },
     "execution_count": 22,
     "metadata": {},
     "output_type": "execute_result"
    }
   ],
   "source": [
    "# Object from Base Python\n",
    "from collections import Counter\n",
    "\n",
    "# The object `Counter` takes an iterable, but you can instaniate an empty one and update it. \n",
    "word_counts = Counter()\n",
    "\n",
    "# Update it based on a split of each of our documents\n",
    "h['tokens'].apply(lambda x: word_counts.update(x))\n",
    "\n",
    "# Print out the 10 most common words\n",
    "word_counts.most_common(10)"
   ]
  },
  {
   "cell_type": "code",
   "execution_count": 23,
   "metadata": {},
   "outputs": [],
   "source": [
    "def count(docs):\n",
    "\n",
    "        word_counts = Counter()\n",
    "        appears_in = Counter()\n",
    "        \n",
    "        total_docs = len(docs)\n",
    "\n",
    "        for doc in docs:\n",
    "            word_counts.update(doc)\n",
    "            appears_in.update(set(doc))\n",
    "\n",
    "        temp = zip(word_counts.keys(), word_counts.values())\n",
    "        \n",
    "        wc = pd.DataFrame(temp, columns = ['word', 'count'])\n",
    "\n",
    "        wc['rank'] = wc['count'].rank(method='first', ascending=False)\n",
    "        total = wc['count'].sum()\n",
    "\n",
    "        wc['pct_total'] = wc['count'].apply(lambda x: x / total)\n",
    "        \n",
    "        wc = wc.sort_values(by='rank')\n",
    "        wc['cul_pct_total'] = wc['pct_total'].cumsum()\n",
    "\n",
    "        t2 = zip(appears_in.keys(), appears_in.values())\n",
    "        ac = pd.DataFrame(t2, columns=['word', 'appears_in'])\n",
    "        wc = ac.merge(wc, on='word')\n",
    "\n",
    "        wc['appears_in_pct'] = wc['appears_in'].apply(lambda x: x / total_docs)\n",
    "        \n",
    "        return wc.sort_values(by='rank')"
   ]
  },
  {
   "cell_type": "code",
   "execution_count": 24,
   "metadata": {},
   "outputs": [],
   "source": [
    "# Use the Function\n",
    "wc = count(h['tokens'])"
   ]
  },
  {
   "cell_type": "code",
   "execution_count": 25,
   "metadata": {},
   "outputs": [
    {
     "data": {
      "text/html": [
       "<div>\n",
       "<style scoped>\n",
       "    .dataframe tbody tr th:only-of-type {\n",
       "        vertical-align: middle;\n",
       "    }\n",
       "\n",
       "    .dataframe tbody tr th {\n",
       "        vertical-align: top;\n",
       "    }\n",
       "\n",
       "    .dataframe thead th {\n",
       "        text-align: right;\n",
       "    }\n",
       "</style>\n",
       "<table border=\"1\" class=\"dataframe\">\n",
       "  <thead>\n",
       "    <tr style=\"text-align: right;\">\n",
       "      <th></th>\n",
       "      <th>word</th>\n",
       "      <th>appears_in</th>\n",
       "      <th>count</th>\n",
       "      <th>rank</th>\n",
       "      <th>pct_total</th>\n",
       "      <th>cul_pct_total</th>\n",
       "      <th>appears_in_pct</th>\n",
       "    </tr>\n",
       "  </thead>\n",
       "  <tbody>\n",
       "    <tr>\n",
       "      <th>81</th>\n",
       "      <td>the</td>\n",
       "      <td>276</td>\n",
       "      <td>1482</td>\n",
       "      <td>1.0</td>\n",
       "      <td>0.046468</td>\n",
       "      <td>0.046468</td>\n",
       "      <td>0.92</td>\n",
       "    </tr>\n",
       "    <tr>\n",
       "      <th>34</th>\n",
       "      <td>a</td>\n",
       "      <td>255</td>\n",
       "      <td>1080</td>\n",
       "      <td>2.0</td>\n",
       "      <td>0.033863</td>\n",
       "      <td>0.080331</td>\n",
       "      <td>0.85</td>\n",
       "    </tr>\n",
       "    <tr>\n",
       "      <th>29</th>\n",
       "      <td>and</td>\n",
       "      <td>264</td>\n",
       "      <td>1041</td>\n",
       "      <td>3.0</td>\n",
       "      <td>0.032640</td>\n",
       "      <td>0.112971</td>\n",
       "      <td>0.88</td>\n",
       "    </tr>\n",
       "    <tr>\n",
       "      <th>13</th>\n",
       "      <td>to</td>\n",
       "      <td>243</td>\n",
       "      <td>702</td>\n",
       "      <td>4.0</td>\n",
       "      <td>0.022011</td>\n",
       "      <td>0.134983</td>\n",
       "      <td>0.81</td>\n",
       "    </tr>\n",
       "    <tr>\n",
       "      <th>51</th>\n",
       "      <td>i</td>\n",
       "      <td>204</td>\n",
       "      <td>693</td>\n",
       "      <td>5.0</td>\n",
       "      <td>0.021729</td>\n",
       "      <td>0.156712</td>\n",
       "      <td>0.68</td>\n",
       "    </tr>\n",
       "  </tbody>\n",
       "</table>\n",
       "</div>"
      ],
      "text/plain": [
       "   word  appears_in  count  rank  pct_total  cul_pct_total  appears_in_pct\n",
       "81  the         276   1482   1.0   0.046468       0.046468            0.92\n",
       "34    a         255   1080   2.0   0.033863       0.080331            0.85\n",
       "29  and         264   1041   3.0   0.032640       0.112971            0.88\n",
       "13   to         243    702   4.0   0.022011       0.134983            0.81\n",
       "51    i         204    693   5.0   0.021729       0.156712            0.68"
      ]
     },
     "execution_count": 25,
     "metadata": {},
     "output_type": "execute_result"
    }
   ],
   "source": [
    "wc.head()"
   ]
  },
  {
   "cell_type": "code",
   "execution_count": 26,
   "metadata": {},
   "outputs": [],
   "source": [
    "import seaborn as sns\n",
    "\n",
    "# Cumulative Distribution Plot\n",
    "sns.lineplot(x='rank', y='cul_pct_total', data=wc);"
   ]
  },
  {
   "cell_type": "code",
   "execution_count": 27,
   "metadata": {},
   "outputs": [
    {
     "data": {
      "text/plain": [
       "0.6883642178534476"
      ]
     },
     "execution_count": 27,
     "metadata": {},
     "output_type": "execute_result"
    }
   ],
   "source": [
    "wc[wc['rank'] <= 200]['cul_pct_total'].max()"
   ]
  },
  {
   "cell_type": "code",
   "execution_count": 28,
   "metadata": {},
   "outputs": [
    {
     "data": {
      "image/png": "[encoded data removed]",
      "text/plain": [
       "<Figure size 432x288 with 1 Axes>"
      ]
     },
     "metadata": {
      "needs_background": "light"
     },
     "output_type": "display_data"
    }
   ],
   "source": [
    "import squarify\n",
    "import matplotlib.pyplot as plt\n",
    "\n",
    "wc_top20 = wc[wc['rank'] <= 20]\n",
    "\n",
    "squarify.plot(sizes=wc_top20['pct_total'], label=wc_top20['word'], alpha=.8 )\n",
    "plt.axis('off')\n",
    "plt.show()"
   ]
  },
  {
   "cell_type": "code",
   "execution_count": 29,
   "metadata": {},
   "outputs": [],
   "source": [
    "import spacy\n",
    "from spacy.tokenizer import Tokenizer\n",
    "\n",
    "nlp = spacy.load(\"en_core_web_lg\")\n",
    "\n",
    "# Tokenizer\n",
    "tokenizer = Tokenizer(nlp.vocab)"
   ]
  },
  {
   "cell_type": "code",
   "execution_count": 30,
   "metadata": {},
   "outputs": [
    {
     "name": "stderr",
     "output_type": "stream",
     "text": [
      "C:\\Users\\Sarmen\\.conda\\envs\\U4-S1-M1\\lib\\site-packages\\ipykernel_launcher.py:10: SettingWithCopyWarning: \n",
      "A value is trying to be set on a copy of a slice from a DataFrame.\n",
      "Try using .loc[row_indexer,col_indexer] = value instead\n",
      "\n",
      "See the caveats in the documentation: http://pandas.pydata.org/pandas-docs/stable/indexing.html#indexing-view-versus-copy\n",
      "  # Remove the CWD from sys.path while we load stuff.\n"
     ]
    }
   ],
   "source": [
    "# Tokenizer Pipe\n",
    "\n",
    "tokens = []\n",
    "\n",
    "\"\"\" Make them tokens \"\"\"\n",
    "for doc in tokenizer.pipe(h['full_review_text'], batch_size=500):\n",
    "    doc_tokens = [token.text for token in doc]\n",
    "    tokens.append(doc_tokens)\n",
    "\n",
    "h['tokens'] = tokens"
   ]
  },
  {
   "cell_type": "code",
   "execution_count": 31,
   "metadata": {},
   "outputs": [
    {
     "data": {
      "text/plain": [
       "3006    [   , 1, check-in, I, was, craving, smores, al...\n",
       "3007    [   , 1, check-in, Listed, in, ATX, The, vibe,...\n",
       "3008    [   , This, is, based, on, experiencing, multi...\n",
       "3009    [   , 1, check-in, Heard, good, things, about,...\n",
       "3010    [   , Out, for, my, own, personal, coffee, tou...\n",
       "Name: tokens, dtype: object"
      ]
     },
     "execution_count": 31,
     "metadata": {},
     "output_type": "execute_result"
    }
   ],
   "source": [
    "h['tokens'].head()"
   ]
  },
  {
   "cell_type": "code",
   "execution_count": 32,
   "metadata": {},
   "outputs": [],
   "source": [
    "wc = count(h['tokens'])"
   ]
  },
  {
   "cell_type": "code",
   "execution_count": 33,
   "metadata": {},
   "outputs": [
    {
     "data": {
      "image/png": "[encoded data removed]",
      "text/plain": [
       "<Figure size 432x288 with 1 Axes>"
      ]
     },
     "metadata": {
      "needs_background": "light"
     },
     "output_type": "display_data"
    }
   ],
   "source": [
    "wc_top20 = wc[wc['rank'] <= 20]\n",
    "\n",
    "squarify.plot(sizes=wc_top20['pct_total'], label=wc_top20['word'], alpha=.8 )\n",
    "plt.axis('off')\n",
    "plt.show()"
   ]
  },
  {
   "cell_type": "code",
   "execution_count": 34,
   "metadata": {},
   "outputs": [
    {
     "data": {
      "text/html": [
       "<div>\n",
       "<style scoped>\n",
       "    .dataframe tbody tr th:only-of-type {\n",
       "        vertical-align: middle;\n",
       "    }\n",
       "\n",
       "    .dataframe tbody tr th {\n",
       "        vertical-align: top;\n",
       "    }\n",
       "\n",
       "    .dataframe thead th {\n",
       "        text-align: right;\n",
       "    }\n",
       "</style>\n",
       "<table border=\"1\" class=\"dataframe\">\n",
       "  <thead>\n",
       "    <tr style=\"text-align: right;\">\n",
       "      <th></th>\n",
       "      <th>word</th>\n",
       "      <th>appears_in</th>\n",
       "      <th>count</th>\n",
       "      <th>rank</th>\n",
       "      <th>pct_total</th>\n",
       "      <th>cul_pct_total</th>\n",
       "      <th>appears_in_pct</th>\n",
       "    </tr>\n",
       "  </thead>\n",
       "  <tbody>\n",
       "    <tr>\n",
       "      <th>91</th>\n",
       "      <td>the</td>\n",
       "      <td>267</td>\n",
       "      <td>1155</td>\n",
       "      <td>1.0</td>\n",
       "      <td>0.035144</td>\n",
       "      <td>0.035144</td>\n",
       "      <td>0.89</td>\n",
       "    </tr>\n",
       "    <tr>\n",
       "      <th>38</th>\n",
       "      <td>a</td>\n",
       "      <td>255</td>\n",
       "      <td>1035</td>\n",
       "      <td>2.0</td>\n",
       "      <td>0.031492</td>\n",
       "      <td>0.066636</td>\n",
       "      <td>0.85</td>\n",
       "    </tr>\n",
       "    <tr>\n",
       "      <th>31</th>\n",
       "      <td>and</td>\n",
       "      <td>264</td>\n",
       "      <td>996</td>\n",
       "      <td>3.0</td>\n",
       "      <td>0.030306</td>\n",
       "      <td>0.096942</td>\n",
       "      <td>0.88</td>\n",
       "    </tr>\n",
       "    <tr>\n",
       "      <th>15</th>\n",
       "      <td>to</td>\n",
       "      <td>243</td>\n",
       "      <td>702</td>\n",
       "      <td>4.0</td>\n",
       "      <td>0.021360</td>\n",
       "      <td>0.118302</td>\n",
       "      <td>0.81</td>\n",
       "    </tr>\n",
       "    <tr>\n",
       "      <th>48</th>\n",
       "      <td>I</td>\n",
       "      <td>204</td>\n",
       "      <td>687</td>\n",
       "      <td>5.0</td>\n",
       "      <td>0.020904</td>\n",
       "      <td>0.139206</td>\n",
       "      <td>0.68</td>\n",
       "    </tr>\n",
       "    <tr>\n",
       "      <th>85</th>\n",
       "      <td>was</td>\n",
       "      <td>198</td>\n",
       "      <td>549</td>\n",
       "      <td>6.0</td>\n",
       "      <td>0.016705</td>\n",
       "      <td>0.155911</td>\n",
       "      <td>0.66</td>\n",
       "    </tr>\n",
       "    <tr>\n",
       "      <th>29</th>\n",
       "      <td>of</td>\n",
       "      <td>216</td>\n",
       "      <td>522</td>\n",
       "      <td>7.0</td>\n",
       "      <td>0.015883</td>\n",
       "      <td>0.171794</td>\n",
       "      <td>0.72</td>\n",
       "    </tr>\n",
       "    <tr>\n",
       "      <th>45</th>\n",
       "      <td></td>\n",
       "      <td>183</td>\n",
       "      <td>513</td>\n",
       "      <td>8.0</td>\n",
       "      <td>0.015609</td>\n",
       "      <td>0.187403</td>\n",
       "      <td>0.61</td>\n",
       "    </tr>\n",
       "    <tr>\n",
       "      <th>42</th>\n",
       "      <td>is</td>\n",
       "      <td>198</td>\n",
       "      <td>441</td>\n",
       "      <td>9.0</td>\n",
       "      <td>0.013419</td>\n",
       "      <td>0.200822</td>\n",
       "      <td>0.66</td>\n",
       "    </tr>\n",
       "    <tr>\n",
       "      <th>109</th>\n",
       "      <td>for</td>\n",
       "      <td>177</td>\n",
       "      <td>387</td>\n",
       "      <td>10.0</td>\n",
       "      <td>0.011775</td>\n",
       "      <td>0.212597</td>\n",
       "      <td>0.59</td>\n",
       "    </tr>\n",
       "    <tr>\n",
       "      <th>170</th>\n",
       "      <td>in</td>\n",
       "      <td>177</td>\n",
       "      <td>333</td>\n",
       "      <td>11.0</td>\n",
       "      <td>0.010132</td>\n",
       "      <td>0.222729</td>\n",
       "      <td>0.59</td>\n",
       "    </tr>\n",
       "    <tr>\n",
       "      <th>102</th>\n",
       "      <td>The</td>\n",
       "      <td>177</td>\n",
       "      <td>324</td>\n",
       "      <td>12.0</td>\n",
       "      <td>0.009859</td>\n",
       "      <td>0.232588</td>\n",
       "      <td>0.59</td>\n",
       "    </tr>\n",
       "    <tr>\n",
       "      <th>60</th>\n",
       "      <td></td>\n",
       "      <td>300</td>\n",
       "      <td>315</td>\n",
       "      <td>13.0</td>\n",
       "      <td>0.009585</td>\n",
       "      <td>0.242173</td>\n",
       "      <td>1.00</td>\n",
       "    </tr>\n",
       "    <tr>\n",
       "      <th>8</th>\n",
       "      <td>it</td>\n",
       "      <td>147</td>\n",
       "      <td>300</td>\n",
       "      <td>14.0</td>\n",
       "      <td>0.009128</td>\n",
       "      <td>0.251301</td>\n",
       "      <td>0.49</td>\n",
       "    </tr>\n",
       "    <tr>\n",
       "      <th>3</th>\n",
       "      <td>with</td>\n",
       "      <td>144</td>\n",
       "      <td>282</td>\n",
       "      <td>15.0</td>\n",
       "      <td>0.008581</td>\n",
       "      <td>0.259881</td>\n",
       "      <td>0.48</td>\n",
       "    </tr>\n",
       "    <tr>\n",
       "      <th>118</th>\n",
       "      <td>but</td>\n",
       "      <td>147</td>\n",
       "      <td>276</td>\n",
       "      <td>16.0</td>\n",
       "      <td>0.008398</td>\n",
       "      <td>0.268279</td>\n",
       "      <td>0.49</td>\n",
       "    </tr>\n",
       "    <tr>\n",
       "      <th>104</th>\n",
       "      <td>you</td>\n",
       "      <td>117</td>\n",
       "      <td>267</td>\n",
       "      <td>17.0</td>\n",
       "      <td>0.008124</td>\n",
       "      <td>0.276403</td>\n",
       "      <td>0.39</td>\n",
       "    </tr>\n",
       "    <tr>\n",
       "      <th>275</th>\n",
       "      <td>coffee</td>\n",
       "      <td>159</td>\n",
       "      <td>267</td>\n",
       "      <td>18.0</td>\n",
       "      <td>0.008124</td>\n",
       "      <td>0.284528</td>\n",
       "      <td>0.53</td>\n",
       "    </tr>\n",
       "    <tr>\n",
       "      <th>166</th>\n",
       "      <td>that</td>\n",
       "      <td>120</td>\n",
       "      <td>246</td>\n",
       "      <td>19.0</td>\n",
       "      <td>0.007485</td>\n",
       "      <td>0.292013</td>\n",
       "      <td>0.40</td>\n",
       "    </tr>\n",
       "    <tr>\n",
       "      <th>80</th>\n",
       "      <td>place</td>\n",
       "      <td>156</td>\n",
       "      <td>243</td>\n",
       "      <td>20.0</td>\n",
       "      <td>0.007394</td>\n",
       "      <td>0.299407</td>\n",
       "      <td>0.52</td>\n",
       "    </tr>\n",
       "  </tbody>\n",
       "</table>\n",
       "</div>"
      ],
      "text/plain": [
       "       word  appears_in  count  rank  pct_total  cul_pct_total  appears_in_pct\n",
       "91      the         267   1155   1.0   0.035144       0.035144            0.89\n",
       "38        a         255   1035   2.0   0.031492       0.066636            0.85\n",
       "31      and         264    996   3.0   0.030306       0.096942            0.88\n",
       "15       to         243    702   4.0   0.021360       0.118302            0.81\n",
       "48        I         204    687   5.0   0.020904       0.139206            0.68\n",
       "85      was         198    549   6.0   0.016705       0.155911            0.66\n",
       "29       of         216    522   7.0   0.015883       0.171794            0.72\n",
       "45                  183    513   8.0   0.015609       0.187403            0.61\n",
       "42       is         198    441   9.0   0.013419       0.200822            0.66\n",
       "109     for         177    387  10.0   0.011775       0.212597            0.59\n",
       "170      in         177    333  11.0   0.010132       0.222729            0.59\n",
       "102     The         177    324  12.0   0.009859       0.232588            0.59\n",
       "60                  300    315  13.0   0.009585       0.242173            1.00\n",
       "8        it         147    300  14.0   0.009128       0.251301            0.49\n",
       "3      with         144    282  15.0   0.008581       0.259881            0.48\n",
       "118     but         147    276  16.0   0.008398       0.268279            0.49\n",
       "104     you         117    267  17.0   0.008124       0.276403            0.39\n",
       "275  coffee         159    267  18.0   0.008124       0.284528            0.53\n",
       "166    that         120    246  19.0   0.007485       0.292013            0.40\n",
       "80    place         156    243  20.0   0.007394       0.299407            0.52"
      ]
     },
     "execution_count": 34,
     "metadata": {},
     "output_type": "execute_result"
    }
   ],
   "source": [
    "wc_top20"
   ]
  },
  {
   "cell_type": "code",
   "execution_count": 35,
   "metadata": {},
   "outputs": [
    {
     "name": "stdout",
     "output_type": "stream",
     "text": [
      "<class 'set'>\n"
     ]
    }
   ],
   "source": [
    "print(type(nlp.Defaults.stop_words))"
   ]
  },
  {
   "cell_type": "code",
   "execution_count": 36,
   "metadata": {},
   "outputs": [],
   "source": [
    "STOP_WORDS = nlp.Defaults.stop_words\n",
    "\n",
    "# .union(['', ' ','  ','   ', '-', '1', 'the,', ' the', 'the ',\n",
    "#                                             'be', 'like' ,'coffee', ''])"
   ]
  },
  {
   "cell_type": "code",
   "execution_count": 37,
   "metadata": {},
   "outputs": [
    {
     "name": "stderr",
     "output_type": "stream",
     "text": [
      "C:\\Users\\Sarmen\\.conda\\envs\\U4-S1-M1\\lib\\site-packages\\ipykernel_launcher.py:13: SettingWithCopyWarning: \n",
      "A value is trying to be set on a copy of a slice from a DataFrame.\n",
      "Try using .loc[row_indexer,col_indexer] = value instead\n",
      "\n",
      "See the caveats in the documentation: http://pandas.pydata.org/pandas-docs/stable/indexing.html#indexing-view-versus-copy\n",
      "  del sys.path[0]\n"
     ]
    }
   ],
   "source": [
    "tokens = []\n",
    "\n",
    "for doc in tokenizer.pipe(h['full_review_text'], batch_size = 500):\n",
    "    \n",
    "    doc_tokens = []\n",
    "    \n",
    "    for token in doc:\n",
    "        if token.text not in STOP_WORDS:\n",
    "            doc_tokens.append(token.text.lower())\n",
    "    \n",
    "    tokens.append(doc_tokens)\n",
    "\n",
    "h['tokens'] = tokens"
   ]
  },
  {
   "cell_type": "code",
   "execution_count": 38,
   "metadata": {},
   "outputs": [
    {
     "data": {
      "text/html": [
       "<div>\n",
       "<style scoped>\n",
       "    .dataframe tbody tr th:only-of-type {\n",
       "        vertical-align: middle;\n",
       "    }\n",
       "\n",
       "    .dataframe tbody tr th {\n",
       "        vertical-align: top;\n",
       "    }\n",
       "\n",
       "    .dataframe thead th {\n",
       "        text-align: right;\n",
       "    }\n",
       "</style>\n",
       "<table border=\"1\" class=\"dataframe\">\n",
       "  <thead>\n",
       "    <tr style=\"text-align: right;\">\n",
       "      <th></th>\n",
       "      <th>coffee_shop_name</th>\n",
       "      <th>full_review_text</th>\n",
       "      <th>star_rating</th>\n",
       "      <th>tokens</th>\n",
       "    </tr>\n",
       "  </thead>\n",
       "  <tbody>\n",
       "    <tr>\n",
       "      <th>3006</th>\n",
       "      <td>Halcyon</td>\n",
       "      <td>1 check-in I was craving smores all day and...</td>\n",
       "      <td>4.0</td>\n",
       "      <td>[   , 1, check-in, i, craving, smores, day, fi...</td>\n",
       "    </tr>\n",
       "    <tr>\n",
       "      <th>3007</th>\n",
       "      <td>Halcyon</td>\n",
       "      <td>1 check-in Listed in ATX The vibe in here i...</td>\n",
       "      <td>2.0</td>\n",
       "      <td>[   , 1, check-in, listed, atx, the, vibe, goo...</td>\n",
       "    </tr>\n",
       "    <tr>\n",
       "      <th>3008</th>\n",
       "      <td>Halcyon</td>\n",
       "      <td>This is based on experiencing multiple side...</td>\n",
       "      <td>2.0</td>\n",
       "      <td>[   , this, based, experiencing, multiple, sid...</td>\n",
       "    </tr>\n",
       "    <tr>\n",
       "      <th>3009</th>\n",
       "      <td>Halcyon</td>\n",
       "      <td>1 check-in Heard good things about Halcyon,...</td>\n",
       "      <td>5.0</td>\n",
       "      <td>[   , 1, check-in, heard, good, things, halcyo...</td>\n",
       "    </tr>\n",
       "    <tr>\n",
       "      <th>3010</th>\n",
       "      <td>Halcyon</td>\n",
       "      <td>Out for my own personal coffee tour of down...</td>\n",
       "      <td>3.0</td>\n",
       "      <td>[   , out, personal, coffee, tour, downtown, a...</td>\n",
       "    </tr>\n",
       "  </tbody>\n",
       "</table>\n",
       "</div>"
      ],
      "text/plain": [
       "     coffee_shop_name                                   full_review_text  \\\n",
       "3006         Halcyon      1 check-in I was craving smores all day and...   \n",
       "3007         Halcyon      1 check-in Listed in ATX The vibe in here i...   \n",
       "3008         Halcyon      This is based on experiencing multiple side...   \n",
       "3009         Halcyon      1 check-in Heard good things about Halcyon,...   \n",
       "3010         Halcyon      Out for my own personal coffee tour of down...   \n",
       "\n",
       "     star_rating                                             tokens  \n",
       "3006         4.0  [   , 1, check-in, i, craving, smores, day, fi...  \n",
       "3007         2.0  [   , 1, check-in, listed, atx, the, vibe, goo...  \n",
       "3008         2.0  [   , this, based, experiencing, multiple, sid...  \n",
       "3009         5.0  [   , 1, check-in, heard, good, things, halcyo...  \n",
       "3010         3.0  [   , out, personal, coffee, tour, downtown, a...  "
      ]
     },
     "execution_count": 38,
     "metadata": {},
     "output_type": "execute_result"
    }
   ],
   "source": [
    "h.head(5)"
   ]
  },
  {
   "cell_type": "code",
   "execution_count": 39,
   "metadata": {},
   "outputs": [],
   "source": [
    "wc = count(h['tokens'])"
   ]
  },
  {
   "cell_type": "code",
   "execution_count": 40,
   "metadata": {},
   "outputs": [
    {
     "data": {
      "image/png": "[encoded data removed]",
      "text/plain": [
       "<Figure size 432x288 with 1 Axes>"
      ]
     },
     "metadata": {
      "needs_background": "light"
     },
     "output_type": "display_data"
    }
   ],
   "source": [
    "wc_top20 = wc[wc['rank'] <= 20]\n",
    "\n",
    "squarify.plot(sizes=wc_top20['pct_total'], label=wc_top20['word'], alpha=.8 )\n",
    "plt.axis('off')\n",
    "plt.show()"
   ]
  },
  {
   "cell_type": "code",
   "execution_count": 41,
   "metadata": {},
   "outputs": [
    {
     "data": {
      "text/html": [
       "<div>\n",
       "<style scoped>\n",
       "    .dataframe tbody tr th:only-of-type {\n",
       "        vertical-align: middle;\n",
       "    }\n",
       "\n",
       "    .dataframe tbody tr th {\n",
       "        vertical-align: top;\n",
       "    }\n",
       "\n",
       "    .dataframe thead th {\n",
       "        text-align: right;\n",
       "    }\n",
       "</style>\n",
       "<table border=\"1\" class=\"dataframe\">\n",
       "  <thead>\n",
       "    <tr style=\"text-align: right;\">\n",
       "      <th></th>\n",
       "      <th>word</th>\n",
       "      <th>appears_in</th>\n",
       "      <th>count</th>\n",
       "      <th>rank</th>\n",
       "      <th>pct_total</th>\n",
       "      <th>cul_pct_total</th>\n",
       "      <th>appears_in_pct</th>\n",
       "    </tr>\n",
       "  </thead>\n",
       "  <tbody>\n",
       "    <tr>\n",
       "      <th>4</th>\n",
       "      <td>i</td>\n",
       "      <td>204</td>\n",
       "      <td>687</td>\n",
       "      <td>1.0</td>\n",
       "      <td>0.036710</td>\n",
       "      <td>0.036710</td>\n",
       "      <td>0.68</td>\n",
       "    </tr>\n",
       "    <tr>\n",
       "      <th>32</th>\n",
       "      <td></td>\n",
       "      <td>183</td>\n",
       "      <td>513</td>\n",
       "      <td>2.0</td>\n",
       "      <td>0.027413</td>\n",
       "      <td>0.064123</td>\n",
       "      <td>0.61</td>\n",
       "    </tr>\n",
       "    <tr>\n",
       "      <th>15</th>\n",
       "      <td>the</td>\n",
       "      <td>177</td>\n",
       "      <td>324</td>\n",
       "      <td>3.0</td>\n",
       "      <td>0.017313</td>\n",
       "      <td>0.081436</td>\n",
       "      <td>0.59</td>\n",
       "    </tr>\n",
       "    <tr>\n",
       "      <th>5</th>\n",
       "      <td></td>\n",
       "      <td>300</td>\n",
       "      <td>315</td>\n",
       "      <td>4.0</td>\n",
       "      <td>0.016832</td>\n",
       "      <td>0.098269</td>\n",
       "      <td>1.00</td>\n",
       "    </tr>\n",
       "    <tr>\n",
       "      <th>197</th>\n",
       "      <td>coffee</td>\n",
       "      <td>171</td>\n",
       "      <td>285</td>\n",
       "      <td>5.0</td>\n",
       "      <td>0.015229</td>\n",
       "      <td>0.113498</td>\n",
       "      <td>0.57</td>\n",
       "    </tr>\n",
       "    <tr>\n",
       "      <th>63</th>\n",
       "      <td>place</td>\n",
       "      <td>159</td>\n",
       "      <td>246</td>\n",
       "      <td>6.0</td>\n",
       "      <td>0.013145</td>\n",
       "      <td>0.126643</td>\n",
       "      <td>0.53</td>\n",
       "    </tr>\n",
       "    <tr>\n",
       "      <th>24</th>\n",
       "      <td>great</td>\n",
       "      <td>96</td>\n",
       "      <td>138</td>\n",
       "      <td>7.0</td>\n",
       "      <td>0.007374</td>\n",
       "      <td>0.134017</td>\n",
       "      <td>0.32</td>\n",
       "    </tr>\n",
       "    <tr>\n",
       "      <th>7</th>\n",
       "      <td>good</td>\n",
       "      <td>93</td>\n",
       "      <td>120</td>\n",
       "      <td>8.0</td>\n",
       "      <td>0.006412</td>\n",
       "      <td>0.140430</td>\n",
       "      <td>0.31</td>\n",
       "    </tr>\n",
       "    <tr>\n",
       "      <th>31</th>\n",
       "      <td>1</td>\n",
       "      <td>114</td>\n",
       "      <td>114</td>\n",
       "      <td>9.0</td>\n",
       "      <td>0.006092</td>\n",
       "      <td>0.146521</td>\n",
       "      <td>0.38</td>\n",
       "    </tr>\n",
       "    <tr>\n",
       "      <th>42</th>\n",
       "      <td>check-in</td>\n",
       "      <td>111</td>\n",
       "      <td>111</td>\n",
       "      <td>10.0</td>\n",
       "      <td>0.005931</td>\n",
       "      <td>0.152453</td>\n",
       "      <td>0.37</td>\n",
       "    </tr>\n",
       "    <tr>\n",
       "      <th>381</th>\n",
       "      <td>like</td>\n",
       "      <td>90</td>\n",
       "      <td>111</td>\n",
       "      <td>11.0</td>\n",
       "      <td>0.005931</td>\n",
       "      <td>0.158384</td>\n",
       "      <td>0.30</td>\n",
       "    </tr>\n",
       "    <tr>\n",
       "      <th>239</th>\n",
       "      <td>halcyon</td>\n",
       "      <td>72</td>\n",
       "      <td>108</td>\n",
       "      <td>12.0</td>\n",
       "      <td>0.005771</td>\n",
       "      <td>0.164155</td>\n",
       "      <td>0.24</td>\n",
       "    </tr>\n",
       "    <tr>\n",
       "      <th>78</th>\n",
       "      <td>people</td>\n",
       "      <td>78</td>\n",
       "      <td>105</td>\n",
       "      <td>13.0</td>\n",
       "      <td>0.005611</td>\n",
       "      <td>0.169766</td>\n",
       "      <td>0.26</td>\n",
       "    </tr>\n",
       "    <tr>\n",
       "      <th>643</th>\n",
       "      <td>s'mores</td>\n",
       "      <td>63</td>\n",
       "      <td>102</td>\n",
       "      <td>14.0</td>\n",
       "      <td>0.005450</td>\n",
       "      <td>0.175216</td>\n",
       "      <td>0.21</td>\n",
       "    </tr>\n",
       "    <tr>\n",
       "      <th>418</th>\n",
       "      <td>it's</td>\n",
       "      <td>78</td>\n",
       "      <td>96</td>\n",
       "      <td>15.0</td>\n",
       "      <td>0.005130</td>\n",
       "      <td>0.180346</td>\n",
       "      <td>0.26</td>\n",
       "    </tr>\n",
       "    <tr>\n",
       "      <th>798</th>\n",
       "      <td>we</td>\n",
       "      <td>60</td>\n",
       "      <td>90</td>\n",
       "      <td>16.0</td>\n",
       "      <td>0.004809</td>\n",
       "      <td>0.185155</td>\n",
       "      <td>0.20</td>\n",
       "    </tr>\n",
       "    <tr>\n",
       "      <th>129</th>\n",
       "      <td>it</td>\n",
       "      <td>69</td>\n",
       "      <td>87</td>\n",
       "      <td>17.0</td>\n",
       "      <td>0.004649</td>\n",
       "      <td>0.189804</td>\n",
       "      <td>0.23</td>\n",
       "    </tr>\n",
       "    <tr>\n",
       "      <th>314</th>\n",
       "      <td>pretty</td>\n",
       "      <td>57</td>\n",
       "      <td>84</td>\n",
       "      <td>18.0</td>\n",
       "      <td>0.004489</td>\n",
       "      <td>0.194293</td>\n",
       "      <td>0.19</td>\n",
       "    </tr>\n",
       "    <tr>\n",
       "      <th>548</th>\n",
       "      <td>drinks</td>\n",
       "      <td>60</td>\n",
       "      <td>84</td>\n",
       "      <td>19.0</td>\n",
       "      <td>0.004489</td>\n",
       "      <td>0.198782</td>\n",
       "      <td>0.20</td>\n",
       "    </tr>\n",
       "    <tr>\n",
       "      <th>293</th>\n",
       "      <td>food</td>\n",
       "      <td>57</td>\n",
       "      <td>81</td>\n",
       "      <td>20.0</td>\n",
       "      <td>0.004328</td>\n",
       "      <td>0.203110</td>\n",
       "      <td>0.19</td>\n",
       "    </tr>\n",
       "  </tbody>\n",
       "</table>\n",
       "</div>"
      ],
      "text/plain": [
       "         word  appears_in  count  rank  pct_total  cul_pct_total  \\\n",
       "4           i         204    687   1.0   0.036710       0.036710   \n",
       "32                    183    513   2.0   0.027413       0.064123   \n",
       "15        the         177    324   3.0   0.017313       0.081436   \n",
       "5                     300    315   4.0   0.016832       0.098269   \n",
       "197    coffee         171    285   5.0   0.015229       0.113498   \n",
       "63      place         159    246   6.0   0.013145       0.126643   \n",
       "24      great          96    138   7.0   0.007374       0.134017   \n",
       "7        good          93    120   8.0   0.006412       0.140430   \n",
       "31          1         114    114   9.0   0.006092       0.146521   \n",
       "42   check-in         111    111  10.0   0.005931       0.152453   \n",
       "381      like          90    111  11.0   0.005931       0.158384   \n",
       "239   halcyon          72    108  12.0   0.005771       0.164155   \n",
       "78     people          78    105  13.0   0.005611       0.169766   \n",
       "643   s'mores          63    102  14.0   0.005450       0.175216   \n",
       "418      it's          78     96  15.0   0.005130       0.180346   \n",
       "798        we          60     90  16.0   0.004809       0.185155   \n",
       "129        it          69     87  17.0   0.004649       0.189804   \n",
       "314    pretty          57     84  18.0   0.004489       0.194293   \n",
       "548    drinks          60     84  19.0   0.004489       0.198782   \n",
       "293      food          57     81  20.0   0.004328       0.203110   \n",
       "\n",
       "     appears_in_pct  \n",
       "4              0.68  \n",
       "32             0.61  \n",
       "15             0.59  \n",
       "5              1.00  \n",
       "197            0.57  \n",
       "63             0.53  \n",
       "24             0.32  \n",
       "7              0.31  \n",
       "31             0.38  \n",
       "42             0.37  \n",
       "381            0.30  \n",
       "239            0.24  \n",
       "78             0.26  \n",
       "643            0.21  \n",
       "418            0.26  \n",
       "798            0.20  \n",
       "129            0.23  \n",
       "314            0.19  \n",
       "548            0.20  \n",
       "293            0.19  "
      ]
     },
     "execution_count": 41,
     "metadata": {},
     "output_type": "execute_result"
    }
   ],
   "source": [
    "wc_top20"
   ]
  },
  {
   "cell_type": "code",
   "execution_count": 42,
   "metadata": {},
   "outputs": [
    {
     "data": {
      "text/html": [
       "<div>\n",
       "<style scoped>\n",
       "    .dataframe tbody tr th:only-of-type {\n",
       "        vertical-align: middle;\n",
       "    }\n",
       "\n",
       "    .dataframe tbody tr th {\n",
       "        vertical-align: top;\n",
       "    }\n",
       "\n",
       "    .dataframe thead th {\n",
       "        text-align: right;\n",
       "    }\n",
       "</style>\n",
       "<table border=\"1\" class=\"dataframe\">\n",
       "  <thead>\n",
       "    <tr style=\"text-align: right;\">\n",
       "      <th></th>\n",
       "      <th>coffee_shop_name</th>\n",
       "      <th>full_review_text</th>\n",
       "      <th>star_rating</th>\n",
       "      <th>tokens</th>\n",
       "    </tr>\n",
       "  </thead>\n",
       "  <tbody>\n",
       "    <tr>\n",
       "      <th>3006</th>\n",
       "      <td>Halcyon</td>\n",
       "      <td>1 check-in I was craving smores all day and...</td>\n",
       "      <td>4.0</td>\n",
       "      <td>[   , 1, check-in, i, craving, smores, day, fi...</td>\n",
       "    </tr>\n",
       "    <tr>\n",
       "      <th>3007</th>\n",
       "      <td>Halcyon</td>\n",
       "      <td>1 check-in Listed in ATX The vibe in here i...</td>\n",
       "      <td>2.0</td>\n",
       "      <td>[   , 1, check-in, listed, atx, the, vibe, goo...</td>\n",
       "    </tr>\n",
       "    <tr>\n",
       "      <th>3008</th>\n",
       "      <td>Halcyon</td>\n",
       "      <td>This is based on experiencing multiple side...</td>\n",
       "      <td>2.0</td>\n",
       "      <td>[   , this, based, experiencing, multiple, sid...</td>\n",
       "    </tr>\n",
       "    <tr>\n",
       "      <th>3009</th>\n",
       "      <td>Halcyon</td>\n",
       "      <td>1 check-in Heard good things about Halcyon,...</td>\n",
       "      <td>5.0</td>\n",
       "      <td>[   , 1, check-in, heard, good, things, halcyo...</td>\n",
       "    </tr>\n",
       "    <tr>\n",
       "      <th>3010</th>\n",
       "      <td>Halcyon</td>\n",
       "      <td>Out for my own personal coffee tour of down...</td>\n",
       "      <td>3.0</td>\n",
       "      <td>[   , out, personal, coffee, tour, downtown, a...</td>\n",
       "    </tr>\n",
       "  </tbody>\n",
       "</table>\n",
       "</div>"
      ],
      "text/plain": [
       "     coffee_shop_name                                   full_review_text  \\\n",
       "3006         Halcyon      1 check-in I was craving smores all day and...   \n",
       "3007         Halcyon      1 check-in Listed in ATX The vibe in here i...   \n",
       "3008         Halcyon      This is based on experiencing multiple side...   \n",
       "3009         Halcyon      1 check-in Heard good things about Halcyon,...   \n",
       "3010         Halcyon      Out for my own personal coffee tour of down...   \n",
       "\n",
       "     star_rating                                             tokens  \n",
       "3006         4.0  [   , 1, check-in, i, craving, smores, day, fi...  \n",
       "3007         2.0  [   , 1, check-in, listed, atx, the, vibe, goo...  \n",
       "3008         2.0  [   , this, based, experiencing, multiple, sid...  \n",
       "3009         5.0  [   , 1, check-in, heard, good, things, halcyo...  \n",
       "3010         3.0  [   , out, personal, coffee, tour, downtown, a...  "
      ]
     },
     "execution_count": 42,
     "metadata": {},
     "output_type": "execute_result"
    }
   ],
   "source": [
    "h.head()"
   ]
  },
  {
   "cell_type": "code",
   "execution_count": 43,
   "metadata": {},
   "outputs": [],
   "source": [
    "STOP_WORDS = nlp.Defaults.stop_words.union(['', ' ','  ','   ', '-', '1', 'the,', ' the', 'the ',\n",
    "                                            'be', 'like' ,'coffee', ''])"
   ]
  },
  {
   "cell_type": "code",
   "execution_count": 44,
   "metadata": {},
   "outputs": [],
   "source": [
    "# Wrap it all in a function\n",
    "def get_lemmas(text):\n",
    "\n",
    "    lemmas = []\n",
    "    \n",
    "    doc = nlp(text)\n",
    "    \n",
    "    # Something goes here :P\n",
    "    for token in doc: \n",
    "        if token.text not in STOP_WORDS:\n",
    "            if ((token.is_stop == False) and (token.is_punct == False)) and ((token not in STOP_WORDS) and (token.pos_!= 'PRON')):\n",
    "                lemmas.append(token.lemma_)\n",
    "    \n",
    "    return lemmas"
   ]
  },
  {
   "cell_type": "code",
   "execution_count": 45,
   "metadata": {},
   "outputs": [
    {
     "name": "stderr",
     "output_type": "stream",
     "text": [
      "C:\\Users\\Sarmen\\.conda\\envs\\U4-S1-M1\\lib\\site-packages\\ipykernel_launcher.py:13: SettingWithCopyWarning: \n",
      "A value is trying to be set on a copy of a slice from a DataFrame.\n",
      "Try using .loc[row_indexer,col_indexer] = value instead\n",
      "\n",
      "See the caveats in the documentation: http://pandas.pydata.org/pandas-docs/stable/indexing.html#indexing-view-versus-copy\n",
      "  del sys.path[0]\n"
     ]
    }
   ],
   "source": [
    "tokens = []\n",
    "\n",
    "for doc in tokenizer.pipe(h['full_review_text'], batch_size=1000):\n",
    "    \n",
    "    doc_tokens = []\n",
    "    \n",
    "    for token in doc: \n",
    "        if token.text not in STOP_WORDS:\n",
    "            doc_tokens.append(token.text.lower())\n",
    "   \n",
    "    tokens.append(doc_tokens)\n",
    "    \n",
    "h['tokens'] = tokens"
   ]
  },
  {
   "cell_type": "code",
   "execution_count": 46,
   "metadata": {},
   "outputs": [
    {
     "data": {
      "image/png": "[encoded data removed]",
      "text/plain": [
       "<Figure size 432x288 with 1 Axes>"
      ]
     },
     "metadata": {
      "needs_background": "light"
     },
     "output_type": "display_data"
    }
   ],
   "source": [
    "wc = count(h['tokens'])\n",
    "\n",
    "wc_top20 = wc[wc['rank'] <= 20]\n",
    "\n",
    "squarify.plot(sizes=wc_top20['pct_total'], label=wc_top20['word'], alpha=.8 )\n",
    "plt.axis('off')\n",
    "plt.show()"
   ]
  },
  {
   "cell_type": "code",
   "execution_count": 47,
   "metadata": {},
   "outputs": [
    {
     "name": "stderr",
     "output_type": "stream",
     "text": [
      "C:\\Users\\Sarmen\\.conda\\envs\\U4-S1-M1\\lib\\site-packages\\ipykernel_launcher.py:1: SettingWithCopyWarning: \n",
      "A value is trying to be set on a copy of a slice from a DataFrame.\n",
      "Try using .loc[row_indexer,col_indexer] = value instead\n",
      "\n",
      "See the caveats in the documentation: http://pandas.pydata.org/pandas-docs/stable/indexing.html#indexing-view-versus-copy\n",
      "  \"\"\"Entry point for launching an IPython kernel.\n"
     ]
    }
   ],
   "source": [
    "h['lemmas'] = h['full_review_text'].apply(get_lemmas)"
   ]
  },
  {
   "cell_type": "code",
   "execution_count": 48,
   "metadata": {},
   "outputs": [
    {
     "data": {
      "text/plain": [
       "[list, yelp, 100, challenge, 2016, thai, tea, okay, kind, tasting, like, late, be, open, concept, bar, live, music, kind, mix, feeling, because, be, loud, hear, person, be, drink, tea, guess, boozing, not, matter]    0.01\n",
       "Name: lemmas, dtype: float64"
      ]
     },
     "execution_count": 48,
     "metadata": {},
     "output_type": "execute_result"
    }
   ],
   "source": [
    "h['lemmas'].value_counts(normalize=True)[:1]"
   ]
  },
  {
   "cell_type": "code",
   "execution_count": 49,
   "metadata": {},
   "outputs": [
    {
     "data": {
      "text/html": [
       "<div>\n",
       "<style scoped>\n",
       "    .dataframe tbody tr th:only-of-type {\n",
       "        vertical-align: middle;\n",
       "    }\n",
       "\n",
       "    .dataframe tbody tr th {\n",
       "        vertical-align: top;\n",
       "    }\n",
       "\n",
       "    .dataframe thead th {\n",
       "        text-align: right;\n",
       "    }\n",
       "</style>\n",
       "<table border=\"1\" class=\"dataframe\">\n",
       "  <thead>\n",
       "    <tr style=\"text-align: right;\">\n",
       "      <th></th>\n",
       "      <th>word</th>\n",
       "      <th>appears_in</th>\n",
       "      <th>count</th>\n",
       "      <th>rank</th>\n",
       "      <th>pct_total</th>\n",
       "      <th>cul_pct_total</th>\n",
       "      <th>appears_in_pct</th>\n",
       "    </tr>\n",
       "  </thead>\n",
       "  <tbody>\n",
       "    <tr>\n",
       "      <th>10</th>\n",
       "      <td>the</td>\n",
       "      <td>177</td>\n",
       "      <td>327</td>\n",
       "      <td>1.0</td>\n",
       "      <td>0.020667</td>\n",
       "      <td>0.020667</td>\n",
       "      <td>0.59</td>\n",
       "    </tr>\n",
       "    <tr>\n",
       "      <th>57</th>\n",
       "      <td>place</td>\n",
       "      <td>171</td>\n",
       "      <td>318</td>\n",
       "      <td>2.0</td>\n",
       "      <td>0.020099</td>\n",
       "      <td>0.040766</td>\n",
       "      <td>0.57</td>\n",
       "    </tr>\n",
       "    <tr>\n",
       "      <th>90</th>\n",
       "      <td>be</td>\n",
       "      <td>120</td>\n",
       "      <td>288</td>\n",
       "      <td>3.0</td>\n",
       "      <td>0.018203</td>\n",
       "      <td>0.058969</td>\n",
       "      <td>0.40</td>\n",
       "    </tr>\n",
       "    <tr>\n",
       "      <th>72</th>\n",
       "      <td>not</td>\n",
       "      <td>153</td>\n",
       "      <td>249</td>\n",
       "      <td>4.0</td>\n",
       "      <td>0.015738</td>\n",
       "      <td>0.074706</td>\n",
       "      <td>0.51</td>\n",
       "    </tr>\n",
       "    <tr>\n",
       "      <th>3</th>\n",
       "      <td>good</td>\n",
       "      <td>144</td>\n",
       "      <td>210</td>\n",
       "      <td>5.0</td>\n",
       "      <td>0.013273</td>\n",
       "      <td>0.087979</td>\n",
       "      <td>0.48</td>\n",
       "    </tr>\n",
       "    <tr>\n",
       "      <th>32</th>\n",
       "      <td>drink</td>\n",
       "      <td>108</td>\n",
       "      <td>171</td>\n",
       "      <td>6.0</td>\n",
       "      <td>0.010808</td>\n",
       "      <td>0.098786</td>\n",
       "      <td>0.36</td>\n",
       "    </tr>\n",
       "    <tr>\n",
       "      <th>40</th>\n",
       "      <td>check</td>\n",
       "      <td>159</td>\n",
       "      <td>168</td>\n",
       "      <td>7.0</td>\n",
       "      <td>0.010618</td>\n",
       "      <td>0.109405</td>\n",
       "      <td>0.53</td>\n",
       "    </tr>\n",
       "    <tr>\n",
       "      <th>21</th>\n",
       "      <td>great</td>\n",
       "      <td>102</td>\n",
       "      <td>156</td>\n",
       "      <td>8.0</td>\n",
       "      <td>0.009860</td>\n",
       "      <td>0.119264</td>\n",
       "      <td>0.34</td>\n",
       "    </tr>\n",
       "    <tr>\n",
       "      <th>169</th>\n",
       "      <td>halcyon</td>\n",
       "      <td>90</td>\n",
       "      <td>153</td>\n",
       "      <td>9.0</td>\n",
       "      <td>0.009670</td>\n",
       "      <td>0.128934</td>\n",
       "      <td>0.30</td>\n",
       "    </tr>\n",
       "    <tr>\n",
       "      <th>161</th>\n",
       "      <td>order</td>\n",
       "      <td>102</td>\n",
       "      <td>141</td>\n",
       "      <td>10.0</td>\n",
       "      <td>0.008912</td>\n",
       "      <td>0.137846</td>\n",
       "      <td>0.34</td>\n",
       "    </tr>\n",
       "    <tr>\n",
       "      <th>474</th>\n",
       "      <td>s'more</td>\n",
       "      <td>72</td>\n",
       "      <td>138</td>\n",
       "      <td>11.0</td>\n",
       "      <td>0.008722</td>\n",
       "      <td>0.146568</td>\n",
       "      <td>0.24</td>\n",
       "    </tr>\n",
       "    <tr>\n",
       "      <th>51</th>\n",
       "      <td>come</td>\n",
       "      <td>90</td>\n",
       "      <td>132</td>\n",
       "      <td>12.0</td>\n",
       "      <td>0.008343</td>\n",
       "      <td>0.154911</td>\n",
       "      <td>0.30</td>\n",
       "    </tr>\n",
       "    <tr>\n",
       "      <th>279</th>\n",
       "      <td>time</td>\n",
       "      <td>87</td>\n",
       "      <td>123</td>\n",
       "      <td>13.0</td>\n",
       "      <td>0.007774</td>\n",
       "      <td>0.162685</td>\n",
       "      <td>0.29</td>\n",
       "    </tr>\n",
       "    <tr>\n",
       "      <th>96</th>\n",
       "      <td>bar</td>\n",
       "      <td>102</td>\n",
       "      <td>114</td>\n",
       "      <td>14.0</td>\n",
       "      <td>0.007205</td>\n",
       "      <td>0.169890</td>\n",
       "      <td>0.34</td>\n",
       "    </tr>\n",
       "    <tr>\n",
       "      <th>67</th>\n",
       "      <td>people</td>\n",
       "      <td>84</td>\n",
       "      <td>114</td>\n",
       "      <td>15.0</td>\n",
       "      <td>0.007205</td>\n",
       "      <td>0.177095</td>\n",
       "      <td>0.28</td>\n",
       "    </tr>\n",
       "    <tr>\n",
       "      <th>16</th>\n",
       "      <td>austin</td>\n",
       "      <td>93</td>\n",
       "      <td>111</td>\n",
       "      <td>16.0</td>\n",
       "      <td>0.007016</td>\n",
       "      <td>0.184111</td>\n",
       "      <td>0.31</td>\n",
       "    </tr>\n",
       "    <tr>\n",
       "      <th>231</th>\n",
       "      <td>food</td>\n",
       "      <td>72</td>\n",
       "      <td>108</td>\n",
       "      <td>17.0</td>\n",
       "      <td>0.006826</td>\n",
       "      <td>0.190937</td>\n",
       "      <td>0.24</td>\n",
       "    </tr>\n",
       "    <tr>\n",
       "      <th>170</th>\n",
       "      <td>try</td>\n",
       "      <td>72</td>\n",
       "      <td>99</td>\n",
       "      <td>18.0</td>\n",
       "      <td>0.006257</td>\n",
       "      <td>0.197194</td>\n",
       "      <td>0.24</td>\n",
       "    </tr>\n",
       "    <tr>\n",
       "      <th>235</th>\n",
       "      <td>friend</td>\n",
       "      <td>75</td>\n",
       "      <td>96</td>\n",
       "      <td>19.0</td>\n",
       "      <td>0.006068</td>\n",
       "      <td>0.203261</td>\n",
       "      <td>0.25</td>\n",
       "    </tr>\n",
       "    <tr>\n",
       "      <th>0</th>\n",
       "      <td>night</td>\n",
       "      <td>69</td>\n",
       "      <td>93</td>\n",
       "      <td>20.0</td>\n",
       "      <td>0.005878</td>\n",
       "      <td>0.209139</td>\n",
       "      <td>0.23</td>\n",
       "    </tr>\n",
       "  </tbody>\n",
       "</table>\n",
       "</div>"
      ],
      "text/plain": [
       "        word  appears_in  count  rank  pct_total  cul_pct_total  \\\n",
       "10       the         177    327   1.0   0.020667       0.020667   \n",
       "57     place         171    318   2.0   0.020099       0.040766   \n",
       "90        be         120    288   3.0   0.018203       0.058969   \n",
       "72       not         153    249   4.0   0.015738       0.074706   \n",
       "3       good         144    210   5.0   0.013273       0.087979   \n",
       "32     drink         108    171   6.0   0.010808       0.098786   \n",
       "40     check         159    168   7.0   0.010618       0.109405   \n",
       "21     great         102    156   8.0   0.009860       0.119264   \n",
       "169  halcyon          90    153   9.0   0.009670       0.128934   \n",
       "161    order         102    141  10.0   0.008912       0.137846   \n",
       "474   s'more          72    138  11.0   0.008722       0.146568   \n",
       "51      come          90    132  12.0   0.008343       0.154911   \n",
       "279     time          87    123  13.0   0.007774       0.162685   \n",
       "96       bar         102    114  14.0   0.007205       0.169890   \n",
       "67    people          84    114  15.0   0.007205       0.177095   \n",
       "16    austin          93    111  16.0   0.007016       0.184111   \n",
       "231     food          72    108  17.0   0.006826       0.190937   \n",
       "170      try          72     99  18.0   0.006257       0.197194   \n",
       "235   friend          75     96  19.0   0.006068       0.203261   \n",
       "0      night          69     93  20.0   0.005878       0.209139   \n",
       "\n",
       "     appears_in_pct  \n",
       "10             0.59  \n",
       "57             0.57  \n",
       "90             0.40  \n",
       "72             0.51  \n",
       "3              0.48  \n",
       "32             0.36  \n",
       "40             0.53  \n",
       "21             0.34  \n",
       "169            0.30  \n",
       "161            0.34  \n",
       "474            0.24  \n",
       "51             0.30  \n",
       "279            0.29  \n",
       "96             0.34  \n",
       "67             0.28  \n",
       "16             0.31  \n",
       "231            0.24  \n",
       "170            0.24  \n",
       "235            0.25  \n",
       "0              0.23  "
      ]
     },
     "execution_count": 49,
     "metadata": {},
     "output_type": "execute_result"
    }
   ],
   "source": [
    "wc = count(h['lemmas'])\n",
    "wc_top20 = wc[wc['rank'] <= 20]\n",
    "\n",
    "wc_top20"
   ]
  },
  {
   "cell_type": "code",
   "execution_count": 50,
   "metadata": {},
   "outputs": [
    {
     "name": "stdout",
     "output_type": "stream",
     "text": [
      "be\n"
     ]
    }
   ],
   "source": [
    "print(wc['word'].iloc[2])"
   ]
  },
  {
   "cell_type": "code",
   "execution_count": 51,
   "metadata": {},
   "outputs": [
    {
     "data": {
      "image/png": "[encoded data removed]",
      "text/plain": [
       "<Figure size 432x288 with 1 Axes>"
      ]
     },
     "metadata": {
      "needs_background": "light"
     },
     "output_type": "display_data"
    }
   ],
   "source": [
    "squarify.plot(sizes=wc_top20['pct_total'], label=wc_top20['word'], alpha=.8 )\n",
    "plt.axis('off')\n",
    "plt.show()"
   ]
  },
  {
   "cell_type": "code",
   "execution_count": 52,
   "metadata": {},
   "outputs": [],
   "source": [
    "customize_stop_words = [\n",
    "    'the', 'be'\n",
    "]\n",
    "for w in customize_stop_words:\n",
    "    nlp.vocab[w].is_stop = True"
   ]
  },
  {
   "cell_type": "code",
   "execution_count": 53,
   "metadata": {},
   "outputs": [
    {
     "name": "stderr",
     "output_type": "stream",
     "text": [
      "C:\\Users\\Sarmen\\.conda\\envs\\U4-S1-M1\\lib\\site-packages\\ipykernel_launcher.py:28: SettingWithCopyWarning: \n",
      "A value is trying to be set on a copy of a slice from a DataFrame.\n",
      "Try using .loc[row_indexer,col_indexer] = value instead\n",
      "\n",
      "See the caveats in the documentation: http://pandas.pydata.org/pandas-docs/stable/indexing.html#indexing-view-versus-copy\n"
     ]
    }
   ],
   "source": [
    "# Wrap it all in a function\n",
    "def get_lemmas(text):\n",
    "\n",
    "    lemmas = []\n",
    "    \n",
    "    doc = nlp(text)\n",
    "    \n",
    "    # Something goes here :P\n",
    "    for token in doc: \n",
    "        if token.text not in STOP_WORDS:\n",
    "            if ((token.is_stop == False) and (token.is_punct == False)) and ((token not in STOP_WORDS) and (token.pos_!= 'PRON')):\n",
    "                lemmas.append(token.lemma_)\n",
    "    \n",
    "    return lemmas\n",
    "\n",
    "tokens = []\n",
    "\n",
    "for doc in tokenizer.pipe(h['full_review_text'], batch_size=1000):\n",
    "    \n",
    "    doc_tokens = []\n",
    "    \n",
    "    for token in doc: \n",
    "        if token.text not in STOP_WORDS:\n",
    "            doc_tokens.append(token.text.lower())\n",
    "   \n",
    "    tokens.append(doc_tokens)\n",
    "    \n",
    "h['tokens'] = tokens"
   ]
  },
  {
   "cell_type": "code",
   "execution_count": null,
   "metadata": {},
   "outputs": [],
   "source": []
  },
  {
   "cell_type": "code",
   "execution_count": 54,
   "metadata": {},
   "outputs": [
    {
     "name": "stderr",
     "output_type": "stream",
     "text": [
      "C:\\Users\\Sarmen\\.conda\\envs\\U4-S1-M1\\lib\\site-packages\\ipykernel_launcher.py:13: SettingWithCopyWarning: \n",
      "A value is trying to be set on a copy of a slice from a DataFrame.\n",
      "Try using .loc[row_indexer,col_indexer] = value instead\n",
      "\n",
      "See the caveats in the documentation: http://pandas.pydata.org/pandas-docs/stable/indexing.html#indexing-view-versus-copy\n",
      "  del sys.path[0]\n"
     ]
    }
   ],
   "source": [
    "tokens = []\n",
    "\n",
    "for doc in tokenizer.pipe(h['full_review_text'], batch_size=1000):\n",
    "    \n",
    "    doc_tokens = []\n",
    "    \n",
    "    for token in doc: \n",
    "        if token.text not in STOP_WORDS:\n",
    "            doc_tokens.append(token.text.lower())\n",
    "   \n",
    "    tokens.append(doc_tokens)\n",
    "    \n",
    "h['tokens'] = tokens"
   ]
  },
  {
   "cell_type": "code",
   "execution_count": 55,
   "metadata": {},
   "outputs": [
    {
     "data": {
      "image/png": "[encoded data removed]",
      "text/plain": [
       "<Figure size 432x288 with 1 Axes>"
      ]
     },
     "metadata": {
      "needs_background": "light"
     },
     "output_type": "display_data"
    }
   ],
   "source": [
    "wc = count(h['tokens'])\n",
    "\n",
    "wc_top20 = wc[wc['rank'] <= 20]\n",
    "\n",
    "squarify.plot(sizes=wc_top20['pct_total'], label=wc_top20['word'], alpha=.8 )\n",
    "plt.axis('off')\n",
    "plt.show()"
   ]
  },
  {
   "cell_type": "code",
   "execution_count": 56,
   "metadata": {},
   "outputs": [
    {
     "name": "stderr",
     "output_type": "stream",
     "text": [
      "C:\\Users\\Sarmen\\.conda\\envs\\U4-S1-M1\\lib\\site-packages\\ipykernel_launcher.py:1: SettingWithCopyWarning: \n",
      "A value is trying to be set on a copy of a slice from a DataFrame.\n",
      "Try using .loc[row_indexer,col_indexer] = value instead\n",
      "\n",
      "See the caveats in the documentation: http://pandas.pydata.org/pandas-docs/stable/indexing.html#indexing-view-versus-copy\n",
      "  \"\"\"Entry point for launching an IPython kernel.\n"
     ]
    }
   ],
   "source": [
    "h['lemmas'] = h['full_review_text'].apply(get_lemmas)"
   ]
  },
  {
   "cell_type": "code",
   "execution_count": 57,
   "metadata": {},
   "outputs": [
    {
     "data": {
      "text/plain": [
       "[list, yelp, 100, challenge, 2016, thai, tea, okay, kind, tasting, like, late, be, open, concept, bar, live, music, kind, mix, feeling, because, be, loud, hear, person, be, drink, tea, guess, boozing, not, matter]    0.01\n",
       "Name: lemmas, dtype: float64"
      ]
     },
     "execution_count": 57,
     "metadata": {},
     "output_type": "execute_result"
    }
   ],
   "source": [
    "h['lemmas'].value_counts(normalize=True)[:1]"
   ]
  },
  {
   "cell_type": "code",
   "execution_count": 58,
   "metadata": {},
   "outputs": [
    {
     "data": {
      "text/html": [
       "<div>\n",
       "<style scoped>\n",
       "    .dataframe tbody tr th:only-of-type {\n",
       "        vertical-align: middle;\n",
       "    }\n",
       "\n",
       "    .dataframe tbody tr th {\n",
       "        vertical-align: top;\n",
       "    }\n",
       "\n",
       "    .dataframe thead th {\n",
       "        text-align: right;\n",
       "    }\n",
       "</style>\n",
       "<table border=\"1\" class=\"dataframe\">\n",
       "  <thead>\n",
       "    <tr style=\"text-align: right;\">\n",
       "      <th></th>\n",
       "      <th>word</th>\n",
       "      <th>appears_in</th>\n",
       "      <th>count</th>\n",
       "      <th>rank</th>\n",
       "      <th>pct_total</th>\n",
       "      <th>cul_pct_total</th>\n",
       "      <th>appears_in_pct</th>\n",
       "    </tr>\n",
       "  </thead>\n",
       "  <tbody>\n",
       "    <tr>\n",
       "      <th>10</th>\n",
       "      <td>the</td>\n",
       "      <td>177</td>\n",
       "      <td>327</td>\n",
       "      <td>1.0</td>\n",
       "      <td>0.020667</td>\n",
       "      <td>0.020667</td>\n",
       "      <td>0.59</td>\n",
       "    </tr>\n",
       "    <tr>\n",
       "      <th>57</th>\n",
       "      <td>place</td>\n",
       "      <td>171</td>\n",
       "      <td>318</td>\n",
       "      <td>2.0</td>\n",
       "      <td>0.020099</td>\n",
       "      <td>0.040766</td>\n",
       "      <td>0.57</td>\n",
       "    </tr>\n",
       "    <tr>\n",
       "      <th>90</th>\n",
       "      <td>be</td>\n",
       "      <td>120</td>\n",
       "      <td>288</td>\n",
       "      <td>3.0</td>\n",
       "      <td>0.018203</td>\n",
       "      <td>0.058969</td>\n",
       "      <td>0.40</td>\n",
       "    </tr>\n",
       "    <tr>\n",
       "      <th>72</th>\n",
       "      <td>not</td>\n",
       "      <td>153</td>\n",
       "      <td>249</td>\n",
       "      <td>4.0</td>\n",
       "      <td>0.015738</td>\n",
       "      <td>0.074706</td>\n",
       "      <td>0.51</td>\n",
       "    </tr>\n",
       "    <tr>\n",
       "      <th>3</th>\n",
       "      <td>good</td>\n",
       "      <td>144</td>\n",
       "      <td>210</td>\n",
       "      <td>5.0</td>\n",
       "      <td>0.013273</td>\n",
       "      <td>0.087979</td>\n",
       "      <td>0.48</td>\n",
       "    </tr>\n",
       "    <tr>\n",
       "      <th>32</th>\n",
       "      <td>drink</td>\n",
       "      <td>108</td>\n",
       "      <td>171</td>\n",
       "      <td>6.0</td>\n",
       "      <td>0.010808</td>\n",
       "      <td>0.098786</td>\n",
       "      <td>0.36</td>\n",
       "    </tr>\n",
       "    <tr>\n",
       "      <th>40</th>\n",
       "      <td>check</td>\n",
       "      <td>159</td>\n",
       "      <td>168</td>\n",
       "      <td>7.0</td>\n",
       "      <td>0.010618</td>\n",
       "      <td>0.109405</td>\n",
       "      <td>0.53</td>\n",
       "    </tr>\n",
       "    <tr>\n",
       "      <th>21</th>\n",
       "      <td>great</td>\n",
       "      <td>102</td>\n",
       "      <td>156</td>\n",
       "      <td>8.0</td>\n",
       "      <td>0.009860</td>\n",
       "      <td>0.119264</td>\n",
       "      <td>0.34</td>\n",
       "    </tr>\n",
       "    <tr>\n",
       "      <th>169</th>\n",
       "      <td>halcyon</td>\n",
       "      <td>90</td>\n",
       "      <td>153</td>\n",
       "      <td>9.0</td>\n",
       "      <td>0.009670</td>\n",
       "      <td>0.128934</td>\n",
       "      <td>0.30</td>\n",
       "    </tr>\n",
       "    <tr>\n",
       "      <th>161</th>\n",
       "      <td>order</td>\n",
       "      <td>102</td>\n",
       "      <td>141</td>\n",
       "      <td>10.0</td>\n",
       "      <td>0.008912</td>\n",
       "      <td>0.137846</td>\n",
       "      <td>0.34</td>\n",
       "    </tr>\n",
       "    <tr>\n",
       "      <th>474</th>\n",
       "      <td>s'more</td>\n",
       "      <td>72</td>\n",
       "      <td>138</td>\n",
       "      <td>11.0</td>\n",
       "      <td>0.008722</td>\n",
       "      <td>0.146568</td>\n",
       "      <td>0.24</td>\n",
       "    </tr>\n",
       "    <tr>\n",
       "      <th>51</th>\n",
       "      <td>come</td>\n",
       "      <td>90</td>\n",
       "      <td>132</td>\n",
       "      <td>12.0</td>\n",
       "      <td>0.008343</td>\n",
       "      <td>0.154911</td>\n",
       "      <td>0.30</td>\n",
       "    </tr>\n",
       "    <tr>\n",
       "      <th>279</th>\n",
       "      <td>time</td>\n",
       "      <td>87</td>\n",
       "      <td>123</td>\n",
       "      <td>13.0</td>\n",
       "      <td>0.007774</td>\n",
       "      <td>0.162685</td>\n",
       "      <td>0.29</td>\n",
       "    </tr>\n",
       "    <tr>\n",
       "      <th>96</th>\n",
       "      <td>bar</td>\n",
       "      <td>102</td>\n",
       "      <td>114</td>\n",
       "      <td>14.0</td>\n",
       "      <td>0.007205</td>\n",
       "      <td>0.169890</td>\n",
       "      <td>0.34</td>\n",
       "    </tr>\n",
       "    <tr>\n",
       "      <th>67</th>\n",
       "      <td>people</td>\n",
       "      <td>84</td>\n",
       "      <td>114</td>\n",
       "      <td>15.0</td>\n",
       "      <td>0.007205</td>\n",
       "      <td>0.177095</td>\n",
       "      <td>0.28</td>\n",
       "    </tr>\n",
       "    <tr>\n",
       "      <th>16</th>\n",
       "      <td>austin</td>\n",
       "      <td>93</td>\n",
       "      <td>111</td>\n",
       "      <td>16.0</td>\n",
       "      <td>0.007016</td>\n",
       "      <td>0.184111</td>\n",
       "      <td>0.31</td>\n",
       "    </tr>\n",
       "    <tr>\n",
       "      <th>231</th>\n",
       "      <td>food</td>\n",
       "      <td>72</td>\n",
       "      <td>108</td>\n",
       "      <td>17.0</td>\n",
       "      <td>0.006826</td>\n",
       "      <td>0.190937</td>\n",
       "      <td>0.24</td>\n",
       "    </tr>\n",
       "    <tr>\n",
       "      <th>170</th>\n",
       "      <td>try</td>\n",
       "      <td>72</td>\n",
       "      <td>99</td>\n",
       "      <td>18.0</td>\n",
       "      <td>0.006257</td>\n",
       "      <td>0.197194</td>\n",
       "      <td>0.24</td>\n",
       "    </tr>\n",
       "    <tr>\n",
       "      <th>235</th>\n",
       "      <td>friend</td>\n",
       "      <td>75</td>\n",
       "      <td>96</td>\n",
       "      <td>19.0</td>\n",
       "      <td>0.006068</td>\n",
       "      <td>0.203261</td>\n",
       "      <td>0.25</td>\n",
       "    </tr>\n",
       "    <tr>\n",
       "      <th>0</th>\n",
       "      <td>night</td>\n",
       "      <td>69</td>\n",
       "      <td>93</td>\n",
       "      <td>20.0</td>\n",
       "      <td>0.005878</td>\n",
       "      <td>0.209139</td>\n",
       "      <td>0.23</td>\n",
       "    </tr>\n",
       "  </tbody>\n",
       "</table>\n",
       "</div>"
      ],
      "text/plain": [
       "        word  appears_in  count  rank  pct_total  cul_pct_total  \\\n",
       "10       the         177    327   1.0   0.020667       0.020667   \n",
       "57     place         171    318   2.0   0.020099       0.040766   \n",
       "90        be         120    288   3.0   0.018203       0.058969   \n",
       "72       not         153    249   4.0   0.015738       0.074706   \n",
       "3       good         144    210   5.0   0.013273       0.087979   \n",
       "32     drink         108    171   6.0   0.010808       0.098786   \n",
       "40     check         159    168   7.0   0.010618       0.109405   \n",
       "21     great         102    156   8.0   0.009860       0.119264   \n",
       "169  halcyon          90    153   9.0   0.009670       0.128934   \n",
       "161    order         102    141  10.0   0.008912       0.137846   \n",
       "474   s'more          72    138  11.0   0.008722       0.146568   \n",
       "51      come          90    132  12.0   0.008343       0.154911   \n",
       "279     time          87    123  13.0   0.007774       0.162685   \n",
       "96       bar         102    114  14.0   0.007205       0.169890   \n",
       "67    people          84    114  15.0   0.007205       0.177095   \n",
       "16    austin          93    111  16.0   0.007016       0.184111   \n",
       "231     food          72    108  17.0   0.006826       0.190937   \n",
       "170      try          72     99  18.0   0.006257       0.197194   \n",
       "235   friend          75     96  19.0   0.006068       0.203261   \n",
       "0      night          69     93  20.0   0.005878       0.209139   \n",
       "\n",
       "     appears_in_pct  \n",
       "10             0.59  \n",
       "57             0.57  \n",
       "90             0.40  \n",
       "72             0.51  \n",
       "3              0.48  \n",
       "32             0.36  \n",
       "40             0.53  \n",
       "21             0.34  \n",
       "169            0.30  \n",
       "161            0.34  \n",
       "474            0.24  \n",
       "51             0.30  \n",
       "279            0.29  \n",
       "96             0.34  \n",
       "67             0.28  \n",
       "16             0.31  \n",
       "231            0.24  \n",
       "170            0.24  \n",
       "235            0.25  \n",
       "0              0.23  "
      ]
     },
     "execution_count": 58,
     "metadata": {},
     "output_type": "execute_result"
    }
   ],
   "source": [
    "wc = count(h['lemmas'])\n",
    "wc_top20 = wc[wc['rank'] <= 20]\n",
    "\n",
    "wc_top20"
   ]
  },
  {
   "cell_type": "code",
   "execution_count": 59,
   "metadata": {},
   "outputs": [
    {
     "name": "stdout",
     "output_type": "stream",
     "text": [
      "be\n"
     ]
    }
   ],
   "source": [
    "print(wc['word'].iloc[2])"
   ]
  },
  {
   "cell_type": "code",
   "execution_count": 60,
   "metadata": {},
   "outputs": [
    {
     "data": {
      "image/png": "[encoded data removed]",
      "text/plain": [
       "<Figure size 432x288 with 1 Axes>"
      ]
     },
     "metadata": {
      "needs_background": "light"
     },
     "output_type": "display_data"
    }
   ],
   "source": [
    "squarify.plot(sizes=wc_top20['pct_total'], label=wc_top20['word'], alpha=.8 )\n",
    "plt.axis('off')\n",
    "plt.show()"
   ]
  },
  {
   "cell_type": "code",
   "execution_count": null,
   "metadata": {},
   "outputs": [],
   "source": []
  },
  {
   "cell_type": "markdown",
   "metadata": {},
   "source": [
    "## Can visualize the words with the greatest difference in counts between 'good' & 'bad'?\n",
    "\n",
    "Couple Notes: \n",
    "- Rel. freq. instead of absolute counts b/c of different numbers of reviews\n",
    "- Only look at the top 5-10 words with the greatest differences\n"
   ]
  },
  {
   "cell_type": "markdown",
   "metadata": {
    "colab_type": "text",
    "id": "1dCb1q8XphcP",
    "toc-hr-collapsed": true
   },
   "source": [
    "## Stretch Goals\n",
    "\n",
    "* Analyze another corpus of documents - such as Indeed.com job listings ;).\n",
    "* Play the the Spacy API to\n",
    " - Extract Named Entities\n",
    " - Extracting 'noun chunks'\n",
    " - Attempt Document Classification with just Spacy\n",
    " - *Note:* This [course](https://course.spacy.io/) will be of interesting in helping you with these stretch goals. \n",
    "* Try to build a plotly dash app with your text data \n",
    "\n"
   ]
  },
  {
   "cell_type": "code",
   "execution_count": null,
   "metadata": {},
   "outputs": [],
   "source": []
  },
  {
   "cell_type": "code",
   "execution_count": null,
   "metadata": {},
   "outputs": [],
   "source": []
  }
 ],
 "metadata": {
  "colab": {
   "collapsed_sections": [],
   "name": "LS_DS_421_Text_Data_Assignment.ipynb",
   "provenance": [],
   "version": "0.3.2"
  },
  "kernelspec": {
   "display_name": "U4-S1-M1 (Python3)",
   "language": "python",
   "name": "u4-s1-m1"
  },
  "language_info": {
   "codemirror_mode": {
    "name": "ipython",
    "version": 3
   },
   "file_extension": ".py",
   "mimetype": "text/x-python",
   "name": "python",
   "nbconvert_exporter": "python",
   "pygments_lexer": "ipython3",
   "version": "3.7.3"
  },
  "toc-autonumbering": false
 },
 "nbformat": 4,
 "nbformat_minor": 4
}
